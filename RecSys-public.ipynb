<!DOCTYPE html>
<html>
<head><meta charset="utf-8" />
<title>RecSys-public</title><script src="https://cdnjs.cloudflare.com/ajax/libs/require.js/2.1.10/require.min.js"></script>
<script src="https://cdnjs.cloudflare.com/ajax/libs/jquery/2.0.3/jquery.min.js"></script>

<style type="text/css">
    /*!
*
* Twitter Bootstrap
*
*/
/*!
 * Bootstrap v3.3.7 (http://getbootstrap.com)
 * Copyright 2011-2016 Twitter, Inc.
 * Licensed under MIT (https://github.com/twbs/bootstrap/blob/master/LICENSE)
 */
/*! normalize.css v3.0.3 | MIT License | github.com/necolas/normalize.css */
html {
  font-family: sans-serif;
  -ms-text-size-adjust: 100%;
  -webkit-text-size-adjust: 100%;
}
body {
  margin: 0;
}
article,
aside,
details,
figcaption,
figure,
footer,
header,
hgroup,
main,
menu,
nav,
section,
summary {
  display: block;
}
audio,
canvas,
progress,
video {
  display: inline-block;
  vertical-align: baseline;
}
audio:not([controls]) {
  display: none;
  height: 0;
}
[hidden],
template {
  display: none;
}
a {
  background-color: transparent;
}
a:active,
a:hover {
  outline: 0;
}
abbr[title] {
  border-bottom: 1px dotted;
}
b,
strong {
  font-weight: bold;
}
dfn {
  font-style: italic;
}
h1 {
  font-size: 2em;
  margin: 0.67em 0;
}
mark {
  background: #ff0;
  color: #000;
}
small {
  font-size: 80%;
}
sub,
sup {
  font-size: 75%;
  line-height: 0;
  position: relative;
  vertical-align: baseline;
}
sup {
  top: -0.5em;
}
sub {
  bottom: -0.25em;
}
img {
  border: 0;
}
svg:not(:root) {
  overflow: hidden;
}
figure {
  margin: 1em 40px;
}
hr {
  box-sizing: content-box;
  height: 0;
}
pre {
  overflow: auto;
}
code,
kbd,
pre,
samp {
  font-family: monospace, monospace;
  font-size: 1em;
}
button,
input,
optgroup,
select,
textarea {
  color: inherit;
  font: inherit;
  margin: 0;
}
button {
  overflow: visible;
}
button,
select {
  text-transform: none;
}
button,
html input[type="button"],
input[type="reset"],
input[type="submit"] {
  -webkit-appearance: button;
  cursor: pointer;
}
button[disabled],
html input[disabled] {
  cursor: default;
}
button::-moz-focus-inner,
input::-moz-focus-inner {
  border: 0;
  padding: 0;
}
input {
  line-height: normal;
}
input[type="checkbox"],
input[type="radio"] {
  box-sizing: border-box;
  padding: 0;
}
input[type="number"]::-webkit-inner-spin-button,
input[type="number"]::-webkit-outer-spin-button {
  height: auto;
}
input[type="search"] {
  -webkit-appearance: textfield;
  box-sizing: content-box;
}
input[type="search"]::-webkit-search-cancel-button,
input[type="search"]::-webkit-search-decoration {
  -webkit-appearance: none;
}
fieldset {
  border: 1px solid #c0c0c0;
  margin: 0 2px;
  padding: 0.35em 0.625em 0.75em;
}
legend {
  border: 0;
  padding: 0;
}
textarea {
  overflow: auto;
}
optgroup {
  font-weight: bold;
}
table {
  border-collapse: collapse;
  border-spacing: 0;
}
td,
th {
  padding: 0;
}
/*! Source: https://github.com/h5bp/html5-boilerplate/blob/master/src/css/main.css */
@media print {
  *,
  *:before,
  *:after {
    background: transparent !important;
    color: #000 !important;
    box-shadow: none !important;
    text-shadow: none !important;
  }
  a,
  a:visited {
    text-decoration: underline;
  }
  a[href]:after {
    content: " (" attr(href) ")";
  }
  abbr[title]:after {
    content: " (" attr(title) ")";
  }
  a[href^="#"]:after,
  a[href^="javascript:"]:after {
    content: "";
  }
  pre,
  blockquote {
    border: 1px solid #999;
    page-break-inside: avoid;
  }
  thead {
    display: table-header-group;
  }
  tr,
  img {
    page-break-inside: avoid;
  }
  img {
    max-width: 100% !important;
  }
  p,
  h2,
  h3 {
    orphans: 3;
    widows: 3;
  }
  h2,
  h3 {
    page-break-after: avoid;
  }
  .navbar {
    display: none;
  }
  .btn > .caret,
  .dropup > .btn > .caret {
    border-top-color: #000 !important;
  }
  .label {
    border: 1px solid #000;
  }
  .table {
    border-collapse: collapse !important;
  }
  .table td,
  .table th {
    background-color: #fff !important;
  }
  .table-bordered th,
  .table-bordered td {
    border: 1px solid #ddd !important;
  }
}
@font-face {
  font-family: 'Glyphicons Halflings';
  src: url('../components/bootstrap/fonts/glyphicons-halflings-regular.eot');
  src: url('../components/bootstrap/fonts/glyphicons-halflings-regular.eot?#iefix') format('embedded-opentype'), url('../components/bootstrap/fonts/glyphicons-halflings-regular.woff2') format('woff2'), url('../components/bootstrap/fonts/glyphicons-halflings-regular.woff') format('woff'), url('../components/bootstrap/fonts/glyphicons-halflings-regular.ttf') format('truetype'), url('../components/bootstrap/fonts/glyphicons-halflings-regular.svg#glyphicons_halflingsregular') format('svg');
}
.glyphicon {
  position: relative;
  top: 1px;
  display: inline-block;
  font-family: 'Glyphicons Halflings';
  font-style: normal;
  font-weight: normal;
  line-height: 1;
  -webkit-font-smoothing: antialiased;
  -moz-osx-font-smoothing: grayscale;
}
.glyphicon-asterisk:before {
  content: "\002a";
}
.glyphicon-plus:before {
  content: "\002b";
}
.glyphicon-euro:before,
.glyphicon-eur:before {
  content: "\20ac";
}
.glyphicon-minus:before {
  content: "\2212";
}
.glyphicon-cloud:before {
  content: "\2601";
}
.glyphicon-envelope:before {
  content: "\2709";
}
.glyphicon-pencil:before {
  content: "\270f";
}
.glyphicon-glass:before {
  content: "\e001";
}
.glyphicon-music:before {
  content: "\e002";
}
.glyphicon-search:before {
  content: "\e003";
}
.glyphicon-heart:before {
  content: "\e005";
}
.glyphicon-star:before {
  content: "\e006";
}
.glyphicon-star-empty:before {
  content: "\e007";
}
.glyphicon-user:before {
  content: "\e008";
}
.glyphicon-film:before {
  content: "\e009";
}
.glyphicon-th-large:before {
  content: "\e010";
}
.glyphicon-th:before {
  content: "\e011";
}
.glyphicon-th-list:before {
  content: "\e012";
}
.glyphicon-ok:before {
  content: "\e013";
}
.glyphicon-remove:before {
  content: "\e014";
}
.glyphicon-zoom-in:before {
  content: "\e015";
}
.glyphicon-zoom-out:before {
  content: "\e016";
}
.glyphicon-off:before {
  content: "\e017";
}
.glyphicon-signal:before {
  content: "\e018";
}
.glyphicon-cog:before {
  content: "\e019";
}
.glyphicon-trash:before {
  content: "\e020";
}
.glyphicon-home:before {
  content: "\e021";
}
.glyphicon-file:before {
  content: "\e022";
}
.glyphicon-time:before {
  content: "\e023";
}
.glyphicon-road:before {
  content: "\e024";
}
.glyphicon-download-alt:before {
  content: "\e025";
}
.glyphicon-download:before {
  content: "\e026";
}
.glyphicon-upload:before {
  content: "\e027";
}
.glyphicon-inbox:before {
  content: "\e028";
}
.glyphicon-play-circle:before {
  content: "\e029";
}
.glyphicon-repeat:before {
  content: "\e030";
}
.glyphicon-refresh:before {
  content: "\e031";
}
.glyphicon-list-alt:before {
  content: "\e032";
}
.glyphicon-lock:before {
  content: "\e033";
}
.glyphicon-flag:before {
  content: "\e034";
}
.glyphicon-headphones:before {
  content: "\e035";
}
.glyphicon-volume-off:before {
  content: "\e036";
}
.glyphicon-volume-down:before {
  content: "\e037";
}
.glyphicon-volume-up:before {
  content: "\e038";
}
.glyphicon-qrcode:before {
  content: "\e039";
}
.glyphicon-barcode:before {
  content: "\e040";
}
.glyphicon-tag:before {
  content: "\e041";
}
.glyphicon-tags:before {
  content: "\e042";
}
.glyphicon-book:before {
  content: "\e043";
}
.glyphicon-bookmark:before {
  content: "\e044";
}
.glyphicon-print:before {
  content: "\e045";
}
.glyphicon-camera:before {
  content: "\e046";
}
.glyphicon-font:before {
  content: "\e047";
}
.glyphicon-bold:before {
  content: "\e048";
}
.glyphicon-italic:before {
  content: "\e049";
}
.glyphicon-text-height:before {
  content: "\e050";
}
.glyphicon-text-width:before {
  content: "\e051";
}
.glyphicon-align-left:before {
  content: "\e052";
}
.glyphicon-align-center:before {
  content: "\e053";
}
.glyphicon-align-right:before {
  content: "\e054";
}
.glyphicon-align-justify:before {
  content: "\e055";
}
.glyphicon-list:before {
  content: "\e056";
}
.glyphicon-indent-left:before {
  content: "\e057";
}
.glyphicon-indent-right:before {
  content: "\e058";
}
.glyphicon-facetime-video:before {
  content: "\e059";
}
.glyphicon-picture:before {
  content: "\e060";
}
.glyphicon-map-marker:before {
  content: "\e062";
}
.glyphicon-adjust:before {
  content: "\e063";
}
.glyphicon-tint:before {
  content: "\e064";
}
.glyphicon-edit:before {
  content: "\e065";
}
.glyphicon-share:before {
  content: "\e066";
}
.glyphicon-check:before {
  content: "\e067";
}
.glyphicon-move:before {
  content: "\e068";
}
.glyphicon-step-backward:before {
  content: "\e069";
}
.glyphicon-fast-backward:before {
  content: "\e070";
}
.glyphicon-backward:before {
  content: "\e071";
}
.glyphicon-play:before {
  content: "\e072";
}
.glyphicon-pause:before {
  content: "\e073";
}
.glyphicon-stop:before {
  content: "\e074";
}
.glyphicon-forward:before {
  content: "\e075";
}
.glyphicon-fast-forward:before {
  content: "\e076";
}
.glyphicon-step-forward:before {
  content: "\e077";
}
.glyphicon-eject:before {
  content: "\e078";
}
.glyphicon-chevron-left:before {
  content: "\e079";
}
.glyphicon-chevron-right:before {
  content: "\e080";
}
.glyphicon-plus-sign:before {
  content: "\e081";
}
.glyphicon-minus-sign:before {
  content: "\e082";
}
.glyphicon-remove-sign:before {
  content: "\e083";
}
.glyphicon-ok-sign:before {
  content: "\e084";
}
.glyphicon-question-sign:before {
  content: "\e085";
}
.glyphicon-info-sign:before {
  content: "\e086";
}
.glyphicon-screenshot:before {
  content: "\e087";
}
.glyphicon-remove-circle:before {
  content: "\e088";
}
.glyphicon-ok-circle:before {
  content: "\e089";
}
.glyphicon-ban-circle:before {
  content: "\e090";
}
.glyphicon-arrow-left:before {
  content: "\e091";
}
.glyphicon-arrow-right:before {
  content: "\e092";
}
.glyphicon-arrow-up:before {
  content: "\e093";
}
.glyphicon-arrow-down:before {
  content: "\e094";
}
.glyphicon-share-alt:before {
  content: "\e095";
}
.glyphicon-resize-full:before {
  content: "\e096";
}
.glyphicon-resize-small:before {
  content: "\e097";
}
.glyphicon-exclamation-sign:before {
  content: "\e101";
}
.glyphicon-gift:before {
  content: "\e102";
}
.glyphicon-leaf:before {
  content: "\e103";
}
.glyphicon-fire:before {
  content: "\e104";
}
.glyphicon-eye-open:before {
  content: "\e105";
}
.glyphicon-eye-close:before {
  content: "\e106";
}
.glyphicon-warning-sign:before {
  content: "\e107";
}
.glyphicon-plane:before {
  content: "\e108";
}
.glyphicon-calendar:before {
  content: "\e109";
}
.glyphicon-random:before {
  content: "\e110";
}
.glyphicon-comment:before {
  content: "\e111";
}
.glyphicon-magnet:before {
  content: "\e112";
}
.glyphicon-chevron-up:before {
  content: "\e113";
}
.glyphicon-chevron-down:before {
  content: "\e114";
}
.glyphicon-retweet:before {
  content: "\e115";
}
.glyphicon-shopping-cart:before {
  content: "\e116";
}
.glyphicon-folder-close:before {
  content: "\e117";
}
.glyphicon-folder-open:before {
  content: "\e118";
}
.glyphicon-resize-vertical:before {
  content: "\e119";
}
.glyphicon-resize-horizontal:before {
  content: "\e120";
}
.glyphicon-hdd:before {
  content: "\e121";
}
.glyphicon-bullhorn:before {
  content: "\e122";
}
.glyphicon-bell:before {
  content: "\e123";
}
.glyphicon-certificate:before {
  content: "\e124";
}
.glyphicon-thumbs-up:before {
  content: "\e125";
}
.glyphicon-thumbs-down:before {
  content: "\e126";
}
.glyphicon-hand-right:before {
  content: "\e127";
}
.glyphicon-hand-left:before {
  content: "\e128";
}
.glyphicon-hand-up:before {
  content: "\e129";
}
.glyphicon-hand-down:before {
  content: "\e130";
}
.glyphicon-circle-arrow-right:before {
  content: "\e131";
}
.glyphicon-circle-arrow-left:before {
  content: "\e132";
}
.glyphicon-circle-arrow-up:before {
  content: "\e133";
}
.glyphicon-circle-arrow-down:before {
  content: "\e134";
}
.glyphicon-globe:before {
  content: "\e135";
}
.glyphicon-wrench:before {
  content: "\e136";
}
.glyphicon-tasks:before {
  content: "\e137";
}
.glyphicon-filter:before {
  content: "\e138";
}
.glyphicon-briefcase:before {
  content: "\e139";
}
.glyphicon-fullscreen:before {
  content: "\e140";
}
.glyphicon-dashboard:before {
  content: "\e141";
}
.glyphicon-paperclip:before {
  content: "\e142";
}
.glyphicon-heart-empty:before {
  content: "\e143";
}
.glyphicon-link:before {
  content: "\e144";
}
.glyphicon-phone:before {
  content: "\e145";
}
.glyphicon-pushpin:before {
  content: "\e146";
}
.glyphicon-usd:before {
  content: "\e148";
}
.glyphicon-gbp:before {
  content: "\e149";
}
.glyphicon-sort:before {
  content: "\e150";
}
.glyphicon-sort-by-alphabet:before {
  content: "\e151";
}
.glyphicon-sort-by-alphabet-alt:before {
  content: "\e152";
}
.glyphicon-sort-by-order:before {
  content: "\e153";
}
.glyphicon-sort-by-order-alt:before {
  content: "\e154";
}
.glyphicon-sort-by-attributes:before {
  content: "\e155";
}
.glyphicon-sort-by-attributes-alt:before {
  content: "\e156";
}
.glyphicon-unchecked:before {
  content: "\e157";
}
.glyphicon-expand:before {
  content: "\e158";
}
.glyphicon-collapse-down:before {
  content: "\e159";
}
.glyphicon-collapse-up:before {
  content: "\e160";
}
.glyphicon-log-in:before {
  content: "\e161";
}
.glyphicon-flash:before {
  content: "\e162";
}
.glyphicon-log-out:before {
  content: "\e163";
}
.glyphicon-new-window:before {
  content: "\e164";
}
.glyphicon-record:before {
  content: "\e165";
}
.glyphicon-save:before {
  content: "\e166";
}
.glyphicon-open:before {
  content: "\e167";
}
.glyphicon-saved:before {
  content: "\e168";
}
.glyphicon-import:before {
  content: "\e169";
}
.glyphicon-export:before {
  content: "\e170";
}
.glyphicon-send:before {
  content: "\e171";
}
.glyphicon-floppy-disk:before {
  content: "\e172";
}
.glyphicon-floppy-saved:before {
  content: "\e173";
}
.glyphicon-floppy-remove:before {
  content: "\e174";
}
.glyphicon-floppy-save:before {
  content: "\e175";
}
.glyphicon-floppy-open:before {
  content: "\e176";
}
.glyphicon-credit-card:before {
  content: "\e177";
}
.glyphicon-transfer:before {
  content: "\e178";
}
.glyphicon-cutlery:before {
  content: "\e179";
}
.glyphicon-header:before {
  content: "\e180";
}
.glyphicon-compressed:before {
  content: "\e181";
}
.glyphicon-earphone:before {
  content: "\e182";
}
.glyphicon-phone-alt:before {
  content: "\e183";
}
.glyphicon-tower:before {
  content: "\e184";
}
.glyphicon-stats:before {
  content: "\e185";
}
.glyphicon-sd-video:before {
  content: "\e186";
}
.glyphicon-hd-video:before {
  content: "\e187";
}
.glyphicon-subtitles:before {
  content: "\e188";
}
.glyphicon-sound-stereo:before {
  content: "\e189";
}
.glyphicon-sound-dolby:before {
  content: "\e190";
}
.glyphicon-sound-5-1:before {
  content: "\e191";
}
.glyphicon-sound-6-1:before {
  content: "\e192";
}
.glyphicon-sound-7-1:before {
  content: "\e193";
}
.glyphicon-copyright-mark:before {
  content: "\e194";
}
.glyphicon-registration-mark:before {
  content: "\e195";
}
.glyphicon-cloud-download:before {
  content: "\e197";
}
.glyphicon-cloud-upload:before {
  content: "\e198";
}
.glyphicon-tree-conifer:before {
  content: "\e199";
}
.glyphicon-tree-deciduous:before {
  content: "\e200";
}
.glyphicon-cd:before {
  content: "\e201";
}
.glyphicon-save-file:before {
  content: "\e202";
}
.glyphicon-open-file:before {
  content: "\e203";
}
.glyphicon-level-up:before {
  content: "\e204";
}
.glyphicon-copy:before {
  content: "\e205";
}
.glyphicon-paste:before {
  content: "\e206";
}
.glyphicon-alert:before {
  content: "\e209";
}
.glyphicon-equalizer:before {
  content: "\e210";
}
.glyphicon-king:before {
  content: "\e211";
}
.glyphicon-queen:before {
  content: "\e212";
}
.glyphicon-pawn:before {
  content: "\e213";
}
.glyphicon-bishop:before {
  content: "\e214";
}
.glyphicon-knight:before {
  content: "\e215";
}
.glyphicon-baby-formula:before {
  content: "\e216";
}
.glyphicon-tent:before {
  content: "\26fa";
}
.glyphicon-blackboard:before {
  content: "\e218";
}
.glyphicon-bed:before {
  content: "\e219";
}
.glyphicon-apple:before {
  content: "\f8ff";
}
.glyphicon-erase:before {
  content: "\e221";
}
.glyphicon-hourglass:before {
  content: "\231b";
}
.glyphicon-lamp:before {
  content: "\e223";
}
.glyphicon-duplicate:before {
  content: "\e224";
}
.glyphicon-piggy-bank:before {
  content: "\e225";
}
.glyphicon-scissors:before {
  content: "\e226";
}
.glyphicon-bitcoin:before {
  content: "\e227";
}
.glyphicon-btc:before {
  content: "\e227";
}
.glyphicon-xbt:before {
  content: "\e227";
}
.glyphicon-yen:before {
  content: "\00a5";
}
.glyphicon-jpy:before {
  content: "\00a5";
}
.glyphicon-ruble:before {
  content: "\20bd";
}
.glyphicon-rub:before {
  content: "\20bd";
}
.glyphicon-scale:before {
  content: "\e230";
}
.glyphicon-ice-lolly:before {
  content: "\e231";
}
.glyphicon-ice-lolly-tasted:before {
  content: "\e232";
}
.glyphicon-education:before {
  content: "\e233";
}
.glyphicon-option-horizontal:before {
  content: "\e234";
}
.glyphicon-option-vertical:before {
  content: "\e235";
}
.glyphicon-menu-hamburger:before {
  content: "\e236";
}
.glyphicon-modal-window:before {
  content: "\e237";
}
.glyphicon-oil:before {
  content: "\e238";
}
.glyphicon-grain:before {
  content: "\e239";
}
.glyphicon-sunglasses:before {
  content: "\e240";
}
.glyphicon-text-size:before {
  content: "\e241";
}
.glyphicon-text-color:before {
  content: "\e242";
}
.glyphicon-text-background:before {
  content: "\e243";
}
.glyphicon-object-align-top:before {
  content: "\e244";
}
.glyphicon-object-align-bottom:before {
  content: "\e245";
}
.glyphicon-object-align-horizontal:before {
  content: "\e246";
}
.glyphicon-object-align-left:before {
  content: "\e247";
}
.glyphicon-object-align-vertical:before {
  content: "\e248";
}
.glyphicon-object-align-right:before {
  content: "\e249";
}
.glyphicon-triangle-right:before {
  content: "\e250";
}
.glyphicon-triangle-left:before {
  content: "\e251";
}
.glyphicon-triangle-bottom:before {
  content: "\e252";
}
.glyphicon-triangle-top:before {
  content: "\e253";
}
.glyphicon-console:before {
  content: "\e254";
}
.glyphicon-superscript:before {
  content: "\e255";
}
.glyphicon-subscript:before {
  content: "\e256";
}
.glyphicon-menu-left:before {
  content: "\e257";
}
.glyphicon-menu-right:before {
  content: "\e258";
}
.glyphicon-menu-down:before {
  content: "\e259";
}
.glyphicon-menu-up:before {
  content: "\e260";
}
* {
  -webkit-box-sizing: border-box;
  -moz-box-sizing: border-box;
  box-sizing: border-box;
}
*:before,
*:after {
  -webkit-box-sizing: border-box;
  -moz-box-sizing: border-box;
  box-sizing: border-box;
}
html {
  font-size: 10px;
  -webkit-tap-highlight-color: rgba(0, 0, 0, 0);
}
body {
  font-family: "Helvetica Neue", Helvetica, Arial, sans-serif;
  font-size: 13px;
  line-height: 1.42857143;
  color: #000;
  background-color: #fff;
}
input,
button,
select,
textarea {
  font-family: inherit;
  font-size: inherit;
  line-height: inherit;
}
a {
  color: #337ab7;
  text-decoration: none;
}
a:hover,
a:focus {
  color: #23527c;
  text-decoration: underline;
}
a:focus {
  outline: 5px auto -webkit-focus-ring-color;
  outline-offset: -2px;
}
figure {
  margin: 0;
}
img {
  vertical-align: middle;
}
.img-responsive,
.thumbnail > img,
.thumbnail a > img,
.carousel-inner > .item > img,
.carousel-inner > .item > a > img {
  display: block;
  max-width: 100%;
  height: auto;
}
.img-rounded {
  border-radius: 3px;
}
.img-thumbnail {
  padding: 4px;
  line-height: 1.42857143;
  background-color: #fff;
  border: 1px solid #ddd;
  border-radius: 2px;
  -webkit-transition: all 0.2s ease-in-out;
  -o-transition: all 0.2s ease-in-out;
  transition: all 0.2s ease-in-out;
  display: inline-block;
  max-width: 100%;
  height: auto;
}
.img-circle {
  border-radius: 50%;
}
hr {
  margin-top: 18px;
  margin-bottom: 18px;
  border: 0;
  border-top: 1px solid #eeeeee;
}
.sr-only {
  position: absolute;
  width: 1px;
  height: 1px;
  margin: -1px;
  padding: 0;
  overflow: hidden;
  clip: rect(0, 0, 0, 0);
  border: 0;
}
.sr-only-focusable:active,
.sr-only-focusable:focus {
  position: static;
  width: auto;
  height: auto;
  margin: 0;
  overflow: visible;
  clip: auto;
}
[role="button"] {
  cursor: pointer;
}
h1,
h2,
h3,
h4,
h5,
h6,
.h1,
.h2,
.h3,
.h4,
.h5,
.h6 {
  font-family: inherit;
  font-weight: 500;
  line-height: 1.1;
  color: inherit;
}
h1 small,
h2 small,
h3 small,
h4 small,
h5 small,
h6 small,
.h1 small,
.h2 small,
.h3 small,
.h4 small,
.h5 small,
.h6 small,
h1 .small,
h2 .small,
h3 .small,
h4 .small,
h5 .small,
h6 .small,
.h1 .small,
.h2 .small,
.h3 .small,
.h4 .small,
.h5 .small,
.h6 .small {
  font-weight: normal;
  line-height: 1;
  color: #777777;
}
h1,
.h1,
h2,
.h2,
h3,
.h3 {
  margin-top: 18px;
  margin-bottom: 9px;
}
h1 small,
.h1 small,
h2 small,
.h2 small,
h3 small,
.h3 small,
h1 .small,
.h1 .small,
h2 .small,
.h2 .small,
h3 .small,
.h3 .small {
  font-size: 65%;
}
h4,
.h4,
h5,
.h5,
h6,
.h6 {
  margin-top: 9px;
  margin-bottom: 9px;
}
h4 small,
.h4 small,
h5 small,
.h5 small,
h6 small,
.h6 small,
h4 .small,
.h4 .small,
h5 .small,
.h5 .small,
h6 .small,
.h6 .small {
  font-size: 75%;
}
h1,
.h1 {
  font-size: 33px;
}
h2,
.h2 {
  font-size: 27px;
}
h3,
.h3 {
  font-size: 23px;
}
h4,
.h4 {
  font-size: 17px;
}
h5,
.h5 {
  font-size: 13px;
}
h6,
.h6 {
  font-size: 12px;
}
p {
  margin: 0 0 9px;
}
.lead {
  margin-bottom: 18px;
  font-size: 14px;
  font-weight: 300;
  line-height: 1.4;
}
@media (min-width: 768px) {
  .lead {
    font-size: 19.5px;
  }
}
small,
.small {
  font-size: 92%;
}
mark,
.mark {
  background-color: #fcf8e3;
  padding: .2em;
}
.text-left {
  text-align: left;
}
.text-right {
  text-align: right;
}
.text-center {
  text-align: center;
}
.text-justify {
  text-align: justify;
}
.text-nowrap {
  white-space: nowrap;
}
.text-lowercase {
  text-transform: lowercase;
}
.text-uppercase {
  text-transform: uppercase;
}
.text-capitalize {
  text-transform: capitalize;
}
.text-muted {
  color: #777777;
}
.text-primary {
  color: #337ab7;
}
a.text-primary:hover,
a.text-primary:focus {
  color: #286090;
}
.text-success {
  color: #3c763d;
}
a.text-success:hover,
a.text-success:focus {
  color: #2b542c;
}
.text-info {
  color: #31708f;
}
a.text-info:hover,
a.text-info:focus {
  color: #245269;
}
.text-warning {
  color: #8a6d3b;
}
a.text-warning:hover,
a.text-warning:focus {
  color: #66512c;
}
.text-danger {
  color: #a94442;
}
a.text-danger:hover,
a.text-danger:focus {
  color: #843534;
}
.bg-primary {
  color: #fff;
  background-color: #337ab7;
}
a.bg-primary:hover,
a.bg-primary:focus {
  background-color: #286090;
}
.bg-success {
  background-color: #dff0d8;
}
a.bg-success:hover,
a.bg-success:focus {
  background-color: #c1e2b3;
}
.bg-info {
  background-color: #d9edf7;
}
a.bg-info:hover,
a.bg-info:focus {
  background-color: #afd9ee;
}
.bg-warning {
  background-color: #fcf8e3;
}
a.bg-warning:hover,
a.bg-warning:focus {
  background-color: #f7ecb5;
}
.bg-danger {
  background-color: #f2dede;
}
a.bg-danger:hover,
a.bg-danger:focus {
  background-color: #e4b9b9;
}
.page-header {
  padding-bottom: 8px;
  margin: 36px 0 18px;
  border-bottom: 1px solid #eeeeee;
}
ul,
ol {
  margin-top: 0;
  margin-bottom: 9px;
}
ul ul,
ol ul,
ul ol,
ol ol {
  margin-bottom: 0;
}
.list-unstyled {
  padding-left: 0;
  list-style: none;
}
.list-inline {
  padding-left: 0;
  list-style: none;
  margin-left: -5px;
}
.list-inline > li {
  display: inline-block;
  padding-left: 5px;
  padding-right: 5px;
}
dl {
  margin-top: 0;
  margin-bottom: 18px;
}
dt,
dd {
  line-height: 1.42857143;
}
dt {
  font-weight: bold;
}
dd {
  margin-left: 0;
}
@media (min-width: 541px) {
  .dl-horizontal dt {
    float: left;
    width: 160px;
    clear: left;
    text-align: right;
    overflow: hidden;
    text-overflow: ellipsis;
    white-space: nowrap;
  }
  .dl-horizontal dd {
    margin-left: 180px;
  }
}
abbr[title],
abbr[data-original-title] {
  cursor: help;
  border-bottom: 1px dotted #777777;
}
.initialism {
  font-size: 90%;
  text-transform: uppercase;
}
blockquote {
  padding: 9px 18px;
  margin: 0 0 18px;
  font-size: inherit;
  border-left: 5px solid #eeeeee;
}
blockquote p:last-child,
blockquote ul:last-child,
blockquote ol:last-child {
  margin-bottom: 0;
}
blockquote footer,
blockquote small,
blockquote .small {
  display: block;
  font-size: 80%;
  line-height: 1.42857143;
  color: #777777;
}
blockquote footer:before,
blockquote small:before,
blockquote .small:before {
  content: '\2014 \00A0';
}
.blockquote-reverse,
blockquote.pull-right {
  padding-right: 15px;
  padding-left: 0;
  border-right: 5px solid #eeeeee;
  border-left: 0;
  text-align: right;
}
.blockquote-reverse footer:before,
blockquote.pull-right footer:before,
.blockquote-reverse small:before,
blockquote.pull-right small:before,
.blockquote-reverse .small:before,
blockquote.pull-right .small:before {
  content: '';
}
.blockquote-reverse footer:after,
blockquote.pull-right footer:after,
.blockquote-reverse small:after,
blockquote.pull-right small:after,
.blockquote-reverse .small:after,
blockquote.pull-right .small:after {
  content: '\00A0 \2014';
}
address {
  margin-bottom: 18px;
  font-style: normal;
  line-height: 1.42857143;
}
code,
kbd,
pre,
samp {
  font-family: monospace;
}
code {
  padding: 2px 4px;
  font-size: 90%;
  color: #c7254e;
  background-color: #f9f2f4;
  border-radius: 2px;
}
kbd {
  padding: 2px 4px;
  font-size: 90%;
  color: #888;
  background-color: transparent;
  border-radius: 1px;
  box-shadow: inset 0 -1px 0 rgba(0, 0, 0, 0.25);
}
kbd kbd {
  padding: 0;
  font-size: 100%;
  font-weight: bold;
  box-shadow: none;
}
pre {
  display: block;
  padding: 8.5px;
  margin: 0 0 9px;
  font-size: 12px;
  line-height: 1.42857143;
  word-break: break-all;
  word-wrap: break-word;
  color: #333333;
  background-color: #f5f5f5;
  border: 1px solid #ccc;
  border-radius: 2px;
}
pre code {
  padding: 0;
  font-size: inherit;
  color: inherit;
  white-space: pre-wrap;
  background-color: transparent;
  border-radius: 0;
}
.pre-scrollable {
  max-height: 340px;
  overflow-y: scroll;
}
.container {
  margin-right: auto;
  margin-left: auto;
  padding-left: 0px;
  padding-right: 0px;
}
@media (min-width: 768px) {
  .container {
    width: 768px;
  }
}
@media (min-width: 992px) {
  .container {
    width: 940px;
  }
}
@media (min-width: 1200px) {
  .container {
    width: 1140px;
  }
}
.container-fluid {
  margin-right: auto;
  margin-left: auto;
  padding-left: 0px;
  padding-right: 0px;
}
.row {
  margin-left: 0px;
  margin-right: 0px;
}
.col-xs-1, .col-sm-1, .col-md-1, .col-lg-1, .col-xs-2, .col-sm-2, .col-md-2, .col-lg-2, .col-xs-3, .col-sm-3, .col-md-3, .col-lg-3, .col-xs-4, .col-sm-4, .col-md-4, .col-lg-4, .col-xs-5, .col-sm-5, .col-md-5, .col-lg-5, .col-xs-6, .col-sm-6, .col-md-6, .col-lg-6, .col-xs-7, .col-sm-7, .col-md-7, .col-lg-7, .col-xs-8, .col-sm-8, .col-md-8, .col-lg-8, .col-xs-9, .col-sm-9, .col-md-9, .col-lg-9, .col-xs-10, .col-sm-10, .col-md-10, .col-lg-10, .col-xs-11, .col-sm-11, .col-md-11, .col-lg-11, .col-xs-12, .col-sm-12, .col-md-12, .col-lg-12 {
  position: relative;
  min-height: 1px;
  padding-left: 0px;
  padding-right: 0px;
}
.col-xs-1, .col-xs-2, .col-xs-3, .col-xs-4, .col-xs-5, .col-xs-6, .col-xs-7, .col-xs-8, .col-xs-9, .col-xs-10, .col-xs-11, .col-xs-12 {
  float: left;
}
.col-xs-12 {
  width: 100%;
}
.col-xs-11 {
  width: 91.66666667%;
}
.col-xs-10 {
  width: 83.33333333%;
}
.col-xs-9 {
  width: 75%;
}
.col-xs-8 {
  width: 66.66666667%;
}
.col-xs-7 {
  width: 58.33333333%;
}
.col-xs-6 {
  width: 50%;
}
.col-xs-5 {
  width: 41.66666667%;
}
.col-xs-4 {
  width: 33.33333333%;
}
.col-xs-3 {
  width: 25%;
}
.col-xs-2 {
  width: 16.66666667%;
}
.col-xs-1 {
  width: 8.33333333%;
}
.col-xs-pull-12 {
  right: 100%;
}
.col-xs-pull-11 {
  right: 91.66666667%;
}
.col-xs-pull-10 {
  right: 83.33333333%;
}
.col-xs-pull-9 {
  right: 75%;
}
.col-xs-pull-8 {
  right: 66.66666667%;
}
.col-xs-pull-7 {
  right: 58.33333333%;
}
.col-xs-pull-6 {
  right: 50%;
}
.col-xs-pull-5 {
  right: 41.66666667%;
}
.col-xs-pull-4 {
  right: 33.33333333%;
}
.col-xs-pull-3 {
  right: 25%;
}
.col-xs-pull-2 {
  right: 16.66666667%;
}
.col-xs-pull-1 {
  right: 8.33333333%;
}
.col-xs-pull-0 {
  right: auto;
}
.col-xs-push-12 {
  left: 100%;
}
.col-xs-push-11 {
  left: 91.66666667%;
}
.col-xs-push-10 {
  left: 83.33333333%;
}
.col-xs-push-9 {
  left: 75%;
}
.col-xs-push-8 {
  left: 66.66666667%;
}
.col-xs-push-7 {
  left: 58.33333333%;
}
.col-xs-push-6 {
  left: 50%;
}
.col-xs-push-5 {
  left: 41.66666667%;
}
.col-xs-push-4 {
  left: 33.33333333%;
}
.col-xs-push-3 {
  left: 25%;
}
.col-xs-push-2 {
  left: 16.66666667%;
}
.col-xs-push-1 {
  left: 8.33333333%;
}
.col-xs-push-0 {
  left: auto;
}
.col-xs-offset-12 {
  margin-left: 100%;
}
.col-xs-offset-11 {
  margin-left: 91.66666667%;
}
.col-xs-offset-10 {
  margin-left: 83.33333333%;
}
.col-xs-offset-9 {
  margin-left: 75%;
}
.col-xs-offset-8 {
  margin-left: 66.66666667%;
}
.col-xs-offset-7 {
  margin-left: 58.33333333%;
}
.col-xs-offset-6 {
  margin-left: 50%;
}
.col-xs-offset-5 {
  margin-left: 41.66666667%;
}
.col-xs-offset-4 {
  margin-left: 33.33333333%;
}
.col-xs-offset-3 {
  margin-left: 25%;
}
.col-xs-offset-2 {
  margin-left: 16.66666667%;
}
.col-xs-offset-1 {
  margin-left: 8.33333333%;
}
.col-xs-offset-0 {
  margin-left: 0%;
}
@media (min-width: 768px) {
  .col-sm-1, .col-sm-2, .col-sm-3, .col-sm-4, .col-sm-5, .col-sm-6, .col-sm-7, .col-sm-8, .col-sm-9, .col-sm-10, .col-sm-11, .col-sm-12 {
    float: left;
  }
  .col-sm-12 {
    width: 100%;
  }
  .col-sm-11 {
    width: 91.66666667%;
  }
  .col-sm-10 {
    width: 83.33333333%;
  }
  .col-sm-9 {
    width: 75%;
  }
  .col-sm-8 {
    width: 66.66666667%;
  }
  .col-sm-7 {
    width: 58.33333333%;
  }
  .col-sm-6 {
    width: 50%;
  }
  .col-sm-5 {
    width: 41.66666667%;
  }
  .col-sm-4 {
    width: 33.33333333%;
  }
  .col-sm-3 {
    width: 25%;
  }
  .col-sm-2 {
    width: 16.66666667%;
  }
  .col-sm-1 {
    width: 8.33333333%;
  }
  .col-sm-pull-12 {
    right: 100%;
  }
  .col-sm-pull-11 {
    right: 91.66666667%;
  }
  .col-sm-pull-10 {
    right: 83.33333333%;
  }
  .col-sm-pull-9 {
    right: 75%;
  }
  .col-sm-pull-8 {
    right: 66.66666667%;
  }
  .col-sm-pull-7 {
    right: 58.33333333%;
  }
  .col-sm-pull-6 {
    right: 50%;
  }
  .col-sm-pull-5 {
    right: 41.66666667%;
  }
  .col-sm-pull-4 {
    right: 33.33333333%;
  }
  .col-sm-pull-3 {
    right: 25%;
  }
  .col-sm-pull-2 {
    right: 16.66666667%;
  }
  .col-sm-pull-1 {
    right: 8.33333333%;
  }
  .col-sm-pull-0 {
    right: auto;
  }
  .col-sm-push-12 {
    left: 100%;
  }
  .col-sm-push-11 {
    left: 91.66666667%;
  }
  .col-sm-push-10 {
    left: 83.33333333%;
  }
  .col-sm-push-9 {
    left: 75%;
  }
  .col-sm-push-8 {
    left: 66.66666667%;
  }
  .col-sm-push-7 {
    left: 58.33333333%;
  }
  .col-sm-push-6 {
    left: 50%;
  }
  .col-sm-push-5 {
    left: 41.66666667%;
  }
  .col-sm-push-4 {
    left: 33.33333333%;
  }
  .col-sm-push-3 {
    left: 25%;
  }
  .col-sm-push-2 {
    left: 16.66666667%;
  }
  .col-sm-push-1 {
    left: 8.33333333%;
  }
  .col-sm-push-0 {
    left: auto;
  }
  .col-sm-offset-12 {
    margin-left: 100%;
  }
  .col-sm-offset-11 {
    margin-left: 91.66666667%;
  }
  .col-sm-offset-10 {
    margin-left: 83.33333333%;
  }
  .col-sm-offset-9 {
    margin-left: 75%;
  }
  .col-sm-offset-8 {
    margin-left: 66.66666667%;
  }
  .col-sm-offset-7 {
    margin-left: 58.33333333%;
  }
  .col-sm-offset-6 {
    margin-left: 50%;
  }
  .col-sm-offset-5 {
    margin-left: 41.66666667%;
  }
  .col-sm-offset-4 {
    margin-left: 33.33333333%;
  }
  .col-sm-offset-3 {
    margin-left: 25%;
  }
  .col-sm-offset-2 {
    margin-left: 16.66666667%;
  }
  .col-sm-offset-1 {
    margin-left: 8.33333333%;
  }
  .col-sm-offset-0 {
    margin-left: 0%;
  }
}
@media (min-width: 992px) {
  .col-md-1, .col-md-2, .col-md-3, .col-md-4, .col-md-5, .col-md-6, .col-md-7, .col-md-8, .col-md-9, .col-md-10, .col-md-11, .col-md-12 {
    float: left;
  }
  .col-md-12 {
    width: 100%;
  }
  .col-md-11 {
    width: 91.66666667%;
  }
  .col-md-10 {
    width: 83.33333333%;
  }
  .col-md-9 {
    width: 75%;
  }
  .col-md-8 {
    width: 66.66666667%;
  }
  .col-md-7 {
    width: 58.33333333%;
  }
  .col-md-6 {
    width: 50%;
  }
  .col-md-5 {
    width: 41.66666667%;
  }
  .col-md-4 {
    width: 33.33333333%;
  }
  .col-md-3 {
    width: 25%;
  }
  .col-md-2 {
    width: 16.66666667%;
  }
  .col-md-1 {
    width: 8.33333333%;
  }
  .col-md-pull-12 {
    right: 100%;
  }
  .col-md-pull-11 {
    right: 91.66666667%;
  }
  .col-md-pull-10 {
    right: 83.33333333%;
  }
  .col-md-pull-9 {
    right: 75%;
  }
  .col-md-pull-8 {
    right: 66.66666667%;
  }
  .col-md-pull-7 {
    right: 58.33333333%;
  }
  .col-md-pull-6 {
    right: 50%;
  }
  .col-md-pull-5 {
    right: 41.66666667%;
  }
  .col-md-pull-4 {
    right: 33.33333333%;
  }
  .col-md-pull-3 {
    right: 25%;
  }
  .col-md-pull-2 {
    right: 16.66666667%;
  }
  .col-md-pull-1 {
    right: 8.33333333%;
  }
  .col-md-pull-0 {
    right: auto;
  }
  .col-md-push-12 {
    left: 100%;
  }
  .col-md-push-11 {
    left: 91.66666667%;
  }
  .col-md-push-10 {
    left: 83.33333333%;
  }
  .col-md-push-9 {
    left: 75%;
  }
  .col-md-push-8 {
    left: 66.66666667%;
  }
  .col-md-push-7 {
    left: 58.33333333%;
  }
  .col-md-push-6 {
    left: 50%;
  }
  .col-md-push-5 {
    left: 41.66666667%;
  }
  .col-md-push-4 {
    left: 33.33333333%;
  }
  .col-md-push-3 {
    left: 25%;
  }
  .col-md-push-2 {
    left: 16.66666667%;
  }
  .col-md-push-1 {
    left: 8.33333333%;
  }
  .col-md-push-0 {
    left: auto;
  }
  .col-md-offset-12 {
    margin-left: 100%;
  }
  .col-md-offset-11 {
    margin-left: 91.66666667%;
  }
  .col-md-offset-10 {
    margin-left: 83.33333333%;
  }
  .col-md-offset-9 {
    margin-left: 75%;
  }
  .col-md-offset-8 {
    margin-left: 66.66666667%;
  }
  .col-md-offset-7 {
    margin-left: 58.33333333%;
  }
  .col-md-offset-6 {
    margin-left: 50%;
  }
  .col-md-offset-5 {
    margin-left: 41.66666667%;
  }
  .col-md-offset-4 {
    margin-left: 33.33333333%;
  }
  .col-md-offset-3 {
    margin-left: 25%;
  }
  .col-md-offset-2 {
    margin-left: 16.66666667%;
  }
  .col-md-offset-1 {
    margin-left: 8.33333333%;
  }
  .col-md-offset-0 {
    margin-left: 0%;
  }
}
@media (min-width: 1200px) {
  .col-lg-1, .col-lg-2, .col-lg-3, .col-lg-4, .col-lg-5, .col-lg-6, .col-lg-7, .col-lg-8, .col-lg-9, .col-lg-10, .col-lg-11, .col-lg-12 {
    float: left;
  }
  .col-lg-12 {
    width: 100%;
  }
  .col-lg-11 {
    width: 91.66666667%;
  }
  .col-lg-10 {
    width: 83.33333333%;
  }
  .col-lg-9 {
    width: 75%;
  }
  .col-lg-8 {
    width: 66.66666667%;
  }
  .col-lg-7 {
    width: 58.33333333%;
  }
  .col-lg-6 {
    width: 50%;
  }
  .col-lg-5 {
    width: 41.66666667%;
  }
  .col-lg-4 {
    width: 33.33333333%;
  }
  .col-lg-3 {
    width: 25%;
  }
  .col-lg-2 {
    width: 16.66666667%;
  }
  .col-lg-1 {
    width: 8.33333333%;
  }
  .col-lg-pull-12 {
    right: 100%;
  }
  .col-lg-pull-11 {
    right: 91.66666667%;
  }
  .col-lg-pull-10 {
    right: 83.33333333%;
  }
  .col-lg-pull-9 {
    right: 75%;
  }
  .col-lg-pull-8 {
    right: 66.66666667%;
  }
  .col-lg-pull-7 {
    right: 58.33333333%;
  }
  .col-lg-pull-6 {
    right: 50%;
  }
  .col-lg-pull-5 {
    right: 41.66666667%;
  }
  .col-lg-pull-4 {
    right: 33.33333333%;
  }
  .col-lg-pull-3 {
    right: 25%;
  }
  .col-lg-pull-2 {
    right: 16.66666667%;
  }
  .col-lg-pull-1 {
    right: 8.33333333%;
  }
  .col-lg-pull-0 {
    right: auto;
  }
  .col-lg-push-12 {
    left: 100%;
  }
  .col-lg-push-11 {
    left: 91.66666667%;
  }
  .col-lg-push-10 {
    left: 83.33333333%;
  }
  .col-lg-push-9 {
    left: 75%;
  }
  .col-lg-push-8 {
    left: 66.66666667%;
  }
  .col-lg-push-7 {
    left: 58.33333333%;
  }
  .col-lg-push-6 {
    left: 50%;
  }
  .col-lg-push-5 {
    left: 41.66666667%;
  }
  .col-lg-push-4 {
    left: 33.33333333%;
  }
  .col-lg-push-3 {
    left: 25%;
  }
  .col-lg-push-2 {
    left: 16.66666667%;
  }
  .col-lg-push-1 {
    left: 8.33333333%;
  }
  .col-lg-push-0 {
    left: auto;
  }
  .col-lg-offset-12 {
    margin-left: 100%;
  }
  .col-lg-offset-11 {
    margin-left: 91.66666667%;
  }
  .col-lg-offset-10 {
    margin-left: 83.33333333%;
  }
  .col-lg-offset-9 {
    margin-left: 75%;
  }
  .col-lg-offset-8 {
    margin-left: 66.66666667%;
  }
  .col-lg-offset-7 {
    margin-left: 58.33333333%;
  }
  .col-lg-offset-6 {
    margin-left: 50%;
  }
  .col-lg-offset-5 {
    margin-left: 41.66666667%;
  }
  .col-lg-offset-4 {
    margin-left: 33.33333333%;
  }
  .col-lg-offset-3 {
    margin-left: 25%;
  }
  .col-lg-offset-2 {
    margin-left: 16.66666667%;
  }
  .col-lg-offset-1 {
    margin-left: 8.33333333%;
  }
  .col-lg-offset-0 {
    margin-left: 0%;
  }
}
table {
  background-color: transparent;
}
caption {
  padding-top: 8px;
  padding-bottom: 8px;
  color: #777777;
  text-align: left;
}
th {
  text-align: left;
}
.table {
  width: 100%;
  max-width: 100%;
  margin-bottom: 18px;
}
.table > thead > tr > th,
.table > tbody > tr > th,
.table > tfoot > tr > th,
.table > thead > tr > td,
.table > tbody > tr > td,
.table > tfoot > tr > td {
  padding: 8px;
  line-height: 1.42857143;
  vertical-align: top;
  border-top: 1px solid #ddd;
}
.table > thead > tr > th {
  vertical-align: bottom;
  border-bottom: 2px solid #ddd;
}
.table > caption + thead > tr:first-child > th,
.table > colgroup + thead > tr:first-child > th,
.table > thead:first-child > tr:first-child > th,
.table > caption + thead > tr:first-child > td,
.table > colgroup + thead > tr:first-child > td,
.table > thead:first-child > tr:first-child > td {
  border-top: 0;
}
.table > tbody + tbody {
  border-top: 2px solid #ddd;
}
.table .table {
  background-color: #fff;
}
.table-condensed > thead > tr > th,
.table-condensed > tbody > tr > th,
.table-condensed > tfoot > tr > th,
.table-condensed > thead > tr > td,
.table-condensed > tbody > tr > td,
.table-condensed > tfoot > tr > td {
  padding: 5px;
}
.table-bordered {
  border: 1px solid #ddd;
}
.table-bordered > thead > tr > th,
.table-bordered > tbody > tr > th,
.table-bordered > tfoot > tr > th,
.table-bordered > thead > tr > td,
.table-bordered > tbody > tr > td,
.table-bordered > tfoot > tr > td {
  border: 1px solid #ddd;
}
.table-bordered > thead > tr > th,
.table-bordered > thead > tr > td {
  border-bottom-width: 2px;
}
.table-striped > tbody > tr:nth-of-type(odd) {
  background-color: #f9f9f9;
}
.table-hover > tbody > tr:hover {
  background-color: #f5f5f5;
}
table col[class*="col-"] {
  position: static;
  float: none;
  display: table-column;
}
table td[class*="col-"],
table th[class*="col-"] {
  position: static;
  float: none;
  display: table-cell;
}
.table > thead > tr > td.active,
.table > tbody > tr > td.active,
.table > tfoot > tr > td.active,
.table > thead > tr > th.active,
.table > tbody > tr > th.active,
.table > tfoot > tr > th.active,
.table > thead > tr.active > td,
.table > tbody > tr.active > td,
.table > tfoot > tr.active > td,
.table > thead > tr.active > th,
.table > tbody > tr.active > th,
.table > tfoot > tr.active > th {
  background-color: #f5f5f5;
}
.table-hover > tbody > tr > td.active:hover,
.table-hover > tbody > tr > th.active:hover,
.table-hover > tbody > tr.active:hover > td,
.table-hover > tbody > tr:hover > .active,
.table-hover > tbody > tr.active:hover > th {
  background-color: #e8e8e8;
}
.table > thead > tr > td.success,
.table > tbody > tr > td.success,
.table > tfoot > tr > td.success,
.table > thead > tr > th.success,
.table > tbody > tr > th.success,
.table > tfoot > tr > th.success,
.table > thead > tr.success > td,
.table > tbody > tr.success > td,
.table > tfoot > tr.success > td,
.table > thead > tr.success > th,
.table > tbody > tr.success > th,
.table > tfoot > tr.success > th {
  background-color: #dff0d8;
}
.table-hover > tbody > tr > td.success:hover,
.table-hover > tbody > tr > th.success:hover,
.table-hover > tbody > tr.success:hover > td,
.table-hover > tbody > tr:hover > .success,
.table-hover > tbody > tr.success:hover > th {
  background-color: #d0e9c6;
}
.table > thead > tr > td.info,
.table > tbody > tr > td.info,
.table > tfoot > tr > td.info,
.table > thead > tr > th.info,
.table > tbody > tr > th.info,
.table > tfoot > tr > th.info,
.table > thead > tr.info > td,
.table > tbody > tr.info > td,
.table > tfoot > tr.info > td,
.table > thead > tr.info > th,
.table > tbody > tr.info > th,
.table > tfoot > tr.info > th {
  background-color: #d9edf7;
}
.table-hover > tbody > tr > td.info:hover,
.table-hover > tbody > tr > th.info:hover,
.table-hover > tbody > tr.info:hover > td,
.table-hover > tbody > tr:hover > .info,
.table-hover > tbody > tr.info:hover > th {
  background-color: #c4e3f3;
}
.table > thead > tr > td.warning,
.table > tbody > tr > td.warning,
.table > tfoot > tr > td.warning,
.table > thead > tr > th.warning,
.table > tbody > tr > th.warning,
.table > tfoot > tr > th.warning,
.table > thead > tr.warning > td,
.table > tbody > tr.warning > td,
.table > tfoot > tr.warning > td,
.table > thead > tr.warning > th,
.table > tbody > tr.warning > th,
.table > tfoot > tr.warning > th {
  background-color: #fcf8e3;
}
.table-hover > tbody > tr > td.warning:hover,
.table-hover > tbody > tr > th.warning:hover,
.table-hover > tbody > tr.warning:hover > td,
.table-hover > tbody > tr:hover > .warning,
.table-hover > tbody > tr.warning:hover > th {
  background-color: #faf2cc;
}
.table > thead > tr > td.danger,
.table > tbody > tr > td.danger,
.table > tfoot > tr > td.danger,
.table > thead > tr > th.danger,
.table > tbody > tr > th.danger,
.table > tfoot > tr > th.danger,
.table > thead > tr.danger > td,
.table > tbody > tr.danger > td,
.table > tfoot > tr.danger > td,
.table > thead > tr.danger > th,
.table > tbody > tr.danger > th,
.table > tfoot > tr.danger > th {
  background-color: #f2dede;
}
.table-hover > tbody > tr > td.danger:hover,
.table-hover > tbody > tr > th.danger:hover,
.table-hover > tbody > tr.danger:hover > td,
.table-hover > tbody > tr:hover > .danger,
.table-hover > tbody > tr.danger:hover > th {
  background-color: #ebcccc;
}
.table-responsive {
  overflow-x: auto;
  min-height: 0.01%;
}
@media screen and (max-width: 767px) {
  .table-responsive {
    width: 100%;
    margin-bottom: 13.5px;
    overflow-y: hidden;
    -ms-overflow-style: -ms-autohiding-scrollbar;
    border: 1px solid #ddd;
  }
  .table-responsive > .table {
    margin-bottom: 0;
  }
  .table-responsive > .table > thead > tr > th,
  .table-responsive > .table > tbody > tr > th,
  .table-responsive > .table > tfoot > tr > th,
  .table-responsive > .table > thead > tr > td,
  .table-responsive > .table > tbody > tr > td,
  .table-responsive > .table > tfoot > tr > td {
    white-space: nowrap;
  }
  .table-responsive > .table-bordered {
    border: 0;
  }
  .table-responsive > .table-bordered > thead > tr > th:first-child,
  .table-responsive > .table-bordered > tbody > tr > th:first-child,
  .table-responsive > .table-bordered > tfoot > tr > th:first-child,
  .table-responsive > .table-bordered > thead > tr > td:first-child,
  .table-responsive > .table-bordered > tbody > tr > td:first-child,
  .table-responsive > .table-bordered > tfoot > tr > td:first-child {
    border-left: 0;
  }
  .table-responsive > .table-bordered > thead > tr > th:last-child,
  .table-responsive > .table-bordered > tbody > tr > th:last-child,
  .table-responsive > .table-bordered > tfoot > tr > th:last-child,
  .table-responsive > .table-bordered > thead > tr > td:last-child,
  .table-responsive > .table-bordered > tbody > tr > td:last-child,
  .table-responsive > .table-bordered > tfoot > tr > td:last-child {
    border-right: 0;
  }
  .table-responsive > .table-bordered > tbody > tr:last-child > th,
  .table-responsive > .table-bordered > tfoot > tr:last-child > th,
  .table-responsive > .table-bordered > tbody > tr:last-child > td,
  .table-responsive > .table-bordered > tfoot > tr:last-child > td {
    border-bottom: 0;
  }
}
fieldset {
  padding: 0;
  margin: 0;
  border: 0;
  min-width: 0;
}
legend {
  display: block;
  width: 100%;
  padding: 0;
  margin-bottom: 18px;
  font-size: 19.5px;
  line-height: inherit;
  color: #333333;
  border: 0;
  border-bottom: 1px solid #e5e5e5;
}
label {
  display: inline-block;
  max-width: 100%;
  margin-bottom: 5px;
  font-weight: bold;
}
input[type="search"] {
  -webkit-box-sizing: border-box;
  -moz-box-sizing: border-box;
  box-sizing: border-box;
}
input[type="radio"],
input[type="checkbox"] {
  margin: 4px 0 0;
  margin-top: 1px \9;
  line-height: normal;
}
input[type="file"] {
  display: block;
}
input[type="range"] {
  display: block;
  width: 100%;
}
select[multiple],
select[size] {
  height: auto;
}
input[type="file"]:focus,
input[type="radio"]:focus,
input[type="checkbox"]:focus {
  outline: 5px auto -webkit-focus-ring-color;
  outline-offset: -2px;
}
output {
  display: block;
  padding-top: 7px;
  font-size: 13px;
  line-height: 1.42857143;
  color: #555555;
}
.form-control {
  display: block;
  width: 100%;
  height: 32px;
  padding: 6px 12px;
  font-size: 13px;
  line-height: 1.42857143;
  color: #555555;
  background-color: #fff;
  background-image: none;
  border: 1px solid #ccc;
  border-radius: 2px;
  -webkit-box-shadow: inset 0 1px 1px rgba(0, 0, 0, 0.075);
  box-shadow: inset 0 1px 1px rgba(0, 0, 0, 0.075);
  -webkit-transition: border-color ease-in-out .15s, box-shadow ease-in-out .15s;
  -o-transition: border-color ease-in-out .15s, box-shadow ease-in-out .15s;
  transition: border-color ease-in-out .15s, box-shadow ease-in-out .15s;
}
.form-control:focus {
  border-color: #66afe9;
  outline: 0;
  -webkit-box-shadow: inset 0 1px 1px rgba(0,0,0,.075), 0 0 8px rgba(102, 175, 233, 0.6);
  box-shadow: inset 0 1px 1px rgba(0,0,0,.075), 0 0 8px rgba(102, 175, 233, 0.6);
}
.form-control::-moz-placeholder {
  color: #999;
  opacity: 1;
}
.form-control:-ms-input-placeholder {
  color: #999;
}
.form-control::-webkit-input-placeholder {
  color: #999;
}
.form-control::-ms-expand {
  border: 0;
  background-color: transparent;
}
.form-control[disabled],
.form-control[readonly],
fieldset[disabled] .form-control {
  background-color: #eeeeee;
  opacity: 1;
}
.form-control[disabled],
fieldset[disabled] .form-control {
  cursor: not-allowed;
}
textarea.form-control {
  height: auto;
}
input[type="search"] {
  -webkit-appearance: none;
}
@media screen and (-webkit-min-device-pixel-ratio: 0) {
  input[type="date"].form-control,
  input[type="time"].form-control,
  input[type="datetime-local"].form-control,
  input[type="month"].form-control {
    line-height: 32px;
  }
  input[type="date"].input-sm,
  input[type="time"].input-sm,
  input[type="datetime-local"].input-sm,
  input[type="month"].input-sm,
  .input-group-sm input[type="date"],
  .input-group-sm input[type="time"],
  .input-group-sm input[type="datetime-local"],
  .input-group-sm input[type="month"] {
    line-height: 30px;
  }
  input[type="date"].input-lg,
  input[type="time"].input-lg,
  input[type="datetime-local"].input-lg,
  input[type="month"].input-lg,
  .input-group-lg input[type="date"],
  .input-group-lg input[type="time"],
  .input-group-lg input[type="datetime-local"],
  .input-group-lg input[type="month"] {
    line-height: 45px;
  }
}
.form-group {
  margin-bottom: 15px;
}
.radio,
.checkbox {
  position: relative;
  display: block;
  margin-top: 10px;
  margin-bottom: 10px;
}
.radio label,
.checkbox label {
  min-height: 18px;
  padding-left: 20px;
  margin-bottom: 0;
  font-weight: normal;
  cursor: pointer;
}
.radio input[type="radio"],
.radio-inline input[type="radio"],
.checkbox input[type="checkbox"],
.checkbox-inline input[type="checkbox"] {
  position: absolute;
  margin-left: -20px;
  margin-top: 4px \9;
}
.radio + .radio,
.checkbox + .checkbox {
  margin-top: -5px;
}
.radio-inline,
.checkbox-inline {
  position: relative;
  display: inline-block;
  padding-left: 20px;
  margin-bottom: 0;
  vertical-align: middle;
  font-weight: normal;
  cursor: pointer;
}
.radio-inline + .radio-inline,
.checkbox-inline + .checkbox-inline {
  margin-top: 0;
  margin-left: 10px;
}
input[type="radio"][disabled],
input[type="checkbox"][disabled],
input[type="radio"].disabled,
input[type="checkbox"].disabled,
fieldset[disabled] input[type="radio"],
fieldset[disabled] input[type="checkbox"] {
  cursor: not-allowed;
}
.radio-inline.disabled,
.checkbox-inline.disabled,
fieldset[disabled] .radio-inline,
fieldset[disabled] .checkbox-inline {
  cursor: not-allowed;
}
.radio.disabled label,
.checkbox.disabled label,
fieldset[disabled] .radio label,
fieldset[disabled] .checkbox label {
  cursor: not-allowed;
}
.form-control-static {
  padding-top: 7px;
  padding-bottom: 7px;
  margin-bottom: 0;
  min-height: 31px;
}
.form-control-static.input-lg,
.form-control-static.input-sm {
  padding-left: 0;
  padding-right: 0;
}
.input-sm {
  height: 30px;
  padding: 5px 10px;
  font-size: 12px;
  line-height: 1.5;
  border-radius: 1px;
}
select.input-sm {
  height: 30px;
  line-height: 30px;
}
textarea.input-sm,
select[multiple].input-sm {
  height: auto;
}
.form-group-sm .form-control {
  height: 30px;
  padding: 5px 10px;
  font-size: 12px;
  line-height: 1.5;
  border-radius: 1px;
}
.form-group-sm select.form-control {
  height: 30px;
  line-height: 30px;
}
.form-group-sm textarea.form-control,
.form-group-sm select[multiple].form-control {
  height: auto;
}
.form-group-sm .form-control-static {
  height: 30px;
  min-height: 30px;
  padding: 6px 10px;
  font-size: 12px;
  line-height: 1.5;
}
.input-lg {
  height: 45px;
  padding: 10px 16px;
  font-size: 17px;
  line-height: 1.3333333;
  border-radius: 3px;
}
select.input-lg {
  height: 45px;
  line-height: 45px;
}
textarea.input-lg,
select[multiple].input-lg {
  height: auto;
}
.form-group-lg .form-control {
  height: 45px;
  padding: 10px 16px;
  font-size: 17px;
  line-height: 1.3333333;
  border-radius: 3px;
}
.form-group-lg select.form-control {
  height: 45px;
  line-height: 45px;
}
.form-group-lg textarea.form-control,
.form-group-lg select[multiple].form-control {
  height: auto;
}
.form-group-lg .form-control-static {
  height: 45px;
  min-height: 35px;
  padding: 11px 16px;
  font-size: 17px;
  line-height: 1.3333333;
}
.has-feedback {
  position: relative;
}
.has-feedback .form-control {
  padding-right: 40px;
}
.form-control-feedback {
  position: absolute;
  top: 0;
  right: 0;
  z-index: 2;
  display: block;
  width: 32px;
  height: 32px;
  line-height: 32px;
  text-align: center;
  pointer-events: none;
}
.input-lg + .form-control-feedback,
.input-group-lg + .form-control-feedback,
.form-group-lg .form-control + .form-control-feedback {
  width: 45px;
  height: 45px;
  line-height: 45px;
}
.input-sm + .form-control-feedback,
.input-group-sm + .form-control-feedback,
.form-group-sm .form-control + .form-control-feedback {
  width: 30px;
  height: 30px;
  line-height: 30px;
}
.has-success .help-block,
.has-success .control-label,
.has-success .radio,
.has-success .checkbox,
.has-success .radio-inline,
.has-success .checkbox-inline,
.has-success.radio label,
.has-success.checkbox label,
.has-success.radio-inline label,
.has-success.checkbox-inline label {
  color: #3c763d;
}
.has-success .form-control {
  border-color: #3c763d;
  -webkit-box-shadow: inset 0 1px 1px rgba(0, 0, 0, 0.075);
  box-shadow: inset 0 1px 1px rgba(0, 0, 0, 0.075);
}
.has-success .form-control:focus {
  border-color: #2b542c;
  -webkit-box-shadow: inset 0 1px 1px rgba(0, 0, 0, 0.075), 0 0 6px #67b168;
  box-shadow: inset 0 1px 1px rgba(0, 0, 0, 0.075), 0 0 6px #67b168;
}
.has-success .input-group-addon {
  color: #3c763d;
  border-color: #3c763d;
  background-color: #dff0d8;
}
.has-success .form-control-feedback {
  color: #3c763d;
}
.has-warning .help-block,
.has-warning .control-label,
.has-warning .radio,
.has-warning .checkbox,
.has-warning .radio-inline,
.has-warning .checkbox-inline,
.has-warning.radio label,
.has-warning.checkbox label,
.has-warning.radio-inline label,
.has-warning.checkbox-inline label {
  color: #8a6d3b;
}
.has-warning .form-control {
  border-color: #8a6d3b;
  -webkit-box-shadow: inset 0 1px 1px rgba(0, 0, 0, 0.075);
  box-shadow: inset 0 1px 1px rgba(0, 0, 0, 0.075);
}
.has-warning .form-control:focus {
  border-color: #66512c;
  -webkit-box-shadow: inset 0 1px 1px rgba(0, 0, 0, 0.075), 0 0 6px #c0a16b;
  box-shadow: inset 0 1px 1px rgba(0, 0, 0, 0.075), 0 0 6px #c0a16b;
}
.has-warning .input-group-addon {
  color: #8a6d3b;
  border-color: #8a6d3b;
  background-color: #fcf8e3;
}
.has-warning .form-control-feedback {
  color: #8a6d3b;
}
.has-error .help-block,
.has-error .control-label,
.has-error .radio,
.has-error .checkbox,
.has-error .radio-inline,
.has-error .checkbox-inline,
.has-error.radio label,
.has-error.checkbox label,
.has-error.radio-inline label,
.has-error.checkbox-inline label {
  color: #a94442;
}
.has-error .form-control {
  border-color: #a94442;
  -webkit-box-shadow: inset 0 1px 1px rgba(0, 0, 0, 0.075);
  box-shadow: inset 0 1px 1px rgba(0, 0, 0, 0.075);
}
.has-error .form-control:focus {
  border-color: #843534;
  -webkit-box-shadow: inset 0 1px 1px rgba(0, 0, 0, 0.075), 0 0 6px #ce8483;
  box-shadow: inset 0 1px 1px rgba(0, 0, 0, 0.075), 0 0 6px #ce8483;
}
.has-error .input-group-addon {
  color: #a94442;
  border-color: #a94442;
  background-color: #f2dede;
}
.has-error .form-control-feedback {
  color: #a94442;
}
.has-feedback label ~ .form-control-feedback {
  top: 23px;
}
.has-feedback label.sr-only ~ .form-control-feedback {
  top: 0;
}
.help-block {
  display: block;
  margin-top: 5px;
  margin-bottom: 10px;
  color: #404040;
}
@media (min-width: 768px) {
  .form-inline .form-group {
    display: inline-block;
    margin-bottom: 0;
    vertical-align: middle;
  }
  .form-inline .form-control {
    display: inline-block;
    width: auto;
    vertical-align: middle;
  }
  .form-inline .form-control-static {
    display: inline-block;
  }
  .form-inline .input-group {
    display: inline-table;
    vertical-align: middle;
  }
  .form-inline .input-group .input-group-addon,
  .form-inline .input-group .input-group-btn,
  .form-inline .input-group .form-control {
    width: auto;
  }
  .form-inline .input-group > .form-control {
    width: 100%;
  }
  .form-inline .control-label {
    margin-bottom: 0;
    vertical-align: middle;
  }
  .form-inline .radio,
  .form-inline .checkbox {
    display: inline-block;
    margin-top: 0;
    margin-bottom: 0;
    vertical-align: middle;
  }
  .form-inline .radio label,
  .form-inline .checkbox label {
    padding-left: 0;
  }
  .form-inline .radio input[type="radio"],
  .form-inline .checkbox input[type="checkbox"] {
    position: relative;
    margin-left: 0;
  }
  .form-inline .has-feedback .form-control-feedback {
    top: 0;
  }
}
.form-horizontal .radio,
.form-horizontal .checkbox,
.form-horizontal .radio-inline,
.form-horizontal .checkbox-inline {
  margin-top: 0;
  margin-bottom: 0;
  padding-top: 7px;
}
.form-horizontal .radio,
.form-horizontal .checkbox {
  min-height: 25px;
}
.form-horizontal .form-group {
  margin-left: 0px;
  margin-right: 0px;
}
@media (min-width: 768px) {
  .form-horizontal .control-label {
    text-align: right;
    margin-bottom: 0;
    padding-top: 7px;
  }
}
.form-horizontal .has-feedback .form-control-feedback {
  right: 0px;
}
@media (min-width: 768px) {
  .form-horizontal .form-group-lg .control-label {
    padding-top: 11px;
    font-size: 17px;
  }
}
@media (min-width: 768px) {
  .form-horizontal .form-group-sm .control-label {
    padding-top: 6px;
    font-size: 12px;
  }
}
.btn {
  display: inline-block;
  margin-bottom: 0;
  font-weight: normal;
  text-align: center;
  vertical-align: middle;
  touch-action: manipulation;
  cursor: pointer;
  background-image: none;
  border: 1px solid transparent;
  white-space: nowrap;
  padding: 6px 12px;
  font-size: 13px;
  line-height: 1.42857143;
  border-radius: 2px;
  -webkit-user-select: none;
  -moz-user-select: none;
  -ms-user-select: none;
  user-select: none;
}
.btn:focus,
.btn:active:focus,
.btn.active:focus,
.btn.focus,
.btn:active.focus,
.btn.active.focus {
  outline: 5px auto -webkit-focus-ring-color;
  outline-offset: -2px;
}
.btn:hover,
.btn:focus,
.btn.focus {
  color: #333;
  text-decoration: none;
}
.btn:active,
.btn.active {
  outline: 0;
  background-image: none;
  -webkit-box-shadow: inset 0 3px 5px rgba(0, 0, 0, 0.125);
  box-shadow: inset 0 3px 5px rgba(0, 0, 0, 0.125);
}
.btn.disabled,
.btn[disabled],
fieldset[disabled] .btn {
  cursor: not-allowed;
  opacity: 0.65;
  filter: alpha(opacity=65);
  -webkit-box-shadow: none;
  box-shadow: none;
}
a.btn.disabled,
fieldset[disabled] a.btn {
  pointer-events: none;
}
.btn-default {
  color: #333;
  background-color: #fff;
  border-color: #ccc;
}
.btn-default:focus,
.btn-default.focus {
  color: #333;
  background-color: #e6e6e6;
  border-color: #8c8c8c;
}
.btn-default:hover {
  color: #333;
  background-color: #e6e6e6;
  border-color: #adadad;
}
.btn-default:active,
.btn-default.active,
.open > .dropdown-toggle.btn-default {
  color: #333;
  background-color: #e6e6e6;
  border-color: #adadad;
}
.btn-default:active:hover,
.btn-default.active:hover,
.open > .dropdown-toggle.btn-default:hover,
.btn-default:active:focus,
.btn-default.active:focus,
.open > .dropdown-toggle.btn-default:focus,
.btn-default:active.focus,
.btn-default.active.focus,
.open > .dropdown-toggle.btn-default.focus {
  color: #333;
  background-color: #d4d4d4;
  border-color: #8c8c8c;
}
.btn-default:active,
.btn-default.active,
.open > .dropdown-toggle.btn-default {
  background-image: none;
}
.btn-default.disabled:hover,
.btn-default[disabled]:hover,
fieldset[disabled] .btn-default:hover,
.btn-default.disabled:focus,
.btn-default[disabled]:focus,
fieldset[disabled] .btn-default:focus,
.btn-default.disabled.focus,
.btn-default[disabled].focus,
fieldset[disabled] .btn-default.focus {
  background-color: #fff;
  border-color: #ccc;
}
.btn-default .badge {
  color: #fff;
  background-color: #333;
}
.btn-primary {
  color: #fff;
  background-color: #337ab7;
  border-color: #2e6da4;
}
.btn-primary:focus,
.btn-primary.focus {
  color: #fff;
  background-color: #286090;
  border-color: #122b40;
}
.btn-primary:hover {
  color: #fff;
  background-color: #286090;
  border-color: #204d74;
}
.btn-primary:active,
.btn-primary.active,
.open > .dropdown-toggle.btn-primary {
  color: #fff;
  background-color: #286090;
  border-color: #204d74;
}
.btn-primary:active:hover,
.btn-primary.active:hover,
.open > .dropdown-toggle.btn-primary:hover,
.btn-primary:active:focus,
.btn-primary.active:focus,
.open > .dropdown-toggle.btn-primary:focus,
.btn-primary:active.focus,
.btn-primary.active.focus,
.open > .dropdown-toggle.btn-primary.focus {
  color: #fff;
  background-color: #204d74;
  border-color: #122b40;
}
.btn-primary:active,
.btn-primary.active,
.open > .dropdown-toggle.btn-primary {
  background-image: none;
}
.btn-primary.disabled:hover,
.btn-primary[disabled]:hover,
fieldset[disabled] .btn-primary:hover,
.btn-primary.disabled:focus,
.btn-primary[disabled]:focus,
fieldset[disabled] .btn-primary:focus,
.btn-primary.disabled.focus,
.btn-primary[disabled].focus,
fieldset[disabled] .btn-primary.focus {
  background-color: #337ab7;
  border-color: #2e6da4;
}
.btn-primary .badge {
  color: #337ab7;
  background-color: #fff;
}
.btn-success {
  color: #fff;
  background-color: #5cb85c;
  border-color: #4cae4c;
}
.btn-success:focus,
.btn-success.focus {
  color: #fff;
  background-color: #449d44;
  border-color: #255625;
}
.btn-success:hover {
  color: #fff;
  background-color: #449d44;
  border-color: #398439;
}
.btn-success:active,
.btn-success.active,
.open > .dropdown-toggle.btn-success {
  color: #fff;
  background-color: #449d44;
  border-color: #398439;
}
.btn-success:active:hover,
.btn-success.active:hover,
.open > .dropdown-toggle.btn-success:hover,
.btn-success:active:focus,
.btn-success.active:focus,
.open > .dropdown-toggle.btn-success:focus,
.btn-success:active.focus,
.btn-success.active.focus,
.open > .dropdown-toggle.btn-success.focus {
  color: #fff;
  background-color: #398439;
  border-color: #255625;
}
.btn-success:active,
.btn-success.active,
.open > .dropdown-toggle.btn-success {
  background-image: none;
}
.btn-success.disabled:hover,
.btn-success[disabled]:hover,
fieldset[disabled] .btn-success:hover,
.btn-success.disabled:focus,
.btn-success[disabled]:focus,
fieldset[disabled] .btn-success:focus,
.btn-success.disabled.focus,
.btn-success[disabled].focus,
fieldset[disabled] .btn-success.focus {
  background-color: #5cb85c;
  border-color: #4cae4c;
}
.btn-success .badge {
  color: #5cb85c;
  background-color: #fff;
}
.btn-info {
  color: #fff;
  background-color: #5bc0de;
  border-color: #46b8da;
}
.btn-info:focus,
.btn-info.focus {
  color: #fff;
  background-color: #31b0d5;
  border-color: #1b6d85;
}
.btn-info:hover {
  color: #fff;
  background-color: #31b0d5;
  border-color: #269abc;
}
.btn-info:active,
.btn-info.active,
.open > .dropdown-toggle.btn-info {
  color: #fff;
  background-color: #31b0d5;
  border-color: #269abc;
}
.btn-info:active:hover,
.btn-info.active:hover,
.open > .dropdown-toggle.btn-info:hover,
.btn-info:active:focus,
.btn-info.active:focus,
.open > .dropdown-toggle.btn-info:focus,
.btn-info:active.focus,
.btn-info.active.focus,
.open > .dropdown-toggle.btn-info.focus {
  color: #fff;
  background-color: #269abc;
  border-color: #1b6d85;
}
.btn-info:active,
.btn-info.active,
.open > .dropdown-toggle.btn-info {
  background-image: none;
}
.btn-info.disabled:hover,
.btn-info[disabled]:hover,
fieldset[disabled] .btn-info:hover,
.btn-info.disabled:focus,
.btn-info[disabled]:focus,
fieldset[disabled] .btn-info:focus,
.btn-info.disabled.focus,
.btn-info[disabled].focus,
fieldset[disabled] .btn-info.focus {
  background-color: #5bc0de;
  border-color: #46b8da;
}
.btn-info .badge {
  color: #5bc0de;
  background-color: #fff;
}
.btn-warning {
  color: #fff;
  background-color: #f0ad4e;
  border-color: #eea236;
}
.btn-warning:focus,
.btn-warning.focus {
  color: #fff;
  background-color: #ec971f;
  border-color: #985f0d;
}
.btn-warning:hover {
  color: #fff;
  background-color: #ec971f;
  border-color: #d58512;
}
.btn-warning:active,
.btn-warning.active,
.open > .dropdown-toggle.btn-warning {
  color: #fff;
  background-color: #ec971f;
  border-color: #d58512;
}
.btn-warning:active:hover,
.btn-warning.active:hover,
.open > .dropdown-toggle.btn-warning:hover,
.btn-warning:active:focus,
.btn-warning.active:focus,
.open > .dropdown-toggle.btn-warning:focus,
.btn-warning:active.focus,
.btn-warning.active.focus,
.open > .dropdown-toggle.btn-warning.focus {
  color: #fff;
  background-color: #d58512;
  border-color: #985f0d;
}
.btn-warning:active,
.btn-warning.active,
.open > .dropdown-toggle.btn-warning {
  background-image: none;
}
.btn-warning.disabled:hover,
.btn-warning[disabled]:hover,
fieldset[disabled] .btn-warning:hover,
.btn-warning.disabled:focus,
.btn-warning[disabled]:focus,
fieldset[disabled] .btn-warning:focus,
.btn-warning.disabled.focus,
.btn-warning[disabled].focus,
fieldset[disabled] .btn-warning.focus {
  background-color: #f0ad4e;
  border-color: #eea236;
}
.btn-warning .badge {
  color: #f0ad4e;
  background-color: #fff;
}
.btn-danger {
  color: #fff;
  background-color: #d9534f;
  border-color: #d43f3a;
}
.btn-danger:focus,
.btn-danger.focus {
  color: #fff;
  background-color: #c9302c;
  border-color: #761c19;
}
.btn-danger:hover {
  color: #fff;
  background-color: #c9302c;
  border-color: #ac2925;
}
.btn-danger:active,
.btn-danger.active,
.open > .dropdown-toggle.btn-danger {
  color: #fff;
  background-color: #c9302c;
  border-color: #ac2925;
}
.btn-danger:active:hover,
.btn-danger.active:hover,
.open > .dropdown-toggle.btn-danger:hover,
.btn-danger:active:focus,
.btn-danger.active:focus,
.open > .dropdown-toggle.btn-danger:focus,
.btn-danger:active.focus,
.btn-danger.active.focus,
.open > .dropdown-toggle.btn-danger.focus {
  color: #fff;
  background-color: #ac2925;
  border-color: #761c19;
}
.btn-danger:active,
.btn-danger.active,
.open > .dropdown-toggle.btn-danger {
  background-image: none;
}
.btn-danger.disabled:hover,
.btn-danger[disabled]:hover,
fieldset[disabled] .btn-danger:hover,
.btn-danger.disabled:focus,
.btn-danger[disabled]:focus,
fieldset[disabled] .btn-danger:focus,
.btn-danger.disabled.focus,
.btn-danger[disabled].focus,
fieldset[disabled] .btn-danger.focus {
  background-color: #d9534f;
  border-color: #d43f3a;
}
.btn-danger .badge {
  color: #d9534f;
  background-color: #fff;
}
.btn-link {
  color: #337ab7;
  font-weight: normal;
  border-radius: 0;
}
.btn-link,
.btn-link:active,
.btn-link.active,
.btn-link[disabled],
fieldset[disabled] .btn-link {
  background-color: transparent;
  -webkit-box-shadow: none;
  box-shadow: none;
}
.btn-link,
.btn-link:hover,
.btn-link:focus,
.btn-link:active {
  border-color: transparent;
}
.btn-link:hover,
.btn-link:focus {
  color: #23527c;
  text-decoration: underline;
  background-color: transparent;
}
.btn-link[disabled]:hover,
fieldset[disabled] .btn-link:hover,
.btn-link[disabled]:focus,
fieldset[disabled] .btn-link:focus {
  color: #777777;
  text-decoration: none;
}
.btn-lg,
.btn-group-lg > .btn {
  padding: 10px 16px;
  font-size: 17px;
  line-height: 1.3333333;
  border-radius: 3px;
}
.btn-sm,
.btn-group-sm > .btn {
  padding: 5px 10px;
  font-size: 12px;
  line-height: 1.5;
  border-radius: 1px;
}
.btn-xs,
.btn-group-xs > .btn {
  padding: 1px 5px;
  font-size: 12px;
  line-height: 1.5;
  border-radius: 1px;
}
.btn-block {
  display: block;
  width: 100%;
}
.btn-block + .btn-block {
  margin-top: 5px;
}
input[type="submit"].btn-block,
input[type="reset"].btn-block,
input[type="button"].btn-block {
  width: 100%;
}
.fade {
  opacity: 0;
  -webkit-transition: opacity 0.15s linear;
  -o-transition: opacity 0.15s linear;
  transition: opacity 0.15s linear;
}
.fade.in {
  opacity: 1;
}
.collapse {
  display: none;
}
.collapse.in {
  display: block;
}
tr.collapse.in {
  display: table-row;
}
tbody.collapse.in {
  display: table-row-group;
}
.collapsing {
  position: relative;
  height: 0;
  overflow: hidden;
  -webkit-transition-property: height, visibility;
  transition-property: height, visibility;
  -webkit-transition-duration: 0.35s;
  transition-duration: 0.35s;
  -webkit-transition-timing-function: ease;
  transition-timing-function: ease;
}
.caret {
  display: inline-block;
  width: 0;
  height: 0;
  margin-left: 2px;
  vertical-align: middle;
  border-top: 4px dashed;
  border-top: 4px solid \9;
  border-right: 4px solid transparent;
  border-left: 4px solid transparent;
}
.dropup,
.dropdown {
  position: relative;
}
.dropdown-toggle:focus {
  outline: 0;
}
.dropdown-menu {
  position: absolute;
  top: 100%;
  left: 0;
  z-index: 1000;
  display: none;
  float: left;
  min-width: 160px;
  padding: 5px 0;
  margin: 2px 0 0;
  list-style: none;
  font-size: 13px;
  text-align: left;
  background-color: #fff;
  border: 1px solid #ccc;
  border: 1px solid rgba(0, 0, 0, 0.15);
  border-radius: 2px;
  -webkit-box-shadow: 0 6px 12px rgba(0, 0, 0, 0.175);
  box-shadow: 0 6px 12px rgba(0, 0, 0, 0.175);
  background-clip: padding-box;
}
.dropdown-menu.pull-right {
  right: 0;
  left: auto;
}
.dropdown-menu .divider {
  height: 1px;
  margin: 8px 0;
  overflow: hidden;
  background-color: #e5e5e5;
}
.dropdown-menu > li > a {
  display: block;
  padding: 3px 20px;
  clear: both;
  font-weight: normal;
  line-height: 1.42857143;
  color: #333333;
  white-space: nowrap;
}
.dropdown-menu > li > a:hover,
.dropdown-menu > li > a:focus {
  text-decoration: none;
  color: #262626;
  background-color: #f5f5f5;
}
.dropdown-menu > .active > a,
.dropdown-menu > .active > a:hover,
.dropdown-menu > .active > a:focus {
  color: #fff;
  text-decoration: none;
  outline: 0;
  background-color: #337ab7;
}
.dropdown-menu > .disabled > a,
.dropdown-menu > .disabled > a:hover,
.dropdown-menu > .disabled > a:focus {
  color: #777777;
}
.dropdown-menu > .disabled > a:hover,
.dropdown-menu > .disabled > a:focus {
  text-decoration: none;
  background-color: transparent;
  background-image: none;
  filter: progid:DXImageTransform.Microsoft.gradient(enabled = false);
  cursor: not-allowed;
}
.open > .dropdown-menu {
  display: block;
}
.open > a {
  outline: 0;
}
.dropdown-menu-right {
  left: auto;
  right: 0;
}
.dropdown-menu-left {
  left: 0;
  right: auto;
}
.dropdown-header {
  display: block;
  padding: 3px 20px;
  font-size: 12px;
  line-height: 1.42857143;
  color: #777777;
  white-space: nowrap;
}
.dropdown-backdrop {
  position: fixed;
  left: 0;
  right: 0;
  bottom: 0;
  top: 0;
  z-index: 990;
}
.pull-right > .dropdown-menu {
  right: 0;
  left: auto;
}
.dropup .caret,
.navbar-fixed-bottom .dropdown .caret {
  border-top: 0;
  border-bottom: 4px dashed;
  border-bottom: 4px solid \9;
  content: "";
}
.dropup .dropdown-menu,
.navbar-fixed-bottom .dropdown .dropdown-menu {
  top: auto;
  bottom: 100%;
  margin-bottom: 2px;
}
@media (min-width: 541px) {
  .navbar-right .dropdown-menu {
    left: auto;
    right: 0;
  }
  .navbar-right .dropdown-menu-left {
    left: 0;
    right: auto;
  }
}
.btn-group,
.btn-group-vertical {
  position: relative;
  display: inline-block;
  vertical-align: middle;
}
.btn-group > .btn,
.btn-group-vertical > .btn {
  position: relative;
  float: left;
}
.btn-group > .btn:hover,
.btn-group-vertical > .btn:hover,
.btn-group > .btn:focus,
.btn-group-vertical > .btn:focus,
.btn-group > .btn:active,
.btn-group-vertical > .btn:active,
.btn-group > .btn.active,
.btn-group-vertical > .btn.active {
  z-index: 2;
}
.btn-group .btn + .btn,
.btn-group .btn + .btn-group,
.btn-group .btn-group + .btn,
.btn-group .btn-group + .btn-group {
  margin-left: -1px;
}
.btn-toolbar {
  margin-left: -5px;
}
.btn-toolbar .btn,
.btn-toolbar .btn-group,
.btn-toolbar .input-group {
  float: left;
}
.btn-toolbar > .btn,
.btn-toolbar > .btn-group,
.btn-toolbar > .input-group {
  margin-left: 5px;
}
.btn-group > .btn:not(:first-child):not(:last-child):not(.dropdown-toggle) {
  border-radius: 0;
}
.btn-group > .btn:first-child {
  margin-left: 0;
}
.btn-group > .btn:first-child:not(:last-child):not(.dropdown-toggle) {
  border-bottom-right-radius: 0;
  border-top-right-radius: 0;
}
.btn-group > .btn:last-child:not(:first-child),
.btn-group > .dropdown-toggle:not(:first-child) {
  border-bottom-left-radius: 0;
  border-top-left-radius: 0;
}
.btn-group > .btn-group {
  float: left;
}
.btn-group > .btn-group:not(:first-child):not(:last-child) > .btn {
  border-radius: 0;
}
.btn-group > .btn-group:first-child:not(:last-child) > .btn:last-child,
.btn-group > .btn-group:first-child:not(:last-child) > .dropdown-toggle {
  border-bottom-right-radius: 0;
  border-top-right-radius: 0;
}
.btn-group > .btn-group:last-child:not(:first-child) > .btn:first-child {
  border-bottom-left-radius: 0;
  border-top-left-radius: 0;
}
.btn-group .dropdown-toggle:active,
.btn-group.open .dropdown-toggle {
  outline: 0;
}
.btn-group > .btn + .dropdown-toggle {
  padding-left: 8px;
  padding-right: 8px;
}
.btn-group > .btn-lg + .dropdown-toggle {
  padding-left: 12px;
  padding-right: 12px;
}
.btn-group.open .dropdown-toggle {
  -webkit-box-shadow: inset 0 3px 5px rgba(0, 0, 0, 0.125);
  box-shadow: inset 0 3px 5px rgba(0, 0, 0, 0.125);
}
.btn-group.open .dropdown-toggle.btn-link {
  -webkit-box-shadow: none;
  box-shadow: none;
}
.btn .caret {
  margin-left: 0;
}
.btn-lg .caret {
  border-width: 5px 5px 0;
  border-bottom-width: 0;
}
.dropup .btn-lg .caret {
  border-width: 0 5px 5px;
}
.btn-group-vertical > .btn,
.btn-group-vertical > .btn-group,
.btn-group-vertical > .btn-group > .btn {
  display: block;
  float: none;
  width: 100%;
  max-width: 100%;
}
.btn-group-vertical > .btn-group > .btn {
  float: none;
}
.btn-group-vertical > .btn + .btn,
.btn-group-vertical > .btn + .btn-group,
.btn-group-vertical > .btn-group + .btn,
.btn-group-vertical > .btn-group + .btn-group {
  margin-top: -1px;
  margin-left: 0;
}
.btn-group-vertical > .btn:not(:first-child):not(:last-child) {
  border-radius: 0;
}
.btn-group-vertical > .btn:first-child:not(:last-child) {
  border-top-right-radius: 2px;
  border-top-left-radius: 2px;
  border-bottom-right-radius: 0;
  border-bottom-left-radius: 0;
}
.btn-group-vertical > .btn:last-child:not(:first-child) {
  border-top-right-radius: 0;
  border-top-left-radius: 0;
  border-bottom-right-radius: 2px;
  border-bottom-left-radius: 2px;
}
.btn-group-vertical > .btn-group:not(:first-child):not(:last-child) > .btn {
  border-radius: 0;
}
.btn-group-vertical > .btn-group:first-child:not(:last-child) > .btn:last-child,
.btn-group-vertical > .btn-group:first-child:not(:last-child) > .dropdown-toggle {
  border-bottom-right-radius: 0;
  border-bottom-left-radius: 0;
}
.btn-group-vertical > .btn-group:last-child:not(:first-child) > .btn:first-child {
  border-top-right-radius: 0;
  border-top-left-radius: 0;
}
.btn-group-justified {
  display: table;
  width: 100%;
  table-layout: fixed;
  border-collapse: separate;
}
.btn-group-justified > .btn,
.btn-group-justified > .btn-group {
  float: none;
  display: table-cell;
  width: 1%;
}
.btn-group-justified > .btn-group .btn {
  width: 100%;
}
.btn-group-justified > .btn-group .dropdown-menu {
  left: auto;
}
[data-toggle="buttons"] > .btn input[type="radio"],
[data-toggle="buttons"] > .btn-group > .btn input[type="radio"],
[data-toggle="buttons"] > .btn input[type="checkbox"],
[data-toggle="buttons"] > .btn-group > .btn input[type="checkbox"] {
  position: absolute;
  clip: rect(0, 0, 0, 0);
  pointer-events: none;
}
.input-group {
  position: relative;
  display: table;
  border-collapse: separate;
}
.input-group[class*="col-"] {
  float: none;
  padding-left: 0;
  padding-right: 0;
}
.input-group .form-control {
  position: relative;
  z-index: 2;
  float: left;
  width: 100%;
  margin-bottom: 0;
}
.input-group .form-control:focus {
  z-index: 3;
}
.input-group-lg > .form-control,
.input-group-lg > .input-group-addon,
.input-group-lg > .input-group-btn > .btn {
  height: 45px;
  padding: 10px 16px;
  font-size: 17px;
  line-height: 1.3333333;
  border-radius: 3px;
}
select.input-group-lg > .form-control,
select.input-group-lg > .input-group-addon,
select.input-group-lg > .input-group-btn > .btn {
  height: 45px;
  line-height: 45px;
}
textarea.input-group-lg > .form-control,
textarea.input-group-lg > .input-group-addon,
textarea.input-group-lg > .input-group-btn > .btn,
select[multiple].input-group-lg > .form-control,
select[multiple].input-group-lg > .input-group-addon,
select[multiple].input-group-lg > .input-group-btn > .btn {
  height: auto;
}
.input-group-sm > .form-control,
.input-group-sm > .input-group-addon,
.input-group-sm > .input-group-btn > .btn {
  height: 30px;
  padding: 5px 10px;
  font-size: 12px;
  line-height: 1.5;
  border-radius: 1px;
}
select.input-group-sm > .form-control,
select.input-group-sm > .input-group-addon,
select.input-group-sm > .input-group-btn > .btn {
  height: 30px;
  line-height: 30px;
}
textarea.input-group-sm > .form-control,
textarea.input-group-sm > .input-group-addon,
textarea.input-group-sm > .input-group-btn > .btn,
select[multiple].input-group-sm > .form-control,
select[multiple].input-group-sm > .input-group-addon,
select[multiple].input-group-sm > .input-group-btn > .btn {
  height: auto;
}
.input-group-addon,
.input-group-btn,
.input-group .form-control {
  display: table-cell;
}
.input-group-addon:not(:first-child):not(:last-child),
.input-group-btn:not(:first-child):not(:last-child),
.input-group .form-control:not(:first-child):not(:last-child) {
  border-radius: 0;
}
.input-group-addon,
.input-group-btn {
  width: 1%;
  white-space: nowrap;
  vertical-align: middle;
}
.input-group-addon {
  padding: 6px 12px;
  font-size: 13px;
  font-weight: normal;
  line-height: 1;
  color: #555555;
  text-align: center;
  background-color: #eeeeee;
  border: 1px solid #ccc;
  border-radius: 2px;
}
.input-group-addon.input-sm {
  padding: 5px 10px;
  font-size: 12px;
  border-radius: 1px;
}
.input-group-addon.input-lg {
  padding: 10px 16px;
  font-size: 17px;
  border-radius: 3px;
}
.input-group-addon input[type="radio"],
.input-group-addon input[type="checkbox"] {
  margin-top: 0;
}
.input-group .form-control:first-child,
.input-group-addon:first-child,
.input-group-btn:first-child > .btn,
.input-group-btn:first-child > .btn-group > .btn,
.input-group-btn:first-child > .dropdown-toggle,
.input-group-btn:last-child > .btn:not(:last-child):not(.dropdown-toggle),
.input-group-btn:last-child > .btn-group:not(:last-child) > .btn {
  border-bottom-right-radius: 0;
  border-top-right-radius: 0;
}
.input-group-addon:first-child {
  border-right: 0;
}
.input-group .form-control:last-child,
.input-group-addon:last-child,
.input-group-btn:last-child > .btn,
.input-group-btn:last-child > .btn-group > .btn,
.input-group-btn:last-child > .dropdown-toggle,
.input-group-btn:first-child > .btn:not(:first-child),
.input-group-btn:first-child > .btn-group:not(:first-child) > .btn {
  border-bottom-left-radius: 0;
  border-top-left-radius: 0;
}
.input-group-addon:last-child {
  border-left: 0;
}
.input-group-btn {
  position: relative;
  font-size: 0;
  white-space: nowrap;
}
.input-group-btn > .btn {
  position: relative;
}
.input-group-btn > .btn + .btn {
  margin-left: -1px;
}
.input-group-btn > .btn:hover,
.input-group-btn > .btn:focus,
.input-group-btn > .btn:active {
  z-index: 2;
}
.input-group-btn:first-child > .btn,
.input-group-btn:first-child > .btn-group {
  margin-right: -1px;
}
.input-group-btn:last-child > .btn,
.input-group-btn:last-child > .btn-group {
  z-index: 2;
  margin-left: -1px;
}
.nav {
  margin-bottom: 0;
  padding-left: 0;
  list-style: none;
}
.nav > li {
  position: relative;
  display: block;
}
.nav > li > a {
  position: relative;
  display: block;
  padding: 10px 15px;
}
.nav > li > a:hover,
.nav > li > a:focus {
  text-decoration: none;
  background-color: #eeeeee;
}
.nav > li.disabled > a {
  color: #777777;
}
.nav > li.disabled > a:hover,
.nav > li.disabled > a:focus {
  color: #777777;
  text-decoration: none;
  background-color: transparent;
  cursor: not-allowed;
}
.nav .open > a,
.nav .open > a:hover,
.nav .open > a:focus {
  background-color: #eeeeee;
  border-color: #337ab7;
}
.nav .nav-divider {
  height: 1px;
  margin: 8px 0;
  overflow: hidden;
  background-color: #e5e5e5;
}
.nav > li > a > img {
  max-width: none;
}
.nav-tabs {
  border-bottom: 1px solid #ddd;
}
.nav-tabs > li {
  float: left;
  margin-bottom: -1px;
}
.nav-tabs > li > a {
  margin-right: 2px;
  line-height: 1.42857143;
  border: 1px solid transparent;
  border-radius: 2px 2px 0 0;
}
.nav-tabs > li > a:hover {
  border-color: #eeeeee #eeeeee #ddd;
}
.nav-tabs > li.active > a,
.nav-tabs > li.active > a:hover,
.nav-tabs > li.active > a:focus {
  color: #555555;
  background-color: #fff;
  border: 1px solid #ddd;
  border-bottom-color: transparent;
  cursor: default;
}
.nav-tabs.nav-justified {
  width: 100%;
  border-bottom: 0;
}
.nav-tabs.nav-justified > li {
  float: none;
}
.nav-tabs.nav-justified > li > a {
  text-align: center;
  margin-bottom: 5px;
}
.nav-tabs.nav-justified > .dropdown .dropdown-menu {
  top: auto;
  left: auto;
}
@media (min-width: 768px) {
  .nav-tabs.nav-justified > li {
    display: table-cell;
    width: 1%;
  }
  .nav-tabs.nav-justified > li > a {
    margin-bottom: 0;
  }
}
.nav-tabs.nav-justified > li > a {
  margin-right: 0;
  border-radius: 2px;
}
.nav-tabs.nav-justified > .active > a,
.nav-tabs.nav-justified > .active > a:hover,
.nav-tabs.nav-justified > .active > a:focus {
  border: 1px solid #ddd;
}
@media (min-width: 768px) {
  .nav-tabs.nav-justified > li > a {
    border-bottom: 1px solid #ddd;
    border-radius: 2px 2px 0 0;
  }
  .nav-tabs.nav-justified > .active > a,
  .nav-tabs.nav-justified > .active > a:hover,
  .nav-tabs.nav-justified > .active > a:focus {
    border-bottom-color: #fff;
  }
}
.nav-pills > li {
  float: left;
}
.nav-pills > li > a {
  border-radius: 2px;
}
.nav-pills > li + li {
  margin-left: 2px;
}
.nav-pills > li.active > a,
.nav-pills > li.active > a:hover,
.nav-pills > li.active > a:focus {
  color: #fff;
  background-color: #337ab7;
}
.nav-stacked > li {
  float: none;
}
.nav-stacked > li + li {
  margin-top: 2px;
  margin-left: 0;
}
.nav-justified {
  width: 100%;
}
.nav-justified > li {
  float: none;
}
.nav-justified > li > a {
  text-align: center;
  margin-bottom: 5px;
}
.nav-justified > .dropdown .dropdown-menu {
  top: auto;
  left: auto;
}
@media (min-width: 768px) {
  .nav-justified > li {
    display: table-cell;
    width: 1%;
  }
  .nav-justified > li > a {
    margin-bottom: 0;
  }
}
.nav-tabs-justified {
  border-bottom: 0;
}
.nav-tabs-justified > li > a {
  margin-right: 0;
  border-radius: 2px;
}
.nav-tabs-justified > .active > a,
.nav-tabs-justified > .active > a:hover,
.nav-tabs-justified > .active > a:focus {
  border: 1px solid #ddd;
}
@media (min-width: 768px) {
  .nav-tabs-justified > li > a {
    border-bottom: 1px solid #ddd;
    border-radius: 2px 2px 0 0;
  }
  .nav-tabs-justified > .active > a,
  .nav-tabs-justified > .active > a:hover,
  .nav-tabs-justified > .active > a:focus {
    border-bottom-color: #fff;
  }
}
.tab-content > .tab-pane {
  display: none;
}
.tab-content > .active {
  display: block;
}
.nav-tabs .dropdown-menu {
  margin-top: -1px;
  border-top-right-radius: 0;
  border-top-left-radius: 0;
}
.navbar {
  position: relative;
  min-height: 30px;
  margin-bottom: 18px;
  border: 1px solid transparent;
}
@media (min-width: 541px) {
  .navbar {
    border-radius: 2px;
  }
}
@media (min-width: 541px) {
  .navbar-header {
    float: left;
  }
}
.navbar-collapse {
  overflow-x: visible;
  padding-right: 0px;
  padding-left: 0px;
  border-top: 1px solid transparent;
  box-shadow: inset 0 1px 0 rgba(255, 255, 255, 0.1);
  -webkit-overflow-scrolling: touch;
}
.navbar-collapse.in {
  overflow-y: auto;
}
@media (min-width: 541px) {
  .navbar-collapse {
    width: auto;
    border-top: 0;
    box-shadow: none;
  }
  .navbar-collapse.collapse {
    display: block !important;
    height: auto !important;
    padding-bottom: 0;
    overflow: visible !important;
  }
  .navbar-collapse.in {
    overflow-y: visible;
  }
  .navbar-fixed-top .navbar-collapse,
  .navbar-static-top .navbar-collapse,
  .navbar-fixed-bottom .navbar-collapse {
    padding-left: 0;
    padding-right: 0;
  }
}
.navbar-fixed-top .navbar-collapse,
.navbar-fixed-bottom .navbar-collapse {
  max-height: 340px;
}
@media (max-device-width: 540px) and (orientation: landscape) {
  .navbar-fixed-top .navbar-collapse,
  .navbar-fixed-bottom .navbar-collapse {
    max-height: 200px;
  }
}
.container > .navbar-header,
.container-fluid > .navbar-header,
.container > .navbar-collapse,
.container-fluid > .navbar-collapse {
  margin-right: 0px;
  margin-left: 0px;
}
@media (min-width: 541px) {
  .container > .navbar-header,
  .container-fluid > .navbar-header,
  .container > .navbar-collapse,
  .container-fluid > .navbar-collapse {
    margin-right: 0;
    margin-left: 0;
  }
}
.navbar-static-top {
  z-index: 1000;
  border-width: 0 0 1px;
}
@media (min-width: 541px) {
  .navbar-static-top {
    border-radius: 0;
  }
}
.navbar-fixed-top,
.navbar-fixed-bottom {
  position: fixed;
  right: 0;
  left: 0;
  z-index: 1030;
}
@media (min-width: 541px) {
  .navbar-fixed-top,
  .navbar-fixed-bottom {
    border-radius: 0;
  }
}
.navbar-fixed-top {
  top: 0;
  border-width: 0 0 1px;
}
.navbar-fixed-bottom {
  bottom: 0;
  margin-bottom: 0;
  border-width: 1px 0 0;
}
.navbar-brand {
  float: left;
  padding: 6px 0px;
  font-size: 17px;
  line-height: 18px;
  height: 30px;
}
.navbar-brand:hover,
.navbar-brand:focus {
  text-decoration: none;
}
.navbar-brand > img {
  display: block;
}
@media (min-width: 541px) {
  .navbar > .container .navbar-brand,
  .navbar > .container-fluid .navbar-brand {
    margin-left: 0px;
  }
}
.navbar-toggle {
  position: relative;
  float: right;
  margin-right: 0px;
  padding: 9px 10px;
  margin-top: -2px;
  margin-bottom: -2px;
  background-color: transparent;
  background-image: none;
  border: 1px solid transparent;
  border-radius: 2px;
}
.navbar-toggle:focus {
  outline: 0;
}
.navbar-toggle .icon-bar {
  display: block;
  width: 22px;
  height: 2px;
  border-radius: 1px;
}
.navbar-toggle .icon-bar + .icon-bar {
  margin-top: 4px;
}
@media (min-width: 541px) {
  .navbar-toggle {
    display: none;
  }
}
.navbar-nav {
  margin: 3px 0px;
}
.navbar-nav > li > a {
  padding-top: 10px;
  padding-bottom: 10px;
  line-height: 18px;
}
@media (max-width: 540px) {
  .navbar-nav .open .dropdown-menu {
    position: static;
    float: none;
    width: auto;
    margin-top: 0;
    background-color: transparent;
    border: 0;
    box-shadow: none;
  }
  .navbar-nav .open .dropdown-menu > li > a,
  .navbar-nav .open .dropdown-menu .dropdown-header {
    padding: 5px 15px 5px 25px;
  }
  .navbar-nav .open .dropdown-menu > li > a {
    line-height: 18px;
  }
  .navbar-nav .open .dropdown-menu > li > a:hover,
  .navbar-nav .open .dropdown-menu > li > a:focus {
    background-image: none;
  }
}
@media (min-width: 541px) {
  .navbar-nav {
    float: left;
    margin: 0;
  }
  .navbar-nav > li {
    float: left;
  }
  .navbar-nav > li > a {
    padding-top: 6px;
    padding-bottom: 6px;
  }
}
.navbar-form {
  margin-left: 0px;
  margin-right: 0px;
  padding: 10px 0px;
  border-top: 1px solid transparent;
  border-bottom: 1px solid transparent;
  -webkit-box-shadow: inset 0 1px 0 rgba(255, 255, 255, 0.1), 0 1px 0 rgba(255, 255, 255, 0.1);
  box-shadow: inset 0 1px 0 rgba(255, 255, 255, 0.1), 0 1px 0 rgba(255, 255, 255, 0.1);
  margin-top: -1px;
  margin-bottom: -1px;
}
@media (min-width: 768px) {
  .navbar-form .form-group {
    display: inline-block;
    margin-bottom: 0;
    vertical-align: middle;
  }
  .navbar-form .form-control {
    display: inline-block;
    width: auto;
    vertical-align: middle;
  }
  .navbar-form .form-control-static {
    display: inline-block;
  }
  .navbar-form .input-group {
    display: inline-table;
    vertical-align: middle;
  }
  .navbar-form .input-group .input-group-addon,
  .navbar-form .input-group .input-group-btn,
  .navbar-form .input-group .form-control {
    width: auto;
  }
  .navbar-form .input-group > .form-control {
    width: 100%;
  }
  .navbar-form .control-label {
    margin-bottom: 0;
    vertical-align: middle;
  }
  .navbar-form .radio,
  .navbar-form .checkbox {
    display: inline-block;
    margin-top: 0;
    margin-bottom: 0;
    vertical-align: middle;
  }
  .navbar-form .radio label,
  .navbar-form .checkbox label {
    padding-left: 0;
  }
  .navbar-form .radio input[type="radio"],
  .navbar-form .checkbox input[type="checkbox"] {
    position: relative;
    margin-left: 0;
  }
  .navbar-form .has-feedback .form-control-feedback {
    top: 0;
  }
}
@media (max-width: 540px) {
  .navbar-form .form-group {
    margin-bottom: 5px;
  }
  .navbar-form .form-group:last-child {
    margin-bottom: 0;
  }
}
@media (min-width: 541px) {
  .navbar-form {
    width: auto;
    border: 0;
    margin-left: 0;
    margin-right: 0;
    padding-top: 0;
    padding-bottom: 0;
    -webkit-box-shadow: none;
    box-shadow: none;
  }
}
.navbar-nav > li > .dropdown-menu {
  margin-top: 0;
  border-top-right-radius: 0;
  border-top-left-radius: 0;
}
.navbar-fixed-bottom .navbar-nav > li > .dropdown-menu {
  margin-bottom: 0;
  border-top-right-radius: 2px;
  border-top-left-radius: 2px;
  border-bottom-right-radius: 0;
  border-bottom-left-radius: 0;
}
.navbar-btn {
  margin-top: -1px;
  margin-bottom: -1px;
}
.navbar-btn.btn-sm {
  margin-top: 0px;
  margin-bottom: 0px;
}
.navbar-btn.btn-xs {
  margin-top: 4px;
  margin-bottom: 4px;
}
.navbar-text {
  margin-top: 6px;
  margin-bottom: 6px;
}
@media (min-width: 541px) {
  .navbar-text {
    float: left;
    margin-left: 0px;
    margin-right: 0px;
  }
}
@media (min-width: 541px) {
  .navbar-left {
    float: left !important;
    float: left;
  }
  .navbar-right {
    float: right !important;
    float: right;
    margin-right: 0px;
  }
  .navbar-right ~ .navbar-right {
    margin-right: 0;
  }
}
.navbar-default {
  background-color: #f8f8f8;
  border-color: #e7e7e7;
}
.navbar-default .navbar-brand {
  color: #777;
}
.navbar-default .navbar-brand:hover,
.navbar-default .navbar-brand:focus {
  color: #5e5e5e;
  background-color: transparent;
}
.navbar-default .navbar-text {
  color: #777;
}
.navbar-default .navbar-nav > li > a {
  color: #777;
}
.navbar-default .navbar-nav > li > a:hover,
.navbar-default .navbar-nav > li > a:focus {
  color: #333;
  background-color: transparent;
}
.navbar-default .navbar-nav > .active > a,
.navbar-default .navbar-nav > .active > a:hover,
.navbar-default .navbar-nav > .active > a:focus {
  color: #555;
  background-color: #e7e7e7;
}
.navbar-default .navbar-nav > .disabled > a,
.navbar-default .navbar-nav > .disabled > a:hover,
.navbar-default .navbar-nav > .disabled > a:focus {
  color: #ccc;
  background-color: transparent;
}
.navbar-default .navbar-toggle {
  border-color: #ddd;
}
.navbar-default .navbar-toggle:hover,
.navbar-default .navbar-toggle:focus {
  background-color: #ddd;
}
.navbar-default .navbar-toggle .icon-bar {
  background-color: #888;
}
.navbar-default .navbar-collapse,
.navbar-default .navbar-form {
  border-color: #e7e7e7;
}
.navbar-default .navbar-nav > .open > a,
.navbar-default .navbar-nav > .open > a:hover,
.navbar-default .navbar-nav > .open > a:focus {
  background-color: #e7e7e7;
  color: #555;
}
@media (max-width: 540px) {
  .navbar-default .navbar-nav .open .dropdown-menu > li > a {
    color: #777;
  }
  .navbar-default .navbar-nav .open .dropdown-menu > li > a:hover,
  .navbar-default .navbar-nav .open .dropdown-menu > li > a:focus {
    color: #333;
    background-color: transparent;
  }
  .navbar-default .navbar-nav .open .dropdown-menu > .active > a,
  .navbar-default .navbar-nav .open .dropdown-menu > .active > a:hover,
  .navbar-default .navbar-nav .open .dropdown-menu > .active > a:focus {
    color: #555;
    background-color: #e7e7e7;
  }
  .navbar-default .navbar-nav .open .dropdown-menu > .disabled > a,
  .navbar-default .navbar-nav .open .dropdown-menu > .disabled > a:hover,
  .navbar-default .navbar-nav .open .dropdown-menu > .disabled > a:focus {
    color: #ccc;
    background-color: transparent;
  }
}
.navbar-default .navbar-link {
  color: #777;
}
.navbar-default .navbar-link:hover {
  color: #333;
}
.navbar-default .btn-link {
  color: #777;
}
.navbar-default .btn-link:hover,
.navbar-default .btn-link:focus {
  color: #333;
}
.navbar-default .btn-link[disabled]:hover,
fieldset[disabled] .navbar-default .btn-link:hover,
.navbar-default .btn-link[disabled]:focus,
fieldset[disabled] .navbar-default .btn-link:focus {
  color: #ccc;
}
.navbar-inverse {
  background-color: #222;
  border-color: #080808;
}
.navbar-inverse .navbar-brand {
  color: #9d9d9d;
}
.navbar-inverse .navbar-brand:hover,
.navbar-inverse .navbar-brand:focus {
  color: #fff;
  background-color: transparent;
}
.navbar-inverse .navbar-text {
  color: #9d9d9d;
}
.navbar-inverse .navbar-nav > li > a {
  color: #9d9d9d;
}
.navbar-inverse .navbar-nav > li > a:hover,
.navbar-inverse .navbar-nav > li > a:focus {
  color: #fff;
  background-color: transparent;
}
.navbar-inverse .navbar-nav > .active > a,
.navbar-inverse .navbar-nav > .active > a:hover,
.navbar-inverse .navbar-nav > .active > a:focus {
  color: #fff;
  background-color: #080808;
}
.navbar-inverse .navbar-nav > .disabled > a,
.navbar-inverse .navbar-nav > .disabled > a:hover,
.navbar-inverse .navbar-nav > .disabled > a:focus {
  color: #444;
  background-color: transparent;
}
.navbar-inverse .navbar-toggle {
  border-color: #333;
}
.navbar-inverse .navbar-toggle:hover,
.navbar-inverse .navbar-toggle:focus {
  background-color: #333;
}
.navbar-inverse .navbar-toggle .icon-bar {
  background-color: #fff;
}
.navbar-inverse .navbar-collapse,
.navbar-inverse .navbar-form {
  border-color: #101010;
}
.navbar-inverse .navbar-nav > .open > a,
.navbar-inverse .navbar-nav > .open > a:hover,
.navbar-inverse .navbar-nav > .open > a:focus {
  background-color: #080808;
  color: #fff;
}
@media (max-width: 540px) {
  .navbar-inverse .navbar-nav .open .dropdown-menu > .dropdown-header {
    border-color: #080808;
  }
  .navbar-inverse .navbar-nav .open .dropdown-menu .divider {
    background-color: #080808;
  }
  .navbar-inverse .navbar-nav .open .dropdown-menu > li > a {
    color: #9d9d9d;
  }
  .navbar-inverse .navbar-nav .open .dropdown-menu > li > a:hover,
  .navbar-inverse .navbar-nav .open .dropdown-menu > li > a:focus {
    color: #fff;
    background-color: transparent;
  }
  .navbar-inverse .navbar-nav .open .dropdown-menu > .active > a,
  .navbar-inverse .navbar-nav .open .dropdown-menu > .active > a:hover,
  .navbar-inverse .navbar-nav .open .dropdown-menu > .active > a:focus {
    color: #fff;
    background-color: #080808;
  }
  .navbar-inverse .navbar-nav .open .dropdown-menu > .disabled > a,
  .navbar-inverse .navbar-nav .open .dropdown-menu > .disabled > a:hover,
  .navbar-inverse .navbar-nav .open .dropdown-menu > .disabled > a:focus {
    color: #444;
    background-color: transparent;
  }
}
.navbar-inverse .navbar-link {
  color: #9d9d9d;
}
.navbar-inverse .navbar-link:hover {
  color: #fff;
}
.navbar-inverse .btn-link {
  color: #9d9d9d;
}
.navbar-inverse .btn-link:hover,
.navbar-inverse .btn-link:focus {
  color: #fff;
}
.navbar-inverse .btn-link[disabled]:hover,
fieldset[disabled] .navbar-inverse .btn-link:hover,
.navbar-inverse .btn-link[disabled]:focus,
fieldset[disabled] .navbar-inverse .btn-link:focus {
  color: #444;
}
.breadcrumb {
  padding: 8px 15px;
  margin-bottom: 18px;
  list-style: none;
  background-color: #f5f5f5;
  border-radius: 2px;
}
.breadcrumb > li {
  display: inline-block;
}
.breadcrumb > li + li:before {
  content: "/\00a0";
  padding: 0 5px;
  color: #5e5e5e;
}
.breadcrumb > .active {
  color: #777777;
}
.pagination {
  display: inline-block;
  padding-left: 0;
  margin: 18px 0;
  border-radius: 2px;
}
.pagination > li {
  display: inline;
}
.pagination > li > a,
.pagination > li > span {
  position: relative;
  float: left;
  padding: 6px 12px;
  line-height: 1.42857143;
  text-decoration: none;
  color: #337ab7;
  background-color: #fff;
  border: 1px solid #ddd;
  margin-left: -1px;
}
.pagination > li:first-child > a,
.pagination > li:first-child > span {
  margin-left: 0;
  border-bottom-left-radius: 2px;
  border-top-left-radius: 2px;
}
.pagination > li:last-child > a,
.pagination > li:last-child > span {
  border-bottom-right-radius: 2px;
  border-top-right-radius: 2px;
}
.pagination > li > a:hover,
.pagination > li > span:hover,
.pagination > li > a:focus,
.pagination > li > span:focus {
  z-index: 2;
  color: #23527c;
  background-color: #eeeeee;
  border-color: #ddd;
}
.pagination > .active > a,
.pagination > .active > span,
.pagination > .active > a:hover,
.pagination > .active > span:hover,
.pagination > .active > a:focus,
.pagination > .active > span:focus {
  z-index: 3;
  color: #fff;
  background-color: #337ab7;
  border-color: #337ab7;
  cursor: default;
}
.pagination > .disabled > span,
.pagination > .disabled > span:hover,
.pagination > .disabled > span:focus,
.pagination > .disabled > a,
.pagination > .disabled > a:hover,
.pagination > .disabled > a:focus {
  color: #777777;
  background-color: #fff;
  border-color: #ddd;
  cursor: not-allowed;
}
.pagination-lg > li > a,
.pagination-lg > li > span {
  padding: 10px 16px;
  font-size: 17px;
  line-height: 1.3333333;
}
.pagination-lg > li:first-child > a,
.pagination-lg > li:first-child > span {
  border-bottom-left-radius: 3px;
  border-top-left-radius: 3px;
}
.pagination-lg > li:last-child > a,
.pagination-lg > li:last-child > span {
  border-bottom-right-radius: 3px;
  border-top-right-radius: 3px;
}
.pagination-sm > li > a,
.pagination-sm > li > span {
  padding: 5px 10px;
  font-size: 12px;
  line-height: 1.5;
}
.pagination-sm > li:first-child > a,
.pagination-sm > li:first-child > span {
  border-bottom-left-radius: 1px;
  border-top-left-radius: 1px;
}
.pagination-sm > li:last-child > a,
.pagination-sm > li:last-child > span {
  border-bottom-right-radius: 1px;
  border-top-right-radius: 1px;
}
.pager {
  padding-left: 0;
  margin: 18px 0;
  list-style: none;
  text-align: center;
}
.pager li {
  display: inline;
}
.pager li > a,
.pager li > span {
  display: inline-block;
  padding: 5px 14px;
  background-color: #fff;
  border: 1px solid #ddd;
  border-radius: 15px;
}
.pager li > a:hover,
.pager li > a:focus {
  text-decoration: none;
  background-color: #eeeeee;
}
.pager .next > a,
.pager .next > span {
  float: right;
}
.pager .previous > a,
.pager .previous > span {
  float: left;
}
.pager .disabled > a,
.pager .disabled > a:hover,
.pager .disabled > a:focus,
.pager .disabled > span {
  color: #777777;
  background-color: #fff;
  cursor: not-allowed;
}
.label {
  display: inline;
  padding: .2em .6em .3em;
  font-size: 75%;
  font-weight: bold;
  line-height: 1;
  color: #fff;
  text-align: center;
  white-space: nowrap;
  vertical-align: baseline;
  border-radius: .25em;
}
a.label:hover,
a.label:focus {
  color: #fff;
  text-decoration: none;
  cursor: pointer;
}
.label:empty {
  display: none;
}
.btn .label {
  position: relative;
  top: -1px;
}
.label-default {
  background-color: #777777;
}
.label-default[href]:hover,
.label-default[href]:focus {
  background-color: #5e5e5e;
}
.label-primary {
  background-color: #337ab7;
}
.label-primary[href]:hover,
.label-primary[href]:focus {
  background-color: #286090;
}
.label-success {
  background-color: #5cb85c;
}
.label-success[href]:hover,
.label-success[href]:focus {
  background-color: #449d44;
}
.label-info {
  background-color: #5bc0de;
}
.label-info[href]:hover,
.label-info[href]:focus {
  background-color: #31b0d5;
}
.label-warning {
  background-color: #f0ad4e;
}
.label-warning[href]:hover,
.label-warning[href]:focus {
  background-color: #ec971f;
}
.label-danger {
  background-color: #d9534f;
}
.label-danger[href]:hover,
.label-danger[href]:focus {
  background-color: #c9302c;
}
.badge {
  display: inline-block;
  min-width: 10px;
  padding: 3px 7px;
  font-size: 12px;
  font-weight: bold;
  color: #fff;
  line-height: 1;
  vertical-align: middle;
  white-space: nowrap;
  text-align: center;
  background-color: #777777;
  border-radius: 10px;
}
.badge:empty {
  display: none;
}
.btn .badge {
  position: relative;
  top: -1px;
}
.btn-xs .badge,
.btn-group-xs > .btn .badge {
  top: 0;
  padding: 1px 5px;
}
a.badge:hover,
a.badge:focus {
  color: #fff;
  text-decoration: none;
  cursor: pointer;
}
.list-group-item.active > .badge,
.nav-pills > .active > a > .badge {
  color: #337ab7;
  background-color: #fff;
}
.list-group-item > .badge {
  float: right;
}
.list-group-item > .badge + .badge {
  margin-right: 5px;
}
.nav-pills > li > a > .badge {
  margin-left: 3px;
}
.jumbotron {
  padding-top: 30px;
  padding-bottom: 30px;
  margin-bottom: 30px;
  color: inherit;
  background-color: #eeeeee;
}
.jumbotron h1,
.jumbotron .h1 {
  color: inherit;
}
.jumbotron p {
  margin-bottom: 15px;
  font-size: 20px;
  font-weight: 200;
}
.jumbotron > hr {
  border-top-color: #d5d5d5;
}
.container .jumbotron,
.container-fluid .jumbotron {
  border-radius: 3px;
  padding-left: 0px;
  padding-right: 0px;
}
.jumbotron .container {
  max-width: 100%;
}
@media screen and (min-width: 768px) {
  .jumbotron {
    padding-top: 48px;
    padding-bottom: 48px;
  }
  .container .jumbotron,
  .container-fluid .jumbotron {
    padding-left: 60px;
    padding-right: 60px;
  }
  .jumbotron h1,
  .jumbotron .h1 {
    font-size: 59px;
  }
}
.thumbnail {
  display: block;
  padding: 4px;
  margin-bottom: 18px;
  line-height: 1.42857143;
  background-color: #fff;
  border: 1px solid #ddd;
  border-radius: 2px;
  -webkit-transition: border 0.2s ease-in-out;
  -o-transition: border 0.2s ease-in-out;
  transition: border 0.2s ease-in-out;
}
.thumbnail > img,
.thumbnail a > img {
  margin-left: auto;
  margin-right: auto;
}
a.thumbnail:hover,
a.thumbnail:focus,
a.thumbnail.active {
  border-color: #337ab7;
}
.thumbnail .caption {
  padding: 9px;
  color: #000;
}
.alert {
  padding: 15px;
  margin-bottom: 18px;
  border: 1px solid transparent;
  border-radius: 2px;
}
.alert h4 {
  margin-top: 0;
  color: inherit;
}
.alert .alert-link {
  font-weight: bold;
}
.alert > p,
.alert > ul {
  margin-bottom: 0;
}
.alert > p + p {
  margin-top: 5px;
}
.alert-dismissable,
.alert-dismissible {
  padding-right: 35px;
}
.alert-dismissable .close,
.alert-dismissible .close {
  position: relative;
  top: -2px;
  right: -21px;
  color: inherit;
}
.alert-success {
  background-color: #dff0d8;
  border-color: #d6e9c6;
  color: #3c763d;
}
.alert-success hr {
  border-top-color: #c9e2b3;
}
.alert-success .alert-link {
  color: #2b542c;
}
.alert-info {
  background-color: #d9edf7;
  border-color: #bce8f1;
  color: #31708f;
}
.alert-info hr {
  border-top-color: #a6e1ec;
}
.alert-info .alert-link {
  color: #245269;
}
.alert-warning {
  background-color: #fcf8e3;
  border-color: #faebcc;
  color: #8a6d3b;
}
.alert-warning hr {
  border-top-color: #f7e1b5;
}
.alert-warning .alert-link {
  color: #66512c;
}
.alert-danger {
  background-color: #f2dede;
  border-color: #ebccd1;
  color: #a94442;
}
.alert-danger hr {
  border-top-color: #e4b9c0;
}
.alert-danger .alert-link {
  color: #843534;
}
@-webkit-keyframes progress-bar-stripes {
  from {
    background-position: 40px 0;
  }
  to {
    background-position: 0 0;
  }
}
@keyframes progress-bar-stripes {
  from {
    background-position: 40px 0;
  }
  to {
    background-position: 0 0;
  }
}
.progress {
  overflow: hidden;
  height: 18px;
  margin-bottom: 18px;
  background-color: #f5f5f5;
  border-radius: 2px;
  -webkit-box-shadow: inset 0 1px 2px rgba(0, 0, 0, 0.1);
  box-shadow: inset 0 1px 2px rgba(0, 0, 0, 0.1);
}
.progress-bar {
  float: left;
  width: 0%;
  height: 100%;
  font-size: 12px;
  line-height: 18px;
  color: #fff;
  text-align: center;
  background-color: #337ab7;
  -webkit-box-shadow: inset 0 -1px 0 rgba(0, 0, 0, 0.15);
  box-shadow: inset 0 -1px 0 rgba(0, 0, 0, 0.15);
  -webkit-transition: width 0.6s ease;
  -o-transition: width 0.6s ease;
  transition: width 0.6s ease;
}
.progress-striped .progress-bar,
.progress-bar-striped {
  background-image: -webkit-linear-gradient(45deg, rgba(255, 255, 255, 0.15) 25%, transparent 25%, transparent 50%, rgba(255, 255, 255, 0.15) 50%, rgba(255, 255, 255, 0.15) 75%, transparent 75%, transparent);
  background-image: -o-linear-gradient(45deg, rgba(255, 255, 255, 0.15) 25%, transparent 25%, transparent 50%, rgba(255, 255, 255, 0.15) 50%, rgba(255, 255, 255, 0.15) 75%, transparent 75%, transparent);
  background-image: linear-gradient(45deg, rgba(255, 255, 255, 0.15) 25%, transparent 25%, transparent 50%, rgba(255, 255, 255, 0.15) 50%, rgba(255, 255, 255, 0.15) 75%, transparent 75%, transparent);
  background-size: 40px 40px;
}
.progress.active .progress-bar,
.progress-bar.active {
  -webkit-animation: progress-bar-stripes 2s linear infinite;
  -o-animation: progress-bar-stripes 2s linear infinite;
  animation: progress-bar-stripes 2s linear infinite;
}
.progress-bar-success {
  background-color: #5cb85c;
}
.progress-striped .progress-bar-success {
  background-image: -webkit-linear-gradient(45deg, rgba(255, 255, 255, 0.15) 25%, transparent 25%, transparent 50%, rgba(255, 255, 255, 0.15) 50%, rgba(255, 255, 255, 0.15) 75%, transparent 75%, transparent);
  background-image: -o-linear-gradient(45deg, rgba(255, 255, 255, 0.15) 25%, transparent 25%, transparent 50%, rgba(255, 255, 255, 0.15) 50%, rgba(255, 255, 255, 0.15) 75%, transparent 75%, transparent);
  background-image: linear-gradient(45deg, rgba(255, 255, 255, 0.15) 25%, transparent 25%, transparent 50%, rgba(255, 255, 255, 0.15) 50%, rgba(255, 255, 255, 0.15) 75%, transparent 75%, transparent);
}
.progress-bar-info {
  background-color: #5bc0de;
}
.progress-striped .progress-bar-info {
  background-image: -webkit-linear-gradient(45deg, rgba(255, 255, 255, 0.15) 25%, transparent 25%, transparent 50%, rgba(255, 255, 255, 0.15) 50%, rgba(255, 255, 255, 0.15) 75%, transparent 75%, transparent);
  background-image: -o-linear-gradient(45deg, rgba(255, 255, 255, 0.15) 25%, transparent 25%, transparent 50%, rgba(255, 255, 255, 0.15) 50%, rgba(255, 255, 255, 0.15) 75%, transparent 75%, transparent);
  background-image: linear-gradient(45deg, rgba(255, 255, 255, 0.15) 25%, transparent 25%, transparent 50%, rgba(255, 255, 255, 0.15) 50%, rgba(255, 255, 255, 0.15) 75%, transparent 75%, transparent);
}
.progress-bar-warning {
  background-color: #f0ad4e;
}
.progress-striped .progress-bar-warning {
  background-image: -webkit-linear-gradient(45deg, rgba(255, 255, 255, 0.15) 25%, transparent 25%, transparent 50%, rgba(255, 255, 255, 0.15) 50%, rgba(255, 255, 255, 0.15) 75%, transparent 75%, transparent);
  background-image: -o-linear-gradient(45deg, rgba(255, 255, 255, 0.15) 25%, transparent 25%, transparent 50%, rgba(255, 255, 255, 0.15) 50%, rgba(255, 255, 255, 0.15) 75%, transparent 75%, transparent);
  background-image: linear-gradient(45deg, rgba(255, 255, 255, 0.15) 25%, transparent 25%, transparent 50%, rgba(255, 255, 255, 0.15) 50%, rgba(255, 255, 255, 0.15) 75%, transparent 75%, transparent);
}
.progress-bar-danger {
  background-color: #d9534f;
}
.progress-striped .progress-bar-danger {
  background-image: -webkit-linear-gradient(45deg, rgba(255, 255, 255, 0.15) 25%, transparent 25%, transparent 50%, rgba(255, 255, 255, 0.15) 50%, rgba(255, 255, 255, 0.15) 75%, transparent 75%, transparent);
  background-image: -o-linear-gradient(45deg, rgba(255, 255, 255, 0.15) 25%, transparent 25%, transparent 50%, rgba(255, 255, 255, 0.15) 50%, rgba(255, 255, 255, 0.15) 75%, transparent 75%, transparent);
  background-image: linear-gradient(45deg, rgba(255, 255, 255, 0.15) 25%, transparent 25%, transparent 50%, rgba(255, 255, 255, 0.15) 50%, rgba(255, 255, 255, 0.15) 75%, transparent 75%, transparent);
}
.media {
  margin-top: 15px;
}
.media:first-child {
  margin-top: 0;
}
.media,
.media-body {
  zoom: 1;
  overflow: hidden;
}
.media-body {
  width: 10000px;
}
.media-object {
  display: block;
}
.media-object.img-thumbnail {
  max-width: none;
}
.media-right,
.media > .pull-right {
  padding-left: 10px;
}
.media-left,
.media > .pull-left {
  padding-right: 10px;
}
.media-left,
.media-right,
.media-body {
  display: table-cell;
  vertical-align: top;
}
.media-middle {
  vertical-align: middle;
}
.media-bottom {
  vertical-align: bottom;
}
.media-heading {
  margin-top: 0;
  margin-bottom: 5px;
}
.media-list {
  padding-left: 0;
  list-style: none;
}
.list-group {
  margin-bottom: 20px;
  padding-left: 0;
}
.list-group-item {
  position: relative;
  display: block;
  padding: 10px 15px;
  margin-bottom: -1px;
  background-color: #fff;
  border: 1px solid #ddd;
}
.list-group-item:first-child {
  border-top-right-radius: 2px;
  border-top-left-radius: 2px;
}
.list-group-item:last-child {
  margin-bottom: 0;
  border-bottom-right-radius: 2px;
  border-bottom-left-radius: 2px;
}
a.list-group-item,
button.list-group-item {
  color: #555;
}
a.list-group-item .list-group-item-heading,
button.list-group-item .list-group-item-heading {
  color: #333;
}
a.list-group-item:hover,
button.list-group-item:hover,
a.list-group-item:focus,
button.list-group-item:focus {
  text-decoration: none;
  color: #555;
  background-color: #f5f5f5;
}
button.list-group-item {
  width: 100%;
  text-align: left;
}
.list-group-item.disabled,
.list-group-item.disabled:hover,
.list-group-item.disabled:focus {
  background-color: #eeeeee;
  color: #777777;
  cursor: not-allowed;
}
.list-group-item.disabled .list-group-item-heading,
.list-group-item.disabled:hover .list-group-item-heading,
.list-group-item.disabled:focus .list-group-item-heading {
  color: inherit;
}
.list-group-item.disabled .list-group-item-text,
.list-group-item.disabled:hover .list-group-item-text,
.list-group-item.disabled:focus .list-group-item-text {
  color: #777777;
}
.list-group-item.active,
.list-group-item.active:hover,
.list-group-item.active:focus {
  z-index: 2;
  color: #fff;
  background-color: #337ab7;
  border-color: #337ab7;
}
.list-group-item.active .list-group-item-heading,
.list-group-item.active:hover .list-group-item-heading,
.list-group-item.active:focus .list-group-item-heading,
.list-group-item.active .list-group-item-heading > small,
.list-group-item.active:hover .list-group-item-heading > small,
.list-group-item.active:focus .list-group-item-heading > small,
.list-group-item.active .list-group-item-heading > .small,
.list-group-item.active:hover .list-group-item-heading > .small,
.list-group-item.active:focus .list-group-item-heading > .small {
  color: inherit;
}
.list-group-item.active .list-group-item-text,
.list-group-item.active:hover .list-group-item-text,
.list-group-item.active:focus .list-group-item-text {
  color: #c7ddef;
}
.list-group-item-success {
  color: #3c763d;
  background-color: #dff0d8;
}
a.list-group-item-success,
button.list-group-item-success {
  color: #3c763d;
}
a.list-group-item-success .list-group-item-heading,
button.list-group-item-success .list-group-item-heading {
  color: inherit;
}
a.list-group-item-success:hover,
button.list-group-item-success:hover,
a.list-group-item-success:focus,
button.list-group-item-success:focus {
  color: #3c763d;
  background-color: #d0e9c6;
}
a.list-group-item-success.active,
button.list-group-item-success.active,
a.list-group-item-success.active:hover,
button.list-group-item-success.active:hover,
a.list-group-item-success.active:focus,
button.list-group-item-success.active:focus {
  color: #fff;
  background-color: #3c763d;
  border-color: #3c763d;
}
.list-group-item-info {
  color: #31708f;
  background-color: #d9edf7;
}
a.list-group-item-info,
button.list-group-item-info {
  color: #31708f;
}
a.list-group-item-info .list-group-item-heading,
button.list-group-item-info .list-group-item-heading {
  color: inherit;
}
a.list-group-item-info:hover,
button.list-group-item-info:hover,
a.list-group-item-info:focus,
button.list-group-item-info:focus {
  color: #31708f;
  background-color: #c4e3f3;
}
a.list-group-item-info.active,
button.list-group-item-info.active,
a.list-group-item-info.active:hover,
button.list-group-item-info.active:hover,
a.list-group-item-info.active:focus,
button.list-group-item-info.active:focus {
  color: #fff;
  background-color: #31708f;
  border-color: #31708f;
}
.list-group-item-warning {
  color: #8a6d3b;
  background-color: #fcf8e3;
}
a.list-group-item-warning,
button.list-group-item-warning {
  color: #8a6d3b;
}
a.list-group-item-warning .list-group-item-heading,
button.list-group-item-warning .list-group-item-heading {
  color: inherit;
}
a.list-group-item-warning:hover,
button.list-group-item-warning:hover,
a.list-group-item-warning:focus,
button.list-group-item-warning:focus {
  color: #8a6d3b;
  background-color: #faf2cc;
}
a.list-group-item-warning.active,
button.list-group-item-warning.active,
a.list-group-item-warning.active:hover,
button.list-group-item-warning.active:hover,
a.list-group-item-warning.active:focus,
button.list-group-item-warning.active:focus {
  color: #fff;
  background-color: #8a6d3b;
  border-color: #8a6d3b;
}
.list-group-item-danger {
  color: #a94442;
  background-color: #f2dede;
}
a.list-group-item-danger,
button.list-group-item-danger {
  color: #a94442;
}
a.list-group-item-danger .list-group-item-heading,
button.list-group-item-danger .list-group-item-heading {
  color: inherit;
}
a.list-group-item-danger:hover,
button.list-group-item-danger:hover,
a.list-group-item-danger:focus,
button.list-group-item-danger:focus {
  color: #a94442;
  background-color: #ebcccc;
}
a.list-group-item-danger.active,
button.list-group-item-danger.active,
a.list-group-item-danger.active:hover,
button.list-group-item-danger.active:hover,
a.list-group-item-danger.active:focus,
button.list-group-item-danger.active:focus {
  color: #fff;
  background-color: #a94442;
  border-color: #a94442;
}
.list-group-item-heading {
  margin-top: 0;
  margin-bottom: 5px;
}
.list-group-item-text {
  margin-bottom: 0;
  line-height: 1.3;
}
.panel {
  margin-bottom: 18px;
  background-color: #fff;
  border: 1px solid transparent;
  border-radius: 2px;
  -webkit-box-shadow: 0 1px 1px rgba(0, 0, 0, 0.05);
  box-shadow: 0 1px 1px rgba(0, 0, 0, 0.05);
}
.panel-body {
  padding: 15px;
}
.panel-heading {
  padding: 10px 15px;
  border-bottom: 1px solid transparent;
  border-top-right-radius: 1px;
  border-top-left-radius: 1px;
}
.panel-heading > .dropdown .dropdown-toggle {
  color: inherit;
}
.panel-title {
  margin-top: 0;
  margin-bottom: 0;
  font-size: 15px;
  color: inherit;
}
.panel-title > a,
.panel-title > small,
.panel-title > .small,
.panel-title > small > a,
.panel-title > .small > a {
  color: inherit;
}
.panel-footer {
  padding: 10px 15px;
  background-color: #f5f5f5;
  border-top: 1px solid #ddd;
  border-bottom-right-radius: 1px;
  border-bottom-left-radius: 1px;
}
.panel > .list-group,
.panel > .panel-collapse > .list-group {
  margin-bottom: 0;
}
.panel > .list-group .list-group-item,
.panel > .panel-collapse > .list-group .list-group-item {
  border-width: 1px 0;
  border-radius: 0;
}
.panel > .list-group:first-child .list-group-item:first-child,
.panel > .panel-collapse > .list-group:first-child .list-group-item:first-child {
  border-top: 0;
  border-top-right-radius: 1px;
  border-top-left-radius: 1px;
}
.panel > .list-group:last-child .list-group-item:last-child,
.panel > .panel-collapse > .list-group:last-child .list-group-item:last-child {
  border-bottom: 0;
  border-bottom-right-radius: 1px;
  border-bottom-left-radius: 1px;
}
.panel > .panel-heading + .panel-collapse > .list-group .list-group-item:first-child {
  border-top-right-radius: 0;
  border-top-left-radius: 0;
}
.panel-heading + .list-group .list-group-item:first-child {
  border-top-width: 0;
}
.list-group + .panel-footer {
  border-top-width: 0;
}
.panel > .table,
.panel > .table-responsive > .table,
.panel > .panel-collapse > .table {
  margin-bottom: 0;
}
.panel > .table caption,
.panel > .table-responsive > .table caption,
.panel > .panel-collapse > .table caption {
  padding-left: 15px;
  padding-right: 15px;
}
.panel > .table:first-child,
.panel > .table-responsive:first-child > .table:first-child {
  border-top-right-radius: 1px;
  border-top-left-radius: 1px;
}
.panel > .table:first-child > thead:first-child > tr:first-child,
.panel > .table-responsive:first-child > .table:first-child > thead:first-child > tr:first-child,
.panel > .table:first-child > tbody:first-child > tr:first-child,
.panel > .table-responsive:first-child > .table:first-child > tbody:first-child > tr:first-child {
  border-top-left-radius: 1px;
  border-top-right-radius: 1px;
}
.panel > .table:first-child > thead:first-child > tr:first-child td:first-child,
.panel > .table-responsive:first-child > .table:first-child > thead:first-child > tr:first-child td:first-child,
.panel > .table:first-child > tbody:first-child > tr:first-child td:first-child,
.panel > .table-responsive:first-child > .table:first-child > tbody:first-child > tr:first-child td:first-child,
.panel > .table:first-child > thead:first-child > tr:first-child th:first-child,
.panel > .table-responsive:first-child > .table:first-child > thead:first-child > tr:first-child th:first-child,
.panel > .table:first-child > tbody:first-child > tr:first-child th:first-child,
.panel > .table-responsive:first-child > .table:first-child > tbody:first-child > tr:first-child th:first-child {
  border-top-left-radius: 1px;
}
.panel > .table:first-child > thead:first-child > tr:first-child td:last-child,
.panel > .table-responsive:first-child > .table:first-child > thead:first-child > tr:first-child td:last-child,
.panel > .table:first-child > tbody:first-child > tr:first-child td:last-child,
.panel > .table-responsive:first-child > .table:first-child > tbody:first-child > tr:first-child td:last-child,
.panel > .table:first-child > thead:first-child > tr:first-child th:last-child,
.panel > .table-responsive:first-child > .table:first-child > thead:first-child > tr:first-child th:last-child,
.panel > .table:first-child > tbody:first-child > tr:first-child th:last-child,
.panel > .table-responsive:first-child > .table:first-child > tbody:first-child > tr:first-child th:last-child {
  border-top-right-radius: 1px;
}
.panel > .table:last-child,
.panel > .table-responsive:last-child > .table:last-child {
  border-bottom-right-radius: 1px;
  border-bottom-left-radius: 1px;
}
.panel > .table:last-child > tbody:last-child > tr:last-child,
.panel > .table-responsive:last-child > .table:last-child > tbody:last-child > tr:last-child,
.panel > .table:last-child > tfoot:last-child > tr:last-child,
.panel > .table-responsive:last-child > .table:last-child > tfoot:last-child > tr:last-child {
  border-bottom-left-radius: 1px;
  border-bottom-right-radius: 1px;
}
.panel > .table:last-child > tbody:last-child > tr:last-child td:first-child,
.panel > .table-responsive:last-child > .table:last-child > tbody:last-child > tr:last-child td:first-child,
.panel > .table:last-child > tfoot:last-child > tr:last-child td:first-child,
.panel > .table-responsive:last-child > .table:last-child > tfoot:last-child > tr:last-child td:first-child,
.panel > .table:last-child > tbody:last-child > tr:last-child th:first-child,
.panel > .table-responsive:last-child > .table:last-child > tbody:last-child > tr:last-child th:first-child,
.panel > .table:last-child > tfoot:last-child > tr:last-child th:first-child,
.panel > .table-responsive:last-child > .table:last-child > tfoot:last-child > tr:last-child th:first-child {
  border-bottom-left-radius: 1px;
}
.panel > .table:last-child > tbody:last-child > tr:last-child td:last-child,
.panel > .table-responsive:last-child > .table:last-child > tbody:last-child > tr:last-child td:last-child,
.panel > .table:last-child > tfoot:last-child > tr:last-child td:last-child,
.panel > .table-responsive:last-child > .table:last-child > tfoot:last-child > tr:last-child td:last-child,
.panel > .table:last-child > tbody:last-child > tr:last-child th:last-child,
.panel > .table-responsive:last-child > .table:last-child > tbody:last-child > tr:last-child th:last-child,
.panel > .table:last-child > tfoot:last-child > tr:last-child th:last-child,
.panel > .table-responsive:last-child > .table:last-child > tfoot:last-child > tr:last-child th:last-child {
  border-bottom-right-radius: 1px;
}
.panel > .panel-body + .table,
.panel > .panel-body + .table-responsive,
.panel > .table + .panel-body,
.panel > .table-responsive + .panel-body {
  border-top: 1px solid #ddd;
}
.panel > .table > tbody:first-child > tr:first-child th,
.panel > .table > tbody:first-child > tr:first-child td {
  border-top: 0;
}
.panel > .table-bordered,
.panel > .table-responsive > .table-bordered {
  border: 0;
}
.panel > .table-bordered > thead > tr > th:first-child,
.panel > .table-responsive > .table-bordered > thead > tr > th:first-child,
.panel > .table-bordered > tbody > tr > th:first-child,
.panel > .table-responsive > .table-bordered > tbody > tr > th:first-child,
.panel > .table-bordered > tfoot > tr > th:first-child,
.panel > .table-responsive > .table-bordered > tfoot > tr > th:first-child,
.panel > .table-bordered > thead > tr > td:first-child,
.panel > .table-responsive > .table-bordered > thead > tr > td:first-child,
.panel > .table-bordered > tbody > tr > td:first-child,
.panel > .table-responsive > .table-bordered > tbody > tr > td:first-child,
.panel > .table-bordered > tfoot > tr > td:first-child,
.panel > .table-responsive > .table-bordered > tfoot > tr > td:first-child {
  border-left: 0;
}
.panel > .table-bordered > thead > tr > th:last-child,
.panel > .table-responsive > .table-bordered > thead > tr > th:last-child,
.panel > .table-bordered > tbody > tr > th:last-child,
.panel > .table-responsive > .table-bordered > tbody > tr > th:last-child,
.panel > .table-bordered > tfoot > tr > th:last-child,
.panel > .table-responsive > .table-bordered > tfoot > tr > th:last-child,
.panel > .table-bordered > thead > tr > td:last-child,
.panel > .table-responsive > .table-bordered > thead > tr > td:last-child,
.panel > .table-bordered > tbody > tr > td:last-child,
.panel > .table-responsive > .table-bordered > tbody > tr > td:last-child,
.panel > .table-bordered > tfoot > tr > td:last-child,
.panel > .table-responsive > .table-bordered > tfoot > tr > td:last-child {
  border-right: 0;
}
.panel > .table-bordered > thead > tr:first-child > td,
.panel > .table-responsive > .table-bordered > thead > tr:first-child > td,
.panel > .table-bordered > tbody > tr:first-child > td,
.panel > .table-responsive > .table-bordered > tbody > tr:first-child > td,
.panel > .table-bordered > thead > tr:first-child > th,
.panel > .table-responsive > .table-bordered > thead > tr:first-child > th,
.panel > .table-bordered > tbody > tr:first-child > th,
.panel > .table-responsive > .table-bordered > tbody > tr:first-child > th {
  border-bottom: 0;
}
.panel > .table-bordered > tbody > tr:last-child > td,
.panel > .table-responsive > .table-bordered > tbody > tr:last-child > td,
.panel > .table-bordered > tfoot > tr:last-child > td,
.panel > .table-responsive > .table-bordered > tfoot > tr:last-child > td,
.panel > .table-bordered > tbody > tr:last-child > th,
.panel > .table-responsive > .table-bordered > tbody > tr:last-child > th,
.panel > .table-bordered > tfoot > tr:last-child > th,
.panel > .table-responsive > .table-bordered > tfoot > tr:last-child > th {
  border-bottom: 0;
}
.panel > .table-responsive {
  border: 0;
  margin-bottom: 0;
}
.panel-group {
  margin-bottom: 18px;
}
.panel-group .panel {
  margin-bottom: 0;
  border-radius: 2px;
}
.panel-group .panel + .panel {
  margin-top: 5px;
}
.panel-group .panel-heading {
  border-bottom: 0;
}
.panel-group .panel-heading + .panel-collapse > .panel-body,
.panel-group .panel-heading + .panel-collapse > .list-group {
  border-top: 1px solid #ddd;
}
.panel-group .panel-footer {
  border-top: 0;
}
.panel-group .panel-footer + .panel-collapse .panel-body {
  border-bottom: 1px solid #ddd;
}
.panel-default {
  border-color: #ddd;
}
.panel-default > .panel-heading {
  color: #333333;
  background-color: #f5f5f5;
  border-color: #ddd;
}
.panel-default > .panel-heading + .panel-collapse > .panel-body {
  border-top-color: #ddd;
}
.panel-default > .panel-heading .badge {
  color: #f5f5f5;
  background-color: #333333;
}
.panel-default > .panel-footer + .panel-collapse > .panel-body {
  border-bottom-color: #ddd;
}
.panel-primary {
  border-color: #337ab7;
}
.panel-primary > .panel-heading {
  color: #fff;
  background-color: #337ab7;
  border-color: #337ab7;
}
.panel-primary > .panel-heading + .panel-collapse > .panel-body {
  border-top-color: #337ab7;
}
.panel-primary > .panel-heading .badge {
  color: #337ab7;
  background-color: #fff;
}
.panel-primary > .panel-footer + .panel-collapse > .panel-body {
  border-bottom-color: #337ab7;
}
.panel-success {
  border-color: #d6e9c6;
}
.panel-success > .panel-heading {
  color: #3c763d;
  background-color: #dff0d8;
  border-color: #d6e9c6;
}
.panel-success > .panel-heading + .panel-collapse > .panel-body {
  border-top-color: #d6e9c6;
}
.panel-success > .panel-heading .badge {
  color: #dff0d8;
  background-color: #3c763d;
}
.panel-success > .panel-footer + .panel-collapse > .panel-body {
  border-bottom-color: #d6e9c6;
}
.panel-info {
  border-color: #bce8f1;
}
.panel-info > .panel-heading {
  color: #31708f;
  background-color: #d9edf7;
  border-color: #bce8f1;
}
.panel-info > .panel-heading + .panel-collapse > .panel-body {
  border-top-color: #bce8f1;
}
.panel-info > .panel-heading .badge {
  color: #d9edf7;
  background-color: #31708f;
}
.panel-info > .panel-footer + .panel-collapse > .panel-body {
  border-bottom-color: #bce8f1;
}
.panel-warning {
  border-color: #faebcc;
}
.panel-warning > .panel-heading {
  color: #8a6d3b;
  background-color: #fcf8e3;
  border-color: #faebcc;
}
.panel-warning > .panel-heading + .panel-collapse > .panel-body {
  border-top-color: #faebcc;
}
.panel-warning > .panel-heading .badge {
  color: #fcf8e3;
  background-color: #8a6d3b;
}
.panel-warning > .panel-footer + .panel-collapse > .panel-body {
  border-bottom-color: #faebcc;
}
.panel-danger {
  border-color: #ebccd1;
}
.panel-danger > .panel-heading {
  color: #a94442;
  background-color: #f2dede;
  border-color: #ebccd1;
}
.panel-danger > .panel-heading + .panel-collapse > .panel-body {
  border-top-color: #ebccd1;
}
.panel-danger > .panel-heading .badge {
  color: #f2dede;
  background-color: #a94442;
}
.panel-danger > .panel-footer + .panel-collapse > .panel-body {
  border-bottom-color: #ebccd1;
}
.embed-responsive {
  position: relative;
  display: block;
  height: 0;
  padding: 0;
  overflow: hidden;
}
.embed-responsive .embed-responsive-item,
.embed-responsive iframe,
.embed-responsive embed,
.embed-responsive object,
.embed-responsive video {
  position: absolute;
  top: 0;
  left: 0;
  bottom: 0;
  height: 100%;
  width: 100%;
  border: 0;
}
.embed-responsive-16by9 {
  padding-bottom: 56.25%;
}
.embed-responsive-4by3 {
  padding-bottom: 75%;
}
.well {
  min-height: 20px;
  padding: 19px;
  margin-bottom: 20px;
  background-color: #f5f5f5;
  border: 1px solid #e3e3e3;
  border-radius: 2px;
  -webkit-box-shadow: inset 0 1px 1px rgba(0, 0, 0, 0.05);
  box-shadow: inset 0 1px 1px rgba(0, 0, 0, 0.05);
}
.well blockquote {
  border-color: #ddd;
  border-color: rgba(0, 0, 0, 0.15);
}
.well-lg {
  padding: 24px;
  border-radius: 3px;
}
.well-sm {
  padding: 9px;
  border-radius: 1px;
}
.close {
  float: right;
  font-size: 19.5px;
  font-weight: bold;
  line-height: 1;
  color: #000;
  text-shadow: 0 1px 0 #fff;
  opacity: 0.2;
  filter: alpha(opacity=20);
}
.close:hover,
.close:focus {
  color: #000;
  text-decoration: none;
  cursor: pointer;
  opacity: 0.5;
  filter: alpha(opacity=50);
}
button.close {
  padding: 0;
  cursor: pointer;
  background: transparent;
  border: 0;
  -webkit-appearance: none;
}
.modal-open {
  overflow: hidden;
}
.modal {
  display: none;
  overflow: hidden;
  position: fixed;
  top: 0;
  right: 0;
  bottom: 0;
  left: 0;
  z-index: 1050;
  -webkit-overflow-scrolling: touch;
  outline: 0;
}
.modal.fade .modal-dialog {
  -webkit-transform: translate(0, -25%);
  -ms-transform: translate(0, -25%);
  -o-transform: translate(0, -25%);
  transform: translate(0, -25%);
  -webkit-transition: -webkit-transform 0.3s ease-out;
  -moz-transition: -moz-transform 0.3s ease-out;
  -o-transition: -o-transform 0.3s ease-out;
  transition: transform 0.3s ease-out;
}
.modal.in .modal-dialog {
  -webkit-transform: translate(0, 0);
  -ms-transform: translate(0, 0);
  -o-transform: translate(0, 0);
  transform: translate(0, 0);
}
.modal-open .modal {
  overflow-x: hidden;
  overflow-y: auto;
}
.modal-dialog {
  position: relative;
  width: auto;
  margin: 10px;
}
.modal-content {
  position: relative;
  background-color: #fff;
  border: 1px solid #999;
  border: 1px solid rgba(0, 0, 0, 0.2);
  border-radius: 3px;
  -webkit-box-shadow: 0 3px 9px rgba(0, 0, 0, 0.5);
  box-shadow: 0 3px 9px rgba(0, 0, 0, 0.5);
  background-clip: padding-box;
  outline: 0;
}
.modal-backdrop {
  position: fixed;
  top: 0;
  right: 0;
  bottom: 0;
  left: 0;
  z-index: 1040;
  background-color: #000;
}
.modal-backdrop.fade {
  opacity: 0;
  filter: alpha(opacity=0);
}
.modal-backdrop.in {
  opacity: 0.5;
  filter: alpha(opacity=50);
}
.modal-header {
  padding: 15px;
  border-bottom: 1px solid #e5e5e5;
}
.modal-header .close {
  margin-top: -2px;
}
.modal-title {
  margin: 0;
  line-height: 1.42857143;
}
.modal-body {
  position: relative;
  padding: 15px;
}
.modal-footer {
  padding: 15px;
  text-align: right;
  border-top: 1px solid #e5e5e5;
}
.modal-footer .btn + .btn {
  margin-left: 5px;
  margin-bottom: 0;
}
.modal-footer .btn-group .btn + .btn {
  margin-left: -1px;
}
.modal-footer .btn-block + .btn-block {
  margin-left: 0;
}
.modal-scrollbar-measure {
  position: absolute;
  top: -9999px;
  width: 50px;
  height: 50px;
  overflow: scroll;
}
@media (min-width: 768px) {
  .modal-dialog {
    width: 600px;
    margin: 30px auto;
  }
  .modal-content {
    -webkit-box-shadow: 0 5px 15px rgba(0, 0, 0, 0.5);
    box-shadow: 0 5px 15px rgba(0, 0, 0, 0.5);
  }
  .modal-sm {
    width: 300px;
  }
}
@media (min-width: 992px) {
  .modal-lg {
    width: 900px;
  }
}
.tooltip {
  position: absolute;
  z-index: 1070;
  display: block;
  font-family: "Helvetica Neue", Helvetica, Arial, sans-serif;
  font-style: normal;
  font-weight: normal;
  letter-spacing: normal;
  line-break: auto;
  line-height: 1.42857143;
  text-align: left;
  text-align: start;
  text-decoration: none;
  text-shadow: none;
  text-transform: none;
  white-space: normal;
  word-break: normal;
  word-spacing: normal;
  word-wrap: normal;
  font-size: 12px;
  opacity: 0;
  filter: alpha(opacity=0);
}
.tooltip.in {
  opacity: 0.9;
  filter: alpha(opacity=90);
}
.tooltip.top {
  margin-top: -3px;
  padding: 5px 0;
}
.tooltip.right {
  margin-left: 3px;
  padding: 0 5px;
}
.tooltip.bottom {
  margin-top: 3px;
  padding: 5px 0;
}
.tooltip.left {
  margin-left: -3px;
  padding: 0 5px;
}
.tooltip-inner {
  max-width: 200px;
  padding: 3px 8px;
  color: #fff;
  text-align: center;
  background-color: #000;
  border-radius: 2px;
}
.tooltip-arrow {
  position: absolute;
  width: 0;
  height: 0;
  border-color: transparent;
  border-style: solid;
}
.tooltip.top .tooltip-arrow {
  bottom: 0;
  left: 50%;
  margin-left: -5px;
  border-width: 5px 5px 0;
  border-top-color: #000;
}
.tooltip.top-left .tooltip-arrow {
  bottom: 0;
  right: 5px;
  margin-bottom: -5px;
  border-width: 5px 5px 0;
  border-top-color: #000;
}
.tooltip.top-right .tooltip-arrow {
  bottom: 0;
  left: 5px;
  margin-bottom: -5px;
  border-width: 5px 5px 0;
  border-top-color: #000;
}
.tooltip.right .tooltip-arrow {
  top: 50%;
  left: 0;
  margin-top: -5px;
  border-width: 5px 5px 5px 0;
  border-right-color: #000;
}
.tooltip.left .tooltip-arrow {
  top: 50%;
  right: 0;
  margin-top: -5px;
  border-width: 5px 0 5px 5px;
  border-left-color: #000;
}
.tooltip.bottom .tooltip-arrow {
  top: 0;
  left: 50%;
  margin-left: -5px;
  border-width: 0 5px 5px;
  border-bottom-color: #000;
}
.tooltip.bottom-left .tooltip-arrow {
  top: 0;
  right: 5px;
  margin-top: -5px;
  border-width: 0 5px 5px;
  border-bottom-color: #000;
}
.tooltip.bottom-right .tooltip-arrow {
  top: 0;
  left: 5px;
  margin-top: -5px;
  border-width: 0 5px 5px;
  border-bottom-color: #000;
}
.popover {
  position: absolute;
  top: 0;
  left: 0;
  z-index: 1060;
  display: none;
  max-width: 276px;
  padding: 1px;
  font-family: "Helvetica Neue", Helvetica, Arial, sans-serif;
  font-style: normal;
  font-weight: normal;
  letter-spacing: normal;
  line-break: auto;
  line-height: 1.42857143;
  text-align: left;
  text-align: start;
  text-decoration: none;
  text-shadow: none;
  text-transform: none;
  white-space: normal;
  word-break: normal;
  word-spacing: normal;
  word-wrap: normal;
  font-size: 13px;
  background-color: #fff;
  background-clip: padding-box;
  border: 1px solid #ccc;
  border: 1px solid rgba(0, 0, 0, 0.2);
  border-radius: 3px;
  -webkit-box-shadow: 0 5px 10px rgba(0, 0, 0, 0.2);
  box-shadow: 0 5px 10px rgba(0, 0, 0, 0.2);
}
.popover.top {
  margin-top: -10px;
}
.popover.right {
  margin-left: 10px;
}
.popover.bottom {
  margin-top: 10px;
}
.popover.left {
  margin-left: -10px;
}
.popover-title {
  margin: 0;
  padding: 8px 14px;
  font-size: 13px;
  background-color: #f7f7f7;
  border-bottom: 1px solid #ebebeb;
  border-radius: 2px 2px 0 0;
}
.popover-content {
  padding: 9px 14px;
}
.popover > .arrow,
.popover > .arrow:after {
  position: absolute;
  display: block;
  width: 0;
  height: 0;
  border-color: transparent;
  border-style: solid;
}
.popover > .arrow {
  border-width: 11px;
}
.popover > .arrow:after {
  border-width: 10px;
  content: "";
}
.popover.top > .arrow {
  left: 50%;
  margin-left: -11px;
  border-bottom-width: 0;
  border-top-color: #999999;
  border-top-color: rgba(0, 0, 0, 0.25);
  bottom: -11px;
}
.popover.top > .arrow:after {
  content: " ";
  bottom: 1px;
  margin-left: -10px;
  border-bottom-width: 0;
  border-top-color: #fff;
}
.popover.right > .arrow {
  top: 50%;
  left: -11px;
  margin-top: -11px;
  border-left-width: 0;
  border-right-color: #999999;
  border-right-color: rgba(0, 0, 0, 0.25);
}
.popover.right > .arrow:after {
  content: " ";
  left: 1px;
  bottom: -10px;
  border-left-width: 0;
  border-right-color: #fff;
}
.popover.bottom > .arrow {
  left: 50%;
  margin-left: -11px;
  border-top-width: 0;
  border-bottom-color: #999999;
  border-bottom-color: rgba(0, 0, 0, 0.25);
  top: -11px;
}
.popover.bottom > .arrow:after {
  content: " ";
  top: 1px;
  margin-left: -10px;
  border-top-width: 0;
  border-bottom-color: #fff;
}
.popover.left > .arrow {
  top: 50%;
  right: -11px;
  margin-top: -11px;
  border-right-width: 0;
  border-left-color: #999999;
  border-left-color: rgba(0, 0, 0, 0.25);
}
.popover.left > .arrow:after {
  content: " ";
  right: 1px;
  border-right-width: 0;
  border-left-color: #fff;
  bottom: -10px;
}
.carousel {
  position: relative;
}
.carousel-inner {
  position: relative;
  overflow: hidden;
  width: 100%;
}
.carousel-inner > .item {
  display: none;
  position: relative;
  -webkit-transition: 0.6s ease-in-out left;
  -o-transition: 0.6s ease-in-out left;
  transition: 0.6s ease-in-out left;
}
.carousel-inner > .item > img,
.carousel-inner > .item > a > img {
  line-height: 1;
}
@media all and (transform-3d), (-webkit-transform-3d) {
  .carousel-inner > .item {
    -webkit-transition: -webkit-transform 0.6s ease-in-out;
    -moz-transition: -moz-transform 0.6s ease-in-out;
    -o-transition: -o-transform 0.6s ease-in-out;
    transition: transform 0.6s ease-in-out;
    -webkit-backface-visibility: hidden;
    -moz-backface-visibility: hidden;
    backface-visibility: hidden;
    -webkit-perspective: 1000px;
    -moz-perspective: 1000px;
    perspective: 1000px;
  }
  .carousel-inner > .item.next,
  .carousel-inner > .item.active.right {
    -webkit-transform: translate3d(100%, 0, 0);
    transform: translate3d(100%, 0, 0);
    left: 0;
  }
  .carousel-inner > .item.prev,
  .carousel-inner > .item.active.left {
    -webkit-transform: translate3d(-100%, 0, 0);
    transform: translate3d(-100%, 0, 0);
    left: 0;
  }
  .carousel-inner > .item.next.left,
  .carousel-inner > .item.prev.right,
  .carousel-inner > .item.active {
    -webkit-transform: translate3d(0, 0, 0);
    transform: translate3d(0, 0, 0);
    left: 0;
  }
}
.carousel-inner > .active,
.carousel-inner > .next,
.carousel-inner > .prev {
  display: block;
}
.carousel-inner > .active {
  left: 0;
}
.carousel-inner > .next,
.carousel-inner > .prev {
  position: absolute;
  top: 0;
  width: 100%;
}
.carousel-inner > .next {
  left: 100%;
}
.carousel-inner > .prev {
  left: -100%;
}
.carousel-inner > .next.left,
.carousel-inner > .prev.right {
  left: 0;
}
.carousel-inner > .active.left {
  left: -100%;
}
.carousel-inner > .active.right {
  left: 100%;
}
.carousel-control {
  position: absolute;
  top: 0;
  left: 0;
  bottom: 0;
  width: 15%;
  opacity: 0.5;
  filter: alpha(opacity=50);
  font-size: 20px;
  color: #fff;
  text-align: center;
  text-shadow: 0 1px 2px rgba(0, 0, 0, 0.6);
  background-color: rgba(0, 0, 0, 0);
}
.carousel-control.left {
  background-image: -webkit-linear-gradient(left, rgba(0, 0, 0, 0.5) 0%, rgba(0, 0, 0, 0.0001) 100%);
  background-image: -o-linear-gradient(left, rgba(0, 0, 0, 0.5) 0%, rgba(0, 0, 0, 0.0001) 100%);
  background-image: linear-gradient(to right, rgba(0, 0, 0, 0.5) 0%, rgba(0, 0, 0, 0.0001) 100%);
  background-repeat: repeat-x;
  filter: progid:DXImageTransform.Microsoft.gradient(startColorstr='#80000000', endColorstr='#00000000', GradientType=1);
}
.carousel-control.right {
  left: auto;
  right: 0;
  background-image: -webkit-linear-gradient(left, rgba(0, 0, 0, 0.0001) 0%, rgba(0, 0, 0, 0.5) 100%);
  background-image: -o-linear-gradient(left, rgba(0, 0, 0, 0.0001) 0%, rgba(0, 0, 0, 0.5) 100%);
  background-image: linear-gradient(to right, rgba(0, 0, 0, 0.0001) 0%, rgba(0, 0, 0, 0.5) 100%);
  background-repeat: repeat-x;
  filter: progid:DXImageTransform.Microsoft.gradient(startColorstr='#00000000', endColorstr='#80000000', GradientType=1);
}
.carousel-control:hover,
.carousel-control:focus {
  outline: 0;
  color: #fff;
  text-decoration: none;
  opacity: 0.9;
  filter: alpha(opacity=90);
}
.carousel-control .icon-prev,
.carousel-control .icon-next,
.carousel-control .glyphicon-chevron-left,
.carousel-control .glyphicon-chevron-right {
  position: absolute;
  top: 50%;
  margin-top: -10px;
  z-index: 5;
  display: inline-block;
}
.carousel-control .icon-prev,
.carousel-control .glyphicon-chevron-left {
  left: 50%;
  margin-left: -10px;
}
.carousel-control .icon-next,
.carousel-control .glyphicon-chevron-right {
  right: 50%;
  margin-right: -10px;
}
.carousel-control .icon-prev,
.carousel-control .icon-next {
  width: 20px;
  height: 20px;
  line-height: 1;
  font-family: serif;
}
.carousel-control .icon-prev:before {
  content: '\2039';
}
.carousel-control .icon-next:before {
  content: '\203a';
}
.carousel-indicators {
  position: absolute;
  bottom: 10px;
  left: 50%;
  z-index: 15;
  width: 60%;
  margin-left: -30%;
  padding-left: 0;
  list-style: none;
  text-align: center;
}
.carousel-indicators li {
  display: inline-block;
  width: 10px;
  height: 10px;
  margin: 1px;
  text-indent: -999px;
  border: 1px solid #fff;
  border-radius: 10px;
  cursor: pointer;
  background-color: #000 \9;
  background-color: rgba(0, 0, 0, 0);
}
.carousel-indicators .active {
  margin: 0;
  width: 12px;
  height: 12px;
  background-color: #fff;
}
.carousel-caption {
  position: absolute;
  left: 15%;
  right: 15%;
  bottom: 20px;
  z-index: 10;
  padding-top: 20px;
  padding-bottom: 20px;
  color: #fff;
  text-align: center;
  text-shadow: 0 1px 2px rgba(0, 0, 0, 0.6);
}
.carousel-caption .btn {
  text-shadow: none;
}
@media screen and (min-width: 768px) {
  .carousel-control .glyphicon-chevron-left,
  .carousel-control .glyphicon-chevron-right,
  .carousel-control .icon-prev,
  .carousel-control .icon-next {
    width: 30px;
    height: 30px;
    margin-top: -10px;
    font-size: 30px;
  }
  .carousel-control .glyphicon-chevron-left,
  .carousel-control .icon-prev {
    margin-left: -10px;
  }
  .carousel-control .glyphicon-chevron-right,
  .carousel-control .icon-next {
    margin-right: -10px;
  }
  .carousel-caption {
    left: 20%;
    right: 20%;
    padding-bottom: 30px;
  }
  .carousel-indicators {
    bottom: 20px;
  }
}
.clearfix:before,
.clearfix:after,
.dl-horizontal dd:before,
.dl-horizontal dd:after,
.container:before,
.container:after,
.container-fluid:before,
.container-fluid:after,
.row:before,
.row:after,
.form-horizontal .form-group:before,
.form-horizontal .form-group:after,
.btn-toolbar:before,
.btn-toolbar:after,
.btn-group-vertical > .btn-group:before,
.btn-group-vertical > .btn-group:after,
.nav:before,
.nav:after,
.navbar:before,
.navbar:after,
.navbar-header:before,
.navbar-header:after,
.navbar-collapse:before,
.navbar-collapse:after,
.pager:before,
.pager:after,
.panel-body:before,
.panel-body:after,
.modal-header:before,
.modal-header:after,
.modal-footer:before,
.modal-footer:after,
.item_buttons:before,
.item_buttons:after {
  content: " ";
  display: table;
}
.clearfix:after,
.dl-horizontal dd:after,
.container:after,
.container-fluid:after,
.row:after,
.form-horizontal .form-group:after,
.btn-toolbar:after,
.btn-group-vertical > .btn-group:after,
.nav:after,
.navbar:after,
.navbar-header:after,
.navbar-collapse:after,
.pager:after,
.panel-body:after,
.modal-header:after,
.modal-footer:after,
.item_buttons:after {
  clear: both;
}
.center-block {
  display: block;
  margin-left: auto;
  margin-right: auto;
}
.pull-right {
  float: right !important;
}
.pull-left {
  float: left !important;
}
.hide {
  display: none !important;
}
.show {
  display: block !important;
}
.invisible {
  visibility: hidden;
}
.text-hide {
  font: 0/0 a;
  color: transparent;
  text-shadow: none;
  background-color: transparent;
  border: 0;
}
.hidden {
  display: none !important;
}
.affix {
  position: fixed;
}
@-ms-viewport {
  width: device-width;
}
.visible-xs,
.visible-sm,
.visible-md,
.visible-lg {
  display: none !important;
}
.visible-xs-block,
.visible-xs-inline,
.visible-xs-inline-block,
.visible-sm-block,
.visible-sm-inline,
.visible-sm-inline-block,
.visible-md-block,
.visible-md-inline,
.visible-md-inline-block,
.visible-lg-block,
.visible-lg-inline,
.visible-lg-inline-block {
  display: none !important;
}
@media (max-width: 767px) {
  .visible-xs {
    display: block !important;
  }
  table.visible-xs {
    display: table !important;
  }
  tr.visible-xs {
    display: table-row !important;
  }
  th.visible-xs,
  td.visible-xs {
    display: table-cell !important;
  }
}
@media (max-width: 767px) {
  .visible-xs-block {
    display: block !important;
  }
}
@media (max-width: 767px) {
  .visible-xs-inline {
    display: inline !important;
  }
}
@media (max-width: 767px) {
  .visible-xs-inline-block {
    display: inline-block !important;
  }
}
@media (min-width: 768px) and (max-width: 991px) {
  .visible-sm {
    display: block !important;
  }
  table.visible-sm {
    display: table !important;
  }
  tr.visible-sm {
    display: table-row !important;
  }
  th.visible-sm,
  td.visible-sm {
    display: table-cell !important;
  }
}
@media (min-width: 768px) and (max-width: 991px) {
  .visible-sm-block {
    display: block !important;
  }
}
@media (min-width: 768px) and (max-width: 991px) {
  .visible-sm-inline {
    display: inline !important;
  }
}
@media (min-width: 768px) and (max-width: 991px) {
  .visible-sm-inline-block {
    display: inline-block !important;
  }
}
@media (min-width: 992px) and (max-width: 1199px) {
  .visible-md {
    display: block !important;
  }
  table.visible-md {
    display: table !important;
  }
  tr.visible-md {
    display: table-row !important;
  }
  th.visible-md,
  td.visible-md {
    display: table-cell !important;
  }
}
@media (min-width: 992px) and (max-width: 1199px) {
  .visible-md-block {
    display: block !important;
  }
}
@media (min-width: 992px) and (max-width: 1199px) {
  .visible-md-inline {
    display: inline !important;
  }
}
@media (min-width: 992px) and (max-width: 1199px) {
  .visible-md-inline-block {
    display: inline-block !important;
  }
}
@media (min-width: 1200px) {
  .visible-lg {
    display: block !important;
  }
  table.visible-lg {
    display: table !important;
  }
  tr.visible-lg {
    display: table-row !important;
  }
  th.visible-lg,
  td.visible-lg {
    display: table-cell !important;
  }
}
@media (min-width: 1200px) {
  .visible-lg-block {
    display: block !important;
  }
}
@media (min-width: 1200px) {
  .visible-lg-inline {
    display: inline !important;
  }
}
@media (min-width: 1200px) {
  .visible-lg-inline-block {
    display: inline-block !important;
  }
}
@media (max-width: 767px) {
  .hidden-xs {
    display: none !important;
  }
}
@media (min-width: 768px) and (max-width: 991px) {
  .hidden-sm {
    display: none !important;
  }
}
@media (min-width: 992px) and (max-width: 1199px) {
  .hidden-md {
    display: none !important;
  }
}
@media (min-width: 1200px) {
  .hidden-lg {
    display: none !important;
  }
}
.visible-print {
  display: none !important;
}
@media print {
  .visible-print {
    display: block !important;
  }
  table.visible-print {
    display: table !important;
  }
  tr.visible-print {
    display: table-row !important;
  }
  th.visible-print,
  td.visible-print {
    display: table-cell !important;
  }
}
.visible-print-block {
  display: none !important;
}
@media print {
  .visible-print-block {
    display: block !important;
  }
}
.visible-print-inline {
  display: none !important;
}
@media print {
  .visible-print-inline {
    display: inline !important;
  }
}
.visible-print-inline-block {
  display: none !important;
}
@media print {
  .visible-print-inline-block {
    display: inline-block !important;
  }
}
@media print {
  .hidden-print {
    display: none !important;
  }
}
/*!
*
* Font Awesome
*
*/
/*!
 *  Font Awesome 4.2.0 by @davegandy - http://fontawesome.io - @fontawesome
 *  License - http://fontawesome.io/license (Font: SIL OFL 1.1, CSS: MIT License)
 */
/* FONT PATH
 * -------------------------- */
@font-face {
  font-family: 'FontAwesome';
  src: url('../components/font-awesome/fonts/fontawesome-webfont.eot?v=4.2.0');
  src: url('../components/font-awesome/fonts/fontawesome-webfont.eot?#iefix&v=4.2.0') format('embedded-opentype'), url('../components/font-awesome/fonts/fontawesome-webfont.woff?v=4.2.0') format('woff'), url('../components/font-awesome/fonts/fontawesome-webfont.ttf?v=4.2.0') format('truetype'), url('../components/font-awesome/fonts/fontawesome-webfont.svg?v=4.2.0#fontawesomeregular') format('svg');
  font-weight: normal;
  font-style: normal;
}
.fa {
  display: inline-block;
  font: normal normal normal 14px/1 FontAwesome;
  font-size: inherit;
  text-rendering: auto;
  -webkit-font-smoothing: antialiased;
  -moz-osx-font-smoothing: grayscale;
}
/* makes the font 33% larger relative to the icon container */
.fa-lg {
  font-size: 1.33333333em;
  line-height: 0.75em;
  vertical-align: -15%;
}
.fa-2x {
  font-size: 2em;
}
.fa-3x {
  font-size: 3em;
}
.fa-4x {
  font-size: 4em;
}
.fa-5x {
  font-size: 5em;
}
.fa-fw {
  width: 1.28571429em;
  text-align: center;
}
.fa-ul {
  padding-left: 0;
  margin-left: 2.14285714em;
  list-style-type: none;
}
.fa-ul > li {
  position: relative;
}
.fa-li {
  position: absolute;
  left: -2.14285714em;
  width: 2.14285714em;
  top: 0.14285714em;
  text-align: center;
}
.fa-li.fa-lg {
  left: -1.85714286em;
}
.fa-border {
  padding: .2em .25em .15em;
  border: solid 0.08em #eee;
  border-radius: .1em;
}
.pull-right {
  float: right;
}
.pull-left {
  float: left;
}
.fa.pull-left {
  margin-right: .3em;
}
.fa.pull-right {
  margin-left: .3em;
}
.fa-spin {
  -webkit-animation: fa-spin 2s infinite linear;
  animation: fa-spin 2s infinite linear;
}
@-webkit-keyframes fa-spin {
  0% {
    -webkit-transform: rotate(0deg);
    transform: rotate(0deg);
  }
  100% {
    -webkit-transform: rotate(359deg);
    transform: rotate(359deg);
  }
}
@keyframes fa-spin {
  0% {
    -webkit-transform: rotate(0deg);
    transform: rotate(0deg);
  }
  100% {
    -webkit-transform: rotate(359deg);
    transform: rotate(359deg);
  }
}
.fa-rotate-90 {
  filter: progid:DXImageTransform.Microsoft.BasicImage(rotation=1);
  -webkit-transform: rotate(90deg);
  -ms-transform: rotate(90deg);
  transform: rotate(90deg);
}
.fa-rotate-180 {
  filter: progid:DXImageTransform.Microsoft.BasicImage(rotation=2);
  -webkit-transform: rotate(180deg);
  -ms-transform: rotate(180deg);
  transform: rotate(180deg);
}
.fa-rotate-270 {
  filter: progid:DXImageTransform.Microsoft.BasicImage(rotation=3);
  -webkit-transform: rotate(270deg);
  -ms-transform: rotate(270deg);
  transform: rotate(270deg);
}
.fa-flip-horizontal {
  filter: progid:DXImageTransform.Microsoft.BasicImage(rotation=0, mirror=1);
  -webkit-transform: scale(-1, 1);
  -ms-transform: scale(-1, 1);
  transform: scale(-1, 1);
}
.fa-flip-vertical {
  filter: progid:DXImageTransform.Microsoft.BasicImage(rotation=2, mirror=1);
  -webkit-transform: scale(1, -1);
  -ms-transform: scale(1, -1);
  transform: scale(1, -1);
}
:root .fa-rotate-90,
:root .fa-rotate-180,
:root .fa-rotate-270,
:root .fa-flip-horizontal,
:root .fa-flip-vertical {
  filter: none;
}
.fa-stack {
  position: relative;
  display: inline-block;
  width: 2em;
  height: 2em;
  line-height: 2em;
  vertical-align: middle;
}
.fa-stack-1x,
.fa-stack-2x {
  position: absolute;
  left: 0;
  width: 100%;
  text-align: center;
}
.fa-stack-1x {
  line-height: inherit;
}
.fa-stack-2x {
  font-size: 2em;
}
.fa-inverse {
  color: #fff;
}
/* Font Awesome uses the Unicode Private Use Area (PUA) to ensure screen
   readers do not read off random characters that represent icons */
.fa-glass:before {
  content: "\f000";
}
.fa-music:before {
  content: "\f001";
}
.fa-search:before {
  content: "\f002";
}
.fa-envelope-o:before {
  content: "\f003";
}
.fa-heart:before {
  content: "\f004";
}
.fa-star:before {
  content: "\f005";
}
.fa-star-o:before {
  content: "\f006";
}
.fa-user:before {
  content: "\f007";
}
.fa-film:before {
  content: "\f008";
}
.fa-th-large:before {
  content: "\f009";
}
.fa-th:before {
  content: "\f00a";
}
.fa-th-list:before {
  content: "\f00b";
}
.fa-check:before {
  content: "\f00c";
}
.fa-remove:before,
.fa-close:before,
.fa-times:before {
  content: "\f00d";
}
.fa-search-plus:before {
  content: "\f00e";
}
.fa-search-minus:before {
  content: "\f010";
}
.fa-power-off:before {
  content: "\f011";
}
.fa-signal:before {
  content: "\f012";
}
.fa-gear:before,
.fa-cog:before {
  content: "\f013";
}
.fa-trash-o:before {
  content: "\f014";
}
.fa-home:before {
  content: "\f015";
}
.fa-file-o:before {
  content: "\f016";
}
.fa-clock-o:before {
  content: "\f017";
}
.fa-road:before {
  content: "\f018";
}
.fa-download:before {
  content: "\f019";
}
.fa-arrow-circle-o-down:before {
  content: "\f01a";
}
.fa-arrow-circle-o-up:before {
  content: "\f01b";
}
.fa-inbox:before {
  content: "\f01c";
}
.fa-play-circle-o:before {
  content: "\f01d";
}
.fa-rotate-right:before,
.fa-repeat:before {
  content: "\f01e";
}
.fa-refresh:before {
  content: "\f021";
}
.fa-list-alt:before {
  content: "\f022";
}
.fa-lock:before {
  content: "\f023";
}
.fa-flag:before {
  content: "\f024";
}
.fa-headphones:before {
  content: "\f025";
}
.fa-volume-off:before {
  content: "\f026";
}
.fa-volume-down:before {
  content: "\f027";
}
.fa-volume-up:before {
  content: "\f028";
}
.fa-qrcode:before {
  content: "\f029";
}
.fa-barcode:before {
  content: "\f02a";
}
.fa-tag:before {
  content: "\f02b";
}
.fa-tags:before {
  content: "\f02c";
}
.fa-book:before {
  content: "\f02d";
}
.fa-bookmark:before {
  content: "\f02e";
}
.fa-print:before {
  content: "\f02f";
}
.fa-camera:before {
  content: "\f030";
}
.fa-font:before {
  content: "\f031";
}
.fa-bold:before {
  content: "\f032";
}
.fa-italic:before {
  content: "\f033";
}
.fa-text-height:before {
  content: "\f034";
}
.fa-text-width:before {
  content: "\f035";
}
.fa-align-left:before {
  content: "\f036";
}
.fa-align-center:before {
  content: "\f037";
}
.fa-align-right:before {
  content: "\f038";
}
.fa-align-justify:before {
  content: "\f039";
}
.fa-list:before {
  content: "\f03a";
}
.fa-dedent:before,
.fa-outdent:before {
  content: "\f03b";
}
.fa-indent:before {
  content: "\f03c";
}
.fa-video-camera:before {
  content: "\f03d";
}
.fa-photo:before,
.fa-image:before,
.fa-picture-o:before {
  content: "\f03e";
}
.fa-pencil:before {
  content: "\f040";
}
.fa-map-marker:before {
  content: "\f041";
}
.fa-adjust:before {
  content: "\f042";
}
.fa-tint:before {
  content: "\f043";
}
.fa-edit:before,
.fa-pencil-square-o:before {
  content: "\f044";
}
.fa-share-square-o:before {
  content: "\f045";
}
.fa-check-square-o:before {
  content: "\f046";
}
.fa-arrows:before {
  content: "\f047";
}
.fa-step-backward:before {
  content: "\f048";
}
.fa-fast-backward:before {
  content: "\f049";
}
.fa-backward:before {
  content: "\f04a";
}
.fa-play:before {
  content: "\f04b";
}
.fa-pause:before {
  content: "\f04c";
}
.fa-stop:before {
  content: "\f04d";
}
.fa-forward:before {
  content: "\f04e";
}
.fa-fast-forward:before {
  content: "\f050";
}
.fa-step-forward:before {
  content: "\f051";
}
.fa-eject:before {
  content: "\f052";
}
.fa-chevron-left:before {
  content: "\f053";
}
.fa-chevron-right:before {
  content: "\f054";
}
.fa-plus-circle:before {
  content: "\f055";
}
.fa-minus-circle:before {
  content: "\f056";
}
.fa-times-circle:before {
  content: "\f057";
}
.fa-check-circle:before {
  content: "\f058";
}
.fa-question-circle:before {
  content: "\f059";
}
.fa-info-circle:before {
  content: "\f05a";
}
.fa-crosshairs:before {
  content: "\f05b";
}
.fa-times-circle-o:before {
  content: "\f05c";
}
.fa-check-circle-o:before {
  content: "\f05d";
}
.fa-ban:before {
  content: "\f05e";
}
.fa-arrow-left:before {
  content: "\f060";
}
.fa-arrow-right:before {
  content: "\f061";
}
.fa-arrow-up:before {
  content: "\f062";
}
.fa-arrow-down:before {
  content: "\f063";
}
.fa-mail-forward:before,
.fa-share:before {
  content: "\f064";
}
.fa-expand:before {
  content: "\f065";
}
.fa-compress:before {
  content: "\f066";
}
.fa-plus:before {
  content: "\f067";
}
.fa-minus:before {
  content: "\f068";
}
.fa-asterisk:before {
  content: "\f069";
}
.fa-exclamation-circle:before {
  content: "\f06a";
}
.fa-gift:before {
  content: "\f06b";
}
.fa-leaf:before {
  content: "\f06c";
}
.fa-fire:before {
  content: "\f06d";
}
.fa-eye:before {
  content: "\f06e";
}
.fa-eye-slash:before {
  content: "\f070";
}
.fa-warning:before,
.fa-exclamation-triangle:before {
  content: "\f071";
}
.fa-plane:before {
  content: "\f072";
}
.fa-calendar:before {
  content: "\f073";
}
.fa-random:before {
  content: "\f074";
}
.fa-comment:before {
  content: "\f075";
}
.fa-magnet:before {
  content: "\f076";
}
.fa-chevron-up:before {
  content: "\f077";
}
.fa-chevron-down:before {
  content: "\f078";
}
.fa-retweet:before {
  content: "\f079";
}
.fa-shopping-cart:before {
  content: "\f07a";
}
.fa-folder:before {
  content: "\f07b";
}
.fa-folder-open:before {
  content: "\f07c";
}
.fa-arrows-v:before {
  content: "\f07d";
}
.fa-arrows-h:before {
  content: "\f07e";
}
.fa-bar-chart-o:before,
.fa-bar-chart:before {
  content: "\f080";
}
.fa-twitter-square:before {
  content: "\f081";
}
.fa-facebook-square:before {
  content: "\f082";
}
.fa-camera-retro:before {
  content: "\f083";
}
.fa-key:before {
  content: "\f084";
}
.fa-gears:before,
.fa-cogs:before {
  content: "\f085";
}
.fa-comments:before {
  content: "\f086";
}
.fa-thumbs-o-up:before {
  content: "\f087";
}
.fa-thumbs-o-down:before {
  content: "\f088";
}
.fa-star-half:before {
  content: "\f089";
}
.fa-heart-o:before {
  content: "\f08a";
}
.fa-sign-out:before {
  content: "\f08b";
}
.fa-linkedin-square:before {
  content: "\f08c";
}
.fa-thumb-tack:before {
  content: "\f08d";
}
.fa-external-link:before {
  content: "\f08e";
}
.fa-sign-in:before {
  content: "\f090";
}
.fa-trophy:before {
  content: "\f091";
}
.fa-github-square:before {
  content: "\f092";
}
.fa-upload:before {
  content: "\f093";
}
.fa-lemon-o:before {
  content: "\f094";
}
.fa-phone:before {
  content: "\f095";
}
.fa-square-o:before {
  content: "\f096";
}
.fa-bookmark-o:before {
  content: "\f097";
}
.fa-phone-square:before {
  content: "\f098";
}
.fa-twitter:before {
  content: "\f099";
}
.fa-facebook:before {
  content: "\f09a";
}
.fa-github:before {
  content: "\f09b";
}
.fa-unlock:before {
  content: "\f09c";
}
.fa-credit-card:before {
  content: "\f09d";
}
.fa-rss:before {
  content: "\f09e";
}
.fa-hdd-o:before {
  content: "\f0a0";
}
.fa-bullhorn:before {
  content: "\f0a1";
}
.fa-bell:before {
  content: "\f0f3";
}
.fa-certificate:before {
  content: "\f0a3";
}
.fa-hand-o-right:before {
  content: "\f0a4";
}
.fa-hand-o-left:before {
  content: "\f0a5";
}
.fa-hand-o-up:before {
  content: "\f0a6";
}
.fa-hand-o-down:before {
  content: "\f0a7";
}
.fa-arrow-circle-left:before {
  content: "\f0a8";
}
.fa-arrow-circle-right:before {
  content: "\f0a9";
}
.fa-arrow-circle-up:before {
  content: "\f0aa";
}
.fa-arrow-circle-down:before {
  content: "\f0ab";
}
.fa-globe:before {
  content: "\f0ac";
}
.fa-wrench:before {
  content: "\f0ad";
}
.fa-tasks:before {
  content: "\f0ae";
}
.fa-filter:before {
  content: "\f0b0";
}
.fa-briefcase:before {
  content: "\f0b1";
}
.fa-arrows-alt:before {
  content: "\f0b2";
}
.fa-group:before,
.fa-users:before {
  content: "\f0c0";
}
.fa-chain:before,
.fa-link:before {
  content: "\f0c1";
}
.fa-cloud:before {
  content: "\f0c2";
}
.fa-flask:before {
  content: "\f0c3";
}
.fa-cut:before,
.fa-scissors:before {
  content: "\f0c4";
}
.fa-copy:before,
.fa-files-o:before {
  content: "\f0c5";
}
.fa-paperclip:before {
  content: "\f0c6";
}
.fa-save:before,
.fa-floppy-o:before {
  content: "\f0c7";
}
.fa-square:before {
  content: "\f0c8";
}
.fa-navicon:before,
.fa-reorder:before,
.fa-bars:before {
  content: "\f0c9";
}
.fa-list-ul:before {
  content: "\f0ca";
}
.fa-list-ol:before {
  content: "\f0cb";
}
.fa-strikethrough:before {
  content: "\f0cc";
}
.fa-underline:before {
  content: "\f0cd";
}
.fa-table:before {
  content: "\f0ce";
}
.fa-magic:before {
  content: "\f0d0";
}
.fa-truck:before {
  content: "\f0d1";
}
.fa-pinterest:before {
  content: "\f0d2";
}
.fa-pinterest-square:before {
  content: "\f0d3";
}
.fa-google-plus-square:before {
  content: "\f0d4";
}
.fa-google-plus:before {
  content: "\f0d5";
}
.fa-money:before {
  content: "\f0d6";
}
.fa-caret-down:before {
  content: "\f0d7";
}
.fa-caret-up:before {
  content: "\f0d8";
}
.fa-caret-left:before {
  content: "\f0d9";
}
.fa-caret-right:before {
  content: "\f0da";
}
.fa-columns:before {
  content: "\f0db";
}
.fa-unsorted:before,
.fa-sort:before {
  content: "\f0dc";
}
.fa-sort-down:before,
.fa-sort-desc:before {
  content: "\f0dd";
}
.fa-sort-up:before,
.fa-sort-asc:before {
  content: "\f0de";
}
.fa-envelope:before {
  content: "\f0e0";
}
.fa-linkedin:before {
  content: "\f0e1";
}
.fa-rotate-left:before,
.fa-undo:before {
  content: "\f0e2";
}
.fa-legal:before,
.fa-gavel:before {
  content: "\f0e3";
}
.fa-dashboard:before,
.fa-tachometer:before {
  content: "\f0e4";
}
.fa-comment-o:before {
  content: "\f0e5";
}
.fa-comments-o:before {
  content: "\f0e6";
}
.fa-flash:before,
.fa-bolt:before {
  content: "\f0e7";
}
.fa-sitemap:before {
  content: "\f0e8";
}
.fa-umbrella:before {
  content: "\f0e9";
}
.fa-paste:before,
.fa-clipboard:before {
  content: "\f0ea";
}
.fa-lightbulb-o:before {
  content: "\f0eb";
}
.fa-exchange:before {
  content: "\f0ec";
}
.fa-cloud-download:before {
  content: "\f0ed";
}
.fa-cloud-upload:before {
  content: "\f0ee";
}
.fa-user-md:before {
  content: "\f0f0";
}
.fa-stethoscope:before {
  content: "\f0f1";
}
.fa-suitcase:before {
  content: "\f0f2";
}
.fa-bell-o:before {
  content: "\f0a2";
}
.fa-coffee:before {
  content: "\f0f4";
}
.fa-cutlery:before {
  content: "\f0f5";
}
.fa-file-text-o:before {
  content: "\f0f6";
}
.fa-building-o:before {
  content: "\f0f7";
}
.fa-hospital-o:before {
  content: "\f0f8";
}
.fa-ambulance:before {
  content: "\f0f9";
}
.fa-medkit:before {
  content: "\f0fa";
}
.fa-fighter-jet:before {
  content: "\f0fb";
}
.fa-beer:before {
  content: "\f0fc";
}
.fa-h-square:before {
  content: "\f0fd";
}
.fa-plus-square:before {
  content: "\f0fe";
}
.fa-angle-double-left:before {
  content: "\f100";
}
.fa-angle-double-right:before {
  content: "\f101";
}
.fa-angle-double-up:before {
  content: "\f102";
}
.fa-angle-double-down:before {
  content: "\f103";
}
.fa-angle-left:before {
  content: "\f104";
}
.fa-angle-right:before {
  content: "\f105";
}
.fa-angle-up:before {
  content: "\f106";
}
.fa-angle-down:before {
  content: "\f107";
}
.fa-desktop:before {
  content: "\f108";
}
.fa-laptop:before {
  content: "\f109";
}
.fa-tablet:before {
  content: "\f10a";
}
.fa-mobile-phone:before,
.fa-mobile:before {
  content: "\f10b";
}
.fa-circle-o:before {
  content: "\f10c";
}
.fa-quote-left:before {
  content: "\f10d";
}
.fa-quote-right:before {
  content: "\f10e";
}
.fa-spinner:before {
  content: "\f110";
}
.fa-circle:before {
  content: "\f111";
}
.fa-mail-reply:before,
.fa-reply:before {
  content: "\f112";
}
.fa-github-alt:before {
  content: "\f113";
}
.fa-folder-o:before {
  content: "\f114";
}
.fa-folder-open-o:before {
  content: "\f115";
}
.fa-smile-o:before {
  content: "\f118";
}
.fa-frown-o:before {
  content: "\f119";
}
.fa-meh-o:before {
  content: "\f11a";
}
.fa-gamepad:before {
  content: "\f11b";
}
.fa-keyboard-o:before {
  content: "\f11c";
}
.fa-flag-o:before {
  content: "\f11d";
}
.fa-flag-checkered:before {
  content: "\f11e";
}
.fa-terminal:before {
  content: "\f120";
}
.fa-code:before {
  content: "\f121";
}
.fa-mail-reply-all:before,
.fa-reply-all:before {
  content: "\f122";
}
.fa-star-half-empty:before,
.fa-star-half-full:before,
.fa-star-half-o:before {
  content: "\f123";
}
.fa-location-arrow:before {
  content: "\f124";
}
.fa-crop:before {
  content: "\f125";
}
.fa-code-fork:before {
  content: "\f126";
}
.fa-unlink:before,
.fa-chain-broken:before {
  content: "\f127";
}
.fa-question:before {
  content: "\f128";
}
.fa-info:before {
  content: "\f129";
}
.fa-exclamation:before {
  content: "\f12a";
}
.fa-superscript:before {
  content: "\f12b";
}
.fa-subscript:before {
  content: "\f12c";
}
.fa-eraser:before {
  content: "\f12d";
}
.fa-puzzle-piece:before {
  content: "\f12e";
}
.fa-microphone:before {
  content: "\f130";
}
.fa-microphone-slash:before {
  content: "\f131";
}
.fa-shield:before {
  content: "\f132";
}
.fa-calendar-o:before {
  content: "\f133";
}
.fa-fire-extinguisher:before {
  content: "\f134";
}
.fa-rocket:before {
  content: "\f135";
}
.fa-maxcdn:before {
  content: "\f136";
}
.fa-chevron-circle-left:before {
  content: "\f137";
}
.fa-chevron-circle-right:before {
  content: "\f138";
}
.fa-chevron-circle-up:before {
  content: "\f139";
}
.fa-chevron-circle-down:before {
  content: "\f13a";
}
.fa-html5:before {
  content: "\f13b";
}
.fa-css3:before {
  content: "\f13c";
}
.fa-anchor:before {
  content: "\f13d";
}
.fa-unlock-alt:before {
  content: "\f13e";
}
.fa-bullseye:before {
  content: "\f140";
}
.fa-ellipsis-h:before {
  content: "\f141";
}
.fa-ellipsis-v:before {
  content: "\f142";
}
.fa-rss-square:before {
  content: "\f143";
}
.fa-play-circle:before {
  content: "\f144";
}
.fa-ticket:before {
  content: "\f145";
}
.fa-minus-square:before {
  content: "\f146";
}
.fa-minus-square-o:before {
  content: "\f147";
}
.fa-level-up:before {
  content: "\f148";
}
.fa-level-down:before {
  content: "\f149";
}
.fa-check-square:before {
  content: "\f14a";
}
.fa-pencil-square:before {
  content: "\f14b";
}
.fa-external-link-square:before {
  content: "\f14c";
}
.fa-share-square:before {
  content: "\f14d";
}
.fa-compass:before {
  content: "\f14e";
}
.fa-toggle-down:before,
.fa-caret-square-o-down:before {
  content: "\f150";
}
.fa-toggle-up:before,
.fa-caret-square-o-up:before {
  content: "\f151";
}
.fa-toggle-right:before,
.fa-caret-square-o-right:before {
  content: "\f152";
}
.fa-euro:before,
.fa-eur:before {
  content: "\f153";
}
.fa-gbp:before {
  content: "\f154";
}
.fa-dollar:before,
.fa-usd:before {
  content: "\f155";
}
.fa-rupee:before,
.fa-inr:before {
  content: "\f156";
}
.fa-cny:before,
.fa-rmb:before,
.fa-yen:before,
.fa-jpy:before {
  content: "\f157";
}
.fa-ruble:before,
.fa-rouble:before,
.fa-rub:before {
  content: "\f158";
}
.fa-won:before,
.fa-krw:before {
  content: "\f159";
}
.fa-bitcoin:before,
.fa-btc:before {
  content: "\f15a";
}
.fa-file:before {
  content: "\f15b";
}
.fa-file-text:before {
  content: "\f15c";
}
.fa-sort-alpha-asc:before {
  content: "\f15d";
}
.fa-sort-alpha-desc:before {
  content: "\f15e";
}
.fa-sort-amount-asc:before {
  content: "\f160";
}
.fa-sort-amount-desc:before {
  content: "\f161";
}
.fa-sort-numeric-asc:before {
  content: "\f162";
}
.fa-sort-numeric-desc:before {
  content: "\f163";
}
.fa-thumbs-up:before {
  content: "\f164";
}
.fa-thumbs-down:before {
  content: "\f165";
}
.fa-youtube-square:before {
  content: "\f166";
}
.fa-youtube:before {
  content: "\f167";
}
.fa-xing:before {
  content: "\f168";
}
.fa-xing-square:before {
  content: "\f169";
}
.fa-youtube-play:before {
  content: "\f16a";
}
.fa-dropbox:before {
  content: "\f16b";
}
.fa-stack-overflow:before {
  content: "\f16c";
}
.fa-instagram:before {
  content: "\f16d";
}
.fa-flickr:before {
  content: "\f16e";
}
.fa-adn:before {
  content: "\f170";
}
.fa-bitbucket:before {
  content: "\f171";
}
.fa-bitbucket-square:before {
  content: "\f172";
}
.fa-tumblr:before {
  content: "\f173";
}
.fa-tumblr-square:before {
  content: "\f174";
}
.fa-long-arrow-down:before {
  content: "\f175";
}
.fa-long-arrow-up:before {
  content: "\f176";
}
.fa-long-arrow-left:before {
  content: "\f177";
}
.fa-long-arrow-right:before {
  content: "\f178";
}
.fa-apple:before {
  content: "\f179";
}
.fa-windows:before {
  content: "\f17a";
}
.fa-android:before {
  content: "\f17b";
}
.fa-linux:before {
  content: "\f17c";
}
.fa-dribbble:before {
  content: "\f17d";
}
.fa-skype:before {
  content: "\f17e";
}
.fa-foursquare:before {
  content: "\f180";
}
.fa-trello:before {
  content: "\f181";
}
.fa-female:before {
  content: "\f182";
}
.fa-male:before {
  content: "\f183";
}
.fa-gittip:before {
  content: "\f184";
}
.fa-sun-o:before {
  content: "\f185";
}
.fa-moon-o:before {
  content: "\f186";
}
.fa-archive:before {
  content: "\f187";
}
.fa-bug:before {
  content: "\f188";
}
.fa-vk:before {
  content: "\f189";
}
.fa-weibo:before {
  content: "\f18a";
}
.fa-renren:before {
  content: "\f18b";
}
.fa-pagelines:before {
  content: "\f18c";
}
.fa-stack-exchange:before {
  content: "\f18d";
}
.fa-arrow-circle-o-right:before {
  content: "\f18e";
}
.fa-arrow-circle-o-left:before {
  content: "\f190";
}
.fa-toggle-left:before,
.fa-caret-square-o-left:before {
  content: "\f191";
}
.fa-dot-circle-o:before {
  content: "\f192";
}
.fa-wheelchair:before {
  content: "\f193";
}
.fa-vimeo-square:before {
  content: "\f194";
}
.fa-turkish-lira:before,
.fa-try:before {
  content: "\f195";
}
.fa-plus-square-o:before {
  content: "\f196";
}
.fa-space-shuttle:before {
  content: "\f197";
}
.fa-slack:before {
  content: "\f198";
}
.fa-envelope-square:before {
  content: "\f199";
}
.fa-wordpress:before {
  content: "\f19a";
}
.fa-openid:before {
  content: "\f19b";
}
.fa-institution:before,
.fa-bank:before,
.fa-university:before {
  content: "\f19c";
}
.fa-mortar-board:before,
.fa-graduation-cap:before {
  content: "\f19d";
}
.fa-yahoo:before {
  content: "\f19e";
}
.fa-google:before {
  content: "\f1a0";
}
.fa-reddit:before {
  content: "\f1a1";
}
.fa-reddit-square:before {
  content: "\f1a2";
}
.fa-stumbleupon-circle:before {
  content: "\f1a3";
}
.fa-stumbleupon:before {
  content: "\f1a4";
}
.fa-delicious:before {
  content: "\f1a5";
}
.fa-digg:before {
  content: "\f1a6";
}
.fa-pied-piper:before {
  content: "\f1a7";
}
.fa-pied-piper-alt:before {
  content: "\f1a8";
}
.fa-drupal:before {
  content: "\f1a9";
}
.fa-joomla:before {
  content: "\f1aa";
}
.fa-language:before {
  content: "\f1ab";
}
.fa-fax:before {
  content: "\f1ac";
}
.fa-building:before {
  content: "\f1ad";
}
.fa-child:before {
  content: "\f1ae";
}
.fa-paw:before {
  content: "\f1b0";
}
.fa-spoon:before {
  content: "\f1b1";
}
.fa-cube:before {
  content: "\f1b2";
}
.fa-cubes:before {
  content: "\f1b3";
}
.fa-behance:before {
  content: "\f1b4";
}
.fa-behance-square:before {
  content: "\f1b5";
}
.fa-steam:before {
  content: "\f1b6";
}
.fa-steam-square:before {
  content: "\f1b7";
}
.fa-recycle:before {
  content: "\f1b8";
}
.fa-automobile:before,
.fa-car:before {
  content: "\f1b9";
}
.fa-cab:before,
.fa-taxi:before {
  content: "\f1ba";
}
.fa-tree:before {
  content: "\f1bb";
}
.fa-spotify:before {
  content: "\f1bc";
}
.fa-deviantart:before {
  content: "\f1bd";
}
.fa-soundcloud:before {
  content: "\f1be";
}
.fa-database:before {
  content: "\f1c0";
}
.fa-file-pdf-o:before {
  content: "\f1c1";
}
.fa-file-word-o:before {
  content: "\f1c2";
}
.fa-file-excel-o:before {
  content: "\f1c3";
}
.fa-file-powerpoint-o:before {
  content: "\f1c4";
}
.fa-file-photo-o:before,
.fa-file-picture-o:before,
.fa-file-image-o:before {
  content: "\f1c5";
}
.fa-file-zip-o:before,
.fa-file-archive-o:before {
  content: "\f1c6";
}
.fa-file-sound-o:before,
.fa-file-audio-o:before {
  content: "\f1c7";
}
.fa-file-movie-o:before,
.fa-file-video-o:before {
  content: "\f1c8";
}
.fa-file-code-o:before {
  content: "\f1c9";
}
.fa-vine:before {
  content: "\f1ca";
}
.fa-codepen:before {
  content: "\f1cb";
}
.fa-jsfiddle:before {
  content: "\f1cc";
}
.fa-life-bouy:before,
.fa-life-buoy:before,
.fa-life-saver:before,
.fa-support:before,
.fa-life-ring:before {
  content: "\f1cd";
}
.fa-circle-o-notch:before {
  content: "\f1ce";
}
.fa-ra:before,
.fa-rebel:before {
  content: "\f1d0";
}
.fa-ge:before,
.fa-empire:before {
  content: "\f1d1";
}
.fa-git-square:before {
  content: "\f1d2";
}
.fa-git:before {
  content: "\f1d3";
}
.fa-hacker-news:before {
  content: "\f1d4";
}
.fa-tencent-weibo:before {
  content: "\f1d5";
}
.fa-qq:before {
  content: "\f1d6";
}
.fa-wechat:before,
.fa-weixin:before {
  content: "\f1d7";
}
.fa-send:before,
.fa-paper-plane:before {
  content: "\f1d8";
}
.fa-send-o:before,
.fa-paper-plane-o:before {
  content: "\f1d9";
}
.fa-history:before {
  content: "\f1da";
}
.fa-circle-thin:before {
  content: "\f1db";
}
.fa-header:before {
  content: "\f1dc";
}
.fa-paragraph:before {
  content: "\f1dd";
}
.fa-sliders:before {
  content: "\f1de";
}
.fa-share-alt:before {
  content: "\f1e0";
}
.fa-share-alt-square:before {
  content: "\f1e1";
}
.fa-bomb:before {
  content: "\f1e2";
}
.fa-soccer-ball-o:before,
.fa-futbol-o:before {
  content: "\f1e3";
}
.fa-tty:before {
  content: "\f1e4";
}
.fa-binoculars:before {
  content: "\f1e5";
}
.fa-plug:before {
  content: "\f1e6";
}
.fa-slideshare:before {
  content: "\f1e7";
}
.fa-twitch:before {
  content: "\f1e8";
}
.fa-yelp:before {
  content: "\f1e9";
}
.fa-newspaper-o:before {
  content: "\f1ea";
}
.fa-wifi:before {
  content: "\f1eb";
}
.fa-calculator:before {
  content: "\f1ec";
}
.fa-paypal:before {
  content: "\f1ed";
}
.fa-google-wallet:before {
  content: "\f1ee";
}
.fa-cc-visa:before {
  content: "\f1f0";
}
.fa-cc-mastercard:before {
  content: "\f1f1";
}
.fa-cc-discover:before {
  content: "\f1f2";
}
.fa-cc-amex:before {
  content: "\f1f3";
}
.fa-cc-paypal:before {
  content: "\f1f4";
}
.fa-cc-stripe:before {
  content: "\f1f5";
}
.fa-bell-slash:before {
  content: "\f1f6";
}
.fa-bell-slash-o:before {
  content: "\f1f7";
}
.fa-trash:before {
  content: "\f1f8";
}
.fa-copyright:before {
  content: "\f1f9";
}
.fa-at:before {
  content: "\f1fa";
}
.fa-eyedropper:before {
  content: "\f1fb";
}
.fa-paint-brush:before {
  content: "\f1fc";
}
.fa-birthday-cake:before {
  content: "\f1fd";
}
.fa-area-chart:before {
  content: "\f1fe";
}
.fa-pie-chart:before {
  content: "\f200";
}
.fa-line-chart:before {
  content: "\f201";
}
.fa-lastfm:before {
  content: "\f202";
}
.fa-lastfm-square:before {
  content: "\f203";
}
.fa-toggle-off:before {
  content: "\f204";
}
.fa-toggle-on:before {
  content: "\f205";
}
.fa-bicycle:before {
  content: "\f206";
}
.fa-bus:before {
  content: "\f207";
}
.fa-ioxhost:before {
  content: "\f208";
}
.fa-angellist:before {
  content: "\f209";
}
.fa-cc:before {
  content: "\f20a";
}
.fa-shekel:before,
.fa-sheqel:before,
.fa-ils:before {
  content: "\f20b";
}
.fa-meanpath:before {
  content: "\f20c";
}
/*!
*
* IPython base
*
*/
.modal.fade .modal-dialog {
  -webkit-transform: translate(0, 0);
  -ms-transform: translate(0, 0);
  -o-transform: translate(0, 0);
  transform: translate(0, 0);
}
code {
  color: #000;
}
pre {
  font-size: inherit;
  line-height: inherit;
}
label {
  font-weight: normal;
}
/* Make the page background atleast 100% the height of the view port */
/* Make the page itself atleast 70% the height of the view port */
.border-box-sizing {
  box-sizing: border-box;
  -moz-box-sizing: border-box;
  -webkit-box-sizing: border-box;
}
.corner-all {
  border-radius: 2px;
}
.no-padding {
  padding: 0px;
}
/* Flexible box model classes */
/* Taken from Alex Russell http://infrequently.org/2009/08/css-3-progress/ */
/* This file is a compatability layer.  It allows the usage of flexible box 
model layouts accross multiple browsers, including older browsers.  The newest,
universal implementation of the flexible box model is used when available (see
`Modern browsers` comments below).  Browsers that are known to implement this 
new spec completely include:

    Firefox 28.0+
    Chrome 29.0+
    Internet Explorer 11+ 
    Opera 17.0+

Browsers not listed, including Safari, are supported via the styling under the
`Old browsers` comments below.
*/
.hbox {
  /* Old browsers */
  display: -webkit-box;
  -webkit-box-orient: horizontal;
  -webkit-box-align: stretch;
  display: -moz-box;
  -moz-box-orient: horizontal;
  -moz-box-align: stretch;
  display: box;
  box-orient: horizontal;
  box-align: stretch;
  /* Modern browsers */
  display: flex;
  flex-direction: row;
  align-items: stretch;
}
.hbox > * {
  /* Old browsers */
  -webkit-box-flex: 0;
  -moz-box-flex: 0;
  box-flex: 0;
  /* Modern browsers */
  flex: none;
}
.vbox {
  /* Old browsers */
  display: -webkit-box;
  -webkit-box-orient: vertical;
  -webkit-box-align: stretch;
  display: -moz-box;
  -moz-box-orient: vertical;
  -moz-box-align: stretch;
  display: box;
  box-orient: vertical;
  box-align: stretch;
  /* Modern browsers */
  display: flex;
  flex-direction: column;
  align-items: stretch;
}
.vbox > * {
  /* Old browsers */
  -webkit-box-flex: 0;
  -moz-box-flex: 0;
  box-flex: 0;
  /* Modern browsers */
  flex: none;
}
.hbox.reverse,
.vbox.reverse,
.reverse {
  /* Old browsers */
  -webkit-box-direction: reverse;
  -moz-box-direction: reverse;
  box-direction: reverse;
  /* Modern browsers */
  flex-direction: row-reverse;
}
.hbox.box-flex0,
.vbox.box-flex0,
.box-flex0 {
  /* Old browsers */
  -webkit-box-flex: 0;
  -moz-box-flex: 0;
  box-flex: 0;
  /* Modern browsers */
  flex: none;
  width: auto;
}
.hbox.box-flex1,
.vbox.box-flex1,
.box-flex1 {
  /* Old browsers */
  -webkit-box-flex: 1;
  -moz-box-flex: 1;
  box-flex: 1;
  /* Modern browsers */
  flex: 1;
}
.hbox.box-flex,
.vbox.box-flex,
.box-flex {
  /* Old browsers */
  /* Old browsers */
  -webkit-box-flex: 1;
  -moz-box-flex: 1;
  box-flex: 1;
  /* Modern browsers */
  flex: 1;
}
.hbox.box-flex2,
.vbox.box-flex2,
.box-flex2 {
  /* Old browsers */
  -webkit-box-flex: 2;
  -moz-box-flex: 2;
  box-flex: 2;
  /* Modern browsers */
  flex: 2;
}
.box-group1 {
  /*  Deprecated */
  -webkit-box-flex-group: 1;
  -moz-box-flex-group: 1;
  box-flex-group: 1;
}
.box-group2 {
  /* Deprecated */
  -webkit-box-flex-group: 2;
  -moz-box-flex-group: 2;
  box-flex-group: 2;
}
.hbox.start,
.vbox.start,
.start {
  /* Old browsers */
  -webkit-box-pack: start;
  -moz-box-pack: start;
  box-pack: start;
  /* Modern browsers */
  justify-content: flex-start;
}
.hbox.end,
.vbox.end,
.end {
  /* Old browsers */
  -webkit-box-pack: end;
  -moz-box-pack: end;
  box-pack: end;
  /* Modern browsers */
  justify-content: flex-end;
}
.hbox.center,
.vbox.center,
.center {
  /* Old browsers */
  -webkit-box-pack: center;
  -moz-box-pack: center;
  box-pack: center;
  /* Modern browsers */
  justify-content: center;
}
.hbox.baseline,
.vbox.baseline,
.baseline {
  /* Old browsers */
  -webkit-box-pack: baseline;
  -moz-box-pack: baseline;
  box-pack: baseline;
  /* Modern browsers */
  justify-content: baseline;
}
.hbox.stretch,
.vbox.stretch,
.stretch {
  /* Old browsers */
  -webkit-box-pack: stretch;
  -moz-box-pack: stretch;
  box-pack: stretch;
  /* Modern browsers */
  justify-content: stretch;
}
.hbox.align-start,
.vbox.align-start,
.align-start {
  /* Old browsers */
  -webkit-box-align: start;
  -moz-box-align: start;
  box-align: start;
  /* Modern browsers */
  align-items: flex-start;
}
.hbox.align-end,
.vbox.align-end,
.align-end {
  /* Old browsers */
  -webkit-box-align: end;
  -moz-box-align: end;
  box-align: end;
  /* Modern browsers */
  align-items: flex-end;
}
.hbox.align-center,
.vbox.align-center,
.align-center {
  /* Old browsers */
  -webkit-box-align: center;
  -moz-box-align: center;
  box-align: center;
  /* Modern browsers */
  align-items: center;
}
.hbox.align-baseline,
.vbox.align-baseline,
.align-baseline {
  /* Old browsers */
  -webkit-box-align: baseline;
  -moz-box-align: baseline;
  box-align: baseline;
  /* Modern browsers */
  align-items: baseline;
}
.hbox.align-stretch,
.vbox.align-stretch,
.align-stretch {
  /* Old browsers */
  -webkit-box-align: stretch;
  -moz-box-align: stretch;
  box-align: stretch;
  /* Modern browsers */
  align-items: stretch;
}
div.error {
  margin: 2em;
  text-align: center;
}
div.error > h1 {
  font-size: 500%;
  line-height: normal;
}
div.error > p {
  font-size: 200%;
  line-height: normal;
}
div.traceback-wrapper {
  text-align: left;
  max-width: 800px;
  margin: auto;
}
/**
 * Primary styles
 *
 * Author: Jupyter Development Team
 */
body {
  background-color: #fff;
  /* This makes sure that the body covers the entire window and needs to
       be in a different element than the display: box in wrapper below */
  position: absolute;
  left: 0px;
  right: 0px;
  top: 0px;
  bottom: 0px;
  overflow: visible;
}
body > #header {
  /* Initially hidden to prevent FLOUC */
  display: none;
  background-color: #fff;
  /* Display over codemirror */
  position: relative;
  z-index: 100;
}
body > #header #header-container {
  padding-bottom: 5px;
  padding-top: 5px;
  box-sizing: border-box;
  -moz-box-sizing: border-box;
  -webkit-box-sizing: border-box;
}
body > #header .header-bar {
  width: 100%;
  height: 1px;
  background: #e7e7e7;
  margin-bottom: -1px;
}
@media print {
  body > #header {
    display: none !important;
  }
}
#header-spacer {
  width: 100%;
  visibility: hidden;
}
@media print {
  #header-spacer {
    display: none;
  }
}
#ipython_notebook {
  padding-left: 0px;
  padding-top: 1px;
  padding-bottom: 1px;
}
@media (max-width: 991px) {
  #ipython_notebook {
    margin-left: 10px;
  }
}
[dir="rtl"] #ipython_notebook {
  float: right !important;
}
#noscript {
  width: auto;
  padding-top: 16px;
  padding-bottom: 16px;
  text-align: center;
  font-size: 22px;
  color: red;
  font-weight: bold;
}
#ipython_notebook img {
  height: 28px;
}
#site {
  width: 100%;
  display: none;
  box-sizing: border-box;
  -moz-box-sizing: border-box;
  -webkit-box-sizing: border-box;
  overflow: auto;
}
@media print {
  #site {
    height: auto !important;
  }
}
/* Smaller buttons */
.ui-button .ui-button-text {
  padding: 0.2em 0.8em;
  font-size: 77%;
}
input.ui-button {
  padding: 0.3em 0.9em;
}
span#login_widget {
  float: right;
}
span#login_widget > .button,
#logout {
  color: #333;
  background-color: #fff;
  border-color: #ccc;
}
span#login_widget > .button:focus,
#logout:focus,
span#login_widget > .button.focus,
#logout.focus {
  color: #333;
  background-color: #e6e6e6;
  border-color: #8c8c8c;
}
span#login_widget > .button:hover,
#logout:hover {
  color: #333;
  background-color: #e6e6e6;
  border-color: #adadad;
}
span#login_widget > .button:active,
#logout:active,
span#login_widget > .button.active,
#logout.active,
.open > .dropdown-togglespan#login_widget > .button,
.open > .dropdown-toggle#logout {
  color: #333;
  background-color: #e6e6e6;
  border-color: #adadad;
}
span#login_widget > .button:active:hover,
#logout:active:hover,
span#login_widget > .button.active:hover,
#logout.active:hover,
.open > .dropdown-togglespan#login_widget > .button:hover,
.open > .dropdown-toggle#logout:hover,
span#login_widget > .button:active:focus,
#logout:active:focus,
span#login_widget > .button.active:focus,
#logout.active:focus,
.open > .dropdown-togglespan#login_widget > .button:focus,
.open > .dropdown-toggle#logout:focus,
span#login_widget > .button:active.focus,
#logout:active.focus,
span#login_widget > .button.active.focus,
#logout.active.focus,
.open > .dropdown-togglespan#login_widget > .button.focus,
.open > .dropdown-toggle#logout.focus {
  color: #333;
  background-color: #d4d4d4;
  border-color: #8c8c8c;
}
span#login_widget > .button:active,
#logout:active,
span#login_widget > .button.active,
#logout.active,
.open > .dropdown-togglespan#login_widget > .button,
.open > .dropdown-toggle#logout {
  background-image: none;
}
span#login_widget > .button.disabled:hover,
#logout.disabled:hover,
span#login_widget > .button[disabled]:hover,
#logout[disabled]:hover,
fieldset[disabled] span#login_widget > .button:hover,
fieldset[disabled] #logout:hover,
span#login_widget > .button.disabled:focus,
#logout.disabled:focus,
span#login_widget > .button[disabled]:focus,
#logout[disabled]:focus,
fieldset[disabled] span#login_widget > .button:focus,
fieldset[disabled] #logout:focus,
span#login_widget > .button.disabled.focus,
#logout.disabled.focus,
span#login_widget > .button[disabled].focus,
#logout[disabled].focus,
fieldset[disabled] span#login_widget > .button.focus,
fieldset[disabled] #logout.focus {
  background-color: #fff;
  border-color: #ccc;
}
span#login_widget > .button .badge,
#logout .badge {
  color: #fff;
  background-color: #333;
}
.nav-header {
  text-transform: none;
}
#header > span {
  margin-top: 10px;
}
.modal_stretch .modal-dialog {
  /* Old browsers */
  display: -webkit-box;
  -webkit-box-orient: vertical;
  -webkit-box-align: stretch;
  display: -moz-box;
  -moz-box-orient: vertical;
  -moz-box-align: stretch;
  display: box;
  box-orient: vertical;
  box-align: stretch;
  /* Modern browsers */
  display: flex;
  flex-direction: column;
  align-items: stretch;
  min-height: 80vh;
}
.modal_stretch .modal-dialog .modal-body {
  max-height: calc(100vh - 200px);
  overflow: auto;
  flex: 1;
}
@media (min-width: 768px) {
  .modal .modal-dialog {
    width: 700px;
  }
}
@media (min-width: 768px) {
  select.form-control {
    margin-left: 12px;
    margin-right: 12px;
  }
}
/*!
*
* IPython auth
*
*/
.center-nav {
  display: inline-block;
  margin-bottom: -4px;
}
/*!
*
* IPython tree view
*
*/
/* We need an invisible input field on top of the sentense*/
/* "Drag file onto the list ..." */
.alternate_upload {
  background-color: none;
  display: inline;
}
.alternate_upload.form {
  padding: 0;
  margin: 0;
}
.alternate_upload input.fileinput {
  text-align: center;
  vertical-align: middle;
  display: inline;
  opacity: 0;
  z-index: 2;
  width: 12ex;
  margin-right: -12ex;
}
.alternate_upload .btn-upload {
  height: 22px;
}
/**
 * Primary styles
 *
 * Author: Jupyter Development Team
 */
[dir="rtl"] #tabs li {
  float: right;
}
ul#tabs {
  margin-bottom: 4px;
}
[dir="rtl"] ul#tabs {
  margin-right: 0px;
}
ul#tabs a {
  padding-top: 6px;
  padding-bottom: 4px;
}
ul.breadcrumb a:focus,
ul.breadcrumb a:hover {
  text-decoration: none;
}
ul.breadcrumb i.icon-home {
  font-size: 16px;
  margin-right: 4px;
}
ul.breadcrumb span {
  color: #5e5e5e;
}
.list_toolbar {
  padding: 4px 0 4px 0;
  vertical-align: middle;
}
.list_toolbar .tree-buttons {
  padding-top: 1px;
}
[dir="rtl"] .list_toolbar .tree-buttons {
  float: left !important;
}
[dir="rtl"] .list_toolbar .pull-right {
  padding-top: 1px;
  float: left !important;
}
[dir="rtl"] .list_toolbar .pull-left {
  float: right !important;
}
.dynamic-buttons {
  padding-top: 3px;
  display: inline-block;
}
.list_toolbar [class*="span"] {
  min-height: 24px;
}
.list_header {
  font-weight: bold;
  background-color: #EEE;
}
.list_placeholder {
  font-weight: bold;
  padding-top: 4px;
  padding-bottom: 4px;
  padding-left: 7px;
  padding-right: 7px;
}
.list_container {
  margin-top: 4px;
  margin-bottom: 20px;
  border: 1px solid #ddd;
  border-radius: 2px;
}
.list_container > div {
  border-bottom: 1px solid #ddd;
}
.list_container > div:hover .list-item {
  background-color: red;
}
.list_container > div:last-child {
  border: none;
}
.list_item:hover .list_item {
  background-color: #ddd;
}
.list_item a {
  text-decoration: none;
}
.list_item:hover {
  background-color: #fafafa;
}
.list_header > div,
.list_item > div {
  padding-top: 4px;
  padding-bottom: 4px;
  padding-left: 7px;
  padding-right: 7px;
  line-height: 22px;
}
.list_header > div input,
.list_item > div input {
  margin-right: 7px;
  margin-left: 14px;
  vertical-align: baseline;
  line-height: 22px;
  position: relative;
  top: -1px;
}
.list_header > div .item_link,
.list_item > div .item_link {
  margin-left: -1px;
  vertical-align: baseline;
  line-height: 22px;
}
.new-file input[type=checkbox] {
  visibility: hidden;
}
.item_name {
  line-height: 22px;
  height: 24px;
}
.item_icon {
  font-size: 14px;
  color: #5e5e5e;
  margin-right: 7px;
  margin-left: 7px;
  line-height: 22px;
  vertical-align: baseline;
}
.item_buttons {
  line-height: 1em;
  margin-left: -5px;
}
.item_buttons .btn,
.item_buttons .btn-group,
.item_buttons .input-group {
  float: left;
}
.item_buttons > .btn,
.item_buttons > .btn-group,
.item_buttons > .input-group {
  margin-left: 5px;
}
.item_buttons .btn {
  min-width: 13ex;
}
.item_buttons .running-indicator {
  padding-top: 4px;
  color: #5cb85c;
}
.item_buttons .kernel-name {
  padding-top: 4px;
  color: #5bc0de;
  margin-right: 7px;
  float: left;
}
.toolbar_info {
  height: 24px;
  line-height: 24px;
}
.list_item input:not([type=checkbox]) {
  padding-top: 3px;
  padding-bottom: 3px;
  height: 22px;
  line-height: 14px;
  margin: 0px;
}
.highlight_text {
  color: blue;
}
#project_name {
  display: inline-block;
  padding-left: 7px;
  margin-left: -2px;
}
#project_name > .breadcrumb {
  padding: 0px;
  margin-bottom: 0px;
  background-color: transparent;
  font-weight: bold;
}
#tree-selector {
  padding-right: 0px;
}
[dir="rtl"] #tree-selector a {
  float: right;
}
#button-select-all {
  min-width: 50px;
}
#select-all {
  margin-left: 7px;
  margin-right: 2px;
}
.menu_icon {
  margin-right: 2px;
}
.tab-content .row {
  margin-left: 0px;
  margin-right: 0px;
}
.folder_icon:before {
  display: inline-block;
  font: normal normal normal 14px/1 FontAwesome;
  font-size: inherit;
  text-rendering: auto;
  -webkit-font-smoothing: antialiased;
  -moz-osx-font-smoothing: grayscale;
  content: "\f114";
}
.folder_icon:before.pull-left {
  margin-right: .3em;
}
.folder_icon:before.pull-right {
  margin-left: .3em;
}
.notebook_icon:before {
  display: inline-block;
  font: normal normal normal 14px/1 FontAwesome;
  font-size: inherit;
  text-rendering: auto;
  -webkit-font-smoothing: antialiased;
  -moz-osx-font-smoothing: grayscale;
  content: "\f02d";
  position: relative;
  top: -1px;
}
.notebook_icon:before.pull-left {
  margin-right: .3em;
}
.notebook_icon:before.pull-right {
  margin-left: .3em;
}
.running_notebook_icon:before {
  display: inline-block;
  font: normal normal normal 14px/1 FontAwesome;
  font-size: inherit;
  text-rendering: auto;
  -webkit-font-smoothing: antialiased;
  -moz-osx-font-smoothing: grayscale;
  content: "\f02d";
  position: relative;
  top: -1px;
  color: #5cb85c;
}
.running_notebook_icon:before.pull-left {
  margin-right: .3em;
}
.running_notebook_icon:before.pull-right {
  margin-left: .3em;
}
.file_icon:before {
  display: inline-block;
  font: normal normal normal 14px/1 FontAwesome;
  font-size: inherit;
  text-rendering: auto;
  -webkit-font-smoothing: antialiased;
  -moz-osx-font-smoothing: grayscale;
  content: "\f016";
  position: relative;
  top: -2px;
}
.file_icon:before.pull-left {
  margin-right: .3em;
}
.file_icon:before.pull-right {
  margin-left: .3em;
}
#notebook_toolbar .pull-right {
  padding-top: 0px;
  margin-right: -1px;
}
ul#new-menu {
  left: auto;
  right: 0;
}
[dir="rtl"] #new-menu {
  text-align: right;
}
.kernel-menu-icon {
  padding-right: 12px;
  width: 24px;
  content: "\f096";
}
.kernel-menu-icon:before {
  content: "\f096";
}
.kernel-menu-icon-current:before {
  content: "\f00c";
}
#tab_content {
  padding-top: 20px;
}
#running .panel-group .panel {
  margin-top: 3px;
  margin-bottom: 1em;
}
#running .panel-group .panel .panel-heading {
  background-color: #EEE;
  padding-top: 4px;
  padding-bottom: 4px;
  padding-left: 7px;
  padding-right: 7px;
  line-height: 22px;
}
#running .panel-group .panel .panel-heading a:focus,
#running .panel-group .panel .panel-heading a:hover {
  text-decoration: none;
}
#running .panel-group .panel .panel-body {
  padding: 0px;
}
#running .panel-group .panel .panel-body .list_container {
  margin-top: 0px;
  margin-bottom: 0px;
  border: 0px;
  border-radius: 0px;
}
#running .panel-group .panel .panel-body .list_container .list_item {
  border-bottom: 1px solid #ddd;
}
#running .panel-group .panel .panel-body .list_container .list_item:last-child {
  border-bottom: 0px;
}
[dir="rtl"] #running .col-sm-8 {
  float: right !important;
}
.delete-button {
  display: none;
}
.duplicate-button {
  display: none;
}
.rename-button {
  display: none;
}
.shutdown-button {
  display: none;
}
.dynamic-instructions {
  display: inline-block;
  padding-top: 4px;
}
/*!
*
* IPython text editor webapp
*
*/
.selected-keymap i.fa {
  padding: 0px 5px;
}
.selected-keymap i.fa:before {
  content: "\f00c";
}
#mode-menu {
  overflow: auto;
  max-height: 20em;
}
.edit_app #header {
  -webkit-box-shadow: 0px 0px 12px 1px rgba(87, 87, 87, 0.2);
  box-shadow: 0px 0px 12px 1px rgba(87, 87, 87, 0.2);
}
.edit_app #menubar .navbar {
  /* Use a negative 1 bottom margin, so the border overlaps the border of the
    header */
  margin-bottom: -1px;
}
.dirty-indicator {
  display: inline-block;
  font: normal normal normal 14px/1 FontAwesome;
  font-size: inherit;
  text-rendering: auto;
  -webkit-font-smoothing: antialiased;
  -moz-osx-font-smoothing: grayscale;
  width: 20px;
}
.dirty-indicator.pull-left {
  margin-right: .3em;
}
.dirty-indicator.pull-right {
  margin-left: .3em;
}
.dirty-indicator-dirty {
  display: inline-block;
  font: normal normal normal 14px/1 FontAwesome;
  font-size: inherit;
  text-rendering: auto;
  -webkit-font-smoothing: antialiased;
  -moz-osx-font-smoothing: grayscale;
  width: 20px;
}
.dirty-indicator-dirty.pull-left {
  margin-right: .3em;
}
.dirty-indicator-dirty.pull-right {
  margin-left: .3em;
}
.dirty-indicator-clean {
  display: inline-block;
  font: normal normal normal 14px/1 FontAwesome;
  font-size: inherit;
  text-rendering: auto;
  -webkit-font-smoothing: antialiased;
  -moz-osx-font-smoothing: grayscale;
  width: 20px;
}
.dirty-indicator-clean.pull-left {
  margin-right: .3em;
}
.dirty-indicator-clean.pull-right {
  margin-left: .3em;
}
.dirty-indicator-clean:before {
  display: inline-block;
  font: normal normal normal 14px/1 FontAwesome;
  font-size: inherit;
  text-rendering: auto;
  -webkit-font-smoothing: antialiased;
  -moz-osx-font-smoothing: grayscale;
  content: "\f00c";
}
.dirty-indicator-clean:before.pull-left {
  margin-right: .3em;
}
.dirty-indicator-clean:before.pull-right {
  margin-left: .3em;
}
#filename {
  font-size: 16pt;
  display: table;
  padding: 0px 5px;
}
#current-mode {
  padding-left: 5px;
  padding-right: 5px;
}
#texteditor-backdrop {
  padding-top: 20px;
  padding-bottom: 20px;
}
@media not print {
  #texteditor-backdrop {
    background-color: #EEE;
  }
}
@media print {
  #texteditor-backdrop #texteditor-container .CodeMirror-gutter,
  #texteditor-backdrop #texteditor-container .CodeMirror-gutters {
    background-color: #fff;
  }
}
@media not print {
  #texteditor-backdrop #texteditor-container .CodeMirror-gutter,
  #texteditor-backdrop #texteditor-container .CodeMirror-gutters {
    background-color: #fff;
  }
}
@media not print {
  #texteditor-backdrop #texteditor-container {
    padding: 0px;
    background-color: #fff;
    -webkit-box-shadow: 0px 0px 12px 1px rgba(87, 87, 87, 0.2);
    box-shadow: 0px 0px 12px 1px rgba(87, 87, 87, 0.2);
  }
}
/*!
*
* IPython notebook
*
*/
/* CSS font colors for translated ANSI colors. */
.ansibold {
  font-weight: bold;
}
/* use dark versions for foreground, to improve visibility */
.ansiblack {
  color: black;
}
.ansired {
  color: darkred;
}
.ansigreen {
  color: darkgreen;
}
.ansiyellow {
  color: #c4a000;
}
.ansiblue {
  color: darkblue;
}
.ansipurple {
  color: darkviolet;
}
.ansicyan {
  color: steelblue;
}
.ansigray {
  color: gray;
}
/* and light for background, for the same reason */
.ansibgblack {
  background-color: black;
}
.ansibgred {
  background-color: red;
}
.ansibggreen {
  background-color: green;
}
.ansibgyellow {
  background-color: yellow;
}
.ansibgblue {
  background-color: blue;
}
.ansibgpurple {
  background-color: magenta;
}
.ansibgcyan {
  background-color: cyan;
}
.ansibggray {
  background-color: gray;
}
div.cell {
  /* Old browsers */
  display: -webkit-box;
  -webkit-box-orient: vertical;
  -webkit-box-align: stretch;
  display: -moz-box;
  -moz-box-orient: vertical;
  -moz-box-align: stretch;
  display: box;
  box-orient: vertical;
  box-align: stretch;
  /* Modern browsers */
  display: flex;
  flex-direction: column;
  align-items: stretch;
  border-radius: 2px;
  box-sizing: border-box;
  -moz-box-sizing: border-box;
  -webkit-box-sizing: border-box;
  border-width: 1px;
  border-style: solid;
  border-color: transparent;
  width: 100%;
  padding: 5px;
  /* This acts as a spacer between cells, that is outside the border */
  margin: 0px;
  outline: none;
  border-left-width: 1px;
  padding-left: 5px;
  background: linear-gradient(to right, transparent -40px, transparent 1px, transparent 1px, transparent 100%);
}
div.cell.jupyter-soft-selected {
  border-left-color: #90CAF9;
  border-left-color: #E3F2FD;
  border-left-width: 1px;
  padding-left: 5px;
  border-right-color: #E3F2FD;
  border-right-width: 1px;
  background: #E3F2FD;
}
@media print {
  div.cell.jupyter-soft-selected {
    border-color: transparent;
  }
}
div.cell.selected {
  border-color: #ababab;
  border-left-width: 0px;
  padding-left: 6px;
  background: linear-gradient(to right, #42A5F5 -40px, #42A5F5 5px, transparent 5px, transparent 100%);
}
@media print {
  div.cell.selected {
    border-color: transparent;
  }
}
div.cell.selected.jupyter-soft-selected {
  border-left-width: 0;
  padding-left: 6px;
  background: linear-gradient(to right, #42A5F5 -40px, #42A5F5 7px, #E3F2FD 7px, #E3F2FD 100%);
}
.edit_mode div.cell.selected {
  border-color: #66BB6A;
  border-left-width: 0px;
  padding-left: 6px;
  background: linear-gradient(to right, #66BB6A -40px, #66BB6A 5px, transparent 5px, transparent 100%);
}
@media print {
  .edit_mode div.cell.selected {
    border-color: transparent;
  }
}
.prompt {
  /* This needs to be wide enough for 3 digit prompt numbers: In[100]: */
  min-width: 14ex;
  /* This padding is tuned to match the padding on the CodeMirror editor. */
  padding: 0.4em;
  margin: 0px;
  font-family: monospace;
  text-align: right;
  /* This has to match that of the the CodeMirror class line-height below */
  line-height: 1.21429em;
  /* Don't highlight prompt number selection */
  -webkit-touch-callout: none;
  -webkit-user-select: none;
  -khtml-user-select: none;
  -moz-user-select: none;
  -ms-user-select: none;
  user-select: none;
  /* Use default cursor */
  cursor: default;
}
@media (max-width: 540px) {
  .prompt {
    text-align: left;
  }
}
div.inner_cell {
  min-width: 0;
  /* Old browsers */
  display: -webkit-box;
  -webkit-box-orient: vertical;
  -webkit-box-align: stretch;
  display: -moz-box;
  -moz-box-orient: vertical;
  -moz-box-align: stretch;
  display: box;
  box-orient: vertical;
  box-align: stretch;
  /* Modern browsers */
  display: flex;
  flex-direction: column;
  align-items: stretch;
  /* Old browsers */
  -webkit-box-flex: 1;
  -moz-box-flex: 1;
  box-flex: 1;
  /* Modern browsers */
  flex: 1;
}
/* input_area and input_prompt must match in top border and margin for alignment */
div.input_area {
  border: 1px solid #cfcfcf;
  border-radius: 2px;
  background: #f7f7f7;
  line-height: 1.21429em;
}
/* This is needed so that empty prompt areas can collapse to zero height when there
   is no content in the output_subarea and the prompt. The main purpose of this is
   to make sure that empty JavaScript output_subareas have no height. */
div.prompt:empty {
  padding-top: 0;
  padding-bottom: 0;
}
div.unrecognized_cell {
  padding: 5px 5px 5px 0px;
  /* Old browsers */
  display: -webkit-box;
  -webkit-box-orient: horizontal;
  -webkit-box-align: stretch;
  display: -moz-box;
  -moz-box-orient: horizontal;
  -moz-box-align: stretch;
  display: box;
  box-orient: horizontal;
  box-align: stretch;
  /* Modern browsers */
  display: flex;
  flex-direction: row;
  align-items: stretch;
}
div.unrecognized_cell .inner_cell {
  border-radius: 2px;
  padding: 5px;
  font-weight: bold;
  color: red;
  border: 1px solid #cfcfcf;
  background: #eaeaea;
}
div.unrecognized_cell .inner_cell a {
  color: inherit;
  text-decoration: none;
}
div.unrecognized_cell .inner_cell a:hover {
  color: inherit;
  text-decoration: none;
}
@media (max-width: 540px) {
  div.unrecognized_cell > div.prompt {
    display: none;
  }
}
div.code_cell {
  /* avoid page breaking on code cells when printing */
}
@media print {
  div.code_cell {
    page-break-inside: avoid;
  }
}
/* any special styling for code cells that are currently running goes here */
div.input {
  page-break-inside: avoid;
  /* Old browsers */
  display: -webkit-box;
  -webkit-box-orient: horizontal;
  -webkit-box-align: stretch;
  display: -moz-box;
  -moz-box-orient: horizontal;
  -moz-box-align: stretch;
  display: box;
  box-orient: horizontal;
  box-align: stretch;
  /* Modern browsers */
  display: flex;
  flex-direction: row;
  align-items: stretch;
}
@media (max-width: 540px) {
  div.input {
    /* Old browsers */
    display: -webkit-box;
    -webkit-box-orient: vertical;
    -webkit-box-align: stretch;
    display: -moz-box;
    -moz-box-orient: vertical;
    -moz-box-align: stretch;
    display: box;
    box-orient: vertical;
    box-align: stretch;
    /* Modern browsers */
    display: flex;
    flex-direction: column;
    align-items: stretch;
  }
}
/* input_area and input_prompt must match in top border and margin for alignment */
div.input_prompt {
  color: #303F9F;
  border-top: 1px solid transparent;
}
div.input_area > div.highlight {
  margin: 0.4em;
  border: none;
  padding: 0px;
  background-color: transparent;
}
div.input_area > div.highlight > pre {
  margin: 0px;
  border: none;
  padding: 0px;
  background-color: transparent;
}
/* The following gets added to the <head> if it is detected that the user has a
 * monospace font with inconsistent normal/bold/italic height.  See
 * notebookmain.js.  Such fonts will have keywords vertically offset with
 * respect to the rest of the text.  The user should select a better font.
 * See: https://github.com/ipython/ipython/issues/1503
 *
 * .CodeMirror span {
 *      vertical-align: bottom;
 * }
 */
.CodeMirror {
  line-height: 1.21429em;
  /* Changed from 1em to our global default */
  font-size: 14px;
  height: auto;
  /* Changed to auto to autogrow */
  background: none;
  /* Changed from white to allow our bg to show through */
}
.CodeMirror-scroll {
  /*  The CodeMirror docs are a bit fuzzy on if overflow-y should be hidden or visible.*/
  /*  We have found that if it is visible, vertical scrollbars appear with font size changes.*/
  overflow-y: hidden;
  overflow-x: auto;
}
.CodeMirror-lines {
  /* In CM2, this used to be 0.4em, but in CM3 it went to 4px. We need the em value because */
  /* we have set a different line-height and want this to scale with that. */
  padding: 0.4em;
}
.CodeMirror-linenumber {
  padding: 0 8px 0 4px;
}
.CodeMirror-gutters {
  border-bottom-left-radius: 2px;
  border-top-left-radius: 2px;
}
.CodeMirror pre {
  /* In CM3 this went to 4px from 0 in CM2. We need the 0 value because of how we size */
  /* .CodeMirror-lines */
  padding: 0;
  border: 0;
  border-radius: 0;
}
/*

Original style from softwaremaniacs.org (c) Ivan Sagalaev <Maniac@SoftwareManiacs.Org>
Adapted from GitHub theme

*/
.highlight-base {
  color: #000;
}
.highlight-variable {
  color: #000;
}
.highlight-variable-2 {
  color: #1a1a1a;
}
.highlight-variable-3 {
  color: #333333;
}
.highlight-string {
  color: #BA2121;
}
.highlight-comment {
  color: #408080;
  font-style: italic;
}
.highlight-number {
  color: #080;
}
.highlight-atom {
  color: #88F;
}
.highlight-keyword {
  color: #008000;
  font-weight: bold;
}
.highlight-builtin {
  color: #008000;
}
.highlight-error {
  color: #f00;
}
.highlight-operator {
  color: #AA22FF;
  font-weight: bold;
}
.highlight-meta {
  color: #AA22FF;
}
/* previously not defined, copying from default codemirror */
.highlight-def {
  color: #00f;
}
.highlight-string-2 {
  color: #f50;
}
.highlight-qualifier {
  color: #555;
}
.highlight-bracket {
  color: #997;
}
.highlight-tag {
  color: #170;
}
.highlight-attribute {
  color: #00c;
}
.highlight-header {
  color: blue;
}
.highlight-quote {
  color: #090;
}
.highlight-link {
  color: #00c;
}
/* apply the same style to codemirror */
.cm-s-ipython span.cm-keyword {
  color: #008000;
  font-weight: bold;
}
.cm-s-ipython span.cm-atom {
  color: #88F;
}
.cm-s-ipython span.cm-number {
  color: #080;
}
.cm-s-ipython span.cm-def {
  color: #00f;
}
.cm-s-ipython span.cm-variable {
  color: #000;
}
.cm-s-ipython span.cm-operator {
  color: #AA22FF;
  font-weight: bold;
}
.cm-s-ipython span.cm-variable-2 {
  color: #1a1a1a;
}
.cm-s-ipython span.cm-variable-3 {
  color: #333333;
}
.cm-s-ipython span.cm-comment {
  color: #408080;
  font-style: italic;
}
.cm-s-ipython span.cm-string {
  color: #BA2121;
}
.cm-s-ipython span.cm-string-2 {
  color: #f50;
}
.cm-s-ipython span.cm-meta {
  color: #AA22FF;
}
.cm-s-ipython span.cm-qualifier {
  color: #555;
}
.cm-s-ipython span.cm-builtin {
  color: #008000;
}
.cm-s-ipython span.cm-bracket {
  color: #997;
}
.cm-s-ipython span.cm-tag {
  color: #170;
}
.cm-s-ipython span.cm-attribute {
  color: #00c;
}
.cm-s-ipython span.cm-header {
  color: blue;
}
.cm-s-ipython span.cm-quote {
  color: #090;
}
.cm-s-ipython span.cm-link {
  color: #00c;
}
.cm-s-ipython span.cm-error {
  color: #f00;
}
.cm-s-ipython span.cm-tab {
  background: url(data:image/png;base64,iVBORw0KGgoAAAANSUhEUgAAADAAAAAMCAYAAAAkuj5RAAAAAXNSR0IArs4c6QAAAGFJREFUSMft1LsRQFAQheHPowAKoACx3IgEKtaEHujDjORSgWTH/ZOdnZOcM/sgk/kFFWY0qV8foQwS4MKBCS3qR6ixBJvElOobYAtivseIE120FaowJPN75GMu8j/LfMwNjh4HUpwg4LUAAAAASUVORK5CYII=);
  background-position: right;
  background-repeat: no-repeat;
}
div.output_wrapper {
  /* this position must be relative to enable descendents to be absolute within it */
  position: relative;
  /* Old browsers */
  display: -webkit-box;
  -webkit-box-orient: vertical;
  -webkit-box-align: stretch;
  display: -moz-box;
  -moz-box-orient: vertical;
  -moz-box-align: stretch;
  display: box;
  box-orient: vertical;
  box-align: stretch;
  /* Modern browsers */
  display: flex;
  flex-direction: column;
  align-items: stretch;
  z-index: 1;
}
/* class for the output area when it should be height-limited */
div.output_scroll {
  /* ideally, this would be max-height, but FF barfs all over that */
  height: 24em;
  /* FF needs this *and the wrapper* to specify full width, or it will shrinkwrap */
  width: 100%;
  overflow: auto;
  border-radius: 2px;
  -webkit-box-shadow: inset 0 2px 8px rgba(0, 0, 0, 0.8);
  box-shadow: inset 0 2px 8px rgba(0, 0, 0, 0.8);
  display: block;
}
/* output div while it is collapsed */
div.output_collapsed {
  margin: 0px;
  padding: 0px;
  /* Old browsers */
  display: -webkit-box;
  -webkit-box-orient: vertical;
  -webkit-box-align: stretch;
  display: -moz-box;
  -moz-box-orient: vertical;
  -moz-box-align: stretch;
  display: box;
  box-orient: vertical;
  box-align: stretch;
  /* Modern browsers */
  display: flex;
  flex-direction: column;
  align-items: stretch;
}
div.out_prompt_overlay {
  height: 100%;
  padding: 0px 0.4em;
  position: absolute;
  border-radius: 2px;
}
div.out_prompt_overlay:hover {
  /* use inner shadow to get border that is computed the same on WebKit/FF */
  -webkit-box-shadow: inset 0 0 1px #000;
  box-shadow: inset 0 0 1px #000;
  background: rgba(240, 240, 240, 0.5);
}
div.output_prompt {
  color: #D84315;
}
/* This class is the outer container of all output sections. */
div.output_area {
  padding: 0px;
  page-break-inside: avoid;
  /* Old browsers */
  display: -webkit-box;
  -webkit-box-orient: horizontal;
  -webkit-box-align: stretch;
  display: -moz-box;
  -moz-box-orient: horizontal;
  -moz-box-align: stretch;
  display: box;
  box-orient: horizontal;
  box-align: stretch;
  /* Modern browsers */
  display: flex;
  flex-direction: row;
  align-items: stretch;
}
div.output_area .MathJax_Display {
  text-align: left !important;
}
div.output_area .rendered_html table {
  margin-left: 0;
  margin-right: 0;
}
div.output_area .rendered_html img {
  margin-left: 0;
  margin-right: 0;
}
div.output_area img,
div.output_area svg {
  max-width: 100%;
  height: auto;
}
div.output_area img.unconfined,
div.output_area svg.unconfined {
  max-width: none;
}
/* This is needed to protect the pre formating from global settings such
   as that of bootstrap */
.output {
  /* Old browsers */
  display: -webkit-box;
  -webkit-box-orient: vertical;
  -webkit-box-align: stretch;
  display: -moz-box;
  -moz-box-orient: vertical;
  -moz-box-align: stretch;
  display: box;
  box-orient: vertical;
  box-align: stretch;
  /* Modern browsers */
  display: flex;
  flex-direction: column;
  align-items: stretch;
}
@media (max-width: 540px) {
  div.output_area {
    /* Old browsers */
    display: -webkit-box;
    -webkit-box-orient: vertical;
    -webkit-box-align: stretch;
    display: -moz-box;
    -moz-box-orient: vertical;
    -moz-box-align: stretch;
    display: box;
    box-orient: vertical;
    box-align: stretch;
    /* Modern browsers */
    display: flex;
    flex-direction: column;
    align-items: stretch;
  }
}
div.output_area pre {
  margin: 0;
  padding: 0;
  border: 0;
  vertical-align: baseline;
  color: black;
  background-color: transparent;
  border-radius: 0;
}
/* This class is for the output subarea inside the output_area and after
   the prompt div. */
div.output_subarea {
  overflow-x: auto;
  padding: 0.4em;
  /* Old browsers */
  -webkit-box-flex: 1;
  -moz-box-flex: 1;
  box-flex: 1;
  /* Modern browsers */
  flex: 1;
  max-width: calc(100% - 14ex);
}
div.output_scroll div.output_subarea {
  overflow-x: visible;
}
/* The rest of the output_* classes are for special styling of the different
   output types */
/* all text output has this class: */
div.output_text {
  text-align: left;
  color: #000;
  /* This has to match that of the the CodeMirror class line-height below */
  line-height: 1.21429em;
}
/* stdout/stderr are 'text' as well as 'stream', but execute_result/error are *not* streams */
div.output_stderr {
  background: #fdd;
  /* very light red background for stderr */
}
div.output_latex {
  text-align: left;
}
/* Empty output_javascript divs should have no height */
div.output_javascript:empty {
  padding: 0;
}
.js-error {
  color: darkred;
}
/* raw_input styles */
div.raw_input_container {
  line-height: 1.21429em;
  padding-top: 5px;
}
pre.raw_input_prompt {
  /* nothing needed here. */
}
input.raw_input {
  font-family: monospace;
  font-size: inherit;
  color: inherit;
  width: auto;
  /* make sure input baseline aligns with prompt */
  vertical-align: baseline;
  /* padding + margin = 0.5em between prompt and cursor */
  padding: 0em 0.25em;
  margin: 0em 0.25em;
}
input.raw_input:focus {
  box-shadow: none;
}
p.p-space {
  margin-bottom: 10px;
}
div.output_unrecognized {
  padding: 5px;
  font-weight: bold;
  color: red;
}
div.output_unrecognized a {
  color: inherit;
  text-decoration: none;
}
div.output_unrecognized a:hover {
  color: inherit;
  text-decoration: none;
}
.rendered_html {
  color: #000;
  /* any extras will just be numbers: */
}
.rendered_html em {
  font-style: italic;
}
.rendered_html strong {
  font-weight: bold;
}
.rendered_html u {
  text-decoration: underline;
}
.rendered_html :link {
  text-decoration: underline;
}
.rendered_html :visited {
  text-decoration: underline;
}
.rendered_html h1 {
  font-size: 185.7%;
  margin: 1.08em 0 0 0;
  font-weight: bold;
  line-height: 1.0;
}
.rendered_html h2 {
  font-size: 157.1%;
  margin: 1.27em 0 0 0;
  font-weight: bold;
  line-height: 1.0;
}
.rendered_html h3 {
  font-size: 128.6%;
  margin: 1.55em 0 0 0;
  font-weight: bold;
  line-height: 1.0;
}
.rendered_html h4 {
  font-size: 100%;
  margin: 2em 0 0 0;
  font-weight: bold;
  line-height: 1.0;
}
.rendered_html h5 {
  font-size: 100%;
  margin: 2em 0 0 0;
  font-weight: bold;
  line-height: 1.0;
  font-style: italic;
}
.rendered_html h6 {
  font-size: 100%;
  margin: 2em 0 0 0;
  font-weight: bold;
  line-height: 1.0;
  font-style: italic;
}
.rendered_html h1:first-child {
  margin-top: 0.538em;
}
.rendered_html h2:first-child {
  margin-top: 0.636em;
}
.rendered_html h3:first-child {
  margin-top: 0.777em;
}
.rendered_html h4:first-child {
  margin-top: 1em;
}
.rendered_html h5:first-child {
  margin-top: 1em;
}
.rendered_html h6:first-child {
  margin-top: 1em;
}
.rendered_html ul {
  list-style: disc;
  margin: 0em 2em;
  padding-left: 0px;
}
.rendered_html ul ul {
  list-style: square;
  margin: 0em 2em;
}
.rendered_html ul ul ul {
  list-style: circle;
  margin: 0em 2em;
}
.rendered_html ol {
  list-style: decimal;
  margin: 0em 2em;
  padding-left: 0px;
}
.rendered_html ol ol {
  list-style: upper-alpha;
  margin: 0em 2em;
}
.rendered_html ol ol ol {
  list-style: lower-alpha;
  margin: 0em 2em;
}
.rendered_html ol ol ol ol {
  list-style: lower-roman;
  margin: 0em 2em;
}
.rendered_html ol ol ol ol ol {
  list-style: decimal;
  margin: 0em 2em;
}
.rendered_html * + ul {
  margin-top: 1em;
}
.rendered_html * + ol {
  margin-top: 1em;
}
.rendered_html hr {
  color: black;
  background-color: black;
}
.rendered_html pre {
  margin: 1em 2em;
}
.rendered_html pre,
.rendered_html code {
  border: 0;
  background-color: #fff;
  color: #000;
  font-size: 100%;
  padding: 0px;
}
.rendered_html blockquote {
  margin: 1em 2em;
}
.rendered_html table {
  margin-left: auto;
  margin-right: auto;
  border: 1px solid black;
  border-collapse: collapse;
}
.rendered_html tr,
.rendered_html th,
.rendered_html td {
  border: 1px solid black;
  border-collapse: collapse;
  margin: 1em 2em;
}
.rendered_html td,
.rendered_html th {
  text-align: left;
  vertical-align: middle;
  padding: 4px;
}
.rendered_html th {
  font-weight: bold;
}
.rendered_html * + table {
  margin-top: 1em;
}
.rendered_html p {
  text-align: left;
}
.rendered_html * + p {
  margin-top: 1em;
}
.rendered_html img {
  display: block;
  margin-left: auto;
  margin-right: auto;
}
.rendered_html * + img {
  margin-top: 1em;
}
.rendered_html img,
.rendered_html svg {
  max-width: 100%;
  height: auto;
}
.rendered_html img.unconfined,
.rendered_html svg.unconfined {
  max-width: none;
}
div.text_cell {
  /* Old browsers */
  display: -webkit-box;
  -webkit-box-orient: horizontal;
  -webkit-box-align: stretch;
  display: -moz-box;
  -moz-box-orient: horizontal;
  -moz-box-align: stretch;
  display: box;
  box-orient: horizontal;
  box-align: stretch;
  /* Modern browsers */
  display: flex;
  flex-direction: row;
  align-items: stretch;
}
@media (max-width: 540px) {
  div.text_cell > div.prompt {
    display: none;
  }
}
div.text_cell_render {
  /*font-family: "Helvetica Neue", Arial, Helvetica, Geneva, sans-serif;*/
  outline: none;
  resize: none;
  width: inherit;
  border-style: none;
  padding: 0.5em 0.5em 0.5em 0.4em;
  color: #000;
  box-sizing: border-box;
  -moz-box-sizing: border-box;
  -webkit-box-sizing: border-box;
}
a.anchor-link:link {
  text-decoration: none;
  padding: 0px 20px;
  visibility: hidden;
}
h1:hover .anchor-link,
h2:hover .anchor-link,
h3:hover .anchor-link,
h4:hover .anchor-link,
h5:hover .anchor-link,
h6:hover .anchor-link {
  visibility: visible;
}
.text_cell.rendered .input_area {
  display: none;
}
.text_cell.rendered .rendered_html {
  overflow-x: auto;
  overflow-y: hidden;
}
.text_cell.unrendered .text_cell_render {
  display: none;
}
.cm-header-1,
.cm-header-2,
.cm-header-3,
.cm-header-4,
.cm-header-5,
.cm-header-6 {
  font-weight: bold;
  font-family: "Helvetica Neue", Helvetica, Arial, sans-serif;
}
.cm-header-1 {
  font-size: 185.7%;
}
.cm-header-2 {
  font-size: 157.1%;
}
.cm-header-3 {
  font-size: 128.6%;
}
.cm-header-4 {
  font-size: 110%;
}
.cm-header-5 {
  font-size: 100%;
  font-style: italic;
}
.cm-header-6 {
  font-size: 100%;
  font-style: italic;
}
/*!
*
* IPython notebook webapp
*
*/
@media (max-width: 767px) {
  .notebook_app {
    padding-left: 0px;
    padding-right: 0px;
  }
}
#ipython-main-app {
  box-sizing: border-box;
  -moz-box-sizing: border-box;
  -webkit-box-sizing: border-box;
  height: 100%;
}
div#notebook_panel {
  margin: 0px;
  padding: 0px;
  box-sizing: border-box;
  -moz-box-sizing: border-box;
  -webkit-box-sizing: border-box;
  height: 100%;
}
div#notebook {
  font-size: 14px;
  line-height: 20px;
  overflow-y: hidden;
  overflow-x: auto;
  width: 100%;
  /* This spaces the page away from the edge of the notebook area */
  padding-top: 20px;
  margin: 0px;
  outline: none;
  box-sizing: border-box;
  -moz-box-sizing: border-box;
  -webkit-box-sizing: border-box;
  min-height: 100%;
}
@media not print {
  #notebook-container {
    padding: 15px;
    background-color: #fff;
    min-height: 0;
    -webkit-box-shadow: 0px 0px 12px 1px rgba(87, 87, 87, 0.2);
    box-shadow: 0px 0px 12px 1px rgba(87, 87, 87, 0.2);
  }
}
@media print {
  #notebook-container {
    width: 100%;
  }
}
div.ui-widget-content {
  border: 1px solid #ababab;
  outline: none;
}
pre.dialog {
  background-color: #f7f7f7;
  border: 1px solid #ddd;
  border-radius: 2px;
  padding: 0.4em;
  padding-left: 2em;
}
p.dialog {
  padding: 0.2em;
}
/* Word-wrap output correctly.  This is the CSS3 spelling, though Firefox seems
   to not honor it correctly.  Webkit browsers (Chrome, rekonq, Safari) do.
 */
pre,
code,
kbd,
samp {
  white-space: pre-wrap;
}
#fonttest {
  font-family: monospace;
}
p {
  margin-bottom: 0;
}
.end_space {
  min-height: 100px;
  transition: height .2s ease;
}
.notebook_app > #header {
  -webkit-box-shadow: 0px 0px 12px 1px rgba(87, 87, 87, 0.2);
  box-shadow: 0px 0px 12px 1px rgba(87, 87, 87, 0.2);
}
@media not print {
  .notebook_app {
    background-color: #EEE;
  }
}
kbd {
  border-style: solid;
  border-width: 1px;
  box-shadow: none;
  margin: 2px;
  padding-left: 2px;
  padding-right: 2px;
  padding-top: 1px;
  padding-bottom: 1px;
}
/* CSS for the cell toolbar */
.celltoolbar {
  border: thin solid #CFCFCF;
  border-bottom: none;
  background: #EEE;
  border-radius: 2px 2px 0px 0px;
  width: 100%;
  height: 29px;
  padding-right: 4px;
  /* Old browsers */
  display: -webkit-box;
  -webkit-box-orient: horizontal;
  -webkit-box-align: stretch;
  display: -moz-box;
  -moz-box-orient: horizontal;
  -moz-box-align: stretch;
  display: box;
  box-orient: horizontal;
  box-align: stretch;
  /* Modern browsers */
  display: flex;
  flex-direction: row;
  align-items: stretch;
  /* Old browsers */
  -webkit-box-pack: end;
  -moz-box-pack: end;
  box-pack: end;
  /* Modern browsers */
  justify-content: flex-end;
  display: -webkit-flex;
}
@media print {
  .celltoolbar {
    display: none;
  }
}
.ctb_hideshow {
  display: none;
  vertical-align: bottom;
}
/* ctb_show is added to the ctb_hideshow div to show the cell toolbar.
   Cell toolbars are only shown when the ctb_global_show class is also set.
*/
.ctb_global_show .ctb_show.ctb_hideshow {
  display: block;
}
.ctb_global_show .ctb_show + .input_area,
.ctb_global_show .ctb_show + div.text_cell_input,
.ctb_global_show .ctb_show ~ div.text_cell_render {
  border-top-right-radius: 0px;
  border-top-left-radius: 0px;
}
.ctb_global_show .ctb_show ~ div.text_cell_render {
  border: 1px solid #cfcfcf;
}
.celltoolbar {
  font-size: 87%;
  padding-top: 3px;
}
.celltoolbar select {
  display: block;
  width: 100%;
  height: 32px;
  padding: 6px 12px;
  font-size: 13px;
  line-height: 1.42857143;
  color: #555555;
  background-color: #fff;
  background-image: none;
  border: 1px solid #ccc;
  border-radius: 2px;
  -webkit-box-shadow: inset 0 1px 1px rgba(0, 0, 0, 0.075);
  box-shadow: inset 0 1px 1px rgba(0, 0, 0, 0.075);
  -webkit-transition: border-color ease-in-out .15s, box-shadow ease-in-out .15s;
  -o-transition: border-color ease-in-out .15s, box-shadow ease-in-out .15s;
  transition: border-color ease-in-out .15s, box-shadow ease-in-out .15s;
  height: 30px;
  padding: 5px 10px;
  font-size: 12px;
  line-height: 1.5;
  border-radius: 1px;
  width: inherit;
  font-size: inherit;
  height: 22px;
  padding: 0px;
  display: inline-block;
}
.celltoolbar select:focus {
  border-color: #66afe9;
  outline: 0;
  -webkit-box-shadow: inset 0 1px 1px rgba(0,0,0,.075), 0 0 8px rgba(102, 175, 233, 0.6);
  box-shadow: inset 0 1px 1px rgba(0,0,0,.075), 0 0 8px rgba(102, 175, 233, 0.6);
}
.celltoolbar select::-moz-placeholder {
  color: #999;
  opacity: 1;
}
.celltoolbar select:-ms-input-placeholder {
  color: #999;
}
.celltoolbar select::-webkit-input-placeholder {
  color: #999;
}
.celltoolbar select::-ms-expand {
  border: 0;
  background-color: transparent;
}
.celltoolbar select[disabled],
.celltoolbar select[readonly],
fieldset[disabled] .celltoolbar select {
  background-color: #eeeeee;
  opacity: 1;
}
.celltoolbar select[disabled],
fieldset[disabled] .celltoolbar select {
  cursor: not-allowed;
}
textarea.celltoolbar select {
  height: auto;
}
select.celltoolbar select {
  height: 30px;
  line-height: 30px;
}
textarea.celltoolbar select,
select[multiple].celltoolbar select {
  height: auto;
}
.celltoolbar label {
  margin-left: 5px;
  margin-right: 5px;
}
.completions {
  position: absolute;
  z-index: 110;
  overflow: hidden;
  border: 1px solid #ababab;
  border-radius: 2px;
  -webkit-box-shadow: 0px 6px 10px -1px #adadad;
  box-shadow: 0px 6px 10px -1px #adadad;
  line-height: 1;
}
.completions select {
  background: white;
  outline: none;
  border: none;
  padding: 0px;
  margin: 0px;
  overflow: auto;
  font-family: monospace;
  font-size: 110%;
  color: #000;
  width: auto;
}
.completions select option.context {
  color: #286090;
}
#kernel_logo_widget {
  float: right !important;
  float: right;
}
#kernel_logo_widget .current_kernel_logo {
  display: none;
  margin-top: -1px;
  margin-bottom: -1px;
  width: 32px;
  height: 32px;
}
#menubar {
  box-sizing: border-box;
  -moz-box-sizing: border-box;
  -webkit-box-sizing: border-box;
  margin-top: 1px;
}
#menubar .navbar {
  border-top: 1px;
  border-radius: 0px 0px 2px 2px;
  margin-bottom: 0px;
}
#menubar .navbar-toggle {
  float: left;
  padding-top: 7px;
  padding-bottom: 7px;
  border: none;
}
#menubar .navbar-collapse {
  clear: left;
}
.nav-wrapper {
  border-bottom: 1px solid #e7e7e7;
}
i.menu-icon {
  padding-top: 4px;
}
ul#help_menu li a {
  overflow: hidden;
  padding-right: 2.2em;
}
ul#help_menu li a i {
  margin-right: -1.2em;
}
.dropdown-submenu {
  position: relative;
}
.dropdown-submenu > .dropdown-menu {
  top: 0;
  left: 100%;
  margin-top: -6px;
  margin-left: -1px;
}
.dropdown-submenu:hover > .dropdown-menu {
  display: block;
}
.dropdown-submenu > a:after {
  display: inline-block;
  font: normal normal normal 14px/1 FontAwesome;
  font-size: inherit;
  text-rendering: auto;
  -webkit-font-smoothing: antialiased;
  -moz-osx-font-smoothing: grayscale;
  display: block;
  content: "\f0da";
  float: right;
  color: #333333;
  margin-top: 2px;
  margin-right: -10px;
}
.dropdown-submenu > a:after.pull-left {
  margin-right: .3em;
}
.dropdown-submenu > a:after.pull-right {
  margin-left: .3em;
}
.dropdown-submenu:hover > a:after {
  color: #262626;
}
.dropdown-submenu.pull-left {
  float: none;
}
.dropdown-submenu.pull-left > .dropdown-menu {
  left: -100%;
  margin-left: 10px;
}
#notification_area {
  float: right !important;
  float: right;
  z-index: 10;
}
.indicator_area {
  float: right !important;
  float: right;
  color: #777;
  margin-left: 5px;
  margin-right: 5px;
  width: 11px;
  z-index: 10;
  text-align: center;
  width: auto;
}
#kernel_indicator {
  float: right !important;
  float: right;
  color: #777;
  margin-left: 5px;
  margin-right: 5px;
  width: 11px;
  z-index: 10;
  text-align: center;
  width: auto;
  border-left: 1px solid;
}
#kernel_indicator .kernel_indicator_name {
  padding-left: 5px;
  padding-right: 5px;
}
#modal_indicator {
  float: right !important;
  float: right;
  color: #777;
  margin-left: 5px;
  margin-right: 5px;
  width: 11px;
  z-index: 10;
  text-align: center;
  width: auto;
}
#readonly-indicator {
  float: right !important;
  float: right;
  color: #777;
  margin-left: 5px;
  margin-right: 5px;
  width: 11px;
  z-index: 10;
  text-align: center;
  width: auto;
  margin-top: 2px;
  margin-bottom: 0px;
  margin-left: 0px;
  margin-right: 0px;
  display: none;
}
.modal_indicator:before {
  width: 1.28571429em;
  text-align: center;
}
.edit_mode .modal_indicator:before {
  display: inline-block;
  font: normal normal normal 14px/1 FontAwesome;
  font-size: inherit;
  text-rendering: auto;
  -webkit-font-smoothing: antialiased;
  -moz-osx-font-smoothing: grayscale;
  content: "\f040";
}
.edit_mode .modal_indicator:before.pull-left {
  margin-right: .3em;
}
.edit_mode .modal_indicator:before.pull-right {
  margin-left: .3em;
}
.command_mode .modal_indicator:before {
  display: inline-block;
  font: normal normal normal 14px/1 FontAwesome;
  font-size: inherit;
  text-rendering: auto;
  -webkit-font-smoothing: antialiased;
  -moz-osx-font-smoothing: grayscale;
  content: ' ';
}
.command_mode .modal_indicator:before.pull-left {
  margin-right: .3em;
}
.command_mode .modal_indicator:before.pull-right {
  margin-left: .3em;
}
.kernel_idle_icon:before {
  display: inline-block;
  font: normal normal normal 14px/1 FontAwesome;
  font-size: inherit;
  text-rendering: auto;
  -webkit-font-smoothing: antialiased;
  -moz-osx-font-smoothing: grayscale;
  content: "\f10c";
}
.kernel_idle_icon:before.pull-left {
  margin-right: .3em;
}
.kernel_idle_icon:before.pull-right {
  margin-left: .3em;
}
.kernel_busy_icon:before {
  display: inline-block;
  font: normal normal normal 14px/1 FontAwesome;
  font-size: inherit;
  text-rendering: auto;
  -webkit-font-smoothing: antialiased;
  -moz-osx-font-smoothing: grayscale;
  content: "\f111";
}
.kernel_busy_icon:before.pull-left {
  margin-right: .3em;
}
.kernel_busy_icon:before.pull-right {
  margin-left: .3em;
}
.kernel_dead_icon:before {
  display: inline-block;
  font: normal normal normal 14px/1 FontAwesome;
  font-size: inherit;
  text-rendering: auto;
  -webkit-font-smoothing: antialiased;
  -moz-osx-font-smoothing: grayscale;
  content: "\f1e2";
}
.kernel_dead_icon:before.pull-left {
  margin-right: .3em;
}
.kernel_dead_icon:before.pull-right {
  margin-left: .3em;
}
.kernel_disconnected_icon:before {
  display: inline-block;
  font: normal normal normal 14px/1 FontAwesome;
  font-size: inherit;
  text-rendering: auto;
  -webkit-font-smoothing: antialiased;
  -moz-osx-font-smoothing: grayscale;
  content: "\f127";
}
.kernel_disconnected_icon:before.pull-left {
  margin-right: .3em;
}
.kernel_disconnected_icon:before.pull-right {
  margin-left: .3em;
}
.notification_widget {
  color: #777;
  z-index: 10;
  background: rgba(240, 240, 240, 0.5);
  margin-right: 4px;
  color: #333;
  background-color: #fff;
  border-color: #ccc;
}
.notification_widget:focus,
.notification_widget.focus {
  color: #333;
  background-color: #e6e6e6;
  border-color: #8c8c8c;
}
.notification_widget:hover {
  color: #333;
  background-color: #e6e6e6;
  border-color: #adadad;
}
.notification_widget:active,
.notification_widget.active,
.open > .dropdown-toggle.notification_widget {
  color: #333;
  background-color: #e6e6e6;
  border-color: #adadad;
}
.notification_widget:active:hover,
.notification_widget.active:hover,
.open > .dropdown-toggle.notification_widget:hover,
.notification_widget:active:focus,
.notification_widget.active:focus,
.open > .dropdown-toggle.notification_widget:focus,
.notification_widget:active.focus,
.notification_widget.active.focus,
.open > .dropdown-toggle.notification_widget.focus {
  color: #333;
  background-color: #d4d4d4;
  border-color: #8c8c8c;
}
.notification_widget:active,
.notification_widget.active,
.open > .dropdown-toggle.notification_widget {
  background-image: none;
}
.notification_widget.disabled:hover,
.notification_widget[disabled]:hover,
fieldset[disabled] .notification_widget:hover,
.notification_widget.disabled:focus,
.notification_widget[disabled]:focus,
fieldset[disabled] .notification_widget:focus,
.notification_widget.disabled.focus,
.notification_widget[disabled].focus,
fieldset[disabled] .notification_widget.focus {
  background-color: #fff;
  border-color: #ccc;
}
.notification_widget .badge {
  color: #fff;
  background-color: #333;
}
.notification_widget.warning {
  color: #fff;
  background-color: #f0ad4e;
  border-color: #eea236;
}
.notification_widget.warning:focus,
.notification_widget.warning.focus {
  color: #fff;
  background-color: #ec971f;
  border-color: #985f0d;
}
.notification_widget.warning:hover {
  color: #fff;
  background-color: #ec971f;
  border-color: #d58512;
}
.notification_widget.warning:active,
.notification_widget.warning.active,
.open > .dropdown-toggle.notification_widget.warning {
  color: #fff;
  background-color: #ec971f;
  border-color: #d58512;
}
.notification_widget.warning:active:hover,
.notification_widget.warning.active:hover,
.open > .dropdown-toggle.notification_widget.warning:hover,
.notification_widget.warning:active:focus,
.notification_widget.warning.active:focus,
.open > .dropdown-toggle.notification_widget.warning:focus,
.notification_widget.warning:active.focus,
.notification_widget.warning.active.focus,
.open > .dropdown-toggle.notification_widget.warning.focus {
  color: #fff;
  background-color: #d58512;
  border-color: #985f0d;
}
.notification_widget.warning:active,
.notification_widget.warning.active,
.open > .dropdown-toggle.notification_widget.warning {
  background-image: none;
}
.notification_widget.warning.disabled:hover,
.notification_widget.warning[disabled]:hover,
fieldset[disabled] .notification_widget.warning:hover,
.notification_widget.warning.disabled:focus,
.notification_widget.warning[disabled]:focus,
fieldset[disabled] .notification_widget.warning:focus,
.notification_widget.warning.disabled.focus,
.notification_widget.warning[disabled].focus,
fieldset[disabled] .notification_widget.warning.focus {
  background-color: #f0ad4e;
  border-color: #eea236;
}
.notification_widget.warning .badge {
  color: #f0ad4e;
  background-color: #fff;
}
.notification_widget.success {
  color: #fff;
  background-color: #5cb85c;
  border-color: #4cae4c;
}
.notification_widget.success:focus,
.notification_widget.success.focus {
  color: #fff;
  background-color: #449d44;
  border-color: #255625;
}
.notification_widget.success:hover {
  color: #fff;
  background-color: #449d44;
  border-color: #398439;
}
.notification_widget.success:active,
.notification_widget.success.active,
.open > .dropdown-toggle.notification_widget.success {
  color: #fff;
  background-color: #449d44;
  border-color: #398439;
}
.notification_widget.success:active:hover,
.notification_widget.success.active:hover,
.open > .dropdown-toggle.notification_widget.success:hover,
.notification_widget.success:active:focus,
.notification_widget.success.active:focus,
.open > .dropdown-toggle.notification_widget.success:focus,
.notification_widget.success:active.focus,
.notification_widget.success.active.focus,
.open > .dropdown-toggle.notification_widget.success.focus {
  color: #fff;
  background-color: #398439;
  border-color: #255625;
}
.notification_widget.success:active,
.notification_widget.success.active,
.open > .dropdown-toggle.notification_widget.success {
  background-image: none;
}
.notification_widget.success.disabled:hover,
.notification_widget.success[disabled]:hover,
fieldset[disabled] .notification_widget.success:hover,
.notification_widget.success.disabled:focus,
.notification_widget.success[disabled]:focus,
fieldset[disabled] .notification_widget.success:focus,
.notification_widget.success.disabled.focus,
.notification_widget.success[disabled].focus,
fieldset[disabled] .notification_widget.success.focus {
  background-color: #5cb85c;
  border-color: #4cae4c;
}
.notification_widget.success .badge {
  color: #5cb85c;
  background-color: #fff;
}
.notification_widget.info {
  color: #fff;
  background-color: #5bc0de;
  border-color: #46b8da;
}
.notification_widget.info:focus,
.notification_widget.info.focus {
  color: #fff;
  background-color: #31b0d5;
  border-color: #1b6d85;
}
.notification_widget.info:hover {
  color: #fff;
  background-color: #31b0d5;
  border-color: #269abc;
}
.notification_widget.info:active,
.notification_widget.info.active,
.open > .dropdown-toggle.notification_widget.info {
  color: #fff;
  background-color: #31b0d5;
  border-color: #269abc;
}
.notification_widget.info:active:hover,
.notification_widget.info.active:hover,
.open > .dropdown-toggle.notification_widget.info:hover,
.notification_widget.info:active:focus,
.notification_widget.info.active:focus,
.open > .dropdown-toggle.notification_widget.info:focus,
.notification_widget.info:active.focus,
.notification_widget.info.active.focus,
.open > .dropdown-toggle.notification_widget.info.focus {
  color: #fff;
  background-color: #269abc;
  border-color: #1b6d85;
}
.notification_widget.info:active,
.notification_widget.info.active,
.open > .dropdown-toggle.notification_widget.info {
  background-image: none;
}
.notification_widget.info.disabled:hover,
.notification_widget.info[disabled]:hover,
fieldset[disabled] .notification_widget.info:hover,
.notification_widget.info.disabled:focus,
.notification_widget.info[disabled]:focus,
fieldset[disabled] .notification_widget.info:focus,
.notification_widget.info.disabled.focus,
.notification_widget.info[disabled].focus,
fieldset[disabled] .notification_widget.info.focus {
  background-color: #5bc0de;
  border-color: #46b8da;
}
.notification_widget.info .badge {
  color: #5bc0de;
  background-color: #fff;
}
.notification_widget.danger {
  color: #fff;
  background-color: #d9534f;
  border-color: #d43f3a;
}
.notification_widget.danger:focus,
.notification_widget.danger.focus {
  color: #fff;
  background-color: #c9302c;
  border-color: #761c19;
}
.notification_widget.danger:hover {
  color: #fff;
  background-color: #c9302c;
  border-color: #ac2925;
}
.notification_widget.danger:active,
.notification_widget.danger.active,
.open > .dropdown-toggle.notification_widget.danger {
  color: #fff;
  background-color: #c9302c;
  border-color: #ac2925;
}
.notification_widget.danger:active:hover,
.notification_widget.danger.active:hover,
.open > .dropdown-toggle.notification_widget.danger:hover,
.notification_widget.danger:active:focus,
.notification_widget.danger.active:focus,
.open > .dropdown-toggle.notification_widget.danger:focus,
.notification_widget.danger:active.focus,
.notification_widget.danger.active.focus,
.open > .dropdown-toggle.notification_widget.danger.focus {
  color: #fff;
  background-color: #ac2925;
  border-color: #761c19;
}
.notification_widget.danger:active,
.notification_widget.danger.active,
.open > .dropdown-toggle.notification_widget.danger {
  background-image: none;
}
.notification_widget.danger.disabled:hover,
.notification_widget.danger[disabled]:hover,
fieldset[disabled] .notification_widget.danger:hover,
.notification_widget.danger.disabled:focus,
.notification_widget.danger[disabled]:focus,
fieldset[disabled] .notification_widget.danger:focus,
.notification_widget.danger.disabled.focus,
.notification_widget.danger[disabled].focus,
fieldset[disabled] .notification_widget.danger.focus {
  background-color: #d9534f;
  border-color: #d43f3a;
}
.notification_widget.danger .badge {
  color: #d9534f;
  background-color: #fff;
}
div#pager {
  background-color: #fff;
  font-size: 14px;
  line-height: 20px;
  overflow: hidden;
  display: none;
  position: fixed;
  bottom: 0px;
  width: 100%;
  max-height: 50%;
  padding-top: 8px;
  -webkit-box-shadow: 0px 0px 12px 1px rgba(87, 87, 87, 0.2);
  box-shadow: 0px 0px 12px 1px rgba(87, 87, 87, 0.2);
  /* Display over codemirror */
  z-index: 100;
  /* Hack which prevents jquery ui resizable from changing top. */
  top: auto !important;
}
div#pager pre {
  line-height: 1.21429em;
  color: #000;
  background-color: #f7f7f7;
  padding: 0.4em;
}
div#pager #pager-button-area {
  position: absolute;
  top: 8px;
  right: 20px;
}
div#pager #pager-contents {
  position: relative;
  overflow: auto;
  width: 100%;
  height: 100%;
}
div#pager #pager-contents #pager-container {
  position: relative;
  padding: 15px 0px;
  box-sizing: border-box;
  -moz-box-sizing: border-box;
  -webkit-box-sizing: border-box;
}
div#pager .ui-resizable-handle {
  top: 0px;
  height: 8px;
  background: #f7f7f7;
  border-top: 1px solid #cfcfcf;
  border-bottom: 1px solid #cfcfcf;
  /* This injects handle bars (a short, wide = symbol) for 
        the resize handle. */
}
div#pager .ui-resizable-handle::after {
  content: '';
  top: 2px;
  left: 50%;
  height: 3px;
  width: 30px;
  margin-left: -15px;
  position: absolute;
  border-top: 1px solid #cfcfcf;
}
.quickhelp {
  /* Old browsers */
  display: -webkit-box;
  -webkit-box-orient: horizontal;
  -webkit-box-align: stretch;
  display: -moz-box;
  -moz-box-orient: horizontal;
  -moz-box-align: stretch;
  display: box;
  box-orient: horizontal;
  box-align: stretch;
  /* Modern browsers */
  display: flex;
  flex-direction: row;
  align-items: stretch;
  line-height: 1.8em;
}
.shortcut_key {
  display: inline-block;
  width: 21ex;
  text-align: right;
  font-family: monospace;
}
.shortcut_descr {
  display: inline-block;
  /* Old browsers */
  -webkit-box-flex: 1;
  -moz-box-flex: 1;
  box-flex: 1;
  /* Modern browsers */
  flex: 1;
}
span.save_widget {
  margin-top: 6px;
}
span.save_widget span.filename {
  height: 1em;
  line-height: 1em;
  padding: 3px;
  margin-left: 16px;
  border: none;
  font-size: 146.5%;
  border-radius: 2px;
}
span.save_widget span.filename:hover {
  background-color: #e6e6e6;
}
span.checkpoint_status,
span.autosave_status {
  font-size: small;
}
@media (max-width: 767px) {
  span.save_widget {
    font-size: small;
  }
  span.checkpoint_status,
  span.autosave_status {
    display: none;
  }
}
@media (min-width: 768px) and (max-width: 991px) {
  span.checkpoint_status {
    display: none;
  }
  span.autosave_status {
    font-size: x-small;
  }
}
.toolbar {
  padding: 0px;
  margin-left: -5px;
  margin-top: 2px;
  margin-bottom: 5px;
  box-sizing: border-box;
  -moz-box-sizing: border-box;
  -webkit-box-sizing: border-box;
}
.toolbar select,
.toolbar label {
  width: auto;
  vertical-align: middle;
  margin-right: 2px;
  margin-bottom: 0px;
  display: inline;
  font-size: 92%;
  margin-left: 0.3em;
  margin-right: 0.3em;
  padding: 0px;
  padding-top: 3px;
}
.toolbar .btn {
  padding: 2px 8px;
}
.toolbar .btn-group {
  margin-top: 0px;
  margin-left: 5px;
}
#maintoolbar {
  margin-bottom: -3px;
  margin-top: -8px;
  border: 0px;
  min-height: 27px;
  margin-left: 0px;
  padding-top: 11px;
  padding-bottom: 3px;
}
#maintoolbar .navbar-text {
  float: none;
  vertical-align: middle;
  text-align: right;
  margin-left: 5px;
  margin-right: 0px;
  margin-top: 0px;
}
.select-xs {
  height: 24px;
}
.pulse,
.dropdown-menu > li > a.pulse,
li.pulse > a.dropdown-toggle,
li.pulse.open > a.dropdown-toggle {
  background-color: #F37626;
  color: white;
}
/**
 * Primary styles
 *
 * Author: Jupyter Development Team
 */
/** WARNING IF YOU ARE EDITTING THIS FILE, if this is a .css file, It has a lot
 * of chance of beeing generated from the ../less/[samename].less file, you can
 * try to get back the less file by reverting somme commit in history
 **/
/*
 * We'll try to get something pretty, so we
 * have some strange css to have the scroll bar on
 * the left with fix button on the top right of the tooltip
 */
@-moz-keyframes fadeOut {
  from {
    opacity: 1;
  }
  to {
    opacity: 0;
  }
}
@-webkit-keyframes fadeOut {
  from {
    opacity: 1;
  }
  to {
    opacity: 0;
  }
}
@-moz-keyframes fadeIn {
  from {
    opacity: 0;
  }
  to {
    opacity: 1;
  }
}
@-webkit-keyframes fadeIn {
  from {
    opacity: 0;
  }
  to {
    opacity: 1;
  }
}
/*properties of tooltip after "expand"*/
.bigtooltip {
  overflow: auto;
  height: 200px;
  -webkit-transition-property: height;
  -webkit-transition-duration: 500ms;
  -moz-transition-property: height;
  -moz-transition-duration: 500ms;
  transition-property: height;
  transition-duration: 500ms;
}
/*properties of tooltip before "expand"*/
.smalltooltip {
  -webkit-transition-property: height;
  -webkit-transition-duration: 500ms;
  -moz-transition-property: height;
  -moz-transition-duration: 500ms;
  transition-property: height;
  transition-duration: 500ms;
  text-overflow: ellipsis;
  overflow: hidden;
  height: 80px;
}
.tooltipbuttons {
  position: absolute;
  padding-right: 15px;
  top: 0px;
  right: 0px;
}
.tooltiptext {
  /*avoid the button to overlap on some docstring*/
  padding-right: 30px;
}
.ipython_tooltip {
  max-width: 700px;
  /*fade-in animation when inserted*/
  -webkit-animation: fadeOut 400ms;
  -moz-animation: fadeOut 400ms;
  animation: fadeOut 400ms;
  -webkit-animation: fadeIn 400ms;
  -moz-animation: fadeIn 400ms;
  animation: fadeIn 400ms;
  vertical-align: middle;
  background-color: #f7f7f7;
  overflow: visible;
  border: #ababab 1px solid;
  outline: none;
  padding: 3px;
  margin: 0px;
  padding-left: 7px;
  font-family: monospace;
  min-height: 50px;
  -moz-box-shadow: 0px 6px 10px -1px #adadad;
  -webkit-box-shadow: 0px 6px 10px -1px #adadad;
  box-shadow: 0px 6px 10px -1px #adadad;
  border-radius: 2px;
  position: absolute;
  z-index: 1000;
}
.ipython_tooltip a {
  float: right;
}
.ipython_tooltip .tooltiptext pre {
  border: 0;
  border-radius: 0;
  font-size: 100%;
  background-color: #f7f7f7;
}
.pretooltiparrow {
  left: 0px;
  margin: 0px;
  top: -16px;
  width: 40px;
  height: 16px;
  overflow: hidden;
  position: absolute;
}
.pretooltiparrow:before {
  background-color: #f7f7f7;
  border: 1px #ababab solid;
  z-index: 11;
  content: "";
  position: absolute;
  left: 15px;
  top: 10px;
  width: 25px;
  height: 25px;
  -webkit-transform: rotate(45deg);
  -moz-transform: rotate(45deg);
  -ms-transform: rotate(45deg);
  -o-transform: rotate(45deg);
}
ul.typeahead-list i {
  margin-left: -10px;
  width: 18px;
}
ul.typeahead-list {
  max-height: 80vh;
  overflow: auto;
}
ul.typeahead-list > li > a {
  /** Firefox bug **/
  /* see https://github.com/jupyter/notebook/issues/559 */
  white-space: normal;
}
.cmd-palette .modal-body {
  padding: 7px;
}
.cmd-palette form {
  background: white;
}
.cmd-palette input {
  outline: none;
}
.no-shortcut {
  display: none;
}
.command-shortcut:before {
  content: "(command)";
  padding-right: 3px;
  color: #777777;
}
.edit-shortcut:before {
  content: "(edit)";
  padding-right: 3px;
  color: #777777;
}
#find-and-replace #replace-preview .match,
#find-and-replace #replace-preview .insert {
  background-color: #BBDEFB;
  border-color: #90CAF9;
  border-style: solid;
  border-width: 1px;
  border-radius: 0px;
}
#find-and-replace #replace-preview .replace .match {
  background-color: #FFCDD2;
  border-color: #EF9A9A;
  border-radius: 0px;
}
#find-and-replace #replace-preview .replace .insert {
  background-color: #C8E6C9;
  border-color: #A5D6A7;
  border-radius: 0px;
}
#find-and-replace #replace-preview {
  max-height: 60vh;
  overflow: auto;
}
#find-and-replace #replace-preview pre {
  padding: 5px 10px;
}
.terminal-app {
  background: #EEE;
}
.terminal-app #header {
  background: #fff;
  -webkit-box-shadow: 0px 0px 12px 1px rgba(87, 87, 87, 0.2);
  box-shadow: 0px 0px 12px 1px rgba(87, 87, 87, 0.2);
}
.terminal-app .terminal {
  width: 100%;
  float: left;
  font-family: monospace;
  color: white;
  background: black;
  padding: 0.4em;
  border-radius: 2px;
  -webkit-box-shadow: 0px 0px 12px 1px rgba(87, 87, 87, 0.4);
  box-shadow: 0px 0px 12px 1px rgba(87, 87, 87, 0.4);
}
.terminal-app .terminal,
.terminal-app .terminal dummy-screen {
  line-height: 1em;
  font-size: 14px;
}
.terminal-app .terminal .xterm-rows {
  padding: 10px;
}
.terminal-app .terminal-cursor {
  color: black;
  background: white;
}
.terminal-app #terminado-container {
  margin-top: 20px;
}
/*# sourceMappingURL=style.min.css.map */
    </style>
<style type="text/css">
    .highlight .hll { background-color: #ffffcc }
.highlight  { background: #f8f8f8; }
.highlight .c { color: #408080; font-style: italic } /* Comment */
.highlight .err { border: 1px solid #FF0000 } /* Error */
.highlight .k { color: #008000; font-weight: bold } /* Keyword */
.highlight .o { color: #666666 } /* Operator */
.highlight .ch { color: #408080; font-style: italic } /* Comment.Hashbang */
.highlight .cm { color: #408080; font-style: italic } /* Comment.Multiline */
.highlight .cp { color: #BC7A00 } /* Comment.Preproc */
.highlight .cpf { color: #408080; font-style: italic } /* Comment.PreprocFile */
.highlight .c1 { color: #408080; font-style: italic } /* Comment.Single */
.highlight .cs { color: #408080; font-style: italic } /* Comment.Special */
.highlight .gd { color: #A00000 } /* Generic.Deleted */
.highlight .ge { font-style: italic } /* Generic.Emph */
.highlight .gr { color: #FF0000 } /* Generic.Error */
.highlight .gh { color: #000080; font-weight: bold } /* Generic.Heading */
.highlight .gi { color: #00A000 } /* Generic.Inserted */
.highlight .go { color: #888888 } /* Generic.Output */
.highlight .gp { color: #000080; font-weight: bold } /* Generic.Prompt */
.highlight .gs { font-weight: bold } /* Generic.Strong */
.highlight .gu { color: #800080; font-weight: bold } /* Generic.Subheading */
.highlight .gt { color: #0044DD } /* Generic.Traceback */
.highlight .kc { color: #008000; font-weight: bold } /* Keyword.Constant */
.highlight .kd { color: #008000; font-weight: bold } /* Keyword.Declaration */
.highlight .kn { color: #008000; font-weight: bold } /* Keyword.Namespace */
.highlight .kp { color: #008000 } /* Keyword.Pseudo */
.highlight .kr { color: #008000; font-weight: bold } /* Keyword.Reserved */
.highlight .kt { color: #B00040 } /* Keyword.Type */
.highlight .m { color: #666666 } /* Literal.Number */
.highlight .s { color: #BA2121 } /* Literal.String */
.highlight .na { color: #7D9029 } /* Name.Attribute */
.highlight .nb { color: #008000 } /* Name.Builtin */
.highlight .nc { color: #0000FF; font-weight: bold } /* Name.Class */
.highlight .no { color: #880000 } /* Name.Constant */
.highlight .nd { color: #AA22FF } /* Name.Decorator */
.highlight .ni { color: #999999; font-weight: bold } /* Name.Entity */
.highlight .ne { color: #D2413A; font-weight: bold } /* Name.Exception */
.highlight .nf { color: #0000FF } /* Name.Function */
.highlight .nl { color: #A0A000 } /* Name.Label */
.highlight .nn { color: #0000FF; font-weight: bold } /* Name.Namespace */
.highlight .nt { color: #008000; font-weight: bold } /* Name.Tag */
.highlight .nv { color: #19177C } /* Name.Variable */
.highlight .ow { color: #AA22FF; font-weight: bold } /* Operator.Word */
.highlight .w { color: #bbbbbb } /* Text.Whitespace */
.highlight .mb { color: #666666 } /* Literal.Number.Bin */
.highlight .mf { color: #666666 } /* Literal.Number.Float */
.highlight .mh { color: #666666 } /* Literal.Number.Hex */
.highlight .mi { color: #666666 } /* Literal.Number.Integer */
.highlight .mo { color: #666666 } /* Literal.Number.Oct */
.highlight .sa { color: #BA2121 } /* Literal.String.Affix */
.highlight .sb { color: #BA2121 } /* Literal.String.Backtick */
.highlight .sc { color: #BA2121 } /* Literal.String.Char */
.highlight .dl { color: #BA2121 } /* Literal.String.Delimiter */
.highlight .sd { color: #BA2121; font-style: italic } /* Literal.String.Doc */
.highlight .s2 { color: #BA2121 } /* Literal.String.Double */
.highlight .se { color: #BB6622; font-weight: bold } /* Literal.String.Escape */
.highlight .sh { color: #BA2121 } /* Literal.String.Heredoc */
.highlight .si { color: #BB6688; font-weight: bold } /* Literal.String.Interpol */
.highlight .sx { color: #008000 } /* Literal.String.Other */
.highlight .sr { color: #BB6688 } /* Literal.String.Regex */
.highlight .s1 { color: #BA2121 } /* Literal.String.Single */
.highlight .ss { color: #19177C } /* Literal.String.Symbol */
.highlight .bp { color: #008000 } /* Name.Builtin.Pseudo */
.highlight .fm { color: #0000FF } /* Name.Function.Magic */
.highlight .vc { color: #19177C } /* Name.Variable.Class */
.highlight .vg { color: #19177C } /* Name.Variable.Global */
.highlight .vi { color: #19177C } /* Name.Variable.Instance */
.highlight .vm { color: #19177C } /* Name.Variable.Magic */
.highlight .il { color: #666666 } /* Literal.Number.Integer.Long */
    </style>
<style type="text/css">
    
/* Temporary definitions which will become obsolete with Notebook release 5.0 */
.ansi-black-fg { color: #3E424D; }
.ansi-black-bg { background-color: #3E424D; }
.ansi-black-intense-fg { color: #282C36; }
.ansi-black-intense-bg { background-color: #282C36; }
.ansi-red-fg { color: #E75C58; }
.ansi-red-bg { background-color: #E75C58; }
.ansi-red-intense-fg { color: #B22B31; }
.ansi-red-intense-bg { background-color: #B22B31; }
.ansi-green-fg { color: #00A250; }
.ansi-green-bg { background-color: #00A250; }
.ansi-green-intense-fg { color: #007427; }
.ansi-green-intense-bg { background-color: #007427; }
.ansi-yellow-fg { color: #DDB62B; }
.ansi-yellow-bg { background-color: #DDB62B; }
.ansi-yellow-intense-fg { color: #B27D12; }
.ansi-yellow-intense-bg { background-color: #B27D12; }
.ansi-blue-fg { color: #208FFB; }
.ansi-blue-bg { background-color: #208FFB; }
.ansi-blue-intense-fg { color: #0065CA; }
.ansi-blue-intense-bg { background-color: #0065CA; }
.ansi-magenta-fg { color: #D160C4; }
.ansi-magenta-bg { background-color: #D160C4; }
.ansi-magenta-intense-fg { color: #A03196; }
.ansi-magenta-intense-bg { background-color: #A03196; }
.ansi-cyan-fg { color: #60C6C8; }
.ansi-cyan-bg { background-color: #60C6C8; }
.ansi-cyan-intense-fg { color: #258F8F; }
.ansi-cyan-intense-bg { background-color: #258F8F; }
.ansi-white-fg { color: #C5C1B4; }
.ansi-white-bg { background-color: #C5C1B4; }
.ansi-white-intense-fg { color: #A1A6B2; }
.ansi-white-intense-bg { background-color: #A1A6B2; }

.ansi-bold { font-weight: bold; }

    </style>


<style type="text/css">
/* Overrides of notebook CSS for static HTML export */
body {
  overflow: visible;
  padding: 8px;
}

div#notebook {
  overflow: visible;
  border-top: none;
}@media print {
  div.cell {
    display: block;
    page-break-inside: avoid;
  } 
  div.output_wrapper { 
    display: block;
    page-break-inside: avoid; 
  }
  div.output { 
    display: block;
    page-break-inside: avoid; 
  }
}
</style>

<!-- Custom stylesheet, it must be in the same directory as the html file -->
<link rel="stylesheet" href="custom.css">

<!-- Loading mathjax macro -->
<!-- Load mathjax -->
    <script src="https://cdnjs.cloudflare.com/ajax/libs/mathjax/2.7.1/MathJax.js?config=TeX-AMS_HTML"></script>
    <!-- MathJax configuration -->
    <script type="text/x-mathjax-config">
    MathJax.Hub.Config({
        tex2jax: {
            inlineMath: [ ['$','$'], ["\\(","\\)"] ],
            displayMath: [ ['$$','$$'], ["\\[","\\]"] ],
            processEscapes: true,
            processEnvironments: true
        },
        // Center justify equations in code and markdown cells. Elsewhere
        // we use CSS to left justify single line equations in code cells.
        displayAlign: 'center',
        "HTML-CSS": {
            styles: {'.MathJax_Display': {"margin": 0}},
            linebreaks: { automatic: true }
        }
    });
    </script>
    <!-- End of mathjax configuration --></head>
<body>
  <div tabindex="-1" id="notebook" class="border-box-sizing">
    <div class="container" id="notebook-container">

<div class="cell border-box-sizing code_cell rendered">
<div class="input">
<div class="prompt input_prompt">In&nbsp;[1]:</div>
<div class="inner_cell">
    <div class="input_area">
<div class=" highlight hl-ipython3"><pre><span></span><span class="c1"># Install the library we need for the notebook</span>
<span class="o">!</span>pip3 install --user <span class="s1">&#39;implicit&#39;</span>
</pre></div>

</div>
</div>
</div>

<div class="output_wrapper">
<div class="output">


<div class="output_area">

<div class="prompt"></div>


<div class="output_subarea output_stream output_stdout output_text">
<pre>Collecting implicit
  Downloading https://files.pythonhosted.org/packages/2e/d3/162237c5b41bef34faf5fce513535bc84808113dd3b2497c2437222a9bfc/implicit-0.3.8.tar.gz (783kB)
    100% |################################| 788kB 1.5MB/s 
Requirement already satisfied: numpy in /usr/local/lib/python3.5/dist-packages (from implicit) (1.14.5)
Requirement already satisfied: scipy&gt;=0.16 in /usr/local/lib/python3.5/dist-packages (from implicit) (1.1.0)
Collecting tqdm (from implicit)
  Downloading https://files.pythonhosted.org/packages/6c/4b/c38b5144cf167c4f52288517436ccafefe9dc01b8d1c190e18a6b154cd4a/tqdm-4.31.1-py2.py3-none-any.whl (48kB)
    100% |################################| 51kB 928kB/s 
Building wheels for collected packages: implicit
  Running setup.py bdist_wheel for implicit ... done
  Stored in directory: /mnt/workspace/.cache/pip/wheels/16/6c/e7/54f2a48bd3bd8a90f5b456a3e7b2ee687e111dbe25fc9fbf9d
Successfully built implicit
Installing collected packages: tqdm, implicit
<span class="ansi-yellow-fg">  The script tqdm is installed in &#39;/mnt/workspace/.local/bin&#39; which is not on PATH.
  Consider adding this directory to PATH or, if you prefer to suppress this warning, use --no-warn-script-location.</span>
Successfully installed implicit-0.3.8 tqdm-4.31.1
<span class="ansi-yellow-fg">You are using pip version 18.0, however version 19.0.3 is available.
You should consider upgrading via the &#39;pip install --upgrade pip&#39; command.</span>
</pre>
</div>
</div>

</div>
</div>

</div>
<div class="cell border-box-sizing text_cell rendered"><div class="prompt input_prompt">
</div>
<div class="inner_cell">
<div class="text_cell_render border-box-sizing rendered_html">
<h1 id="Building-a-music-recommender-system-(Spring-2019)">Building a music recommender system (Spring 2019)<a class="anchor-link" href="#Building-a-music-recommender-system-(Spring-2019)">&#182;</a></h1>
</div>
</div>
</div>
<div class="cell border-box-sizing text_cell rendered"><div class="prompt input_prompt">
</div>
<div class="inner_cell">
<div class="text_cell_render border-box-sizing rendered_html">
<p>As its name implies, a recommender system is a tool that helps predicting what a user may or may not like among a list of given items. In some sense, you can view this as an alternative to content search, as recommendation engines help users discover products or content that they may not come across otherwise. For example, Facebook suggests friends and pages to users. Youtube recommends videos which users may be interested in. Amazon suggests the products which users may need... Recommendation engines engage users to services, can be seen as a revenue optimization process, and in general help maintaining interest in a service.</p>
<p>In this notebook, we study how to build a simple recommender system: we focus on music recommendations, and we use a simple algorithm to predict which items users might like, that is called ALS, alternating least squares.</p>
<h2 id="Goals">Goals<a class="anchor-link" href="#Goals">&#182;</a></h2><p>In this lecture, we expect students to:</p>
<ul>
<li><p>Revisit (or learn) recommender algorithms</p>
</li>
<li><p>Understand the idea of Matrix Factorization and the ALS algorithm</p>
</li>
<li><p>Build a simple model for a real usecase: music recommender system</p>
</li>
<li><p>Understand how to validate the results</p>
</li>
</ul>
<h2 id="Steps">Steps<a class="anchor-link" href="#Steps">&#182;</a></h2><p>We assume students to work outside lab hours on the learning material. These are the steps by which we guide students, during labs, to build a good basis for the end-to-end development of a recommender system:</p>
<ul>
<li>Inspect the data using Pandas, and build some basic, but very valuable knowledge about the information we have at hand</li>
<li>Formally define what is a sensible algorithm to achieve our goal: given the "history" of user taste for music, recommend new music to discover. Essentialy, we want to build a statistical model of user preferences such that we can use it to "predict" which additional music the user could like</li>
<li>With our formal definition at hand, we will learn different ways to implement such an algorithm. Our goal here is to illustrate what are the difficulties to overcome when implementing an algorithm like Matrix Factorization</li>
<li>Finally, we will focus on an existing implementation, available in <code>Implicit</code>, which we will use out of the box to build a reliable statistical model</li>
</ul>
<p>Now, you may think at this point we will be done!</p>
<p>Well, you'd better think twice: one important topic we will cover in all our Notebooks is <strong>how to validate the results we obtain</strong>, and <strong>how to choose good parameters to train models</strong> especially when using an "opaque" library for doing the job. As a consequence, we will focus on the statistical validation of our recommender system.</p>

</div>
</div>
</div>
<div class="cell border-box-sizing text_cell rendered"><div class="prompt input_prompt">
</div>
<div class="inner_cell">
<div class="text_cell_render border-box-sizing rendered_html">
<h1 id="1.-Data">1. Data<a class="anchor-link" href="#1.-Data">&#182;</a></h1><p>Understanding data is one of the most important part when designing any machine learning algorithm. In this notebook, we will use a data set published by Audioscrobbler - a music recommendation system for last.fm. Audioscrobbler is also one of the first internet streaming radio sites, founded in 2002. It provided an open API for scrobbling, or recording listeners' plays of artists' songs. last.fm used this information to build a powerful music recommender engine.</p>
<h2 id="1.1.-Data-schema">1.1. Data schema<a class="anchor-link" href="#1.1.-Data-schema">&#182;</a></h2><p>Unlike a rating dataset which contains information about users' preference for products (one star, 3 stars, and so on), the datasets from Audioscrobbler only has information about events: specifically, it keeps track of how many times a user played songs of a given artist and the names of artists. That means it carries less information than a rating: in the literature, this is called explicit vs. implicit ratings.</p>
<h3 id="Reading-material">Reading material<a class="anchor-link" href="#Reading-material">&#182;</a></h3><ul>
<li><a href="http://people.csail.mit.edu/teevan/work/publications/papers/sigir-forum03.pdf">Implicit Feedback for Inferring User Preference: A Bibliography</a></li>
<li><a href="http://trec.nist.gov/pubs/trec10/papers/glasgow.pdf">Comparing explicit and implicit feedback techniques for web retrieval: TREC-10 interactive track report</a></li>
<li><a href="http://mlg.eng.cam.ac.uk/pub/pdf/WilGha08.pdf">Probabilistic Models for Data Combination in Recommender Systems</a></li>
</ul>
<p>The data we use in this Notebook is available in 3 files (these files are stored in our HDFS layer, in the directory  <code>/datasets/lastfm</code>):</p>
<ul>
<li><strong><code>user_artist_data.txt</code></strong>: It contains about 140,000+ unique users, and 1.6 million unique artists. About 24.2 million users' plays of artists' are recorded, along with their count. It has 3 columns separated by spaces: </li>
</ul>
<table>
<thead><tr>
<th>UserID</th>
<th>ArtistID</th>
<th>PlayCount</th>
</tr>
</thead>
<tbody>
<tr>
<td>...</td>
<td>...</td>
<td>...</td>
</tr>
</tbody>
</table>
<ul>
<li><strong><code>artist_data.txt</code></strong> : It prodives the names of each artist by their IDs. It has 2 columns separated by tab characters (<code>\t</code>).</li>
</ul>
<table>
<thead><tr>
<th>ArtistID</th>
<th>Name</th>
</tr>
</thead>
<tbody>
<tr>
<td>...</td>
<td>...</td>
</tr>
</tbody>
</table>
<ul>
<li><strong><code>artist_alias.txt</code></strong>: Note that when plays are scrobbled, the client application submits the name of the artist being played. This name could be misspelled or nonstandard. For example, "The Smiths", "Smiths, The", and "the smiths" may appear as distinct artist IDs in the data set, even though they are plainly the same. <code>artist_alias.txt</code> maps artist IDs that are known misspellings or variants to the canonical ID of that artist. The data in this file has 2 columns separated by tab characters (<code>\t</code>).</li>
</ul>
<table>
<thead><tr>
<th>MisspelledArtistID</th>
<th>StandardArtistID</th>
</tr>
</thead>
<tbody>
<tr>
<td>...</td>
<td>...</td>
</tr>
</tbody>
</table>

</div>
</div>
</div>
<div class="cell border-box-sizing text_cell rendered"><div class="prompt input_prompt">
</div>
<div class="inner_cell">
<div class="text_cell_render border-box-sizing rendered_html">
<h2 id="1.2.-Understanding-data:-simple-descriptive-statistic">1.2. Understanding data: simple descriptive statistic<a class="anchor-link" href="#1.2.-Understanding-data:-simple-descriptive-statistic">&#182;</a></h2><p>In order to choose or design a suitable algorithm for achieving our goals, given the data we have, we should first understand data characteristics. To start, we import the necessary packages to work with regular expressions, Data Frames, and other nice features of our programming environment.</p>

</div>
</div>
</div>
<div class="cell border-box-sizing code_cell rendered">
<div class="input">
<div class="prompt input_prompt">In&nbsp;[1]:</div>
<div class="inner_cell">
    <div class="input_area">
<div class=" highlight hl-ipython3"><pre><span></span><span class="o">%</span><span class="k">matplotlib</span> inline
<span class="kn">import</span> <span class="nn">os</span>
<span class="kn">import</span> <span class="nn">sys</span>
<span class="kn">import</span> <span class="nn">re</span>
<span class="kn">import</span> <span class="nn">random</span>
<span class="kn">import</span> <span class="nn">matplotlib</span>
<span class="kn">import</span> <span class="nn">implicit</span>

<span class="kn">import</span> <span class="nn">matplotlib.pyplot</span> <span class="k">as</span> <span class="nn">plt</span>
<span class="kn">import</span> <span class="nn">pandas</span> <span class="k">as</span> <span class="nn">pd</span>
<span class="kn">import</span> <span class="nn">numpy</span> <span class="k">as</span> <span class="nn">np</span>

<span class="kn">from</span> <span class="nn">time</span> <span class="k">import</span> <span class="n">time</span>

<span class="n">os</span><span class="o">.</span><span class="n">environ</span><span class="p">[</span><span class="s2">&quot;OPENBLAS_NUM_THREADS&quot;</span><span class="p">]</span> <span class="o">=</span> <span class="s2">&quot;1&quot;</span>   <span class="c1"># Required by implicit</span>

<span class="n">base</span> <span class="o">=</span> <span class="s2">&quot;/mnt/datasets/lastfm/&quot;</span>
</pre></div>

</div>
</div>
</div>

</div>
<div class="cell border-box-sizing text_cell rendered"><div class="prompt input_prompt">
</div>
<div class="inner_cell">
<div class="text_cell_render border-box-sizing rendered_html">
<h3 id="Question-1">Question 1<a class="anchor-link" href="#Question-1">&#182;</a></h3><h4 id="Question-1.0-(Non-grading)">Question 1.0 (Non-grading)<a class="anchor-link" href="#Question-1.0-(Non-grading)">&#182;</a></h4><p>Using Pandas, load data from <code>/datasets/lastfm/user_artist_data.txt</code> (407 MB) and show the first 20 entries (via function <code>show()</code>).</p>
<div class="highlight"><pre><span></span>$ du -sh /mnt/datasets/lastfm/user_artist_data.txt
407M     /mnt/datasets/lastfm/user_artist_data.txt
</pre></div>
<p>For this Notebook, from a programming point of view, we are given the schema for the data we use, which is as follows:</p>

<pre><code>userID: long int
artistID: long int
playCount: int</code></pre>
<p>Each line of the dataset contains the above three fields, separated by a "white space".</p>

</div>
</div>
</div>
<div class="cell border-box-sizing code_cell rendered">
<div class="input">
<div class="prompt input_prompt">In&nbsp;[2]:</div>
<div class="inner_cell">
    <div class="input_area">
<div class=" highlight hl-ipython3"><pre><span></span><span class="c1"># Read the .csv file (might take a while)</span>
<span class="n">userArtistDF</span> <span class="o">=</span> <span class="n">pd</span><span class="o">.</span><span class="n">read_csv</span><span class="p">(</span><span class="n">base</span> <span class="o">+</span> <span class="s1">&#39;user_artist_data.txt&#39;</span><span class="p">,</span> 
                           <span class="n">sep</span><span class="o">=</span><span class="s1">&#39; &#39;</span><span class="p">,</span> 
                           <span class="n">header</span><span class="o">=</span><span class="kc">None</span><span class="p">,</span> 
                           <span class="n">names</span><span class="o">=</span><span class="p">[</span><span class="s1">&#39;userID&#39;</span><span class="p">,</span> <span class="s1">&#39;artistID&#39;</span><span class="p">,</span> <span class="s1">&#39;playCount&#39;</span><span class="p">])</span>

<span class="c1"># Cast each column to its correct datatype</span>
<span class="n">userArtistDF</span><span class="p">[</span><span class="s1">&#39;userID&#39;</span><span class="p">]</span> <span class="o">=</span> <span class="n">userArtistDF</span><span class="p">[</span><span class="s1">&#39;userID&#39;</span><span class="p">]</span><span class="o">.</span><span class="n">astype</span><span class="p">(</span><span class="n">np</span><span class="o">.</span><span class="n">int64</span><span class="p">,</span> <span class="n">errors</span><span class="o">=</span><span class="s1">&#39;ignore&#39;</span><span class="p">)</span>
<span class="n">userArtistDF</span><span class="p">[</span><span class="s1">&#39;artistID&#39;</span><span class="p">]</span> <span class="o">=</span> <span class="n">userArtistDF</span><span class="p">[</span><span class="s1">&#39;artistID&#39;</span><span class="p">]</span><span class="o">.</span><span class="n">astype</span><span class="p">(</span><span class="n">np</span><span class="o">.</span><span class="n">int64</span><span class="p">,</span> <span class="n">errors</span><span class="o">=</span><span class="s1">&#39;ignore&#39;</span><span class="p">)</span>
<span class="n">userArtistDF</span><span class="p">[</span><span class="s1">&#39;playCount&#39;</span><span class="p">]</span> <span class="o">=</span> <span class="n">userArtistDF</span><span class="p">[</span><span class="s1">&#39;playCount&#39;</span><span class="p">]</span><span class="o">.</span><span class="n">astype</span><span class="p">(</span><span class="n">np</span><span class="o">.</span><span class="n">int32</span><span class="p">,</span> <span class="n">errors</span><span class="o">=</span><span class="s1">&#39;ignore&#39;</span><span class="p">)</span>

<span class="n">userArtistDF</span><span class="p">[:</span><span class="mi">5</span><span class="p">]</span>
</pre></div>

</div>
</div>
</div>

<div class="output_wrapper">
<div class="output">


<div class="output_area">

<div class="prompt output_prompt">Out[2]:</div>



<div class="output_html rendered_html output_subarea output_execute_result">
<div>
<style scoped>
    .dataframe tbody tr th:only-of-type {
        vertical-align: middle;
    }

    .dataframe tbody tr th {
        vertical-align: top;
    }

    .dataframe thead th {
        text-align: right;
    }
</style>
<table border="1" class="dataframe">
  <thead>
    <tr style="text-align: right;">
      <th></th>
      <th>userID</th>
      <th>artistID</th>
      <th>playCount</th>
    </tr>
  </thead>
  <tbody>
    <tr>
      <th>0</th>
      <td>1000002</td>
      <td>1</td>
      <td>55</td>
    </tr>
    <tr>
      <th>1</th>
      <td>1000002</td>
      <td>1000006</td>
      <td>33</td>
    </tr>
    <tr>
      <th>2</th>
      <td>1000002</td>
      <td>1000007</td>
      <td>8</td>
    </tr>
    <tr>
      <th>3</th>
      <td>1000002</td>
      <td>1000009</td>
      <td>144</td>
    </tr>
    <tr>
      <th>4</th>
      <td>1000002</td>
      <td>1000010</td>
      <td>314</td>
    </tr>
  </tbody>
</table>
</div>
</div>

</div>

</div>
</div>

</div>
<div class="cell border-box-sizing text_cell rendered"><div class="prompt input_prompt">
</div>
<div class="inner_cell">
<div class="text_cell_render border-box-sizing rendered_html">
<h4 id="Question-1.1:">Question 1.1:<a class="anchor-link" href="#Question-1.1:">&#182;</a></h4><div class="alert alert-info">
How many distinct users do we have in our data? 
</div>
</div>
</div>
</div>
<div class="cell border-box-sizing text_cell rendered"><div class="prompt input_prompt">
</div>
<div class="inner_cell">
<div class="text_cell_render border-box-sizing rendered_html">
<div class="highlight"><pre><span></span><span class="c1">###################################################################</span>
<span class="c1">####                      TO COMPLETE                         #####</span>
<span class="c1">###################################################################</span>

<span class="n">uniqueUsers</span> <span class="o">=</span> <span class="n">userArtistDF</span><span class="p">[</span><span class="o">...</span><span class="p">]</span><span class="o">...</span>
<span class="k">print</span><span class="p">(</span><span class="s2">&quot;Total n. of users: &quot;</span><span class="p">,</span> <span class="n">uniqueUsers</span><span class="p">)</span>
</pre></div>

</div>
</div>
</div>
<div class="cell border-box-sizing code_cell rendered">
<div class="input">
<div class="prompt input_prompt">In&nbsp;[3]:</div>
<div class="inner_cell">
    <div class="input_area">
<div class=" highlight hl-ipython3"><pre><span></span><span class="n">uniqueUsers</span> <span class="o">=</span> <span class="n">userArtistDF</span><span class="o">.</span><span class="n">userID</span><span class="o">.</span><span class="n">unique</span><span class="p">()</span><span class="o">.</span><span class="n">size</span>
<span class="nb">print</span><span class="p">(</span><span class="s2">&quot;Total n. of users: &quot;</span><span class="p">,</span> <span class="n">uniqueUsers</span><span class="p">)</span>
</pre></div>

</div>
</div>
</div>

<div class="output_wrapper">
<div class="output">


<div class="output_area">

<div class="prompt"></div>


<div class="output_subarea output_stream output_stdout output_text">
<pre>Total n. of users:  148111
</pre>
</div>
</div>

</div>
</div>

</div>
<div class="cell border-box-sizing text_cell rendered"><div class="prompt input_prompt">
</div>
<div class="inner_cell">
<div class="text_cell_render border-box-sizing rendered_html">
<h4 id="Question-1.2">Question 1.2<a class="anchor-link" href="#Question-1.2">&#182;</a></h4><div class="alert alert-info">
How many distinct artists do we have in our data ?
</div>
</div>
</div>
</div>
<div class="cell border-box-sizing text_cell rendered"><div class="prompt input_prompt">
</div>
<div class="inner_cell">
<div class="text_cell_render border-box-sizing rendered_html">
<div class="highlight"><pre><span></span><span class="c1">###################################################################</span>
<span class="c1">####                      TO COMPLETE                         #####</span>
<span class="c1">###################################################################</span>

<span class="n">uniqueArtists</span> <span class="o">=</span> <span class="n">userArtistDF</span><span class="p">[</span><span class="o">...</span><span class="p">]</span><span class="o">...</span>
<span class="k">print</span><span class="p">(</span><span class="s2">&quot;Total n. of artists: &quot;</span><span class="p">,</span> <span class="n">uniqueArtists</span><span class="p">)</span>
</pre></div>

</div>
</div>
</div>
<div class="cell border-box-sizing code_cell rendered">
<div class="input">
<div class="prompt input_prompt">In&nbsp;[4]:</div>
<div class="inner_cell">
    <div class="input_area">
<div class=" highlight hl-ipython3"><pre><span></span><span class="n">uniqueArtists</span> <span class="o">=</span> <span class="n">userArtistDF</span><span class="o">.</span><span class="n">artistID</span><span class="o">.</span><span class="n">unique</span><span class="p">()</span><span class="o">.</span><span class="n">size</span>
<span class="nb">print</span><span class="p">(</span><span class="s2">&quot;Total n. of artists: &quot;</span><span class="p">,</span> <span class="n">uniqueArtists</span><span class="p">)</span>
</pre></div>

</div>
</div>
</div>

<div class="output_wrapper">
<div class="output">


<div class="output_area">

<div class="prompt"></div>


<div class="output_subarea output_stream output_stdout output_text">
<pre>Total n. of artists:  1631028
</pre>
</div>
</div>

</div>
</div>

</div>
<div class="cell border-box-sizing text_cell rendered"><div class="prompt input_prompt">
</div>
<div class="inner_cell">
<div class="text_cell_render border-box-sizing rendered_html">
<p>We just discovered that we have a total of 148,111 users in our dataset. Similarly, we have a total of 1,631,028 artists in our dataset.</p>
<p>One thing we can see here is that Pandas provides very concise and powerful methods for data analytics.</p>

</div>
</div>
</div>
<div class="cell border-box-sizing text_cell rendered"><div class="prompt input_prompt">
</div>
<div class="inner_cell">
<div class="text_cell_render border-box-sizing rendered_html">
<p>Next, we might want to understand better user activity and artist popularity.</p>
<p>Here is a list of simple descriptive queries that helps us reaching these purposes:</p>
<ul>
<li>How many times each user has played a song? This is a good indicator of who are the most active users of our service. Note that a very active user with many play counts does not necessarily mean that the user is also "curious"! Indeed, she could have played the same song several times.</li>
<li>How many play counts for each artist? This is a good indicator of the artist popularity. Since we do not have time information associated to our data, we can only build a, e.g., top-10 ranking of the most popular artists in the dataset. Later in the notebook, we will learn that our dataset has a very "loose" definition about artists: very often artist IDs point to song titles as well. This means we have to be careful when establishing popular artists. Indeed, artists whose data is "well formed" will have the correct number of play counts associated to them. Instead, artists that appear mixed with song titles may see their play counts "diluted" across their songs.</li>
</ul>

</div>
</div>
</div>
<div class="cell border-box-sizing text_cell rendered"><div class="prompt input_prompt">
</div>
<div class="inner_cell">
<div class="text_cell_render border-box-sizing rendered_html">
<h3 id="Question-2">Question 2<a class="anchor-link" href="#Question-2">&#182;</a></h3><h4 id="Question-2.1">Question 2.1<a class="anchor-link" href="#Question-2.1">&#182;</a></h4><div class="alert alert-info">
How many times each user has played a song? Show 5 samples of the result.
</div>
</div>
</div>
</div>
<div class="cell border-box-sizing text_cell rendered"><div class="prompt input_prompt">
</div>
<div class="inner_cell">
<div class="text_cell_render border-box-sizing rendered_html">
<div class="highlight"><pre><span></span><span class="c1">###################################################################</span>
<span class="c1">####                      TO COMPLETE                         #####</span>
<span class="c1">###################################################################</span>

<span class="c1"># Compute user activity</span>
<span class="c1"># We are interested in how many playcounts each user has scored.</span>
<span class="n">userActivity</span> <span class="o">=</span> <span class="n">userArtistDF</span><span class="o">.</span><span class="n">groupby</span><span class="p">(</span><span class="o">...</span><span class="p">)</span><span class="o">...</span>
<span class="k">print</span><span class="p">(</span><span class="n">userActivity</span><span class="p">[</span><span class="mi">0</span><span class="p">:</span><span class="mi">5</span><span class="p">])</span>
</pre></div>

</div>
</div>
</div>
<div class="cell border-box-sizing code_cell rendered">
<div class="input">
<div class="prompt input_prompt">In&nbsp;[5]:</div>
<div class="inner_cell">
    <div class="input_area">
<div class=" highlight hl-ipython3"><pre><span></span><span class="n">userActivity</span> <span class="o">=</span> <span class="n">userArtistDF</span><span class="o">.</span><span class="n">groupby</span><span class="p">(</span><span class="n">userArtistDF</span><span class="o">.</span><span class="n">userID</span><span class="p">)</span><span class="o">.</span><span class="n">agg</span><span class="p">({</span><span class="s1">&#39;playCount&#39;</span><span class="p">:</span><span class="s1">&#39;sum&#39;</span><span class="p">})</span>
<span class="nb">print</span><span class="p">(</span><span class="n">userActivity</span><span class="p">[</span><span class="mi">0</span><span class="p">:</span><span class="mi">5</span><span class="p">])</span>
</pre></div>

</div>
</div>
</div>

<div class="output_wrapper">
<div class="output">


<div class="output_area">

<div class="prompt"></div>


<div class="output_subarea output_stream output_stdout output_text">
<pre>        playCount
userID           
90            537
98            186
116            20
120            65
128           133
</pre>
</div>
</div>

</div>
</div>

</div>
<div class="cell border-box-sizing text_cell rendered"><div class="prompt input_prompt">
</div>
<div class="inner_cell">
<div class="text_cell_render border-box-sizing rendered_html">
<h4 id="Question-2.2">Question 2.2<a class="anchor-link" href="#Question-2.2">&#182;</a></h4><div class="alert alert-info">
Plot CDF (or ECDF) of the number of play counts per User ID.  

Explain and comment the figure you just created:   
<ul>
<li>for example, look at important percentiles (10%, 25%, median, 75%, tails such as >90%) and cross check with what you have found above to figure out if the result is plausible. </li>
<li>discuss about your users, with respect to the application domain we target in the notebook: you will notice that for some users, there is very little interaction with the system, which means that maybe reccommending something to them is going to be more difficult than for other users who interact more with the system. </li>
<li>look at outliers and reason about their impact on your reccommender algorithm</li>
</ul>
</div>
</div>
</div>
</div>
<div class="cell border-box-sizing text_cell rendered"><div class="prompt input_prompt">
</div>
<div class="inner_cell">
<div class="text_cell_render border-box-sizing rendered_html">
<div class="highlight"><pre><span></span><span class="c1">###################################################################</span>
<span class="c1">####                      TO COMPLETE                         #####</span>
<span class="c1">###################################################################</span>
<span class="n">fig</span><span class="p">,</span> <span class="n">ax</span> <span class="o">=</span> <span class="n">plt</span><span class="o">.</span><span class="n">subplots</span><span class="p">()</span>

<span class="c1"># Plot the cumulative distribution</span>
<span class="n">userActivity</span><span class="p">[</span><span class="o">...</span><span class="p">]</span><span class="o">.</span><span class="n">plot</span><span class="p">(</span><span class="o">...</span><span class="p">,</span> <span class="n">ax</span><span class="o">=</span><span class="n">ax</span><span class="p">)</span>

<span class="c1"># Calculate and plot the 5 important percentiles</span>
<span class="k">for</span> <span class="n">i</span><span class="p">,</span> <span class="n">quantile</span> <span class="ow">in</span> <span class="nb">enumerate</span><span class="p">([</span><span class="o">.</span><span class="mi">1</span><span class="p">,</span> <span class="mf">0.25</span><span class="p">,</span> <span class="o">.</span><span class="mi">5</span><span class="p">,</span> <span class="o">.</span><span class="mi">75</span><span class="p">,</span> <span class="o">.</span><span class="mi">9</span><span class="p">]):</span>
    <span class="n">ax</span><span class="o">.</span><span class="n">axvline</span><span class="p">(</span><span class="n">userActivity</span><span class="p">[</span><span class="o">...</span><span class="p">]</span><span class="o">.</span><span class="n">quantile</span><span class="p">(</span><span class="n">quantile</span><span class="p">),</span> <span class="n">label</span><span class="o">=</span><span class="s1">&#39;</span><span class="si">%.0f</span><span class="s1">th perc.&#39;</span> <span class="o">%</span> <span class="p">(</span><span class="n">quantile</span><span class="o">*</span><span class="mi">100</span><span class="p">))</span>

<span class="n">ax</span><span class="o">.</span><span class="n">semilogx</span><span class="p">()</span>
<span class="n">ax</span><span class="o">.</span><span class="n">set_title</span><span class="p">(</span><span class="s1">&#39;ECDF of number of play counts per User ID&#39;</span><span class="p">)</span>
<span class="n">ax</span><span class="o">.</span><span class="n">set_xlabel</span><span class="p">(</span><span class="s1">&#39;Play Counts&#39;</span><span class="p">)</span>
<span class="n">ax</span><span class="o">.</span><span class="n">set_ylabel</span><span class="p">(</span><span class="s1">&#39;ECDF&#39;</span><span class="p">)</span>
<span class="n">ax</span><span class="o">.</span><span class="n">legend</span><span class="p">()</span>
<span class="n">plt</span><span class="o">.</span><span class="n">show</span><span class="p">()</span>
</pre></div>

</div>
</div>
</div>
<div class="cell border-box-sizing code_cell rendered">
<div class="input">
<div class="prompt input_prompt">In&nbsp;[6]:</div>
<div class="inner_cell">
    <div class="input_area">
<div class=" highlight hl-ipython3"><pre><span></span><span class="n">fig</span><span class="p">,</span> <span class="n">ax</span> <span class="o">=</span> <span class="n">plt</span><span class="o">.</span><span class="n">subplots</span><span class="p">()</span>

<span class="c1"># Plot the cumulative distribution linerar axis</span>
<span class="n">a</span> <span class="o">=</span> <span class="n">userActivity</span><span class="o">.</span><span class="n">playCount</span><span class="o">.</span><span class="n">groupby</span><span class="p">(</span><span class="n">userActivity</span><span class="o">.</span><span class="n">playCount</span><span class="p">)</span><span class="o">.</span><span class="n">count</span><span class="p">()</span><span class="o">.</span><span class="n">cumsum</span><span class="p">()</span><span class="o">/</span><span class="n">userActivity</span><span class="o">.</span><span class="n">playCount</span><span class="o">.</span><span class="n">size</span>
<span class="n">plt</span><span class="o">.</span><span class="n">figure</span><span class="p">()</span>
<span class="n">plt</span><span class="o">.</span><span class="n">grid</span><span class="p">(</span><span class="kc">True</span><span class="p">,</span><span class="n">which</span><span class="o">=</span><span class="s2">&quot;both&quot;</span><span class="p">,</span><span class="n">ls</span><span class="o">=</span><span class="s2">&quot;-&quot;</span><span class="p">)</span>
<span class="n">plt</span><span class="o">.</span><span class="n">plot</span><span class="p">(</span><span class="n">a</span><span class="p">)</span>
<span class="c1"># Plot the cumulative distribution with semilog x axis</span>
<span class="n">userActivity</span><span class="o">.</span><span class="n">playCount</span><span class="o">.</span><span class="n">plot</span><span class="p">(</span><span class="n">ax</span><span class="o">=</span><span class="n">ax</span><span class="p">,</span> <span class="n">kind</span><span class="o">=</span><span class="s1">&#39;hist&#39;</span><span class="p">,</span><span class="n">bins</span><span class="o">=</span><span class="mi">15000</span><span class="p">,</span> <span class="n">density</span><span class="o">=</span><span class="kc">True</span><span class="p">,</span> <span class="n">cumulative</span><span class="o">=</span><span class="kc">True</span><span class="p">,</span><span class="n">color</span><span class="o">=</span><span class="s1">&#39;g&#39;</span><span class="p">)</span>
<span class="c1"># df.fraction.plot(ax=axes[0], kind=&#39;hist&#39;, normed=True, bins=30, range=(0,.3))</span>
<span class="c1"># Calculate and plot the 5 important percentiles</span>
<span class="k">for</span> <span class="n">i</span><span class="p">,</span> <span class="n">quantile</span> <span class="ow">in</span> <span class="nb">enumerate</span><span class="p">([</span><span class="o">.</span><span class="mi">1</span><span class="p">,</span> <span class="mf">0.25</span><span class="p">,</span> <span class="o">.</span><span class="mi">5</span><span class="p">,</span> <span class="o">.</span><span class="mi">75</span><span class="p">,</span> <span class="o">.</span><span class="mi">9</span><span class="p">,</span><span class="mf">0.999</span><span class="p">]):</span>
    <span class="n">ax</span><span class="o">.</span><span class="n">axvline</span><span class="p">(</span><span class="n">userActivity</span><span class="o">.</span><span class="n">playCount</span><span class="o">.</span><span class="n">quantile</span><span class="p">(</span><span class="n">quantile</span><span class="p">),</span> <span class="n">label</span><span class="o">=</span><span class="s1">&#39;</span><span class="si">%.0f</span><span class="s1">th perc.&#39;</span> <span class="o">%</span> <span class="p">(</span><span class="n">quantile</span><span class="o">*</span><span class="mi">100</span><span class="p">))</span>

<span class="n">ax</span><span class="o">.</span><span class="n">semilogx</span><span class="p">()</span>
<span class="n">ax</span><span class="o">.</span><span class="n">set_title</span><span class="p">(</span><span class="s1">&#39;ECDF of number of play counts per User ID&#39;</span><span class="p">)</span>
<span class="n">ax</span><span class="o">.</span><span class="n">set_xlabel</span><span class="p">(</span><span class="s1">&#39;Play Counts&#39;</span><span class="p">)</span>
<span class="n">ax</span><span class="o">.</span><span class="n">set_ylabel</span><span class="p">(</span><span class="s1">&#39;ECDF&#39;</span><span class="p">)</span>
<span class="n">ax</span><span class="o">.</span><span class="n">legend</span><span class="p">()</span>
<span class="n">ax</span><span class="o">.</span><span class="n">grid</span><span class="p">(</span><span class="kc">True</span><span class="p">,</span><span class="n">which</span><span class="o">=</span><span class="s2">&quot;both&quot;</span><span class="p">,</span><span class="n">ls</span><span class="o">=</span><span class="s2">&quot;-&quot;</span><span class="p">)</span>
<span class="n">plt</span><span class="o">.</span><span class="n">show</span><span class="p">()</span>
</pre></div>

</div>
</div>
</div>

<div class="output_wrapper">
<div class="output">


<div class="output_area">

<div class="prompt"></div>




<div class="output_png output_subarea ">
<img src="data:image/png;base64,iVBORw0KGgoAAAANSUhEUgAAAYUAAAEaCAYAAAD+E0veAAAABHNCSVQICAgIfAhkiAAAAAlwSFlzAAALEgAACxIB0t1+/AAAADl0RVh0U29mdHdhcmUAbWF0cGxvdGxpYiB2ZXJzaW9uIDIuMi4zLCBodHRwOi8vbWF0cGxvdGxpYi5vcmcvIxREBQAAIABJREFUeJzt3Xl8VNXd+PHPlwSBkrDIklJA2cIOCUJZFcKDEYQC4o7FRwRFrGjVUsCfVoHHFvs8iAJSKYu1aBUUxa3YukAERRHSRgUUAYsQxIgIQlBZv78/7s11MpmZzCQzmSzf9+uVV+4959x7z5k7M985dzlXVBVjjDEGoFq8K2CMMab8sKBgjDHGY0HBGGOMx4KCMcYYjwUFY4wxHgsKxhhjPBYUqigRaSciOSJyVERui3NdskTkhjhtu5aIvCwi34rIsyVYfreIXBiLuhkTDxYUosj9gvheRPJ9/h7xyW8iIktFZL/7ZfyJiMwQkdpuvorIMXe5gyLypohc5beNLBH5wW8bfUpQ3SnAWlVNVtV5pWt5hXY5kAI0UNUr4l2ZeHLff23iXQ9/IpIhIrkB0svkx4Rv4BeRsSJy2uez9x8R+YuItI11PcqKBYXoG66qST5/kwBE5GzgXaAW0EdVk4FMoB7Q2mf5NFVNAtoBjwOPiMh9ftuY5LeNd0tQz3OBrSVYrtwSR6Tv6XOBT1X1VCzqZCIjIolx3Ha475933c9oXeBC4HsgW0Q6x7SCZcSCQtm5EzgKjFHV3QCquldVf62qH/oXVtWvVfUJ4GbgLhFpEOkGRWSEiGwVkcPur6oObvoaYCBOwMkP9CvHLf8/IvKO26t5TUQaunlFfrn5/ZqaLiLPisiT7rIfiUhbEblLRL4Skb0icpHfJluLyPsickREXnSDaMG6e4vIBrcdH4hIhl89fy8i7wDfAa0CtKWDW+6w+3qMcNNnAPcCV7mvw/gAy04XkZUissJty79EJC3I691TRN51t7NfRB4RkbPcvAUi8qBf+ZdE5I4g6+okIq+LyDcikici/89NryEiD4vIF+7fwyJSw80bKyJv+63H+/UvIo+79fi725aNItLazVvnLvKB+1pcJSINReQVtz3fiMj6YF+a7nZuE5HPRORrEfk/37IiMk5EPhaRQyLyTxE512/ZW0RkB7Aj0PqL4772m933T56IzPHJK9X7JxhVPa2qu1T1V8BbwPSS1L3cUVX7i9IfsBu4MEjee8CMYpZXoI1fWnXgFHCxO58F3BBGXdoCx3B6I9VxDhftBM4KZz1u/i53PbXc+QfcvAwgN1jbcT4cPwCDgURgGfAf4G63LjcC//Hb1j6gM1AbeA540s1rChwEhuL8iMl05xv5LLsH6ORuq3qA128n8P+As4D/wgnO7Xzq+mSI12E6cBLnMFN1YLLbluoB2t0d6O3WowXwMXC7m9cT+AKo5s43xPkSSgmwzWRgP/AboKY738vNm+m+lxoDjYANwP+4eWOBt4O9p3B6ngfduiQCfwOWB3v/AbOAhW67qwMXABLivbsWOBs4B/gU9/0FjHT3QQd3u/cAG/yWfd1dtlaAdWfg937zfw/j9MKvdaeTgN7ReP8E2MdFXmM3fRyQF6/vnmj+WU8h+l5wf5EU/N3opjfA+aBHRFVPAl/jfGAKzPNZ/7+CLHoV8HdVfd1dx2ycL/e+EWz+L6r6qap+DzwDpEew7HpV/ac6h2WexfkCe8Cty3KghYjU8yn/hKpuUdVjwO+AK0UkARgDrFbV1ap6RlVfBzbjfMgLPK6qW1X1lLt+X71xviQeUNUTqroGeAUYHUFbslV1pbvuOThf1L39C6lqtqq+59ZjN/BnYICb9z7wLTDILX41kKWqeQG29wvgS1V9UFV/UNWjqrrRzfslMFNVv1LVA8AM4NoI2rJKVd9398vfCL1PTwJNgHNV9aSqrlf3GzCIP6rqN6q6B3iYH1/jicAsVf3Y3e4fgHTf3oKb/437XiuJk0AbEWmoqvmq+p6bXtr3T7i+oPBntMKyoBB9l6hqPZ+/xW76QZwPWEREpDrOF+o3Psm3+az/vCCL/gz4vGBGVc8Ae3F+OYXrS5/p73C+XMPl+2X3PfC1qp72mcdvfXt9pj/H+WXaEOeY/xW+gRY4n8Kvpe+y/n4G7HXb77v+SF4Hb/3uenLd9RbiHiJ7RUS+FJEjOF9+DX2K/BXnSwr3/xNBttccp5cWSKH96k4XqUsIkezT/8P5hf+ae1hoWjHr9t+HBfU6F5jrs/++AYTC+yDUPjyF837wVx0nGACMx+nVfiIim0TkFz7bLs37J1xNKfwZrbAsKJSdN4BRwY7JhjAS50PxfoTLfYHzgQCck2g4Xzb7IlxPIMeAn/isOwEncJVGc5/pc3A+7F/jfGCf8Au0tVX1AZ/yoX69fgE093vdzyGy18Grm7ueZu56/T0KfAKkqmodnENW4pP/JDDSPSfRAXghyPb2EvzYdqH9itOWgrr475efBllHWNweym9UtRUwArhTRAaFWMR/HxbUay9wk98+rKWqG3w3F2K9e4CGIuIFMPf9fC5ugFTVHao6Guew2h+BleJc1Vfa90+4RgHro7CeuLOgUHbmAHWAvxZ0m0WkqYjMEZGu/oVF5GwR+SWwAKdbfjDC7T0DDBORQW5v4zfAcZxj0KX1KVBTRIa5674HqFHKdY4RkY4i8hOc4+Yr3Z7Fk8BwERksIgkiUlOcE93NwlzvRpxfxFNEpLp7knE4ziGscHUXkUvFuTLmdpzX8b0A5ZKBI0C+iLTHuUjAo6q5wCacHsJzIQ6VvAI0EZHb3RPLySLSy817GrhHRBqJc+L/XpzXCOADoJOIpItITSI/8ZmHTzASkV+ISBv3C/hb4DRwJtjCwG9FpL6INAd+Daxw0xfiXCzRyV1vXREJ+/Jf93DURuCPIpIkzon13+L8cHjPXecYEWnk9uQOu4ueofTvn6Dc9bUUkfk45z1mlHad5YEFheh7WQrfQ7AKQFW/wTmefxLYKCJHgTdxPmw7fZb/QETy3bQbgDtU9d5IK6Gq23EOUczH+cU9HOdy2ROlaFvBur8FfgUswfnFfQznkEppPIFzIvRLnGP2t7nb2ovTW/p/wAGcX36/Jcz3rtve4cDFOK/Dn4D/VtVPIqjbizjnaA7hHL+/NMix58nANTgnshfz45eir78CXQh+6AhVPYpzQnQ4zuuxA+dqMYD7cY6Jfwh8BPzLTUNVP8UJqG+4yxS6EikM03F+tBwWkSuBVHdd+Tgncv+kqmtDLP8ikA3kAH8Hlrr1WoXz6325e1htC87+iMRVOL2AnTjvuUHAMFX9wc0fAmx1PztzgatV9fvSvn+C6ONu5wjOieo6wM9V9aNSrLPckNDnjYyp2kRkOs4VOWOKKxvm+vrj/Ho9t5iTthWKiCjOYbOdxRY25Zr1FIwpI+6htl8DSypTQDCViwUFY8qAODcOHsa56uXhOFfHmKDs8JExxhiP9RSMMcZ4LCgYY4zxxG1EwpJq2LChtmjRwps/duwYtWvXDmvaN60kwlk+VJlAef5pkbQn3DpFoz2fHTgGQKtGgesaTnuC1T1a7dnx5RESEhIK1TFUm8JJj7Q9ed856Sk/IabvOd/9UZr2QOHXraJ9hj47cIzTp0+T+tM6ActUtPYESovWZyg7O/trVS3+JtNwBkgqT3/du3dXX2vXrg172jetJMJZPlSZQHn+aZG0J9w6RVKfYGWuXLhBr1y4odjlQ7XHfz7QfilNey56YHWROgYSbBvRaE/B6xTr95zv/ihNe1QLv24V7TN05cINetEDq4OWqWjtCZQWrc8QsFltQDxjjDGRsKBgjDHGY0HBGGOMp8KdaA7k5MmT5ObmUrduXT7++GOAgNO+aSURzvKhygTK808rrg2hpmPZnlu61QLwytesWRNnnDRjTGVSKYJCbm4uycnJNGjQgDp1nKsQjh49SnJycqFp37SSCGf5UGUC5fmnBap3uNOxbM9ZB/IBaN0oCVXl4MGDpbpqwxhTPsXs8JGIPCbO83i3BMkXEZknIjtF5EMRCfawmGL98MMPNGjQwH65lhERoUGDBiQkJMS7KsaYKIvlOYXHcYazDeZinKF5U4EJOA8oKTELCGXLXm9jKqeYBQVVXUfox9ONBJa5l9C+B9QTkYgfV1lejBs3jsaNG9OrV69C6d988w2ZmZmkpqYycuRIDh06BEBWVhYbNvz4vJuxY8eycuXKMq2zMcb4i+mAeCLSAnhFVTsHyHsF52Hqb7vzbwJTVXVzgLITcHoTpKSkdF++/MeHZuXn59O0aVPatGnD6dOnvUMagaZ900oi1PLvvPMOtWvXZsKECbz//o9Pzvzd735H/fr1ufPOO5k9ezZHjhxh5syZ/OEPfyApKYlbbrmFhIQEJk6cyJAhQxg+fHjINoSaLs6pU6dITPzxNFI4yxaU2Z/vPHCrSdKPvyN27NjBkSNHCpXPz88nKSkprPmC6UBpJXH/hnwSEhK4q1etkOWCbSNQeqTtmb/VeT1v7XS6SNtKItjyszY6D227q1etUrUHCr9uwfZFoH0VzfaEKpO9P9ubblajGbnHf3ye0/M7z6FGtRoMa7UjYJnipv3XF6lwlg9VJlCef5rvfPcm3Uv8GRo4cGC2qvYork0V4kSzqi4CFgH06NFDMzIyvLysrCxq1qxZ5ERyWZ9oHjJkCLt370ZECpV59dVXycrKIjk5mTFjxvCLX/yCX//61/zlL38hISGBFStWsGDBAqpXr86mTZt45JFHOHDgAP/7v//L4MGDC7Xh4MGDDBkyhK5du/LRRx/RqVMnFixYQEpKCtnZ2dx5553k5+fTsGFDHn/8cZo0aUJGRgbp6em8/fbbjB49mjFjxjBx4kQ+++wzzpw5w5///Gf69u1bbJu/+sE50Zyc/OObTUTw3Rfg7A///RNsvmA6UFpJzNr4KvXq1SMjo0/IcsG2ESg90vbUq+c8lTQp6XiRtpVEsOUf3f4uABkZfUrVHij8ugXbF4H2VTTaIzOKHoac3XY2k7MnB1x+dtvZTP70x7yU47NoXat1oTTfMsVN+68vUuEsH6pMoDz/NN95Ha0x/QxBfIPCPgo/6LsZUXio/IyXt7LtiyNR7Sl0/Fkd7hveqUT1ycvLo0kT56hYSkoKeXl5tGjRgokTJ5KUlMRNN91EcnIyS5cuZf/+/bz22mvs27ePESNGMHjw4CLr2759O/PnzyczM5Nx48axZMkSpkyZwq233sqLL75Io0aNWLFiBXfffTePPfYYACdOnGDzZqcDdtVVVzFgwABWrVrF4cOH7dyAKTMyQ5jddjYDZwwsvrCJm3gGhZeASSKyHOgFfKuq++NYn5gTkZBfwpdccgnVqlWjY8eO5OXlBSzTvHlzevfuDcCYMWOYM2cO27dvZ8uWLWRmZgJOECwIROAEggJr1qxh2bJlACQkJJSq52RMcQL1BEz5FrOgICJPAxlAQxHJBe4DqgOo6kJgNTAU50Hc3wHXR2O7Bb/oY3H4qCRSUlLYv38/TZo04csvv6Rx48ZBy9aoUcObDnauxz+oiAiqSqdOnXj33XcDLmP3E5iyZsGg4orl1UejVbWJqlZX1WaqulRVF7oBAfeqo1tUtbWqdgl0grkyGDFiBH/9618BeOqppxg5ciSAF6QitWfPHjZu3Oitr0+fPrRr144DBw54QeHkyZNs3bo14PKDBg3i0Uedq39Pnz7Nt99+G3EdjAlGZogFhArOxj6KktGjR9OnTx927NhBs2bNWLp0KQDTpk3j9ddfJzU1laysLKZNmwbA8OHDWbVqFf369WP9+vVhb6ddu3YsXryYDh06cOjQIcaPH89ZZ53FypUrmTp1KmlpaaSnpxe63NXX3LlzWbt2LV26dKF///5s27YNgKFDh/LFF1+U8lUwVZUFg8qjQlx9VBE8/fTTQNErlBo0aMCbb75ZJK9t27Z8+OGHXtoFF1zglQHnsrJAPYnExESWLFlS6NAYQHp6OuvWrStSPisrq9B8SkoKL774YpH6rF69umQNN1WaBYLKx3oKxpgSsYBQOVlPoQJp0aIFW7ZsKdG5CGOixYJB5WY9BWNM2HzvLjaVkwUFY0xYrIdQNVhQMMYUy3oIVYcFBWNMSNZDqFosKETB3r17GThwIB07dqRnz57MnTvXy5s+fTpNmzYlPT2dfv36eZd+5uTkFLoMdPr06cyePbvM625MKBYQqh67+igKEhMTefDBBznvvPP44osvyMjIIDMzk44dOwJwxx13MHny5EL3BeTk5LB582bv/oSy4D90tjGh2CGjqsl6ClHQpEkTzjvPeZpocnIyHTp0YN++4AO+njhxgnvvvZcVK1bQr18/VqxYAcC2bdsYOnQorVq1Yt68eQGXTUpKYtq0aXTq1IlBgwbx9ddfA7Br1y6GDBlC9+7dueCCC/jkk08A5+E9EydOpFevXkyZMoX8/Hyuv/56unTpQp8+fXjuueei+VKYSsJ6CFVXpfvZGO+hsz///HP+/e9/F3oC2yOPPMKyZctIS0tj3rx51K9fn5kzZ7J582ZmzZpFcnIy06dP55NPPuGll14CnOEsxowZU2T9x44do1u3bixYsICZM2cya9YsFi1axIQJE1i4cCGpqals3LiRX/3qV6xZswaA3NxcNmzYQEJCAlOnTqVu3bp89NFHHD16lFOnTkX8epjKzQJC1WY9hSjKz8/n2muv5eGHH6ZOnToA3HzzzezatYucnBx++tOf8pvf/Cbo8sOGDaNGjRo0bNiQxo0b89VXXxUpU61aNS677DLAGTr7vffeIz8/nw0bNnDFFVeQnp7OTTfdxP79P45CfsUVV3jB8I033uCWW27x8urXrx+VtpvKwQ4ZmUrXU4jX0NknT57ksssu48orr+TSSy/10lNSUrzp6667jquvvjroOnyHzk5ISAjrV7yIcObMGerVq0dOTk7AMjZ0tglHwUNwTNVmPYUoUFXGjx9Phw4dmDRpUqE831/sL7/8Mp07O4+rLunQ2WfOnOGFF14AnKGze/fuTZ06dWjZsiXPPvusV58PPvgg4PKZmZksWLDAmz906FDEdTCVz1ufvxXvKphywoJCFLzzzjs88cQTrFmzhn79+pGenu5dbjplyhS6dOlC165dWb9+PQ899BAAAwcOZNu2bYVONIejdu3aZGdn07lzZ9asWeMNxf23v/2NpUuXkpaWRqdOnbyRUP3dc889HDp0iM6dO9O3b1/Wrl0LwA033OA9stMYU3VVusNH8XD++ed7T0rzP0T1xBNPeNO+eWeffTabNm0qUr6g9xBq4LuCk9O+5Vu2bMk//vGPImUff/zxQvNJSUneQ398t71kyZLwG2wqlfwT+fGugilHrKdgTBVmVxoZfxYUKpj8fPtVZ6LDAoIJxIKCMcYYjwUFY6og6yWYYCwoGFPFWEAwoVhQMMYY47GgECUtWrSgS5cu9OvXjx49enjp33zzDZmZmaSmpjJy5EjvZrGsrCw2bNjglRs7diwrV64s83qbqsWGsTDFsaAQRWvXruWdd94pdBPYAw88wKBBg9ixYwcDBgzggQceAIoGhbJgg99VbXbYyITDgkKMvfjii1x33XUAXHPNNbzwwgvs3r2bhQsX8tBDD9GvXz/Wr18PwLp167jwwgtp1apVwF7D7t27ad++vTekxuWXX853330HQHZ2NgMGDKB79+4MHjzYG14jIyOD22+/nR49ejB37lzy8vIYNWoUaWlp9O3bt8wDk4kPCwgmXJXujuZ4DZ0tIlx00UWoKjfffDMTJkwAIC8vjyZNmgDO4Hh5eXm0aNGCiRMnkpSUxE033URycjJLly5l//79vPbaa+zbt48RI0YwePDgItvZvn078+fPJzMzk3HjxrFkyRKmTJnCrbfeyosvvkijRo1YsWIFd999N4899hjgPL+hoPdy1VVXMWDAAFatWsXhw4cRsS8LY8yPKl1QiJe3336bpk2b8tlnnzFq1Cjat29P//79C5URkZBfwpdccgnVqlWjY8eO5OXlBSzTvHlzevfuDThDZ8+ZM4ft27ezZcsWMjMzAScIFgQicAJBgTVr1rBs2TLAGYk1VqPGmvLDegkmEpUuKMRr6OymTZsC0KhRI0aNGsX7779P//79SUlJYf/+/TRp0oQvv/ySxo0bB12H79DZBWMp+fMPKiKCqtKpUyfefffdgMvY0NnGmHDZOYUoOHbsmDcw3bFjx3jttde8IbJHjBjhDUD31FNPMXLkSKDkQ2fv2bOHjRs3euvr06cP7dq148CBA15QOHnyJFu3bg24/KBBg3j00UcBp0fx7bffRlwHU3FYL8FEyoJCFOTl5XH++eeTlpbGwIEDGTZsGEOGDAFg2rRpvP7666SmppKVleUNdT18+HBWrVpV6ERzONq1a8fixYvp0KEDhw4dYvz48Zx11lmsXLmSqVOnkpaWRnp6etATyHPnzmXt2rV06dKF/v37s23bNgCGDh3KF198UcpXwhhT0VW6w0fx0KpVK++hNv6HqBo0aMCbb75ZJK9t27Z8+OGHXtoFF1zglQFn4LtAPYnExESWLFlSZOjs9PR01q1bV6R8VlZWofmUlBTvWQu+9Sl4/oOpPOyeBFMSMe0piMgQEdkuIjtFZFqA/HNEZK2I/FtEPhSRobGsjzFVhR02MiUVs6AgIgnAAuBioCMwWkQ6+hW7B3hGVbsBVwN/ilV9KoMWLVqwZcuWeFfDGFOJxbKn0BPYqaqfqeoJYDkw0q+MAnXc6bqAHdQ2ppSsl2BKQ4Jd+ljqFYtcDgxR1Rvc+WuBXqo6yadME+A1oD5QG7hQVYscCBWRCcAEgJSUlO7Lly/38vLz82natClt2rQJeMOa73RJb14rEM7yocoEyvNPK64NoaZj2Z79+WcAaJL04++IHTt2cOTIkULl8/PzSUpKCmu+YDpQWkncvyGfhIQE7upVK2S5YNsIlB5pe+ZvdV7PWzudLtK2kgi2/KyN3wNwV69aRcoUnEtoVqMZucdzCy0XKO3vn6Vy/MxxLm2zp1B+oOlAy0cinOVDlfHPe37nOdSoVoNhrXYELFPR2hMozXe+e5PuJf4MDRw4MFtVexTJ8BPvE82jgcdV9UER6QM8ISKdVfWMbyFVXQQsAujRo4dmZGR4eVlZWdSsWbPIfQixuE8hnOVDlQmUF+gZzaHaEGo6lu356gfniW/JyT++2UQE330Bzv7w3z/B5gumA6WVxKyNr1KvXj0yMvqELBdsG4HSI21PvXrOvSZJSceLtK0kgi3/6Hbn8uOMjD6Fyvj2Ema3nc3kTycXWi5QWt9qz7Dr+11M/vSuQvmBpgMtH4lwlg9Vxj8v5fgsWtdqXSituDaU5/YESvOd19Ea088QxPbw0T6guc98MzfN13jgGQBVfReoCTSMYZ2MMcaEEMugsAlIFZGWInIWzonkl/zK7AEGAYhIB5ygcCCGdYqJ7du3k56eTnp6Ov369aNOnTo8/PDDAEyfPp2mTZt6eQWXfubk5BS6DHT69OnMnj07LvU3lYOdSzDRELPDR6p6SkQmAf8EEoDHVHWriMwENqvqS8BvgMUicgfOSeexGquTHDHUrl07cnJyADh8+DDt27dn1KhRXv4dd9zB5MmTCx2uycnJYfPmzd79CWXh1KlTJCbG+4ihMaY8i+l9Cqq6WlXbqmprVf29m3avGxBQ1W2q2k9V01Q1XVVfi2V9ykJWVhatW7fm3HPPDVrmxIkT3HvvvaxYsYJ+/fqxYsUKALZt28bQoUNp1aoV8+bNC7hsUlIS06ZNo1OnTgwaNIivv/4agF27djFkyBC6d+/OBRdcwCeffAI4D++ZOHEivXr1YsqUKeTn53P99dfTpUsX+vTpw3PPPRflV8DEg/USTLRUup+N8Ro6u8Bzzz3H6NGjC6U98sgjLFu2jLS0NObNm0f9+vWZOXMmmzdvZtasWSQnJzN9+nQ++eQTXnrJOcLWrl07xowZU2T9x44do1u3bixYsICZM2cya9YsFi1axIQJE1i4cCGpqals3LiRX/3qV6xZswaA3NxcNmzYQEJCAlOnTqVu3bp89NFHHD161B68UwnYncsmmmzsoyg6ceIEq1ev5oorrvDSbr75Znbt2kVOTg4//elP+c1vfhN0+WHDhlGjRg0aNmxI48aN+eqrr4qUqVatGpdddhngDJ393nvvkZ+fz4YNG7jiiitIT0/npptu8h6yA3DFFVd4wfCNN97glltu8fLq169f6nYbYyqPStdTiNfQ2QCvvvoqaWlppKSkeGm+09dddx1XX3110OV9h85OSEgI61e8iHDmzBnq1avnndfwZ0NnV14yQ5jd1i5QMNFjPYUoevrppwv1EoBCv9hffvllb0jtkg6dfebMGV544QXAGTq7d+/e1KlTh5YtW/Lss88CzrMYCgbo85eZmcmCBQu8+UOHDkVcB2NM5WVBIUqOHTvG66+/zvDhwwulT5kyhS5dutC1a1fWr1/PQw89BMDAgQPZtm1boRPN4ahduzbZ2dl07tyZNWvWeENx/+1vf2Pp0qWkpaXRqVMnbyRUf/fccw+HDh2ic+fO9O3bl7Vr1wJwww03eI/sNBXDW5+/Fe8qmEqo0h0+ipfatWtz8ODBIr/+n3jiCW/a9/DV2WefzaZNmwLe0QywZcuWoD2JgpPTvuVbtmzJP/7xjyJlH3/88ULzSUlJ3kN/fLe9ZMmSsNtqjKm8rKdgTAVkvQQTKxYUKpj8/Px4V8EYU4lZUDCmgrEb1UwsWVAwpgKxgGBizYKCMcYYjwUFY4wxHgsKUTJ37lw6d+5Mz549vWGzAb755hsyMzNJTU1l5MiR3s1iWVlZbNiwwSs3duxYVq5cWeb1NhWHHToyZcGCQhRs2bKFxYsX8/7777NhwwZeeeUVdu7cCcADDzzAoEGD2LFjBwMGDOCBBx4AigaFsmCD3xljimNBIQo+/vhjevXqxU9+8hMSExMZMGAAzz//PAAvvvgi1113HQDXXHMNL7zwArt372bhwoU89NBD9OvXj/Xr1wOwbt06LrzwQlq1ahWw17B7927at2/P+PHj6dChA5dffjnfffcdANnZ2QwYMIDu3bszePBgb3iNjIyCv4YTAAAd/UlEQVQMbr/9dnr06MHcuXPJy8tj1KhRpKWl0bdv3zIPTKZkrJdgykqlu6M5HkNnd+7cmbvvvpuDBw9y6tQpVq9eTY8ezvOx8/LyaNKkCeAMjpeXl0eLFi2YOHEiSUlJ3HTTTSQnJ7N06VL279/Pa6+9xr59+xgxYgSDBw8usq3t27czf/58MjMzGTduHEuWLGHKlCnceuutvPjiizRq1IgVK1Zw991389hjjwHO6K0FQ1hcddVVDBgwgFWrVnH48GFE7MumvLOAYMpSpQsK8dChQwemTp3KRRddRM2aNUlPTw8YfEQk5JfwJZdcQrVq1ejYsSN5eXkByzRv3pzevXsDztDZc+bMYfv27WzZsoXMzEzACYIFgQicQFBgzZo1LFu2DHBGYo3lqLHGmIqn0gWFeA2dPX78eMaPH8/Ro0eZNWsWzZo1A5zewf79+2nSpAlffvkljRs3DroO36Gzgz2V1D+oiAiqSqdOnXj33XcDLmNDZ1dc9gAdU9bsnEKUFDwQZ+/evTz//PNcc801AIwYMcIbgO6pp55i5MiRQMmHzt6zZw8bN2701tenTx/atWvHgQMHvKBw8uRJtm7dGnD5QYMG8eijjwJOj+Lbb7+NuA7GmMrLgkKUXHbZZXTs2JGrrrqKBQsWUK9ePQCmTZvG66+/TmpqKllZWd5Q18OHD2fVqlWFTjSHo127dixevJgOHTpw6NAhxo8fz1lnncXKlSuZOnUqaWlppKenBz2BPHfuXNauXUuXLl3o378/27ZtA2Do0KF88cUXpXwVTDTZuQQTD5Xu8FG8FHyx+x+iatCgAW+++WaRvLZt2/Lhhx96aRdccIFXBpyB7wL1JBITE1myZEmRobPT09NZt25dkfJZWVmF5lNSUrxnLfjWZ/Xq1SVruDGmUrGegjHlkPUSTLxYUKhAWrRowZYtW+JdDWNMJWZBwRhjjMeCgjHljB06MvFkQcEYY4zHgoIx5Yj1Eky8WVCIknHjxtG4cWN69epVKD3Y0Nmqym233UZaWhpdu3blX//6FwCff/45Tz31lLf8448/zqRJk8quISZuLCCY8sCCQpSMHTuWf/zjH0XSgw2d/eqrr7Jjxw5ycnJYtGgRN998M+DcsewbFMqCDaltjClgQSFK+vfvz9lnn10kPdDQ2QXp//3f/42I0Lt3bw4fPsz+/fu57777WL9+Penp6TzyyCMAfPHFF4waNYrU1FSmTJkScPstWrRgypQpdOnShZ49e3rPczhw4ACXXXYZP//5z/n5z3/OO++8A8D06dO58cYb6devH9deey2nT59m8uTJdO7cma5duzJ//vyov0bGmPKv0t3RHI+hs0MJNHQ2wL59+2jevLlXrlmzZuzbt48ZM2bwpz/9iVdeeYWjR4/y3HPPkZOTw7p162jYsCHt2rXj+uuvp0OHDkW2VbduXT766COWLVvG7bffziuvvMKvf/1r7rjjDs4//3z27NnD4MGD+fjjjwFnGO4NGzZQq1YtHn30UXbv3k1OTg6JiYl88803JWqvKRk7dGTKi0oXFMqz4obODmbQoEHUrVuXmjVr0rFjR/bu3RswKIwePdr7f8cddwDwxhtveOMbARw5coT8/HwALr74YmrVquWVmzhxIomJzlsiUK/HGFP5xTQoiMgQYC6QACxR1QcClLkSmA4o8IGqXlOabcZr6Oxggg2d3bRpU/bu3UtaWhoAubm5NG3a1Btt1ZfvkNoJCQlBzwH4BpyC6TNnzvDee+9Rs2bNIuVtSO3ywXoJpjyJ2TkFEUkAFgAXAx2B0SLS0a9MKnAX0E9VOwG3x6o+8RJs6OwRI0awbNkyVJX33nuPunXr0qRJE5KSkko0pDbAihUrvP99+vQB4KKLLip0fiAnJyfgspmZmfz5z3/2Ao4dPjKmaorlieaewE5V/UxVTwDLgZF+ZW4EFqjqIQBVLfozuYIYPXo0ffr0YceOHTRr1oylS5cCwYfOHjp0KK1atSItLY0bb7yRP/3pT4DzaM+EhATS0tK8E83hOnToEF27dmXu3Lk89NBDAMybN4/NmzfTtWtXOnbsyMKFCwMue8MNN3DOOefQtWtX0tLSvCug7r//fl566aUSvSameNZLMOVNLA8fNQX2+sznAr38yrQFEJF3cA4xTVfVotd1VgBPP/00EP7Q2SLCggULipSvXr06a9asKVR+7NixXu+h4AR0IL/97W/54x//WCitYcOGXg/C1/Tp0wutJzExkTlz5jBnzpxC5e655x6Sk5PZdSA/vBfChM0CgimPJNhjH0u9YpHLgSGqeoM7fy3QS1Un+ZR5BTgJXAk0A9YBXVT1sN+6JgATAFJSUrovX77cy8vPz6dp06a0adMm4BVHvtMlvfqoQDjLhyoTKM8/rbg2BJvu3Lkzb731Fg0aNIhJe/bnnwGgSdKPncsdO3Zw5MiRQuXz8/NJSkoKa75gOlBaSdy/IZ+EhATu6lUrZLlg2wiUHml75m91Xs9bO50u0jZ/4Txqs1mNZuQezy2S/vzOcwC4tM2eoGUCpQdK+/tnqRw/c7zIugJNB9tWuMJZPlQZ/7znd55DjWo1GNZqR8AyFa09gdJ857s36V7iz9DAgQOzVbVHcW2KZU9hH9DcZ76Zm+YrF9ioqieB/4jIp0AqsMm3kKouAhYB9OjRQzMyMry8rKwsatasWeREcixONIezfKgygfL804prQ7Dpzz//PKbt+eoHp6eQnPzjm01E8N0X4OwP//0TbL5gOlBaScza+Cr16tUjI6NPyHLBthEoPdL21KvnXBSQlHS8SNv8DZwxsLgmMbvtbCZ/OrlIesrxWQBM/vSuoGUCpQdK61vtGXZ9v6vIugJNB9tWuMJZPlQZ/7yU47NoXat1obTi2lCe2xMozXdeR2tMP0MQ23MKm4BUEWkpImcBVwP+B6dfADIARKQhzuGkz2JYJ2PKBTt0ZMqrmAUFVT0FTAL+CXwMPKOqW0VkpoiMcIv9EzgoItuAtcBvVfVgrOpkjDEmtJCHj0Qk0f1yLxFVXQ2s9ku712dagTvdP2OqBOslmPKsuJ7C+wUTImKD4RhTShYQTHlXXFDwfQf3i2VFKquMjAw2b95comXz8/O56aabaN26Nf379ycjI4ONGzdGtX45OTmsXr26+ILGmCqhuKuPYnO9aoxF+9eY3hefl2HSpEm0bduWHTt2cOzYMb7++utC4xhFQ05ODps3b2bo0KFRXa8xpmIqrqfQXkQ+FJGPfKY/FJGPROTDsqhgRbF7927at2/P+PHj6dChA5dffjnfffddoTJ33HEHPXr0oFOnTtx3330AvPXWW1xyySVemTVr1jBq1Ch27dpFdnY2999/P9WqObupZcuWDBs2DIA5c+bQuXNnevXqxcMPP+zVoXPnzt66Zs+ezfTp0wGnxzJ16lR69uxJ27ZtWb9+PSdOnODee+9lxYoVpKenB7zJzRhTtRTXUyg6FKcJavv27cyfP5/MzEzGjRvnDV1R4He/+x3nnnsup0+fZtCgQXz44Yf079+fyZMnc+DAARo1asSTTz7JuHHj2Lp1K126dAl4c9m///1v/vKXv7Bx40aOHDnChRdeyIABA6hfv37I+p06dYr333+f1atXM2PGDFatWsXMmTPZvHlzxENqmMjZ+QRTEYTsKajq56r6OfAt0Nj9O+yTbnw0b96c3r17AzBmzBjefvvtQvmrVq3ivPPOo1u3bmzdupVt27YhIlx77bU8+eSTHD58mE2bNnHxxReH3M67777LqFGjqF27NklJSVx66aWsX7++2PpdeumlAHTv3p3du3eXrJGmRCwgmIqiuEtSawB/Bi4B/oNz4vlcEVkFTHQHujMu/2cl+M7/5z//Yd68eWRnZ1O/fn3Gjh3LDz/8AMD111/P8OHDqVmzJpdccgmJiYl06tSJLVu2RDQ0R2JiImfOnPHmC9ZfoGAI7lDDbxtjqrbizincA1QHmqtqN1VNB87BCSa/i3XlKpo9e/Z4Vwc99dRTnH/++V7ekSNHqF27NnXr1iUvL49XX33Vy/vZz37Gz372M+6//37GjBkDQOvWrenWrRv33XcfBeNT7d69m7///e/07duXF154ge+++45jx46xatUqLrjgAlJSUvjqq684ePAgx48f55VXXim2zgXDf5jYsV6CqUiKCwqjgBtV1fvWcKd/5eYZH+3atWPx4sV06NCBQ4cOcfPNN3t5aWlpdO3alfbt23PNNdfQr1/hK3x/+ctf0rx5c9q1a+elzZ8/n7y8PNq0aUOvXr0YO3YsjRs3Jj09nbFjx9KzZ0/+67/+ixtuuIFu3bpRvXp17r33Xnr27ElmZibt27cvts4DBw5k27ZtdqLZGAMUf6L5jKp+55+oqvkiUm4vV9X7NC5PXktMTGTJkiWFtpGVleVNL1y4MOCAeABvv/02N954Y6G8OnXqsHjxYq+cb3vuvPNO7rzzziJtuu2227jtttuK1M23Hg0bNmT37t0cPXqUs88+m02bNhUpb6IjnJFQjSlPir1PQUTqU/gmtgJnAqSZEujevTu1a9fmwQcf5MQJO01jjImf4oJCXSCbwEGh3PYU4qFFixZs2bKlRMfns7N//DVpQaHykBnC7Laz410NYyISMiioaosyqocxxphyIOSJZhEZ7D5BzT/9MhHJjF21IherJ8iZwOz1Ds3OJZiKqrirj+4F3gqQ/hYwM/rVKZmaNWty8OBB+6IqI6rKwYMHOX36dLyrYoyJsuLOKdRQ1QP+iar6tYjUjlGdItasWTNyc3M5fPgwNWvWBJwbt/ynfdNKIpzlQ5UJlOefFqje4U7Hsj0Hjh4H4MTXzg1wNWvW5NixYyXabmX21ufOb6ieXarHuSbGlExxQaFOoAftiEh1IPTT0ctQ9erVadmyJVlZWXTr1g0g4LRvWkmEs3yoMoHy/NOKa0Oo6Vi2Z/qf3wVgxU3pXl5JngttjCnfijt89Dyw2LdXICJJwEI3zxjjsvMIpjIIZ5iLPOBzEckWkWycMZAOuHnGGGMqkeIuST0FTBORGUAbN3mnqn4f85oZY4wpc8VdkjoFwA0C7VX1o4KAICJ/KIP6GVMh2KB3prIo7vDR1T7Td/nlDYlyXYwxxsRZcUFBgkwHmjemSrJegqlMigsKGmQ60LwxxpgKrrj7FNJE5AhOr6CWO407X/K7wIwxxpRLxT2jOUFV66hqsqomutMF83bLpqnSZIbYvQmm0inu8JExxpgqpLjDR8YYP3Zi2VRm1lMwxhjjsaBgjDHGY0HBmAjYiWVT2VlQMMYY47GgYIwxxhPToCAiQ0Rku4jsFJFpIcpdJiIqIj1iWR9jSkpmiF11ZKqEmAUFEUkAFgAXAx2B0SLSMUC5ZODXwMZY1cUYY0x4YtlT6Inz7IXPVPUEsBwYGaDc/wB/BH6IYV2MMcaEQVRjM66diFwODFHVG9z5a4FeqjrJp8x5wN2qepmIZAGTVXVzgHVNACYApKSkdF++fLmXl5+fT1JSUljTvmklEc7yocoEyvNPi6Q94dYpGu2ZtdF5rtJdvWoVyQu3PcHqHq323L8hn4SEhEJ1DNWmcNLzvskj93iuN9+sRrOg881qNGPeVud31m2dzpB7PLdI+UgFW/75necAcGmbPUHLBEoPlPb3z1I5fuZ4kXUFmo5Ve8It45/3/M5zqFGtBsNa7QhYpqK1J1Ca73z3Jt1L/BkaOHBgtqoWe4g+bnc0i0g1YA4wtriyqroIWATQo0cPzcjI8PKysrIomC9u2jetJMJZPlSZQHn+aZG0J9w6laSu/mUe3f4uABkZfUrcnmB1j1Z7Zm18lXr16hWqY6g2hZP+4NMPMvnTyd787Lazg87PbjubXd+fBCD3eHUmfzq5SPlIBVs+5fgsACZ/elfQMoHSA6X1rfYMu77fVWRdgaZj1Z5wy/jnpRyfRetarUPuk4rUnkBpvvM6WmP6GYLYHj7aBzT3mW/mphVIBjoDWSKyG+gNvGQnm40xJn5iGRQ2Aaki0lJEzsJ5ittLBZmq+q2qNlTVFqraAngPGBHo8JExZc2uNjJVVcyCgqqeAiYB/wQ+Bp5R1a0iMlNERsRqu8YYY0oupucUVHU1sNov7d4gZTNiWRdjjDHFszuajTHGeOx5Csa4svdnM3DGwHhXw5i4sp6CMcYYjwUFY4wxHgsKpsqzy0+N+ZEFBWOMMR4LCsYYYzwWFIwxxnjsklRTJdk5BGMCs56CMcYYjwUFY4wxHgsKxhhjPBYUjDHGeOxEs6kSfE8sz247O441MaZ8s56CMcYYjwUFY4wxHgsKxhhjPHZOwVRKdnOaMSVjPQVjjDEeCwrGGGM8FhSMMcZ4LCgYY4zxWFAwxhjjsaBgKryCx2nmn8jnrc/fsiuPjCkFCwrGGGM8FhSMMcZ4LCgYY4zxWFAwxhjjsWEuTIVhJ5CNiT3rKRhjjPFYUDDGGOOxoGCMMcYT06AgIkNEZLuI7BSRaQHy7xSRbSLyoYi8KSLnxrI+xhhjQotZUBCRBGABcDHQERgtIh39iv0b6KGqXYGVwP/Gqj7GGGOKF8ueQk9gp6p+pqongOXASN8CqrpWVb9zZ98DmsWwPsYYY4oRy0tSmwJ7feZzgV4hyo8HXo1hfUw5VnC56ey2sxk4Y2Cca2NM1SWqGpsVi1wODFHVG9z5a4FeqjopQNkxwCRggKoeD5A/AZgAkJKS0n358uVeXn5+PklJSWFN+6aVRDjLhyoTKM8/LZL2hFunaLRn1sbvAbirV60StydY3fPz89l+dDsAzWo0I/d4bona8/fPUjl+5jiXttkTslywbQRK908LNd+sRjPmbXU637d1OkPu8dxStSdUXZ/feQ4Al7bZU6r2QOHXzb89/tOxak+4Zfzznt95DjWq1WBYqx0By1S09gRK853v3qR7sd9twT7XAwcOzFbVHsW1KZY9hX1Ac5/5Zm5aISJyIXA3QQICgKouAhYB9OjRQzMyMry8rKwsCuaLm/ZNK4lwlg9VJlCef1ok7Qm3TiWpq3+ZR7e/C0BGRp8StydY3bOyspicPRlwegqTP51covb0rfYMu77fxeRP7wpZLtg2AqX7p4Wan912Nru+PwlA7vHqTP50cqnaE6quKcdnATD507tK1R4o/Lr5t8d/OlbtCbeMf17K8Vm0rtU65D6pSO0JlOY7r6O12O+20n7PxfKcwiYgVURaishZwNXAS74FRKQb8GdghKp+FcO6GGOMCUPMgoKqnsI5JPRP4GPgGVXdKiIzRWSEW+z/gCTgWRHJEZGXgqzOGGNMGYjp2EequhpY7Zd2r8/0hbHcvjHGmMjYHc3GGGM8FhSMMcZ4LCiYqCh4TnL2/mxvurj5guns/dnxrr4xxmVBwRhjjMeCgjHGGI8FBWOMMR4LCsYYYzwWFIwxxngsKBhjjPFYUDDGGOOxoGCMMcZjQcEYY4wnpgPilTfZ+7NL9VSvcJ4KFqpMoDz/NN/5SKdj2Z6C8ftlRt+IljfGVCzWUzDGGOOxoGCMMcZjQcEYY4zHgoIxxhiPBQVjjDEeCwrGGGM8FhSMMcZ4LCgYY4zxWFAwxhjjsaBgjDHGY0HBGGOMx4KCMcYYjwUFY4wxHgsKxhhjPBYUjDHGeCwoGGOM8VhQMMYY47GgYIwxxmNBwRhjjMeCgjHGGE9Mg4KIDBGR7SKyU0SmBcivISIr3PyNItIilvUxxhgTWsyCgogkAAuAi4GOwGgR6ehXbDxwSFXbAA8Bf4xVfYwxxhQvlj2FnsBOVf1MVU8Ay4GRfmVGAn91p1cCg0REYlgnY4wxIYiqxmbFIpcDQ1T1Bnf+WqCXqk7yKbPFLZPrzu9yy3ztt64JwAR3th2w3Se7LvBtmNMNgULrjpDvOktSJlCef1ok7YHStams2+M/XzBdlu0JVS5a7fGdjud7Lpz2+KeV5/YEyyvNZ6iitcd/PpLP0Lmq2qiYuoKqxuQPuBxY4jN/LfCIX5ktQDOf+V1Awwi3syjcaWBzKdu0qDRlAuX5p0XSntK2qazbE2K/lFl7QpWLVnv82ha391w47YngfRb39pRkH1W29oRoR1Q+Q6oa08NH+4DmPvPN3LSAZUQkESfaHYxwOy9HOF0a4awnVJlAef5plbk9/vMvBylTUuGuJ1i5aLUnkroUpzT7KJz2+KeV5/YEy7PPUPTaE9PDR4nAp8AgnC//TcA1qrrVp8wtQBdVnSgiVwOXquqVMamQs73NqtojVuuPh8rWJmtP+WbtKf9K26bEaFbGl6qeEpFJwD+BBOAxVd0qIjNxujcvAUuBJ0RkJ/ANcHWs6uNaFOP1x0Nla5O1p3yz9pR/pWpTzHoKxhhjKh67o9kYY4zHgoIxxhiPBQVjjDGeKh0URKS2iPxVRBaLyC/jXZ/SEpFWIrJURFbGuy7RICKXuPtmhYhcFO/6RIOIdBCRhSKyUkRujnd9osH9HG0WkV/Euy6lJSIZIrLe3UcZ8a5PaYlINRH5vYjMF5Hrwlmm0gUFEXlMRL5y75b2TQ80ON+lwEpVvREYUeaVDUMk7VFnSJHx8alpeCJszwvuvpkIXBWP+oYjwjZ9rKoTgSuBfvGob3Ei/AwBTAWeKdtahi/C9iiQD9QEcsu6ruGIsD0jce4RO0m47SnNnW/l8Q/oD5wHbPFJS8C5W7oVcBbwAc4gfXcB6W6Zp+Jd99K2xyd/ZbzrHeX2PAicF++6R6tNOD9AXsW5byfu9S9Ne4BMnEvJxwK/iHfdo9Ceam5+CvC3eNc9Cu2ZBtzklgnre6HS9RRUdR3OPQ++gg3Ol4sTRaGc9poibE+5F0l7xPFH4FVV/VdZ1zVcke4jVX1JVS8GyuUhywjbkwH0Bq4BbhSRcvc5iqQ9qnrGzT8E1CjDaoatBN9xh9wyp8NZf8xuXitnmgJ7feZzgV7APOARERlGFG8TLwMB2yMiDYDfA91E5C5VnRWX2kUu2P65FbgQqCsibVR1YTwqV0LB9lEGzmHLGsDqONSrpAK2R90BLkVkLPC1z5dqeRds/1wKDAbqAY/Eo2IlFOwzNBeYLyIXAOvCWVFVCQoBqeox4Pp41yNaVPUgzvH3SkFV5+EE7kpDVbOArDhXI+pU9fF41yEaVPV54Pl41yNaVPU7nOfWhK3cdfViJJzB+SoSa0/5V9naZO0p36LWnqoSFDYBqSLSUkTOwjkx9lKc61Qa1p7yr7K1ydpTvkWvPfE+kx6DM/NPA/v58RKs8W76UJxRW3cBd8e7ntaeytGeytgma0/5/ot1e2xAPGOMMZ6qcvjIGGNMGCwoGGOM8VhQMMYY47GgYIwxxmNBwRhjjMeCgjHGGI8FBVNpichpEckRkS0i8qyI/MRNz4/S+n8qIstFZJeIZIvIahFpG411+2wjQ0T6RnOdxoRiQcFUZt+rarqqdgZOEMVxoUREgFVAlqq2VtXuOEOxp0RrG64MwIKCKTMWFExVsR5o45sgIkki8qaI/EtEPhKRkW76TBG53afc70Xk137rGwicVJ+RW1X1A1Vd7w75/X9uD+UjEbnKXU+GiLzis95H3NFFEZHdIjLDpy7tRaQFTiC7w+3xXCAiV7jr/UBEwhr10phIVOlRUk3VICKJwMXAP/yyfgBGqeoREWkIvCciLwGP4YyU+bD7fICrccar99UZyA6yyUuBdCANaAhsCvML/GtVPU9EfgVMVtUbRGQhkK+qs922fAQMVtV9IlIvjHUaExHrKZjKrJaI5ACbgT3AUr98Af4gIh8Cb+CMSZ+iqruBgyLSDbgI+Lc6w5KH63zgaVU9rap5wFvAz8NYrmDI5mygRZAy7wCPi8iNOE/bMiaqrKdgKrPvVTU9RP4vgUZAd1U9KSK7cZ7NC7AE5xGTP8XpOfjbClweYX1OUfiHWE2//OPu/9ME+Wyq6kQR6QUMA7JFpHuEAcuYkKynYKqyusBXbkAYCJzrk7cKGILzC/+fAZZdA9QQkQkFCSLS1X3C1XrgKhFJEJFGOM/UfR/4HOgoIjXcQz+DwqjjUSDZZxutVXWjqt4LHKDwGPrGlJr1FExV9jfgZfc4/Wbgk4IMVT0hImuBw6pa5Nm2qqoiMgrnvMNUnPMTu4HbgbeBPjgPT1dgiqp+CSAizwBbgP8A/w6jji8DK92T4LfinHROxTn09aa7DWOixobONiYA9wTzv4ArVHVHvOtjTFmxw0fG+BGRjsBO4E0LCKaqsZ6CMcYYj/UUjDHGeCwoGGOM8VhQMMYY47GgYIwxxmNBwRhjjMeCgjHGGM//BxrXgKZQyPLqAAAAAElFTkSuQmCC
"
>
</div>

</div>

<div class="output_area">

<div class="prompt"></div>




<div class="output_png output_subarea ">
<img src="data:image/png;base64,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
"
>
</div>

</div>

</div>
</div>

</div>
<div class="cell border-box-sizing text_cell rendered"><div class="prompt input_prompt">
</div>
<div class="inner_cell">
<div class="text_cell_render border-box-sizing rendered_html">
<p><b><i>Comment:</i></b><br/></p>
<p>
    We notice that:<br/>
        - Half of the users has played songs less than 900 times.<br/>
        - 75% of the users have all played a little bit less than 3000 times. This gives us a magnitude of the users' activity.<br/>
        - 99.9% of the users played songs less than approximately 50000 times. The rest could be considered outliers.<br/>
</p>
</div>
</div>
</div>
<div class="cell border-box-sizing text_cell rendered"><div class="prompt input_prompt">
</div>
<div class="inner_cell">
<div class="text_cell_render border-box-sizing rendered_html">
<h4 id="Question-2.3">Question 2.3<a class="anchor-link" href="#Question-2.3">&#182;</a></h4><div class="alert alert-info">
How many play counts for each artist? Plot CDF or ECDF of the result.  

Similarly to the previous question, you need to comment and interpret your result: what is the figure telling you?
</div>
</div>
</div>
</div>
<div class="cell border-box-sizing text_cell rendered"><div class="prompt input_prompt">
</div>
<div class="inner_cell">
<div class="text_cell_render border-box-sizing rendered_html">
<div class="highlight"><pre><span></span><span class="c1">###################################################################</span>
<span class="c1">####                      TO COMPLETE                         #####</span>
<span class="c1">###################################################################</span>

<span class="c1"># Compute artist popularity</span>
<span class="c1"># We are interested in how many playcounts per artist</span>
<span class="c1"># ATTENTION! Grouping by artistID may be problematic, as stated above.</span>

<span class="n">artistPopularity</span> <span class="o">=</span> <span class="n">userArtistDF</span><span class="o">...</span>

<span class="n">fig</span><span class="p">,</span> <span class="n">ax</span> <span class="o">=</span> <span class="n">plt</span><span class="o">.</span><span class="n">subplots</span><span class="p">()</span>

<span class="o">...</span>

<span class="n">ax</span><span class="o">.</span><span class="n">semilogx</span><span class="p">()</span>
<span class="n">ax</span><span class="o">.</span><span class="n">set_title</span><span class="p">(</span><span class="s1">&#39;ECDF of number of play counts per Artist ID&#39;</span><span class="p">)</span>
<span class="n">ax</span><span class="o">.</span><span class="n">set_xlabel</span><span class="p">(</span><span class="s1">&#39;Play Counts&#39;</span><span class="p">)</span>
<span class="n">ax</span><span class="o">.</span><span class="n">set_ylabel</span><span class="p">(</span><span class="s1">&#39;ECDF&#39;</span><span class="p">)</span>
<span class="n">ax</span><span class="o">.</span><span class="n">legend</span><span class="p">()</span>
<span class="n">plt</span><span class="o">.</span><span class="n">show</span><span class="p">()</span>
</pre></div>

</div>
</div>
</div>
<div class="cell border-box-sizing code_cell rendered">
<div class="input">
<div class="prompt input_prompt">In&nbsp;[7]:</div>
<div class="inner_cell">
    <div class="input_area">
<div class=" highlight hl-ipython3"><pre><span></span><span class="n">artistPopularity</span> <span class="o">=</span> <span class="n">userArtistDF</span><span class="o">.</span><span class="n">groupby</span><span class="p">(</span><span class="n">userArtistDF</span><span class="o">.</span><span class="n">artistID</span><span class="p">)</span><span class="o">.</span><span class="n">agg</span><span class="p">({</span><span class="s1">&#39;playCount&#39;</span><span class="p">:</span><span class="s1">&#39;sum&#39;</span><span class="p">})</span>
<span class="nb">print</span><span class="p">(</span><span class="n">artistPopularity</span><span class="p">[</span><span class="mi">0</span><span class="p">:</span><span class="mi">5</span><span class="p">])</span>
</pre></div>

</div>
</div>
</div>

<div class="output_wrapper">
<div class="output">


<div class="output_area">

<div class="prompt"></div>


<div class="output_subarea output_stream output_stdout output_text">
<pre>          playCount
artistID           
1            332545
2            689008
3              4269
4             15491
5             13418
</pre>
</div>
</div>

</div>
</div>

</div>
<div class="cell border-box-sizing code_cell rendered">
<div class="input">
<div class="prompt input_prompt">In&nbsp;[8]:</div>
<div class="inner_cell">
    <div class="input_area">
<div class=" highlight hl-ipython3"><pre><span></span><span class="n">fig</span><span class="p">,</span> <span class="n">ax</span> <span class="o">=</span> <span class="n">plt</span><span class="o">.</span><span class="n">subplots</span><span class="p">()</span>

<span class="c1"># Plot the cumulative distribution linerar axis</span>
<span class="n">a</span> <span class="o">=</span> <span class="n">artistPopularity</span><span class="o">.</span><span class="n">playCount</span><span class="o">.</span><span class="n">groupby</span><span class="p">(</span><span class="n">userActivity</span><span class="o">.</span><span class="n">playCount</span><span class="p">)</span><span class="o">.</span><span class="n">count</span><span class="p">()</span><span class="o">.</span><span class="n">cumsum</span><span class="p">()</span>
<span class="c1"># plt.figure()</span>
<span class="c1"># plt.grid(True,which=&quot;both&quot;,ls=&quot;-&quot;)</span>
<span class="c1"># plt.plot(a)</span>
<span class="c1"># Plot the cumulative distribution with semilog x axis</span>
<span class="n">artistPopularity</span><span class="o">.</span><span class="n">playCount</span><span class="o">.</span><span class="n">plot</span><span class="p">(</span><span class="n">ax</span><span class="o">=</span><span class="n">ax</span><span class="p">,</span> <span class="n">kind</span><span class="o">=</span><span class="s1">&#39;hist&#39;</span><span class="p">,</span><span class="n">bins</span><span class="o">=</span><span class="mi">15000</span><span class="p">,</span> <span class="n">density</span><span class="o">=</span><span class="kc">True</span><span class="p">,</span> <span class="n">cumulative</span><span class="o">=</span><span class="kc">True</span><span class="p">,</span><span class="n">color</span><span class="o">=</span><span class="s1">&#39;g&#39;</span><span class="p">)</span>
<span class="c1"># df.fraction.plot(ax=axes[0], kind=&#39;hist&#39;, normed=True, bins=30, range=(0,.3))</span>
<span class="c1"># Calculate and plot the 5 important percentiles</span>
<span class="k">for</span> <span class="n">i</span><span class="p">,</span> <span class="n">quantile</span> <span class="ow">in</span> <span class="nb">enumerate</span><span class="p">([</span><span class="o">.</span><span class="mi">1</span><span class="p">,</span> <span class="mf">0.25</span><span class="p">,</span> <span class="o">.</span><span class="mi">5</span><span class="p">,</span> <span class="o">.</span><span class="mi">75</span><span class="p">,</span> <span class="o">.</span><span class="mi">9</span><span class="p">,</span><span class="mf">0.999</span><span class="p">]):</span>
    <span class="n">ax</span><span class="o">.</span><span class="n">axvline</span><span class="p">(</span><span class="n">artistPopularity</span><span class="o">.</span><span class="n">playCount</span><span class="o">.</span><span class="n">quantile</span><span class="p">(</span><span class="n">quantile</span><span class="p">),</span> <span class="n">label</span><span class="o">=</span><span class="s1">&#39;</span><span class="si">%.0f</span><span class="s1">th perc.&#39;</span> <span class="o">%</span> <span class="p">(</span><span class="n">quantile</span><span class="o">*</span><span class="mi">100</span><span class="p">))</span>

<span class="n">ax</span><span class="o">.</span><span class="n">semilogx</span><span class="p">()</span>
<span class="n">ax</span><span class="o">.</span><span class="n">set_title</span><span class="p">(</span><span class="s1">&#39;ECDF of number of play counts per Artist ID&#39;</span><span class="p">)</span>
<span class="n">ax</span><span class="o">.</span><span class="n">set_xlabel</span><span class="p">(</span><span class="s1">&#39;Play Counts&#39;</span><span class="p">)</span>
<span class="n">ax</span><span class="o">.</span><span class="n">set_ylabel</span><span class="p">(</span><span class="s1">&#39;ECDF&#39;</span><span class="p">)</span>
<span class="n">ax</span><span class="o">.</span><span class="n">legend</span><span class="p">()</span>
<span class="n">ax</span><span class="o">.</span><span class="n">grid</span><span class="p">(</span><span class="kc">True</span><span class="p">,</span><span class="n">which</span><span class="o">=</span><span class="s2">&quot;both&quot;</span><span class="p">,</span><span class="n">ls</span><span class="o">=</span><span class="s2">&quot;-&quot;</span><span class="p">)</span>
<span class="n">plt</span><span class="o">.</span><span class="n">show</span><span class="p">()</span>
</pre></div>

</div>
</div>
</div>

<div class="output_wrapper">
<div class="output">


<div class="output_area">

<div class="prompt"></div>




<div class="output_png output_subarea ">
<img src="data:image/png;base64,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
"
>
</div>

</div>

</div>
</div>

</div>
<div class="cell border-box-sizing text_cell rendered"><div class="prompt input_prompt">
</div>
<div class="inner_cell">
<div class="text_cell_render border-box-sizing rendered_html">
<p><b><i>Comment:</i></b><br/>
50% of the artists were listened to less than 2 times.<br/>
75% of the artists were listened to less than 10 times.<br/>
90% of the artists were listened to less than 50 times.<br/>
These low numbers could in fact be due to the fact of mispelled IDs</p>

</div>
</div>
</div>
<div class="cell border-box-sizing text_cell rendered"><div class="prompt input_prompt">
</div>
<div class="inner_cell">
<div class="text_cell_render border-box-sizing rendered_html">
<h4 id="Question-2.4">Question 2.4<a class="anchor-link" href="#Question-2.4">&#182;</a></h4><div class="alert alert-info">
Plot a bar chart to show top 10 artists In terms of absolute play counts.  

Comment the figure you just obtained: 
<ul>
<li>are these reasonable results?</li>
<li>is looking at top-10 artists enough to learn more about your data?</li>
<li>do you see anything strange in the data?</li>
</ul>
</div>
</div>
</div>
</div>
<div class="cell border-box-sizing text_cell rendered"><div class="prompt input_prompt">
</div>
<div class="inner_cell">
<div class="text_cell_render border-box-sizing rendered_html">
<div class="highlight"><pre><span></span><span class="c1">###################################################################</span>
<span class="c1">####                      TO COMPLETE                         #####</span>
<span class="c1">###################################################################</span>

<span class="n">topN</span> <span class="o">=</span> <span class="mi">10</span>
<span class="n">topNArtist</span> <span class="o">=</span> <span class="o">...</span>

<span class="n">fig</span><span class="p">,</span> <span class="n">ax</span> <span class="o">=</span> <span class="n">plt</span><span class="o">.</span><span class="n">subplots</span><span class="p">()</span>

<span class="n">topNArtist</span><span class="o">.</span><span class="n">plot</span><span class="p">(</span><span class="o">...</span><span class="p">,</span>
                <span class="n">ax</span><span class="o">=</span><span class="n">ax</span><span class="p">)</span>

<span class="n">ax</span><span class="o">.</span><span class="n">set_xlabel</span><span class="p">(</span><span class="s1">&#39;Play Count&#39;</span><span class="p">)</span>
<span class="n">ax</span><span class="o">.</span><span class="n">set_ylabel</span><span class="p">(</span><span class="s1">&#39;Artist&#39;</span><span class="p">)</span>
<span class="n">ax</span><span class="o">.</span><span class="n">set_title</span><span class="p">(</span><span class="s1">&#39;Top-10 Artist ID per play counts&#39;</span><span class="p">)</span>

<span class="n">plt</span><span class="o">.</span><span class="n">show</span><span class="p">()</span>
</pre></div>

</div>
</div>
</div>
<div class="cell border-box-sizing code_cell rendered">
<div class="input">
<div class="prompt input_prompt">In&nbsp;[9]:</div>
<div class="inner_cell">
    <div class="input_area">
<div class=" highlight hl-ipython3"><pre><span></span><span class="n">topN</span> <span class="o">=</span> <span class="mi">10</span>
<span class="n">topNArtist</span> <span class="o">=</span> <span class="n">artistPopularity</span><span class="o">.</span><span class="n">sort_values</span><span class="p">(</span><span class="n">by</span><span class="o">=</span><span class="p">[</span><span class="s1">&#39;playCount&#39;</span><span class="p">],</span><span class="n">ascending</span><span class="o">=</span><span class="kc">False</span><span class="p">)[:</span><span class="n">topN</span><span class="p">]</span>

<span class="n">fig</span><span class="p">,</span> <span class="n">ax</span> <span class="o">=</span> <span class="n">plt</span><span class="o">.</span><span class="n">subplots</span><span class="p">()</span>

<span class="n">topNArtist</span><span class="o">.</span><span class="n">playCount</span><span class="o">.</span><span class="n">plot</span><span class="p">(</span> <span class="n">kind</span><span class="o">=</span><span class="s1">&#39;barh&#39;</span><span class="p">,</span>
                <span class="n">ax</span><span class="o">=</span><span class="n">ax</span><span class="p">)</span>

<span class="n">ax</span><span class="o">.</span><span class="n">set_xlabel</span><span class="p">(</span><span class="s1">&#39;Play Count&#39;</span><span class="p">)</span>
<span class="n">ax</span><span class="o">.</span><span class="n">set_ylabel</span><span class="p">(</span><span class="s1">&#39;Artist&#39;</span><span class="p">)</span>
<span class="n">ax</span><span class="o">.</span><span class="n">set_title</span><span class="p">(</span><span class="s1">&#39;Top-10 Artist ID per play counts&#39;</span><span class="p">)</span>

<span class="n">plt</span><span class="o">.</span><span class="n">show</span><span class="p">()</span>
</pre></div>

</div>
</div>
</div>

<div class="output_wrapper">
<div class="output">


<div class="output_area">

<div class="prompt"></div>




<div class="output_png output_subarea ">
<img src="data:image/png;base64,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
"
>
</div>

</div>

</div>
</div>

</div>
<div class="cell border-box-sizing text_cell rendered"><div class="prompt input_prompt">
</div>
<div class="inner_cell">
<div class="text_cell_render border-box-sizing rendered_html">
<p><b><i>Comment:</i></b><br/>
The data seems to be acceptable since the majority of plays are distributed among a few artists. Only 10% of the artistshave more than 100 play counts from the previous plot.</p>

</div>
</div>
</div>
<div class="cell border-box-sizing text_cell rendered"><div class="prompt input_prompt">
</div>
<div class="inner_cell">
<div class="text_cell_render border-box-sizing rendered_html">
<p>All seems clear right now, but ... wait a second! What about the problems indicated above about artist "disambiguation"? Are these artist ID we are using referring to unique artists? How can we make sure that such "opaque" identifiers point to different bands? Let's try to use some additional dataset to answer this question:  <code>artist_data.txt</code> dataset. This time, the schema of the dataset consists in:</p>

<pre><code>artist ID: long int
name: string</code></pre>
<p>We will try to find whether a single artist has two different IDs.</p>

</div>
</div>
</div>
<div class="cell border-box-sizing text_cell rendered"><div class="prompt input_prompt">
</div>
<div class="inner_cell">
<div class="text_cell_render border-box-sizing rendered_html">
<h3 id="Question-3">Question 3<a class="anchor-link" href="#Question-3">&#182;</a></h3><h4 id="Question-3.1">Question 3.1<a class="anchor-link" href="#Question-3.1">&#182;</a></h4><div class="alert alert-info">
Load the data ('\t'-separated) from `/datasets/lastfm/artist_data.txt` and use the Pandas API to show 5 samples.  
</div><p><strong>HINT</strong>: <code>artist_data.txt</code> has malformed entries. If you encounter some error when parsing lines in data because of invalid entries, functions <code>pandas.DataFrame.dropna()</code> and <code>pandas.to_numeric()</code> will help you to eliminate these entries.</p>

</div>
</div>
</div>
<div class="cell border-box-sizing text_cell rendered"><div class="prompt input_prompt">
</div>
<div class="inner_cell">
<div class="text_cell_render border-box-sizing rendered_html">
<div class="highlight"><pre><span></span><span class="c1">###################################################################</span>
<span class="c1">####                      TO COMPLETE                         #####</span>
<span class="c1">###################################################################</span>

<span class="c1"># Read from the .csv file</span>
<span class="n">artistDF</span> <span class="o">=</span> <span class="n">pd</span><span class="o">.</span><span class="n">read_csv</span><span class="p">(</span><span class="o">...</span><span class="p">,</span>
                       <span class="n">names</span><span class="o">=</span><span class="p">[</span><span class="s1">&#39;artistID&#39;</span><span class="p">,</span> <span class="s1">&#39;name&#39;</span><span class="p">])</span>

<span class="c1"># Cast each column to its datatype</span>
<span class="o">...</span>

<span class="c1"># Filter out possible malformed entries</span>
<span class="o">...</span>

<span class="n">artistDF</span><span class="p">[:</span><span class="mi">5</span><span class="p">]</span>
</pre></div>

</div>
</div>
</div>
<div class="cell border-box-sizing code_cell rendered">
<div class="input">
<div class="prompt input_prompt">In&nbsp;[10]:</div>
<div class="inner_cell">
    <div class="input_area">
<div class=" highlight hl-ipython3"><pre><span></span><span class="c1"># Read from the .csv file</span>
<span class="n">artistDF</span> <span class="o">=</span> <span class="n">pd</span><span class="o">.</span><span class="n">read_csv</span><span class="p">(</span><span class="n">base</span><span class="o">+</span><span class="s1">&#39;artist_data.txt&#39;</span><span class="p">,</span><span class="n">sep</span><span class="o">=</span><span class="s1">&#39;</span><span class="se">\t</span><span class="s1">&#39;</span><span class="p">,</span>
                       <span class="n">names</span><span class="o">=</span><span class="p">[</span><span class="s1">&#39;artistID&#39;</span><span class="p">,</span> <span class="s1">&#39;name&#39;</span><span class="p">])</span>

<span class="c1"># Cast each column to its datatype</span>

<span class="n">artistDF</span><span class="p">[</span><span class="s1">&#39;artistID&#39;</span><span class="p">]</span><span class="o">=</span><span class="n">artistDF</span><span class="p">[</span><span class="s1">&#39;artistID&#39;</span><span class="p">]</span><span class="o">.</span><span class="n">astype</span><span class="p">(</span><span class="n">np</span><span class="o">.</span><span class="n">int64</span><span class="p">,</span><span class="n">errors</span><span class="o">=</span><span class="s1">&#39;ignore&#39;</span><span class="p">)</span>
<span class="n">artistDF</span><span class="p">[</span><span class="s1">&#39;name&#39;</span><span class="p">]</span><span class="o">=</span><span class="n">artistDF</span><span class="p">[</span><span class="s1">&#39;name&#39;</span><span class="p">]</span><span class="o">.</span><span class="n">astype</span><span class="p">(</span><span class="n">np</span><span class="o">.</span><span class="n">str</span><span class="p">,</span><span class="n">errors</span><span class="o">=</span><span class="s1">&#39;ignore&#39;</span><span class="p">)</span>

<span class="c1"># Filter out possible malformed entries</span>
<span class="n">artistDF</span><span class="p">[</span><span class="s1">&#39;artistID&#39;</span><span class="p">]</span><span class="o">=</span><span class="n">pd</span><span class="o">.</span><span class="n">to_numeric</span><span class="p">(</span><span class="n">artistDF</span><span class="p">[</span><span class="s1">&#39;artistID&#39;</span><span class="p">],</span> <span class="n">errors</span><span class="o">=</span><span class="s1">&#39;coerce&#39;</span><span class="p">,</span><span class="n">downcast</span><span class="o">=</span><span class="s1">&#39;integer&#39;</span><span class="p">)</span>
<span class="n">artistDF</span><span class="o">=</span><span class="n">artistDF</span><span class="o">.</span><span class="n">dropna</span><span class="p">()</span>
<span class="n">artistDF</span><span class="p">[</span><span class="s1">&#39;artistID&#39;</span><span class="p">]</span><span class="o">=</span><span class="n">artistDF</span><span class="p">[</span><span class="s1">&#39;artistID&#39;</span><span class="p">]</span><span class="o">.</span><span class="n">astype</span><span class="p">(</span><span class="n">np</span><span class="o">.</span><span class="n">int64</span><span class="p">,</span><span class="n">errors</span><span class="o">=</span><span class="s1">&#39;ignore&#39;</span><span class="p">)</span>


<span class="n">artistDF</span><span class="p">[:</span><span class="mi">5</span><span class="p">]</span>
</pre></div>

</div>
</div>
</div>

<div class="output_wrapper">
<div class="output">


<div class="output_area">

<div class="prompt"></div>


<div class="output_subarea output_stream output_stderr output_text">
<pre>/usr/local/lib/python3.5/dist-packages/IPython/core/interactiveshell.py:2785: DtypeWarning: Columns (0,1) have mixed types. Specify dtype option on import or set low_memory=False.
  interactivity=interactivity, compiler=compiler, result=result)
</pre>
</div>
</div>

<div class="output_area">

<div class="prompt output_prompt">Out[10]:</div>



<div class="output_html rendered_html output_subarea output_execute_result">
<div>
<style scoped>
    .dataframe tbody tr th:only-of-type {
        vertical-align: middle;
    }

    .dataframe tbody tr th {
        vertical-align: top;
    }

    .dataframe thead th {
        text-align: right;
    }
</style>
<table border="1" class="dataframe">
  <thead>
    <tr style="text-align: right;">
      <th></th>
      <th>artistID</th>
      <th>name</th>
    </tr>
  </thead>
  <tbody>
    <tr>
      <th>0</th>
      <td>1134999</td>
      <td>06Crazy Life</td>
    </tr>
    <tr>
      <th>1</th>
      <td>6821360</td>
      <td>Pang Nakarin</td>
    </tr>
    <tr>
      <th>2</th>
      <td>10113088</td>
      <td>Terfel, Bartoli- Mozart: Don</td>
    </tr>
    <tr>
      <th>3</th>
      <td>10151459</td>
      <td>The Flaming Sidebur</td>
    </tr>
    <tr>
      <th>4</th>
      <td>6826647</td>
      <td>Bodenstandig 3000</td>
    </tr>
  </tbody>
</table>
</div>
</div>

</div>

</div>
</div>

</div>
<div class="cell border-box-sizing text_cell rendered"><div class="prompt input_prompt">
</div>
<div class="inner_cell">
<div class="text_cell_render border-box-sizing rendered_html">
<h4 id="Question-3.2">Question 3.2<a class="anchor-link" href="#Question-3.2">&#182;</a></h4><div class="alert alert-info">
Find 20 artists whose name contains `Aerosmith`. Take a look at artists that have ID equal to `1000010` and `2082323`. In your opinion, are they pointing to the same artist?  
</div><p><strong>HINT</strong>: Function <code>contains(string)</code> can be useful in this case.</p>

</div>
</div>
</div>
<div class="cell border-box-sizing text_cell rendered"><div class="prompt input_prompt">
</div>
<div class="inner_cell">
<div class="text_cell_render border-box-sizing rendered_html">
<div class="highlight"><pre><span></span><span class="c1">###################################################################</span>
<span class="c1">####                      TO COMPLETE                         #####</span>
<span class="c1">###################################################################</span>

<span class="c1"># get artists whose name contains &quot;Aerosmith&quot;</span>
<span class="n">artistDF</span><span class="p">[</span><span class="o">....</span><span class="n">str</span><span class="o">.</span><span class="n">contains</span><span class="p">(</span><span class="s1">&#39;Aerosmith&#39;</span><span class="p">)][:</span><span class="mi">20</span><span class="p">]</span>

<span class="c1"># show two examples</span>
<span class="n">artistDF</span><span class="p">[</span><span class="n">artistDF</span><span class="p">[</span><span class="s1">&#39;artistID&#39;</span><span class="p">]</span> <span class="o">==</span> <span class="mi">1000010</span><span class="p">]</span>
<span class="n">artistDF</span><span class="p">[</span><span class="n">artistDF</span><span class="p">[</span><span class="s1">&#39;artistID&#39;</span><span class="p">]</span> <span class="o">==</span> <span class="mi">2082323</span><span class="p">]</span>
</pre></div>

</div>
</div>
</div>
<div class="cell border-box-sizing code_cell rendered">
<div class="input">
<div class="prompt input_prompt">In&nbsp;[11]:</div>
<div class="inner_cell">
    <div class="input_area">
<div class=" highlight hl-ipython3"><pre><span></span><span class="c1"># get artists whose name contains &quot;Aerosmith&quot;</span>
<span class="nb">print</span><span class="p">(</span><span class="n">artistDF</span><span class="p">[</span><span class="n">artistDF</span><span class="p">[</span><span class="s1">&#39;name&#39;</span><span class="p">]</span><span class="o">.</span><span class="n">str</span><span class="o">.</span><span class="n">contains</span><span class="p">(</span><span class="s1">&#39;Aerosmith&#39;</span><span class="p">)][:</span><span class="mi">20</span><span class="p">])</span>

<span class="c1"># show two examples</span>
<span class="nb">print</span><span class="p">(</span><span class="n">artistDF</span><span class="p">[</span><span class="n">artistDF</span><span class="p">[</span><span class="s1">&#39;artistID&#39;</span><span class="p">]</span> <span class="o">==</span> <span class="mi">1000010</span><span class="p">])</span>
<span class="nb">print</span><span class="p">(</span><span class="n">artistDF</span><span class="p">[</span><span class="n">artistDF</span><span class="p">[</span><span class="s1">&#39;artistID&#39;</span><span class="p">]</span> <span class="o">==</span> <span class="mi">2082323</span><span class="p">])</span>
</pre></div>

</div>
</div>
</div>

<div class="output_wrapper">
<div class="output">


<div class="output_area">

<div class="prompt"></div>


<div class="output_subarea output_stream output_stdout output_text">
<pre>       artistID                                            name
9925   10586006                     Dusty Springfield/Aerosmith
12010   6946007                                Aerosmith/RunDMC
12456  10475683                       Aerosmith: Just Push Play
14567   1083031                                Aerosmith/ G n R
15761   6872848  Britney, Nsync, Nelly, Aerosmith,Mary J Blige.
19409  10586963          Green Day - Oasis - Eminem - Aerosmith
20337  10028830                         The Aerosmith Antology2
25166  10300357                             Run-DMC + Aerosmith
26399   2027746                     Aerosmith by MusicInter.com
28469   1140418                      [rap]Run DMC and Aerosmith
30207  10237208                             Aerosmith + Run DMC
33127  10588537                  Aerosmith, Kid Rock, &amp; Run DMC
41891   9934757                            Aerosmith - Big Ones
42294  10437510                 Green Day ft. Oasis &amp; Aerosmith
48005   6936680                             RUN DNC &amp; Aerosmith
49323  10479781                                  Aerosmith Hits
55799  10114147                     Charlies Angels - Aerosmith
62947   1262439                   Kid Rock, Run DMC &amp; Aerosmith
63907   7032554                          Aerosmith &amp; Run-D.M.C.
64842  10033592                                      Aerosmith?
        artistID       name
958509   1000010  Aerosmith
         artistID          name
1457634   2082323  01 Aerosmith
</pre>
</div>
</div>

</div>
</div>

</div>
<div class="cell border-box-sizing text_cell rendered"><div class="prompt input_prompt">
</div>
<div class="inner_cell">
<div class="text_cell_render border-box-sizing rendered_html">
<p><b><i>Comment:</i></b><br/>
It appears that the names are those of the band Aerosmith and their albums' names. So it seems as this is in fact the same artist.</p>

</div>
</div>
</div>
<div class="cell border-box-sizing text_cell rendered"><div class="prompt input_prompt">
</div>
<div class="inner_cell">
<div class="text_cell_render border-box-sizing rendered_html">
<p>To answer this question correctly, we need to use an additional dataset <code>artist_alias.txt</code> which contains the ids of mispelled artists and standard artists. The schema of the dataset consists in:</p>

<pre><code>mispelledID ID: long int
standard ID: long int</code></pre>

</div>
</div>
</div>
<div class="cell border-box-sizing text_cell rendered"><div class="prompt input_prompt">
</div>
<div class="inner_cell">
<div class="text_cell_render border-box-sizing rendered_html">
<h4 id="Question-3.3">Question 3.3<a class="anchor-link" href="#Question-3.3">&#182;</a></h4><div class="alert alert-info">
Using Pandas, load the dataset from `/datasets/lastfm/artist_alias.txt` then show 5 samples.
</div>
</div>
</div>
</div>
<div class="cell border-box-sizing text_cell rendered"><div class="prompt input_prompt">
</div>
<div class="inner_cell">
<div class="text_cell_render border-box-sizing rendered_html">
<div class="highlight"><pre><span></span><span class="c1">###################################################################</span>
<span class="c1">####                      TO COMPLETE                         #####</span>
<span class="c1">###################################################################</span>

<span class="n">artistAliasDF</span> <span class="o">=</span> <span class="n">pd</span><span class="o">.</span><span class="n">read_csv</span><span class="p">(</span><span class="o">...</span><span class="p">,</span>
                            <span class="n">names</span><span class="o">=</span><span class="p">[</span><span class="s1">&#39;misspelledArtistID&#39;</span><span class="p">,</span> <span class="s1">&#39;standardArtistID&#39;</span><span class="p">])</span>
<span class="o">...</span>

<span class="n">artistAliasDF</span><span class="p">[:</span><span class="mi">5</span><span class="p">]</span>
</pre></div>

</div>
</div>
</div>
<div class="cell border-box-sizing code_cell rendered">
<div class="input">
<div class="prompt input_prompt">In&nbsp;[12]:</div>
<div class="inner_cell">
    <div class="input_area">
<div class=" highlight hl-ipython3"><pre><span></span><span class="n">artistAliasDF</span> <span class="o">=</span> <span class="n">pd</span><span class="o">.</span><span class="n">read_csv</span><span class="p">(</span><span class="n">base</span><span class="o">+</span><span class="s1">&#39;artist_alias.txt&#39;</span><span class="p">,</span><span class="n">sep</span><span class="o">=</span><span class="s1">&#39;</span><span class="se">\t</span><span class="s1">&#39;</span><span class="p">,</span><span class="n">names</span><span class="o">=</span><span class="p">[</span><span class="s1">&#39;misspelledArtistID&#39;</span><span class="p">,</span> <span class="s1">&#39;standardArtistID&#39;</span><span class="p">])</span>
<span class="n">artistAliasDF</span><span class="p">[</span><span class="s1">&#39;misspelledArtistID&#39;</span><span class="p">]</span><span class="o">=</span><span class="n">artistAliasDF</span><span class="p">[</span><span class="s1">&#39;misspelledArtistID&#39;</span><span class="p">]</span><span class="o">.</span><span class="n">astype</span><span class="p">(</span><span class="s1">&#39;int64&#39;</span><span class="p">,</span><span class="n">errors</span><span class="o">=</span><span class="s1">&#39;ignore&#39;</span><span class="p">)</span>
<span class="n">artistAliasDF</span><span class="p">[</span><span class="s1">&#39;standardArtistID&#39;</span><span class="p">]</span><span class="o">=</span><span class="n">artistAliasDF</span><span class="p">[</span><span class="s1">&#39;standardArtistID&#39;</span><span class="p">]</span><span class="o">.</span><span class="n">astype</span><span class="p">(</span><span class="s1">&#39;int64&#39;</span><span class="p">,</span><span class="n">errors</span><span class="o">=</span><span class="s1">&#39;ignore&#39;</span><span class="p">)</span>
<span class="n">artistAliasDF</span><span class="o">=</span><span class="n">artistAliasDF</span><span class="o">.</span><span class="n">dropna</span><span class="p">()</span>

<span class="n">artistAliasDF</span><span class="p">[:</span><span class="mi">5</span><span class="p">]</span>
</pre></div>

</div>
</div>
</div>

<div class="output_wrapper">
<div class="output">


<div class="output_area">

<div class="prompt output_prompt">Out[12]:</div>



<div class="output_html rendered_html output_subarea output_execute_result">
<div>
<style scoped>
    .dataframe tbody tr th:only-of-type {
        vertical-align: middle;
    }

    .dataframe tbody tr th {
        vertical-align: top;
    }

    .dataframe thead th {
        text-align: right;
    }
</style>
<table border="1" class="dataframe">
  <thead>
    <tr style="text-align: right;">
      <th></th>
      <th>misspelledArtistID</th>
      <th>standardArtistID</th>
    </tr>
  </thead>
  <tbody>
    <tr>
      <th>0</th>
      <td>1092764.0</td>
      <td>1000311</td>
    </tr>
    <tr>
      <th>1</th>
      <td>1095122.0</td>
      <td>1000557</td>
    </tr>
    <tr>
      <th>2</th>
      <td>6708070.0</td>
      <td>1007267</td>
    </tr>
    <tr>
      <th>3</th>
      <td>10088054.0</td>
      <td>1042317</td>
    </tr>
    <tr>
      <th>4</th>
      <td>1195917.0</td>
      <td>1042317</td>
    </tr>
  </tbody>
</table>
</div>
</div>

</div>

</div>
</div>

</div>
<div class="cell border-box-sizing text_cell rendered"><div class="prompt input_prompt">
</div>
<div class="inner_cell">
<div class="text_cell_render border-box-sizing rendered_html">
<h4 id="Question-3.4">Question 3.4<a class="anchor-link" href="#Question-3.4">&#182;</a></h4><div class="alert alert-info">
Verify the answer of question 3.2 ("Are artists that have ID equal to `1000010` and `2082323` the same ?") by finding the standard ids corresponding to the mispelled ids `1000010` and `2082323` respectively.
</div>
</div>
</div>
</div>
<div class="cell border-box-sizing text_cell rendered"><div class="prompt input_prompt">
</div>
<div class="inner_cell">
<div class="text_cell_render border-box-sizing rendered_html">
<div class="highlight"><pre><span></span><span class="c1">###################################################################</span>
<span class="c1">####                      TO COMPLETE                         #####</span>
<span class="c1">###################################################################</span>

<span class="n">artistAliasDF</span><span class="p">[</span> <span class="o">...</span> <span class="p">]</span>
<span class="n">artistAliasDF</span><span class="p">[</span> <span class="o">...</span> <span class="p">]</span>

<span class="c1"># 1000010 is a standard id, so it haven&#39;t been considered as mispelled id in the dataset</span>
</pre></div>

</div>
</div>
</div>
<div class="cell border-box-sizing code_cell rendered">
<div class="input">
<div class="prompt input_prompt">In&nbsp;[13]:</div>
<div class="inner_cell">
    <div class="input_area">
<div class=" highlight hl-ipython3"><pre><span></span><span class="nb">print</span><span class="p">(</span><span class="n">artistAliasDF</span><span class="p">[</span><span class="n">artistAliasDF</span><span class="p">[</span><span class="s1">&#39;misspelledArtistID&#39;</span><span class="p">]</span><span class="o">==</span><span class="mi">1000010</span><span class="p">])</span>
<span class="nb">print</span><span class="p">(</span><span class="n">artistAliasDF</span><span class="p">[</span> <span class="n">artistAliasDF</span><span class="p">[</span><span class="s1">&#39;misspelledArtistID&#39;</span><span class="p">]</span><span class="o">==</span><span class="mi">2082323</span><span class="p">])</span>
</pre></div>

</div>
</div>
</div>

<div class="output_wrapper">
<div class="output">


<div class="output_area">

<div class="prompt"></div>


<div class="output_subarea output_stream output_stdout output_text">
<pre>Empty DataFrame
Columns: [misspelledArtistID, standardArtistID]
Index: []
      misspelledArtistID  standardArtistID
1135           2082323.0           1000010
</pre>
</div>
</div>

</div>
</div>

</div>
<div class="cell border-box-sizing text_cell rendered"><div class="prompt input_prompt">
</div>
<div class="inner_cell">
<div class="text_cell_render border-box-sizing rendered_html">
<p><b><i>Comment:</i></b><br/>
1000010 is a standard id so the first line code return an empty dataframe, <br/>
The second id 2082323 is considered as mispelled id and the standard id is 100010 <br/>
So the artist that have the previous two ids are the same</p>

</div>
</div>
</div>
<div class="cell border-box-sizing text_cell rendered"><div class="prompt input_prompt">
</div>
<div class="inner_cell">
<div class="text_cell_render border-box-sizing rendered_html">
<h3 id="Question-4">Question 4<a class="anchor-link" href="#Question-4">&#182;</a></h3><p>The mispelled or nonstandard information about artist make our results in the previous queries a bit "sloppy". To overcome this problem, we can replace all mispelled artist ids by the corresponding standard ids and re-compute the basic descriptive statistics on the "amended" data.</p>
<h4 id="Question-4.2">Question 4.2<a class="anchor-link" href="#Question-4.2">&#182;</a></h4><div class="alert alert-info">
Replace the non-standard artist ids in the dataframe that was loaded from `/datasets/lastfm/user_artist_data.txt` by the corresponding standard ids then show 5 samples.
</div><p><strong>NOTE 1</strong>: If an id doesn't exist in the dictionary as a mispelled id, it is really a standard id.</p>
<p><strong>NOTE 2</strong>: be careful! you need to be able to verify that you indeed solved the problem of having bad artist IDs. In principle, for the new data to be correct, we should to have duplicate pairs (user, artist), potentially with different play counts, right? In answering the question, please <strong>show</strong> that you indeed fixed the problem and find a way to fix the duplicates (user, artist).</p>
<p><strong>HINT</strong>: have a look to the functions <code>pandas.merge()</code> and <code>pandas.Dataframe.combine_first()</code>.</p>

</div>
</div>
</div>
<div class="cell border-box-sizing text_cell rendered"><div class="prompt input_prompt">
</div>
<div class="inner_cell">
<div class="text_cell_render border-box-sizing rendered_html">
<div class="highlight"><pre><span></span><span class="c1">###################################################################</span>
<span class="c1">####                      TO COMPLETE                         #####</span>
<span class="c1">###################################################################</span>

<span class="n">t0</span> <span class="o">=</span> <span class="n">time</span><span class="p">()</span>

<span class="c1"># Join the two dataframes based on the misspelledArtistID</span>
<span class="n">newUserArtistDF</span> <span class="o">=</span> <span class="n">pd</span><span class="o">.</span><span class="n">merge</span><span class="p">(</span><span class="n">userArtistDF</span><span class="p">,</span> <span class="n">artistAliasDF</span><span class="p">,</span> <span class="n">left_on</span><span class="o">=...</span><span class="p">,</span> <span class="n">right_on</span><span class="o">=...</span><span class="p">,</span> <span class="n">how</span><span class="o">=...</span><span class="p">)</span>

<span class="c1"># Get the final realArtistID</span>
<span class="n">newUserArtistDF</span><span class="p">[</span><span class="s1">&#39;realArtistID&#39;</span><span class="p">]</span> <span class="o">=</span> <span class="n">newUserArtistDF</span><span class="p">[</span><span class="o">...</span><span class="p">]</span><span class="o">.</span><span class="n">combine_first</span><span class="p">(</span><span class="n">newUserArtistDF</span><span class="p">[</span><span class="o">...</span><span class="p">])</span><span class="o">.</span><span class="n">astype</span><span class="p">(</span><span class="n">np</span><span class="o">.</span><span class="n">int64</span><span class="p">)</span>

<span class="c1"># Delete columns not required</span>
<span class="n">newUserArtistDF</span><span class="o">.</span><span class="n">drop</span><span class="p">([</span><span class="s1">&#39;artistID&#39;</span><span class="p">,</span> <span class="s1">&#39;standardArtistID&#39;</span><span class="p">,</span> <span class="s1">&#39;misspelledArtistID&#39;</span><span class="p">],</span> <span class="n">axis</span><span class="o">=</span><span class="mi">1</span><span class="p">,</span> <span class="n">inplace</span><span class="o">=</span><span class="bp">True</span><span class="p">)</span>

<span class="c1"># Fix duplicates of the pair (userID, realArtistID)</span>
<span class="n">newUserArtistDF</span> <span class="o">=</span> <span class="n">newUserArtistDF</span><span class="o">.</span><span class="n">groupby</span><span class="p">(</span><span class="o">...</span><span class="p">,</span> <span class="n">as_index</span><span class="o">=</span><span class="bp">False</span><span class="p">)</span><span class="o">...</span>

<span class="k">print</span><span class="p">(</span><span class="s1">&#39;Cleaning the dataset took </span><span class="si">%.2f</span><span class="s1"> seconds&#39;</span> <span class="o">%</span> <span class="p">(</span><span class="n">time</span><span class="p">()</span> <span class="o">-</span> <span class="n">t0</span><span class="p">))</span>
</pre></div>

</div>
</div>
</div>
<div class="cell border-box-sizing code_cell rendered">
<div class="input">
<div class="prompt input_prompt">In&nbsp;[14]:</div>
<div class="inner_cell">
    <div class="input_area">
<div class=" highlight hl-ipython3"><pre><span></span><span class="n">t0</span> <span class="o">=</span> <span class="n">time</span><span class="p">()</span>

<span class="c1"># Join the two dataframes based on the misspelledArtistID</span>
<span class="n">newUserArtistDF</span> <span class="o">=</span> <span class="n">pd</span><span class="o">.</span><span class="n">merge</span><span class="p">(</span><span class="n">userArtistDF</span><span class="p">,</span> <span class="n">artistAliasDF</span><span class="p">,</span> <span class="n">left_on</span><span class="o">=</span><span class="s1">&#39;artistID&#39;</span><span class="p">,</span> <span class="n">right_on</span><span class="o">=</span><span class="s1">&#39;misspelledArtistID&#39;</span><span class="p">,</span> <span class="n">how</span><span class="o">=</span><span class="s1">&#39;left&#39;</span><span class="p">)</span>

<span class="c1"># Get the final realArtistID</span>
<span class="n">newUserArtistDF</span><span class="p">[</span><span class="s1">&#39;realArtistID&#39;</span><span class="p">]</span> <span class="o">=</span> <span class="n">newUserArtistDF</span><span class="p">[</span><span class="s1">&#39;standardArtistID&#39;</span><span class="p">]</span><span class="o">.</span><span class="n">combine_first</span><span class="p">(</span><span class="n">newUserArtistDF</span><span class="p">[</span><span class="s1">&#39;artistID&#39;</span><span class="p">])</span><span class="o">.</span><span class="n">astype</span><span class="p">(</span><span class="n">np</span><span class="o">.</span><span class="n">int64</span><span class="p">)</span>

<span class="c1"># Delete columns not required</span>
<span class="n">newUserArtistDF</span><span class="o">.</span><span class="n">drop</span><span class="p">([</span><span class="s1">&#39;artistID&#39;</span><span class="p">,</span> <span class="s1">&#39;standardArtistID&#39;</span><span class="p">,</span> <span class="s1">&#39;misspelledArtistID&#39;</span><span class="p">],</span> <span class="n">axis</span><span class="o">=</span><span class="mi">1</span><span class="p">,</span> <span class="n">inplace</span><span class="o">=</span><span class="kc">True</span><span class="p">)</span>

<span class="c1"># Fix duplicates of the pair (userID, realArtistID)</span>
<span class="n">newUserArtistDF</span> <span class="o">=</span> <span class="n">newUserArtistDF</span><span class="o">.</span><span class="n">groupby</span><span class="p">([</span><span class="s1">&#39;userID&#39;</span><span class="p">,</span><span class="s1">&#39;realArtistID&#39;</span><span class="p">],</span> <span class="n">as_index</span><span class="o">=</span><span class="kc">False</span><span class="p">)</span><span class="o">.</span><span class="n">sum</span><span class="p">()</span>

<span class="nb">print</span><span class="p">(</span><span class="s1">&#39;Cleaning the dataset took </span><span class="si">%.2f</span><span class="s1"> seconds&#39;</span> <span class="o">%</span> <span class="p">(</span><span class="n">time</span><span class="p">()</span> <span class="o">-</span> <span class="n">t0</span><span class="p">))</span>
</pre></div>

</div>
</div>
</div>

<div class="output_wrapper">
<div class="output">


<div class="output_area">

<div class="prompt"></div>


<div class="output_subarea output_stream output_stdout output_text">
<pre>Cleaning the dataset took 28.56 seconds
</pre>
</div>
</div>

</div>
</div>

</div>
<div class="cell border-box-sizing code_cell rendered">
<div class="input">
<div class="prompt input_prompt">In&nbsp;[15]:</div>
<div class="inner_cell">
    <div class="input_area">
<div class=" highlight hl-ipython3"><pre><span></span><span class="k">assert</span> <span class="p">(</span><span class="n">newUserArtistDF</span><span class="o">.</span><span class="n">groupby</span><span class="p">([</span><span class="s1">&#39;userID&#39;</span><span class="p">,</span> <span class="s1">&#39;realArtistID&#39;</span><span class="p">],</span> <span class="n">as_index</span><span class="o">=</span><span class="kc">False</span><span class="p">)</span><span class="o">.</span><span class="n">count</span><span class="p">()[</span><span class="s1">&#39;playCount&#39;</span><span class="p">]</span> <span class="o">==</span> <span class="mi">1</span><span class="p">)</span><span class="o">.</span><span class="n">all</span><span class="p">(),</span>  \
    <span class="s1">&#39;Each combination user/artist should appear only once&#39;</span>
</pre></div>

</div>
</div>
</div>

</div>
<div class="cell border-box-sizing text_cell rendered"><div class="prompt input_prompt">
</div>
<div class="inner_cell">
<div class="text_cell_render border-box-sizing rendered_html">
<h3 id="Question-5">Question 5<a class="anchor-link" href="#Question-5">&#182;</a></h3><p>Well, our data frame contains clean and "standard" data. We can use it to redo previous statistic queries. Now that we have all data, including the relation (<code>artistID</code>/<code>name</code>), please find a way to use the artist name instead of its ID in all required plots.</p>
<h4 id="Question-5.1">Question 5.1<a class="anchor-link" href="#Question-5.1">&#182;</a></h4><div class="alert alert-info">
How many unique artists? Compare with the result when using old data.
</div>
</div>
</div>
</div>
<div class="cell border-box-sizing text_cell rendered"><div class="prompt input_prompt">
</div>
<div class="inner_cell">
<div class="text_cell_render border-box-sizing rendered_html">
<div class="highlight"><pre><span></span><span class="c1">###################################################################</span>
<span class="c1">####                      TO COMPLETE                         #####</span>
<span class="c1">###################################################################</span>

<span class="n">uniqueArtists</span> <span class="o">=</span> <span class="n">newUserArtistDF</span><span class="o">...</span>

<span class="k">print</span><span class="p">(</span><span class="s2">&quot;Total n. of artists: &quot;</span><span class="p">,</span> <span class="n">uniqueArtists</span><span class="p">)</span>
</pre></div>

</div>
</div>
</div>
<div class="cell border-box-sizing code_cell rendered">
<div class="input">
<div class="prompt input_prompt">In&nbsp;[16]:</div>
<div class="inner_cell">
    <div class="input_area">
<div class=" highlight hl-ipython3"><pre><span></span><span class="n">uniqueArtists</span> <span class="o">=</span> <span class="n">newUserArtistDF</span><span class="p">[</span><span class="s1">&#39;realArtistID&#39;</span><span class="p">]</span><span class="o">.</span><span class="n">unique</span><span class="p">()</span><span class="o">.</span><span class="n">size</span>

<span class="nb">print</span><span class="p">(</span><span class="s2">&quot;Total n. of artists: &quot;</span><span class="p">,</span> <span class="n">uniqueArtists</span><span class="p">)</span>
</pre></div>

</div>
</div>
</div>

<div class="output_wrapper">
<div class="output">


<div class="output_area">

<div class="prompt"></div>


<div class="output_subarea output_stream output_stdout output_text">
<pre>Total n. of artists:  1568126
</pre>
</div>
</div>

</div>
</div>

</div>
<div class="cell border-box-sizing text_cell rendered"><div class="prompt input_prompt">
</div>
<div class="inner_cell">
<div class="text_cell_render border-box-sizing rendered_html">
<p><i><b>Comment:</b></i><br/>
    We have 62902 less artists</p>

</div>
</div>
</div>
<div class="cell border-box-sizing text_cell rendered"><div class="prompt input_prompt">
</div>
<div class="inner_cell">
<div class="text_cell_render border-box-sizing rendered_html">
<h4 id="Question-5.2">Question 5.2<a class="anchor-link" href="#Question-5.2">&#182;</a></h4><div class="alert alert-info">
Who are the top-10 artistis?
<ul>
  <li>In terms of absolute play counts</li>
  <li>In terms of "audience size", that is, how many users listened to one of their track at least once</li>
</ul>  

Plot the results, and explain the figures you obtain.
</div>
</div>
</div>
</div>
<div class="cell border-box-sizing text_cell rendered"><div class="prompt input_prompt">
</div>
<div class="inner_cell">
<div class="text_cell_render border-box-sizing rendered_html">
<div class="highlight"><pre><span></span><span class="c1">###################################################################</span>
<span class="c1">####                      TO COMPLETE                         #####</span>
<span class="c1">###################################################################</span>

<span class="c1"># calculate top-10 artists in term of play counts</span>
<span class="n">topN</span> <span class="o">=</span> <span class="mi">10</span>

<span class="n">artistPopularity</span> <span class="o">=</span> <span class="n">newUserArtistDF</span><span class="o">.</span><span class="n">groupby</span><span class="p">(</span><span class="o">...</span><span class="p">)</span><span class="o">...</span>

<span class="c1"># Get the name of the artists based on their IDs</span>
<span class="n">artistPopularity</span> <span class="o">=</span> <span class="n">pd</span><span class="o">.</span><span class="n">merge</span><span class="p">(</span><span class="n">artistPopularity</span><span class="p">,</span> <span class="o">...</span><span class="p">,</span> <span class="n">right_on</span><span class="o">=...</span><span class="p">,</span> <span class="n">left_on</span><span class="o">=...</span><span class="p">,</span> <span class="n">how</span><span class="o">=...</span><span class="p">)</span>
<span class="n">topNArtist</span> <span class="o">=</span> <span class="n">artistPopularity</span><span class="o">.</span><span class="n">sort_values</span><span class="p">(</span><span class="o">...</span><span class="p">,</span> <span class="n">ascending</span><span class="o">=</span><span class="bp">False</span><span class="p">)[:</span><span class="n">topN</span><span class="p">]</span>

<span class="n">fig</span><span class="p">,</span> <span class="n">ax</span> <span class="o">=</span> <span class="n">plt</span><span class="o">.</span><span class="n">subplots</span><span class="p">()</span>

<span class="n">topNArtist</span><span class="p">[</span><span class="o">...</span><span class="p">]</span><span class="o">.</span><span class="n">plot</span><span class="p">(</span><span class="n">kind</span><span class="o">=</span><span class="s1">&#39;barh&#39;</span><span class="p">,</span> <span class="n">ax</span><span class="o">=</span><span class="n">ax</span><span class="p">)</span>

<span class="n">ax</span><span class="o">.</span><span class="n">set_yticklabels</span><span class="p">(</span><span class="n">topNArtist</span><span class="p">[</span><span class="s1">&#39;name&#39;</span><span class="p">])</span>
<span class="n">ax</span><span class="o">.</span><span class="n">set_xlabel</span><span class="p">(</span><span class="s1">&#39;Play Count&#39;</span><span class="p">)</span>
<span class="n">ax</span><span class="o">.</span><span class="n">set_title</span><span class="p">(</span><span class="s1">&#39;Top-10 Artist per play counts&#39;</span><span class="p">)</span>

<span class="n">plt</span><span class="o">.</span><span class="n">show</span><span class="p">()</span>
</pre></div>

</div>
</div>
</div>
<div class="cell border-box-sizing code_cell rendered">
<div class="input">
<div class="prompt input_prompt">In&nbsp;[17]:</div>
<div class="inner_cell">
    <div class="input_area">
<div class=" highlight hl-ipython3"><pre><span></span><span class="n">topN</span> <span class="o">=</span> <span class="mi">10</span>

<span class="n">artistPopularity</span> <span class="o">=</span> <span class="n">newUserArtistDF</span><span class="o">.</span><span class="n">groupby</span><span class="p">(</span><span class="n">newUserArtistDF</span><span class="p">[</span><span class="s1">&#39;realArtistID&#39;</span><span class="p">])</span><span class="o">.</span><span class="n">playCount</span><span class="o">.</span><span class="n">sum</span><span class="p">()</span><span class="o">.</span><span class="n">to_frame</span><span class="p">()</span>

<span class="c1"># Get the name of the artists based on their IDs</span>
<span class="n">artistPopularity</span> <span class="o">=</span> <span class="n">pd</span><span class="o">.</span><span class="n">merge</span><span class="p">(</span><span class="n">artistPopularity</span><span class="p">,</span> <span class="n">artistDF</span><span class="p">,</span> <span class="n">right_on</span><span class="o">=</span><span class="s1">&#39;artistID&#39;</span><span class="p">,</span> <span class="n">left_on</span><span class="o">=</span><span class="s1">&#39;realArtistID&#39;</span><span class="p">,</span> <span class="n">how</span><span class="o">=</span><span class="s1">&#39;inner&#39;</span><span class="p">)</span>
<span class="n">topNArtist</span> <span class="o">=</span> <span class="n">artistPopularity</span><span class="o">.</span><span class="n">sort_values</span><span class="p">(</span><span class="s1">&#39;playCount&#39;</span><span class="p">,</span> <span class="n">ascending</span><span class="o">=</span><span class="kc">False</span><span class="p">)[:</span><span class="n">topN</span><span class="p">]</span>

<span class="n">fig</span><span class="p">,</span> <span class="n">ax</span> <span class="o">=</span> <span class="n">plt</span><span class="o">.</span><span class="n">subplots</span><span class="p">()</span>

<span class="n">topNArtist</span><span class="p">[</span><span class="s1">&#39;playCount&#39;</span><span class="p">]</span><span class="o">.</span><span class="n">plot</span><span class="p">(</span><span class="n">kind</span><span class="o">=</span><span class="s1">&#39;barh&#39;</span><span class="p">,</span> <span class="n">ax</span><span class="o">=</span><span class="n">ax</span><span class="p">)</span>

<span class="n">ax</span><span class="o">.</span><span class="n">set_yticklabels</span><span class="p">(</span><span class="n">topNArtist</span><span class="p">[</span><span class="s1">&#39;name&#39;</span><span class="p">])</span>
<span class="n">ax</span><span class="o">.</span><span class="n">set_xlabel</span><span class="p">(</span><span class="s1">&#39;Play Count&#39;</span><span class="p">)</span>
<span class="n">ax</span><span class="o">.</span><span class="n">set_title</span><span class="p">(</span><span class="s1">&#39;Top-10 Artist per play counts&#39;</span><span class="p">)</span>

<span class="n">plt</span><span class="o">.</span><span class="n">show</span><span class="p">()</span>
</pre></div>

</div>
</div>
</div>

<div class="output_wrapper">
<div class="output">


<div class="output_area">

<div class="prompt"></div>




<div class="output_png output_subarea ">
<img src="data:image/png;base64,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
"
>
</div>

</div>

</div>
</div>

</div>
<div class="cell border-box-sizing text_cell rendered"><div class="prompt input_prompt">
</div>
<div class="inner_cell">
<div class="text_cell_render border-box-sizing rendered_html">
<div class="highlight"><pre><span></span><span class="c1">###################################################################</span>
<span class="c1">####                      TO COMPLETE                         #####</span>
<span class="c1">###################################################################</span>
<span class="c1"># calculate top-10 artists in term of audience size</span>

<span class="n">topN</span> <span class="o">=</span> <span class="mi">10</span>

<span class="n">artistAudience</span> <span class="o">=</span> <span class="n">newUserArtistDF</span><span class="o">.</span><span class="n">groupby</span><span class="p">(</span><span class="o">...</span><span class="p">)</span><span class="o">...</span>
<span class="n">artistAudience</span> <span class="o">=</span> <span class="n">pd</span><span class="o">.</span><span class="n">merge</span><span class="p">(</span><span class="n">artistAudience</span><span class="p">,</span> <span class="o">...</span><span class="p">,</span> <span class="n">right_on</span><span class="o">=...</span><span class="p">,</span> <span class="n">left_on</span><span class="o">=...</span><span class="p">,</span> <span class="n">how</span><span class="o">=...</span><span class="p">)</span>
<span class="n">topNArtist</span> <span class="o">=</span> <span class="n">artistAudience</span><span class="o">.</span><span class="n">sort_values</span><span class="p">(</span><span class="o">...</span><span class="p">,</span> <span class="n">ascending</span><span class="o">=</span><span class="bp">False</span><span class="p">)[:</span><span class="n">topN</span><span class="p">]</span>

<span class="n">fig</span><span class="p">,</span> <span class="n">ax</span> <span class="o">=</span> <span class="n">plt</span><span class="o">.</span><span class="n">subplots</span><span class="p">()</span>

<span class="n">topNArtist</span><span class="p">[</span><span class="o">...</span><span class="p">]</span><span class="o">.</span><span class="n">plot</span><span class="p">(</span><span class="n">kind</span><span class="o">=</span><span class="s1">&#39;barh&#39;</span><span class="p">,</span> <span class="n">ax</span><span class="o">=</span><span class="n">ax</span><span class="p">)</span>

<span class="n">ax</span><span class="o">.</span><span class="n">set_yticklabels</span><span class="p">(</span><span class="n">topNArtist</span><span class="p">[</span><span class="s1">&#39;name&#39;</span><span class="p">])</span>
<span class="n">ax</span><span class="o">.</span><span class="n">set_xlabel</span><span class="p">(</span><span class="s1">&#39;Play Count&#39;</span><span class="p">)</span>
<span class="n">ax</span><span class="o">.</span><span class="n">set_title</span><span class="p">(</span><span class="s1">&#39;Top-10 Artist per play counts&#39;</span><span class="p">)</span>

<span class="n">plt</span><span class="o">.</span><span class="n">show</span><span class="p">()</span>
</pre></div>

</div>
</div>
</div>
<div class="cell border-box-sizing code_cell rendered">
<div class="input">
<div class="prompt input_prompt">In&nbsp;[18]:</div>
<div class="inner_cell">
    <div class="input_area">
<div class=" highlight hl-ipython3"><pre><span></span><span class="c1"># calculate top-10 artists in term of audience size</span>

<span class="n">topN</span> <span class="o">=</span> <span class="mi">10</span>

<span class="n">artistAudience</span> <span class="o">=</span> <span class="n">newUserArtistDF</span><span class="o">.</span><span class="n">groupby</span><span class="p">(</span><span class="n">newUserArtistDF</span><span class="p">[</span><span class="s1">&#39;realArtistID&#39;</span><span class="p">])</span><span class="o">.</span><span class="n">count</span><span class="p">()</span>
<span class="n">artistAudience</span> <span class="o">=</span> <span class="n">pd</span><span class="o">.</span><span class="n">merge</span><span class="p">(</span><span class="n">artistAudience</span><span class="p">,</span><span class="n">artistDF</span> <span class="p">,</span> <span class="n">right_on</span><span class="o">=</span><span class="s1">&#39;artistID&#39;</span><span class="p">,</span> <span class="n">left_on</span><span class="o">=</span><span class="s1">&#39;realArtistID&#39;</span><span class="p">,</span> <span class="n">how</span><span class="o">=</span><span class="s1">&#39;inner&#39;</span><span class="p">)</span>
<span class="n">topNArtist</span> <span class="o">=</span> <span class="n">artistAudience</span><span class="o">.</span><span class="n">sort_values</span><span class="p">(</span><span class="s1">&#39;userID&#39;</span><span class="p">,</span> <span class="n">ascending</span><span class="o">=</span><span class="kc">False</span><span class="p">)[:</span><span class="n">topN</span><span class="p">]</span>

<span class="n">fig</span><span class="p">,</span> <span class="n">ax</span> <span class="o">=</span> <span class="n">plt</span><span class="o">.</span><span class="n">subplots</span><span class="p">()</span>

<span class="n">topNArtist</span><span class="p">[</span><span class="s1">&#39;userID&#39;</span><span class="p">]</span><span class="o">.</span><span class="n">plot</span><span class="p">(</span><span class="n">kind</span><span class="o">=</span><span class="s1">&#39;barh&#39;</span><span class="p">,</span> <span class="n">ax</span><span class="o">=</span><span class="n">ax</span><span class="p">)</span>

<span class="n">ax</span><span class="o">.</span><span class="n">set_yticklabels</span><span class="p">(</span><span class="n">topNArtist</span><span class="p">[</span><span class="s1">&#39;name&#39;</span><span class="p">])</span>
<span class="n">ax</span><span class="o">.</span><span class="n">set_xlabel</span><span class="p">(</span><span class="s1">&#39;Play Count&#39;</span><span class="p">)</span>
<span class="n">ax</span><span class="o">.</span><span class="n">set_title</span><span class="p">(</span><span class="s1">&#39;Top-10 Artist per play counts&#39;</span><span class="p">)</span>

<span class="n">plt</span><span class="o">.</span><span class="n">show</span><span class="p">()</span>
</pre></div>

</div>
</div>
</div>

<div class="output_wrapper">
<div class="output">


<div class="output_area">

<div class="prompt"></div>




<div class="output_png output_subarea ">
<img src="data:image/png;base64,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
"
>
</div>

</div>

</div>
</div>

</div>
<div class="cell border-box-sizing text_cell rendered"><div class="prompt input_prompt">
</div>
<div class="inner_cell">
<div class="text_cell_render border-box-sizing rendered_html">
<h4 id="Question-5.3">Question 5.3<a class="anchor-link" href="#Question-5.3">&#182;</a></h4><div class="alert alert-info">
Who are the top-10 users?
<ul>
  <li>In terms of absolute play counts</li>
  <li>In terms of "curiosity", that is, how many different artists they listened to</li>

</ul>  

Plot the results
</div>
</div>
</div>
</div>
<div class="cell border-box-sizing text_cell rendered"><div class="prompt input_prompt">
</div>
<div class="inner_cell">
<div class="text_cell_render border-box-sizing rendered_html">
<div class="highlight"><pre><span></span><span class="c1">###################################################################</span>
<span class="c1">####                      TO COMPLETE                         #####</span>
<span class="c1">###################################################################</span>

<span class="c1"># calculate top-10 user in term of play counts</span>
<span class="n">topN</span> <span class="o">=</span> <span class="mi">10</span>

<span class="n">userPlayCount</span> <span class="o">=</span> <span class="n">newUserArtistDF</span><span class="o">.</span><span class="n">groupby</span><span class="p">(</span><span class="o">...</span><span class="p">,</span> <span class="n">as_index</span><span class="o">=</span><span class="bp">False</span><span class="p">)</span><span class="o">...</span>
<span class="n">topNUser</span> <span class="o">=</span> <span class="n">userPlayCount</span><span class="o">.</span><span class="n">sort_values</span><span class="p">(</span><span class="o">...</span><span class="p">)</span><span class="o">...</span>

<span class="n">fig</span><span class="p">,</span> <span class="n">ax</span> <span class="o">=</span> <span class="n">plt</span><span class="o">.</span><span class="n">subplots</span><span class="p">()</span>

<span class="n">topNUser</span><span class="p">[</span><span class="o">...</span><span class="p">]</span><span class="o">.</span><span class="n">plot</span><span class="p">(</span><span class="n">kind</span><span class="o">=</span><span class="s1">&#39;barh&#39;</span><span class="p">,</span> <span class="n">ax</span><span class="o">=</span><span class="n">ax</span><span class="p">)</span>

<span class="n">ax</span><span class="o">.</span><span class="n">set_yticklabels</span><span class="p">(</span><span class="n">topNUser</span><span class="p">[</span><span class="s1">&#39;userID&#39;</span><span class="p">])</span>
<span class="n">ax</span><span class="o">.</span><span class="n">set_xlabel</span><span class="p">(</span><span class="s1">&#39;Play Count&#39;</span><span class="p">)</span>
<span class="n">ax</span><span class="o">.</span><span class="n">set_title</span><span class="p">(</span><span class="s1">&#39;Top-10 User per play count&#39;</span><span class="p">)</span>

<span class="n">plt</span><span class="o">.</span><span class="n">show</span><span class="p">()</span>
</pre></div>

</div>
</div>
</div>
<div class="cell border-box-sizing code_cell rendered">
<div class="input">
<div class="prompt input_prompt">In&nbsp;[19]:</div>
<div class="inner_cell">
    <div class="input_area">
<div class=" highlight hl-ipython3"><pre><span></span><span class="c1"># calculate top-10 user in term of play counts</span>
<span class="n">topN</span> <span class="o">=</span> <span class="mi">10</span>

<span class="n">userPlayCount</span> <span class="o">=</span> <span class="n">newUserArtistDF</span><span class="o">.</span><span class="n">groupby</span><span class="p">(</span><span class="n">newUserArtistDF</span><span class="p">[</span><span class="s1">&#39;userID&#39;</span><span class="p">],</span><span class="n">as_index</span><span class="o">=</span><span class="kc">False</span><span class="p">)</span><span class="o">.</span><span class="n">agg</span><span class="p">({</span><span class="s1">&#39;playCount&#39;</span><span class="p">:</span><span class="s1">&#39;sum&#39;</span><span class="p">})</span>
<span class="n">topNUser</span> <span class="o">=</span> <span class="n">userPlayCount</span><span class="o">.</span><span class="n">sort_values</span><span class="p">(</span><span class="s1">&#39;playCount&#39;</span><span class="p">,</span><span class="n">ascending</span><span class="o">=</span><span class="kc">False</span><span class="p">)[:</span><span class="n">topN</span><span class="p">]</span>
<span class="n">fig</span><span class="p">,</span> <span class="n">ax</span> <span class="o">=</span> <span class="n">plt</span><span class="o">.</span><span class="n">subplots</span><span class="p">()</span>

<span class="n">topNUser</span><span class="o">.</span><span class="n">playCount</span><span class="o">.</span><span class="n">plot</span><span class="p">(</span><span class="n">kind</span><span class="o">=</span><span class="s1">&#39;barh&#39;</span><span class="p">,</span> <span class="n">ax</span><span class="o">=</span><span class="n">ax</span><span class="p">)</span>

<span class="n">ax</span><span class="o">.</span><span class="n">set_yticklabels</span><span class="p">(</span><span class="n">topNUser</span><span class="p">[</span><span class="s1">&#39;userID&#39;</span><span class="p">])</span>
<span class="n">ax</span><span class="o">.</span><span class="n">set_xlabel</span><span class="p">(</span><span class="s1">&#39;Play Count&#39;</span><span class="p">)</span>
<span class="n">ax</span><span class="o">.</span><span class="n">set_title</span><span class="p">(</span><span class="s1">&#39;Top-10 User per play count&#39;</span><span class="p">)</span>

<span class="n">plt</span><span class="o">.</span><span class="n">show</span><span class="p">()</span>
</pre></div>

</div>
</div>
</div>

<div class="output_wrapper">
<div class="output">


<div class="output_area">

<div class="prompt"></div>




<div class="output_png output_subarea ">
<img src="data:image/png;base64,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
"
>
</div>

</div>

</div>
</div>

</div>
<div class="cell border-box-sizing text_cell rendered"><div class="prompt input_prompt">
</div>
<div class="inner_cell">
<div class="text_cell_render border-box-sizing rendered_html">
<div class="highlight"><pre><span></span><span class="c1">###################################################################</span>
<span class="c1">####                      TO COMPLETE                         #####</span>
<span class="c1">###################################################################</span>

<span class="c1"># calculate top-10 user in term of curiosity</span>
<span class="n">topN</span> <span class="o">=</span> <span class="mi">10</span>

<span class="n">userCuriosity</span> <span class="o">=</span> <span class="o">....</span>

<span class="n">fig</span><span class="p">,</span> <span class="n">ax</span> <span class="o">=</span> <span class="n">plt</span><span class="o">.</span><span class="n">subplots</span><span class="p">()</span>

<span class="n">topNUser</span><span class="p">[</span><span class="o">...</span><span class="p">]</span><span class="o">.</span><span class="n">plot</span><span class="p">(</span><span class="n">kind</span><span class="o">=</span><span class="s1">&#39;barh&#39;</span><span class="p">,</span> <span class="n">ax</span><span class="o">=</span><span class="n">ax</span><span class="p">)</span>

<span class="n">ax</span><span class="o">.</span><span class="n">set_yticklabels</span><span class="p">(</span><span class="o">...</span><span class="p">)</span>
<span class="n">ax</span><span class="o">.</span><span class="n">set_xlabel</span><span class="p">(</span><span class="s1">&#39;Play Count&#39;</span><span class="p">)</span>
<span class="n">ax</span><span class="o">.</span><span class="n">set_title</span><span class="p">(</span><span class="s1">&#39;Top-10 User per play count&#39;</span><span class="p">)</span>

<span class="n">plt</span><span class="o">.</span><span class="n">show</span><span class="p">()</span>
</pre></div>

</div>
</div>
</div>
<div class="cell border-box-sizing code_cell rendered">
<div class="input">
<div class="prompt input_prompt">In&nbsp;[20]:</div>
<div class="inner_cell">
    <div class="input_area">
<div class=" highlight hl-ipython3"><pre><span></span><span class="p">(</span><span class="n">newUserArtistDF</span><span class="o">.</span><span class="n">groupby</span><span class="p">([</span><span class="s1">&#39;userID&#39;</span><span class="p">,</span><span class="s1">&#39;realArtistID&#39;</span><span class="p">])</span><span class="o">.</span><span class="n">count</span><span class="p">()</span>
                 <span class="o">.</span><span class="n">groupby</span><span class="p">(</span><span class="s1">&#39;userID&#39;</span><span class="p">)</span><span class="o">.</span><span class="n">count</span><span class="p">()</span>
                 <span class="o">.</span><span class="n">sort_values</span><span class="p">(</span><span class="s1">&#39;playCount&#39;</span><span class="p">,</span><span class="n">ascending</span><span class="o">=</span><span class="kc">False</span><span class="p">)</span>
                <span class="p">)[:</span><span class="n">topN</span><span class="p">]</span>
</pre></div>

</div>
</div>
</div>

<div class="output_wrapper">
<div class="output">


<div class="output_area">

<div class="prompt output_prompt">Out[20]:</div>



<div class="output_html rendered_html output_subarea output_execute_result">
<div>
<style scoped>
    .dataframe tbody tr th:only-of-type {
        vertical-align: middle;
    }

    .dataframe tbody tr th {
        vertical-align: top;
    }

    .dataframe thead th {
        text-align: right;
    }
</style>
<table border="1" class="dataframe">
  <thead>
    <tr style="text-align: right;">
      <th></th>
      <th>playCount</th>
    </tr>
    <tr>
      <th>userID</th>
      <th></th>
    </tr>
  </thead>
  <tbody>
    <tr>
      <th>2030067</th>
      <td>6735</td>
    </tr>
    <tr>
      <th>1024631</th>
      <td>6125</td>
    </tr>
    <tr>
      <th>1059334</th>
      <td>5839</td>
    </tr>
    <tr>
      <th>2016026</th>
      <td>5773</td>
    </tr>
    <tr>
      <th>2023686</th>
      <td>4822</td>
    </tr>
    <tr>
      <th>1045464</th>
      <td>4734</td>
    </tr>
    <tr>
      <th>1004584</th>
      <td>4690</td>
    </tr>
    <tr>
      <th>2010008</th>
      <td>4411</td>
    </tr>
    <tr>
      <th>2232770</th>
      <td>4090</td>
    </tr>
    <tr>
      <th>1006093</th>
      <td>4005</td>
    </tr>
  </tbody>
</table>
</div>
</div>

</div>

</div>
</div>

</div>
<div class="cell border-box-sizing code_cell rendered">
<div class="input">
<div class="prompt input_prompt">In&nbsp;[21]:</div>
<div class="inner_cell">
    <div class="input_area">
<div class=" highlight hl-ipython3"><pre><span></span><span class="c1"># calculate top-10 user in term of curiosity</span>
<span class="n">topN</span> <span class="o">=</span> <span class="mi">10</span>

<span class="n">userCuriosity</span> <span class="o">=</span> <span class="p">(</span><span class="n">newUserArtistDF</span><span class="o">.</span><span class="n">groupby</span><span class="p">([</span><span class="s1">&#39;userID&#39;</span><span class="p">,</span><span class="s1">&#39;realArtistID&#39;</span><span class="p">],</span><span class="n">as_index</span><span class="o">=</span><span class="kc">False</span><span class="p">)</span><span class="o">.</span><span class="n">count</span><span class="p">()</span>
                 <span class="o">.</span><span class="n">groupby</span><span class="p">(</span><span class="s1">&#39;userID&#39;</span><span class="p">,</span><span class="n">as_index</span><span class="o">=</span><span class="kc">False</span><span class="p">)</span><span class="o">.</span><span class="n">count</span><span class="p">()</span>
                 <span class="o">.</span><span class="n">sort_values</span><span class="p">(</span><span class="s1">&#39;playCount&#39;</span><span class="p">,</span><span class="n">ascending</span><span class="o">=</span><span class="kc">False</span><span class="p">)</span>
                <span class="p">)[:</span><span class="n">topN</span><span class="p">]</span>

<span class="n">fig</span><span class="p">,</span> <span class="n">ax</span> <span class="o">=</span> <span class="n">plt</span><span class="o">.</span><span class="n">subplots</span><span class="p">()</span>

<span class="n">userCuriosity</span><span class="p">[</span><span class="s1">&#39;playCount&#39;</span><span class="p">]</span><span class="o">.</span><span class="n">plot</span><span class="p">(</span><span class="n">kind</span><span class="o">=</span><span class="s1">&#39;barh&#39;</span><span class="p">,</span> <span class="n">ax</span><span class="o">=</span><span class="n">ax</span><span class="p">)</span>

<span class="n">ax</span><span class="o">.</span><span class="n">set_yticklabels</span><span class="p">(</span><span class="n">userCuriosity</span><span class="o">.</span><span class="n">userID</span><span class="p">)</span>
<span class="n">ax</span><span class="o">.</span><span class="n">set_xlabel</span><span class="p">(</span><span class="s1">&#39;Play Count&#39;</span><span class="p">)</span>
<span class="n">ax</span><span class="o">.</span><span class="n">set_title</span><span class="p">(</span><span class="s1">&#39;Top-10 User per play count&#39;</span><span class="p">)</span>

<span class="n">plt</span><span class="o">.</span><span class="n">show</span><span class="p">()</span>
</pre></div>

</div>
</div>
</div>

<div class="output_wrapper">
<div class="output">


<div class="output_area">

<div class="prompt"></div>




<div class="output_png output_subarea ">
<img src="data:image/png;base64,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
"
>
</div>

</div>

</div>
</div>

</div>
<div class="cell border-box-sizing text_cell rendered"><div class="prompt input_prompt">
</div>
<div class="inner_cell">
<div class="text_cell_render border-box-sizing rendered_html">
<p>Now we have some valuable information about the data. It's the time to study how to build a statistical models.</p>

</div>
</div>
</div>
<div class="cell border-box-sizing text_cell rendered"><div class="prompt input_prompt">
</div>
<div class="inner_cell">
<div class="text_cell_render border-box-sizing rendered_html">
<h1 id="2.-Build-a-statistical-models-to-make-recommendations">2. Build a statistical models to make recommendations<a class="anchor-link" href="#2.-Build-a-statistical-models-to-make-recommendations">&#182;</a></h1><h2 id="2.1-Introduction-to-recommender-systems">2.1 Introduction to recommender systems<a class="anchor-link" href="#2.1-Introduction-to-recommender-systems">&#182;</a></h2><p>In a recommendation-system application there are two classes of entities, which we shall refer to as <code>users</code> and <code>items</code>. Users have preferences for certain items, and these preferences must be inferred from the data. The data itself is represented as a <code>preference matrix</code> $A$, giving for each user-item pair, a value that represents what is known about the degree of preference of that user for that item. The table below is an example for a <code>preference matrix</code> of 5 users and <code>k</code> items. The <code>preference matrix</code> is also known as <code>utility matrix</code>.</p>
<table>
<thead><tr>
<th>.</th>
<th>IT1</th>
<th>IT2</th>
<th>IT3</th>
<th>...</th>
<th>ITk</th>
</tr>
</thead>
<tbody>
<tr>
<td>U1</td>
<td>1</td>
<td>na</td>
<td>5</td>
<td>...</td>
<td>3</td>
</tr>
<tr>
<td>U2</td>
<td>na</td>
<td>2</td>
<td>na</td>
<td>...</td>
<td>2</td>
</tr>
<tr>
<td>U3</td>
<td>5</td>
<td>na</td>
<td>3</td>
<td>...</td>
<td>na</td>
</tr>
<tr>
<td>U4</td>
<td>3</td>
<td>3</td>
<td>na</td>
<td>...</td>
<td>4</td>
</tr>
<tr>
<td>U5</td>
<td>na</td>
<td>1</td>
<td>na</td>
<td>...</td>
<td>...</td>
</tr>
</tbody>
</table>
<p>The value of row i, column j expresses how much does user <code>i</code> like item <code>j</code>. The values are often the rating scores of users for items. An unknown value implies that we have no explicit information about the user's preference for the item. The goal of a recommendation system is to predict "the blanks" in the <code>preference matrix</code>. For example, assume that the rating score is from 1 (dislike) to 5 (love), would user <code>U5</code> like <code>IT3</code> ? We have two approaches:</p>
<ul>
<li><p>Designing our recommendation system to take into account properties of items such as brand, category, price... or even the similarity of their names. We can denote the similarity of items <code>IT2</code> and <code>IT3</code>, and then conclude that because user <code>U5</code> did not like <code>IT2</code>, they were unlikely to enjoy SW2 either.</p>
</li>
<li><p>We might observe that the people who rated both <code>IT2</code> and <code>IT3</code> tended to give them similar ratings. Thus, we could conclude that user <code>U5</code> would also give <code>IT3</code> a low rating, similar to <code>U5</code>'s rating of <code>IT2</code></p>
</li>
</ul>
<p>It is not necessary to predict every blank entry in a <code>utility matrix</code>. Rather, it is only necessary to discover some entries in each row that are likely to be high. In most applications, the recommendation system does not oﬀer users a ranking of all items, but rather suggests a few that the user should value highly. It may not even be necessary to ﬁnd all items with the highest expected ratings, but only to ﬁnd a large subset of those with the highest ratings.</p>
<h2 id="2.2-Families-of-recommender-systems">2.2 Families of recommender systems<a class="anchor-link" href="#2.2-Families-of-recommender-systems">&#182;</a></h2><p>In general, recommender systems can be categorized into two groups:</p>
<ul>
<li><p><strong>Content-Based</strong> systems focus on properties of items. Similarity of items is determined by measuring the similarity in their properties.</p>
</li>
<li><p><strong>Collaborative-Filtering</strong> systems focus on the relationship between users and items. Similarity of items is determined by the similarity of the ratings of those items by the users who have rated both items.</p>
</li>
</ul>
<p>In the usecase of this notebook, artists take the role of <code>items</code>, and <code>users</code> keep the same role as <code>users</code>.
Since we have no information about <code>artists</code>, except their names, we cannot build a <code>content-based</code> recommender system.</p>
<p>Therefore, in the rest of this notebook, we only focus on <code>Collaborative-Filtering</code> algorithms.</p>
<h2 id="2.3-Collaborative-Filtering">2.3 Collaborative-Filtering<a class="anchor-link" href="#2.3-Collaborative-Filtering">&#182;</a></h2><p>In this section, we study a member of a broad class of algorithms called <code>latent-factor</code> models. They try to explain observed interactions between large numbers of users and products through a relatively small number of unobserved, underlying reasons. It is analogous to explaining why millions of people buy a particular few of thousands of possible albums by describing users and albums in terms of tastes for perhaps tens of genres, tastes which are <strong>not directly observable or given</strong> as data.</p>
<p>First, we formulate the learning problem as a matrix completion problem. Then, we will use a type of <code>matrix factorization</code> model to "fill in" the blanks.  We are given implicit ratings that users have given certain items (that is, the number of times they played a particular artist) and our goal is to predict their ratings for the rest of the items. Formally, if there are $n$ users and $m$ items, we are given an $n \times m$ matrix $R$ in which the generic entry $(u, i)$ represents the rating for item $i$ by user $u$. <strong>Matrix $R$ has many missing entries indicating unobserved ratings, and our task is to estimate these unobserved ratings</strong>.</p>
<p>A popular approach to the matrix completion problem is <strong>matrix factorization</strong>, where we want to "summarize" users and items with their <strong>latent factors</strong>.</p>
<h3 id="2.3.1-Basic-idea-and-an-example-of-Matrix-Factorization">2.3.1 Basic idea and an example of Matrix Factorization<a class="anchor-link" href="#2.3.1-Basic-idea-and-an-example-of-Matrix-Factorization">&#182;</a></h3><p>For example, given a preference matrix 5x5 as below, we want to approximate this matrix into the product of two smaller matrixes $X$ and $Y$ .</p>
<p>$$
M = 
\begin{bmatrix}
 5 &amp; 2 &amp; 4 &amp; 4 &amp; 3 \\
 3 &amp; 1 &amp; 2 &amp; 4 &amp; 1 \\
 2 &amp;  &amp; 3 &amp; 1 &amp; 4 \\
 2 &amp; 5 &amp; 4 &amp; 3 &amp; 5 \\
 4 &amp; 4 &amp; 5 &amp; 4 &amp;  \\
\end{bmatrix}
\approx M^\prime =
\begin{bmatrix}
 x_{11} &amp; x_{12} \\
 x_{21} &amp; x_{22} \\
 x_{31} &amp; x_{32} \\
 x_{41} &amp; x_{42} \\
 x_{51} &amp; x_{52} \\
\end{bmatrix}
\times
\begin{bmatrix}
 y_{11} &amp; y_{12} &amp; y_{13} &amp; y_{14} &amp; y_{15} \\
 y_{21} &amp; y_{22} &amp; y_{23} &amp; y_{24} &amp; y_{25} \\
\end{bmatrix}
$$</p>
<p>$M^\prime$ is an approximation that is as close to A as possible. To calculate how far from $M$ $M^\prime$ is, we often calculate the sum of squared distances of non-empty elements in $M$ and the corresponding elements in $M^\prime$.
In this way, for $M^\prime$, besides the approximated elements in $M$, we also have the non-observed elements. Therefore, to see how much does user <code>i</code> like item <code>j</code>, we simply pick up the value of $M^\prime_{i,j}$.</p>
<p>The challenge is how to calculate $X$ and $Y$. The bad news is that this can't be solved directly for both the best $X$ and best $Y$ at the same time. Fortunately, if $Y$ is known, we can calculate the best of $X$, and vice versa. It means from the initial values of $X$ and $Y$ in the beginning, we calculate the best $X$ according to $Y$, and then calculate the best $Y$ according to the new $X$. This process is repeated until the distance from $XY$ to $M$ is small. It's simple, right ?</p>
<p>Let's take an example. To compute the approximation for the above 5x5 matrix $M$, first, we initialize the value of $X$ and $Y$ as below.</p>
<p>$$
M^\prime = X \times Y =
\begin{bmatrix}
 1 &amp; 1 \\
 1 &amp; 1 \\
 1 &amp; 1 \\
 1 &amp; 1 \\
 1 &amp; 1 \\
\end{bmatrix}
\times
\begin{bmatrix}
 1 &amp; 1 &amp; 1 &amp; 1 &amp; 1 \
 1 &amp; 1 &amp; 1 &amp; 1 &amp; 1 \</p>
<h1 id="\end{bmatrix}">\end{bmatrix}<a class="anchor-link" href="#\end{bmatrix}">&#182;</a></h1><p>\begin{bmatrix}
 2 &amp; 2 &amp; 2 &amp; 2 &amp; 2 \\
 2 &amp; 2 &amp; 2 &amp; 2 &amp; 2 \\
 2 &amp; 2 &amp; 2 &amp; 2 &amp; 2 \\
 2 &amp; 2 &amp; 2 &amp; 2 &amp; 2 \\
 2 &amp; 2 &amp; 2 &amp; 2 &amp; 2 \\
\end{bmatrix}
$$</p>
<p>With the initial iteration, we calculate the the Root-Mean-Square Error from $XY$ to $M$.</p>
<p>Consider the ﬁrst rows of $M$ and $XY$ . We subtract the first row of $XY$ from the entries in the ﬁrst row of $M$, to get $3,0,2,2,1$. We square and sum these to get $18$.</p>
<p>In the second row, we do the same to get $1,−1,0,2,−1$, square and sum to get $7$.</p>
<p>In the third row, the second column is blank, so that entry is ignored when computing the RMSE. The diﬀerences are $0,1,−1,2$ and the sum of squares is $6$.</p>
<p>For the fourth row, the diﬀerences are $0,3,2,1,3$ and the sum of squares is $23$.</p>
<p>The ﬁfth row has a blank entry in the last column, so the diﬀerences are $2,2,3,2$ and the sum of squares is $21$.</p>
<p>When we sum the sums from each of the ﬁve rows, we get $18+7+6+23+21 = 75$. So, $RMSE=\sqrt{75/23}=1.806$ where $23$ is the number of non-empty values in $M$.</p>
<p>Next, with the given value of $Y$, we calculate $X$ by finding the best value for $X_{11}$.</p>
<p>$$
M^\prime = X \times Y =
\begin{bmatrix}
 x &amp; 1 \\
 1 &amp; 1 \\
 1 &amp; 1 \\
 1 &amp; 1 \\
 1 &amp; 1 \\
\end{bmatrix}
\times
\begin{bmatrix}
 1 &amp; 1 &amp; 1 &amp; 1 &amp; 1 \
 1 &amp; 1 &amp; 1 &amp; 1 &amp; 1 \</p>
<h1 id="\end{bmatrix}">\end{bmatrix}<a class="anchor-link" href="#\end{bmatrix}">&#182;</a></h1><p>\begin{bmatrix}
 x+1 &amp; x+1 &amp; x+1 &amp; x+1 &amp; x+1 \\
 2 &amp; 2 &amp; 2 &amp; 2 &amp; 2 \\
 2 &amp; 2 &amp; 2 &amp; 2 &amp; 2 \\
 2 &amp; 2 &amp; 2 &amp; 2 &amp; 2 \\
 2 &amp; 2 &amp; 2 &amp; 2 &amp; 2 \\
\end{bmatrix}
$$</p>
<p>Now, to minimize the $RMSE$  we minimize the difference of the first rows $(5−(x+1))^2 + (2−(x+1))^2 + (4−(x+1))^2 + (4−(x+1))^2 + (3−(x+1))^2$. By  taking the derivative and set that equal to 0, we pick $x=2.6$</p>
<p>Given the new value of $X$, we can calculate the best value for $Y$.</p>
<p>$$
M^\prime = X \times Y =
\begin{bmatrix}
 2.6 &amp; 1 \\
 1 &amp; 1 \\
 1 &amp; 1 \\
 1 &amp; 1 \\
 1 &amp; 1 \\
\end{bmatrix}
\times
\begin{bmatrix}
 y &amp; 1 &amp; 1 &amp; 1 &amp; 1 \
 1 &amp; 1 &amp; 1 &amp; 1 &amp; 1 \</p>
<h1 id="\end{bmatrix}">\end{bmatrix}<a class="anchor-link" href="#\end{bmatrix}">&#182;</a></h1><p>\begin{bmatrix}
 3.6 &amp; 3.6 &amp; 3.6 &amp; 3.6 &amp; 3.6 \\
 2 &amp; 2 &amp; 2 &amp; 2 &amp; 2 \\
 2 &amp; 2 &amp; 2 &amp; 2 &amp; 2 \\
 2 &amp; 2 &amp; 2 &amp; 2 &amp; 2 \\
 2 &amp; 2 &amp; 2 &amp; 2 &amp; 2 \\
\end{bmatrix}
$$</p>
<p>By doing the same process as before, we can pick value for $y=1.617$. After that, we can check if the $RMSE$ is not converged, we continue to update $X$ by $Y$ and vice versa. In this example, for simple, we only update one element of each matrix in each iteration. In practice, we can update a full row or full matrix at once.</p>

</div>
</div>
</div>
<div class="cell border-box-sizing text_cell rendered"><div class="prompt input_prompt">
</div>
<div class="inner_cell">
<div class="text_cell_render border-box-sizing rendered_html">
<h3 id="2.3.2-Matrix-Factorization:-Objective-and-ALS-Algorithm">2.3.2 Matrix Factorization: Objective and ALS Algorithm<a class="anchor-link" href="#2.3.2-Matrix-Factorization:-Objective-and-ALS-Algorithm">&#182;</a></h3><p>More formally, in general, we select $k$ latent features, and describe each user $u$ with a $k-$dimensional vector $x_u$, and each item $i$ with a $k-$dimensional vector $y_i$.</p>
<p>Then, to predict user $u$'s rating for item $i$, we do as follows: $ r_{ui} \approx x_{u}^{T}y_i$.</p>
<p>This can be put, more elegantly, in a matrix form. Let $x_1, \cdots x_n \in \mathbb{R}^k$ be the factors for the users, and $y_1, \cdots y_m \in \mathbb{R}^k$ the factors for the items. The $k \times n$ user matrix $X$ and the $k \times m$ item matrix $Y$ are then defined by:</p>
<p>$$
X = 
\begin{bmatrix}
 |   &amp;         &amp; |  \\
x_1  &amp;  \cdots &amp; x_n\\
 |   &amp;         &amp; |  \\
\end{bmatrix}
$$</p>
<p>$$
Y = 
\begin{bmatrix}
 |   &amp;         &amp; |  \\
y_1  &amp;  \cdots &amp; y_i\\
 |   &amp;         &amp; |  \\
\end{bmatrix}
$$</p>
<p>Our goal is to estimate the complete ratings matrix $R \approx X^{T} Y$. We can formulate this problem as an optimization problem in which we aim to minimize an objective function and find optimal $X$ and $Y$ . In particular, we aim to minimize the least squares error of the observed ratings (and regularize):</p>
<p>$$
\min_{X,Y} \sum_{r_{ui} \text{observed}}(r_{ui} - x_{u}^{T}y_i)^2 + \lambda \left( \sum_{u} \|x_u\|^2 + \sum_{i} \|y_i\|^2 \right) 
$$</p>
<p>Notice that this objective is non-convex (because of the $x_{u}^{T} y_i$ term); in fact it’s NP-hard to optimize. Gradient descent can be used as an approximate approach here, however it turns out to be slow and costs lots of iterations. Note however, that if we fix the set of variables $X$ and treat them as constants, then the objective is a convex function of $Y$ and vice versa. Our approach will therefore be to fix $Y$ and optimize $X$, then fix $X$ and optimize $Y$, and repeat until convergence. This approach is known as <strong>ALS (Alternating Least Squares)</strong>. For our objective function, the alternating least squares algorithm can be expressed with this simple pseudo-code:</p>

</div>
</div>
</div>
<div class="cell border-box-sizing text_cell rendered"><div class="prompt input_prompt">
</div>
<div class="inner_cell">
<div class="text_cell_render border-box-sizing rendered_html">
<p><strong>Initialize</strong> $X$, $Y$</p>
<p><strong>while(convergence is not true) do</strong></p>
<p><strong>for</strong> $u = 1 \cdots n$ <strong>do</strong></p>
<p>$x_u = \left( \sum_{r_ui \in r_{u*}} y_i y_{i}^{T} + \lambda I_k \right)^{-1} \sum_{r_ui \in r_{u*}} r_{ui} y_i $</p>
<p><strong>end for</strong></p>
<p><strong>for</strong> $u = 1 \cdots n$ <strong>do</strong></p>
<p>$y_i = \left( \sum_{r_ui \in r_{*i}} x_u x_{u}^{T} + \lambda I_k \right)^{-1} \sum_{r_ui \in r_{*i}} r_{ui} x_u $</p>
<p><strong>end for</strong></p>
<p><strong>end while</strong></p>

</div>
</div>
</div>
<div class="cell border-box-sizing text_cell rendered"><div class="prompt input_prompt">
</div>
<div class="inner_cell">
<div class="text_cell_render border-box-sizing rendered_html">
<p>For a single machine, we can analyze the computational cost of this algorithm. Updating each $x_u$ will cost $O(n_u k^2 + k^3)$, where $n_u$ is the number of items rated by user $u$, and similarly updating each $y_i$ will cost $O(n_i k^2 + k^3)$, where $n_i$ is the number of users that have rated item $i$.</p>
<p>Once we’ve computed the matrices $X$ and $Y$, there are several ways compute a prediction. The first is to do what was discussed before, which is to simply predict $ r_{ui} \approx x_{u}^{T}y_i$ for each user $u$ and item $i$. 
This approach will cost $O(nmk)$ if we’d like to estimate every user-item pair.</p>
<p>However, this approach is prohibitively expensive for most real-world datasets. A second (and more holistic) approach is to use the $x_u$ and $y_i$ as features in another learning algorithm, incorporating these features with others that are relevant to the prediction task.</p>

</div>
</div>
</div>
<div class="cell border-box-sizing text_cell rendered"><div class="prompt input_prompt">
</div>
<div class="inner_cell">
<div class="text_cell_render border-box-sizing rendered_html">
<h3 id="Further-readings">Further readings<a class="anchor-link" href="#Further-readings">&#182;</a></h3><p>Other methods for matrix factorization include:</p>
<ul>
<li>Low Rank Approximation and Regression in Input Sparsity Time, by Kenneth L. Clarkson, David P. Woodruff. <a href="http://arxiv.org/abs/1207.6365">http://arxiv.org/abs/1207.6365</a></li>
<li>Generalized Low Rank Models (GLRM), by Madeleine Udell, Corinne Horn, Reza Zadeh, Stephen Boyd. <a href="http://arxiv.org/abs/1410.0342">http://arxiv.org/abs/1410.0342</a></li>
<li>Matrix Completion and Low-Rank SVD via Fast Alternating Least Squares, by Trevor Hastie, Rahul Mazumder, Jason D. Lee, Reza Zadeh . Statistics Department and ICME, Stanford University, 2014. <a href="http://stanford.edu/~rezab/papers/fastals.pdf">http://stanford.edu/~rezab/papers/fastals.pdf</a></li>
</ul>

</div>
</div>
</div>
<div class="cell border-box-sizing text_cell rendered"><div class="prompt input_prompt">
</div>
<div class="inner_cell">
<div class="text_cell_render border-box-sizing rendered_html">
<h1 id="3.-Usecase-:-Music-recommender-system">3. Usecase : Music recommender system<a class="anchor-link" href="#3.-Usecase-:-Music-recommender-system">&#182;</a></h1><p>In this usecase, we use the data of users and artists in the previous sections to build a statistical model to recommend artists for users.</p>
<h2 id="3.1-Requirements">3.1 Requirements<a class="anchor-link" href="#3.1-Requirements">&#182;</a></h2><p>According to the properties of data, we need to choose a recommender algorithm that is suitable for this implicit feedback data. It means that the algorithm should learn without access to user or artist attributes such as age, genre,.... Therefore, an algorithm of type <code>collaborative filtering</code> is the best choice.</p>
<p>Second, in the data, there are some users that have listened to only 1 artist. We need an algorithm that might provide decent recommendations to even these users. After all, at some point, every user starts out with just one play at some point!</p>
<p>Third, we need an algorithm that scales, both in its ability to build large models, and to create recommendations quickly.</p>
<p>From these requirement, we can choose using ALS algorithm in <a href="https://implicit.readthedocs.io/en/latest/">Implicit</a>.</p>

</div>
</div>
</div>
<div class="cell border-box-sizing text_cell rendered"><div class="prompt input_prompt">
</div>
<div class="inner_cell">
<div class="text_cell_render border-box-sizing rendered_html">
<h3 id="Question-6">Question 6<a class="anchor-link" href="#Question-6">&#182;</a></h3><p>The library choosen for implementing ALS has a strict requirement in terms of data format. In particular <code>userID</code> and <code>artistID</code> should be both incremetally assigned starting from 0 (e.g. the first valid <code>userID</code>(*not <code>artistID</code>) is 90 and it has to correspond to 0). In these next questions we will try to fix this issue.</p>
<h4 id="Question-6.1">Question 6.1<a class="anchor-link" href="#Question-6.1">&#182;</a></h4><div class="alert alert-info">
Create a table with incremental ID for artists and print the first 15 entries.
</div>
</div>
</div>
</div>
<div class="cell border-box-sizing text_cell rendered"><div class="prompt input_prompt">
</div>
<div class="inner_cell">
<div class="text_cell_render border-box-sizing rendered_html">
<div class="highlight"><pre><span></span><span class="c1">###################################################################</span>
<span class="c1">####                      TO COMPLETE                         #####</span>
<span class="c1">###################################################################</span>
<span class="n">artistMappingDF</span> <span class="o">=</span> <span class="n">pd</span><span class="o">.</span><span class="n">DataFrame</span><span class="p">()</span>
<span class="n">artistMappingDF</span><span class="p">[</span><span class="s1">&#39;originalArtistID&#39;</span><span class="p">]</span>  <span class="o">=</span> <span class="o">...</span>
<span class="n">artistMappingDF</span><span class="p">[</span><span class="s1">&#39;incrementalArtistID&#39;</span><span class="p">]</span> <span class="o">=</span> <span class="o">...</span>

<span class="n">artistMappingDF</span><span class="p">[:</span><span class="mi">15</span><span class="p">]</span>
</pre></div>

</div>
</div>
</div>
<div class="cell border-box-sizing code_cell rendered">
<div class="input">
<div class="prompt input_prompt">In&nbsp;[22]:</div>
<div class="inner_cell">
    <div class="input_area">
<div class=" highlight hl-ipython3"><pre><span></span><span class="n">artistMappingDF</span> <span class="o">=</span> <span class="n">pd</span><span class="o">.</span><span class="n">DataFrame</span><span class="p">()</span>
<span class="n">artistMappingDF</span><span class="p">[</span><span class="s1">&#39;originalArtistID&#39;</span><span class="p">]</span>  <span class="o">=</span> <span class="n">newUserArtistDF</span><span class="o">.</span><span class="n">realArtistID</span><span class="o">.</span><span class="n">unique</span><span class="p">()</span>
<span class="n">artistMappingDF</span><span class="p">[</span><span class="s1">&#39;incrementalArtistID&#39;</span><span class="p">]</span> <span class="o">=</span> <span class="p">[</span><span class="n">i</span> <span class="k">for</span> <span class="n">i</span> <span class="ow">in</span> <span class="nb">range</span><span class="p">(</span><span class="nb">len</span><span class="p">(</span><span class="n">artistMappingDF</span><span class="p">))]</span>

<span class="n">artistMappingDF</span><span class="p">[:</span><span class="mi">15</span><span class="p">]</span>
</pre></div>

</div>
</div>
</div>

<div class="output_wrapper">
<div class="output">


<div class="output_area">

<div class="prompt output_prompt">Out[22]:</div>



<div class="output_html rendered_html output_subarea output_execute_result">
<div>
<style scoped>
    .dataframe tbody tr th:only-of-type {
        vertical-align: middle;
    }

    .dataframe tbody tr th {
        vertical-align: top;
    }

    .dataframe thead th {
        text-align: right;
    }
</style>
<table border="1" class="dataframe">
  <thead>
    <tr style="text-align: right;">
      <th></th>
      <th>originalArtistID</th>
      <th>incrementalArtistID</th>
    </tr>
  </thead>
  <tbody>
    <tr>
      <th>0</th>
      <td>24</td>
      <td>0</td>
    </tr>
    <tr>
      <th>1</th>
      <td>46</td>
      <td>1</td>
    </tr>
    <tr>
      <th>2</th>
      <td>121</td>
      <td>2</td>
    </tr>
    <tr>
      <th>3</th>
      <td>151</td>
      <td>3</td>
    </tr>
    <tr>
      <th>4</th>
      <td>227</td>
      <td>4</td>
    </tr>
    <tr>
      <th>5</th>
      <td>342</td>
      <td>5</td>
    </tr>
    <tr>
      <th>6</th>
      <td>566</td>
      <td>6</td>
    </tr>
    <tr>
      <th>7</th>
      <td>619</td>
      <td>7</td>
    </tr>
    <tr>
      <th>8</th>
      <td>737</td>
      <td>8</td>
    </tr>
    <tr>
      <th>9</th>
      <td>787</td>
      <td>9</td>
    </tr>
    <tr>
      <th>10</th>
      <td>798</td>
      <td>10</td>
    </tr>
    <tr>
      <th>11</th>
      <td>938</td>
      <td>11</td>
    </tr>
    <tr>
      <th>12</th>
      <td>1208</td>
      <td>12</td>
    </tr>
    <tr>
      <th>13</th>
      <td>1404</td>
      <td>13</td>
    </tr>
    <tr>
      <th>14</th>
      <td>1435</td>
      <td>14</td>
    </tr>
  </tbody>
</table>
</div>
</div>

</div>

</div>
</div>

</div>
<div class="cell border-box-sizing text_cell rendered"><div class="prompt input_prompt">
</div>
<div class="inner_cell">
<div class="text_cell_render border-box-sizing rendered_html">
<h4 id="Question-6.2">Question 6.2<a class="anchor-link" href="#Question-6.2">&#182;</a></h4><div class="alert alert-info">
Create a table with incremental ID for users and print the first 15 entries.
</div>
</div>
</div>
</div>
<div class="cell border-box-sizing text_cell rendered"><div class="prompt input_prompt">
</div>
<div class="inner_cell">
<div class="text_cell_render border-box-sizing rendered_html">
<div class="highlight"><pre><span></span><span class="c1">###################################################################</span>
<span class="c1">####                      TO COMPLETE                         #####</span>
<span class="c1">###################################################################</span>

<span class="n">userMappingDF</span> <span class="o">=</span> <span class="n">pd</span><span class="o">.</span><span class="n">DataFrame</span><span class="p">()</span>
<span class="n">userMappingDF</span><span class="p">[</span><span class="s1">&#39;originalUserID&#39;</span><span class="p">]</span> <span class="o">=</span> <span class="o">...</span>
<span class="n">userMappingDF</span><span class="p">[</span><span class="s1">&#39;incrementalUserID&#39;</span><span class="p">]</span> <span class="o">=</span> <span class="o">...</span>

<span class="n">userMappingDF</span><span class="p">[:</span><span class="mi">15</span><span class="p">]</span>
</pre></div>

</div>
</div>
</div>
<div class="cell border-box-sizing code_cell rendered">
<div class="input">
<div class="prompt input_prompt">In&nbsp;[23]:</div>
<div class="inner_cell">
    <div class="input_area">
<div class=" highlight hl-ipython3"><pre><span></span><span class="n">userMappingDF</span> <span class="o">=</span> <span class="n">pd</span><span class="o">.</span><span class="n">DataFrame</span><span class="p">()</span>
<span class="n">userMappingDF</span><span class="p">[</span><span class="s1">&#39;originalUserID&#39;</span><span class="p">]</span> <span class="o">=</span> <span class="n">newUserArtistDF</span><span class="o">.</span><span class="n">userID</span><span class="o">.</span><span class="n">unique</span><span class="p">()</span>
<span class="n">userMappingDF</span><span class="p">[</span><span class="s1">&#39;incrementalUserID&#39;</span><span class="p">]</span> <span class="o">=</span> <span class="p">[</span><span class="n">i</span> <span class="k">for</span> <span class="n">i</span> <span class="ow">in</span> <span class="nb">range</span><span class="p">(</span><span class="nb">len</span><span class="p">(</span><span class="n">userMappingDF</span><span class="p">))]</span>

<span class="n">userMappingDF</span><span class="p">[:</span><span class="mi">15</span><span class="p">]</span>
</pre></div>

</div>
</div>
</div>

<div class="output_wrapper">
<div class="output">


<div class="output_area">

<div class="prompt output_prompt">Out[23]:</div>



<div class="output_html rendered_html output_subarea output_execute_result">
<div>
<style scoped>
    .dataframe tbody tr th:only-of-type {
        vertical-align: middle;
    }

    .dataframe tbody tr th {
        vertical-align: top;
    }

    .dataframe thead th {
        text-align: right;
    }
</style>
<table border="1" class="dataframe">
  <thead>
    <tr style="text-align: right;">
      <th></th>
      <th>originalUserID</th>
      <th>incrementalUserID</th>
    </tr>
  </thead>
  <tbody>
    <tr>
      <th>0</th>
      <td>90</td>
      <td>0</td>
    </tr>
    <tr>
      <th>1</th>
      <td>98</td>
      <td>1</td>
    </tr>
    <tr>
      <th>2</th>
      <td>116</td>
      <td>2</td>
    </tr>
    <tr>
      <th>3</th>
      <td>120</td>
      <td>3</td>
    </tr>
    <tr>
      <th>4</th>
      <td>128</td>
      <td>4</td>
    </tr>
    <tr>
      <th>5</th>
      <td>139</td>
      <td>5</td>
    </tr>
    <tr>
      <th>6</th>
      <td>277</td>
      <td>6</td>
    </tr>
    <tr>
      <th>7</th>
      <td>321</td>
      <td>7</td>
    </tr>
    <tr>
      <th>8</th>
      <td>340</td>
      <td>8</td>
    </tr>
    <tr>
      <th>9</th>
      <td>350</td>
      <td>9</td>
    </tr>
    <tr>
      <th>10</th>
      <td>384</td>
      <td>10</td>
    </tr>
    <tr>
      <th>11</th>
      <td>519</td>
      <td>11</td>
    </tr>
    <tr>
      <th>12</th>
      <td>521</td>
      <td>12</td>
    </tr>
    <tr>
      <th>13</th>
      <td>536</td>
      <td>13</td>
    </tr>
    <tr>
      <th>14</th>
      <td>581</td>
      <td>14</td>
    </tr>
  </tbody>
</table>
</div>
</div>

</div>

</div>
</div>

</div>
<div class="cell border-box-sizing text_cell rendered"><div class="prompt input_prompt">
</div>
<div class="inner_cell">
<div class="text_cell_render border-box-sizing rendered_html">
<h4 id="Question-6.3">Question 6.3<a class="anchor-link" href="#Question-6.3">&#182;</a></h4><div class="alert alert-info">
Starting from the clean dataset that we already have, find a way to replace the original IDs with the new ones. Print the first 15 entries in this new table.
</div>
</div>
</div>
</div>
<div class="cell border-box-sizing text_cell rendered"><div class="prompt input_prompt">
</div>
<div class="inner_cell">
<div class="text_cell_render border-box-sizing rendered_html">
<div class="highlight"><pre><span></span><span class="c1">###################################################################</span>
<span class="c1">####                      TO COMPLETE                         #####</span>
<span class="c1">###################################################################</span>

<span class="n">rescaledUserArtistDF</span> <span class="o">=</span> <span class="n">pd</span><span class="o">.</span><span class="n">merge</span><span class="p">(</span><span class="n">newUserArtistDF</span><span class="p">,</span> <span class="n">artistMappingDF</span><span class="p">,</span> 
                                <span class="n">left_on</span><span class="o">=...</span><span class="p">,</span> 
                                <span class="n">right_on</span><span class="o">=...</span><span class="p">)</span><span class="o">.</span><span class="n">drop</span><span class="p">(</span><span class="o">...</span><span class="p">,</span> <span class="n">axis</span><span class="o">=</span><span class="mi">1</span><span class="p">)</span>

<span class="n">rescaledUserArtistDF</span> <span class="o">=</span> <span class="n">pd</span><span class="o">.</span><span class="n">merge</span><span class="p">(</span><span class="n">rescaledUserArtistDF</span><span class="p">,</span> <span class="n">userMappingDF</span><span class="p">,</span> 
                                <span class="n">left_on</span><span class="o">=...</span><span class="p">,</span>
                                <span class="n">right_on</span><span class="o">=...</span><span class="p">)</span><span class="o">.</span><span class="n">drop</span><span class="p">(</span><span class="o">...</span><span class="p">,</span> <span class="n">axis</span><span class="o">=</span><span class="mi">1</span><span class="p">)</span>
</pre></div>

</div>
</div>
</div>
<div class="cell border-box-sizing code_cell rendered">
<div class="input">
<div class="prompt input_prompt">In&nbsp;[24]:</div>
<div class="inner_cell">
    <div class="input_area">
<div class=" highlight hl-ipython3"><pre><span></span><span class="n">rescaledUserArtistDF</span> <span class="o">=</span> <span class="n">pd</span><span class="o">.</span><span class="n">merge</span><span class="p">(</span><span class="n">newUserArtistDF</span><span class="p">,</span> <span class="n">artistMappingDF</span><span class="p">,</span> 
                                <span class="n">left_on</span><span class="o">=</span><span class="s1">&#39;realArtistID&#39;</span><span class="p">,</span> 
                                <span class="n">right_on</span><span class="o">=</span><span class="s1">&#39;originalArtistID&#39;</span><span class="p">)</span><span class="o">.</span><span class="n">drop</span><span class="p">([</span><span class="s1">&#39;originalArtistID&#39;</span><span class="p">,</span><span class="s1">&#39;realArtistID&#39;</span><span class="p">],</span> <span class="n">axis</span><span class="o">=</span><span class="mi">1</span><span class="p">)</span>

<span class="n">rescaledUserArtistDF</span> <span class="o">=</span> <span class="n">pd</span><span class="o">.</span><span class="n">merge</span><span class="p">(</span><span class="n">rescaledUserArtistDF</span><span class="p">,</span> <span class="n">userMappingDF</span><span class="p">,</span> 
                                <span class="n">left_on</span><span class="o">=</span><span class="s1">&#39;userID&#39;</span><span class="p">,</span>
                                <span class="n">right_on</span><span class="o">=</span><span class="s1">&#39;originalUserID&#39;</span><span class="p">)</span><span class="o">.</span><span class="n">drop</span><span class="p">([</span><span class="s1">&#39;originalUserID&#39;</span><span class="p">,</span><span class="s1">&#39;userID&#39;</span><span class="p">],</span> <span class="n">axis</span><span class="o">=</span><span class="mi">1</span><span class="p">)</span>
</pre></div>

</div>
</div>
</div>

</div>
<div class="cell border-box-sizing text_cell rendered"><div class="prompt input_prompt">
</div>
<div class="inner_cell">
<div class="text_cell_render border-box-sizing rendered_html">
<p>Now, we don't need no more <code>userArtistDF</code> and <code>newUserArtistDF</code>. We can delete them and free some memory</p>

</div>
</div>
</div>
<div class="cell border-box-sizing code_cell rendered">
<div class="input">
<div class="prompt input_prompt">In&nbsp;[25]:</div>
<div class="inner_cell">
    <div class="input_area">
<div class=" highlight hl-ipython3"><pre><span></span><span class="k">del</span> <span class="n">userArtistDF</span>
<span class="k">del</span> <span class="n">newUserArtistDF</span>
</pre></div>

</div>
</div>
</div>

</div>
<div class="cell border-box-sizing text_cell rendered"><div class="prompt input_prompt">
</div>
<div class="inner_cell">
<div class="text_cell_render border-box-sizing rendered_html">
<h2 id="3.4-Training-our-statistical-model">3.4 Training our statistical model<a class="anchor-link" href="#3.4-Training-our-statistical-model">&#182;</a></h2><p>To train a model using ALS, we must use a sparse matrix as an input. Implicit uses the class sparse matrix to support the construction of a distributed preference matrix.</p>

</div>
</div>
</div>
<div class="cell border-box-sizing text_cell rendered"><div class="prompt input_prompt">
</div>
<div class="inner_cell">
<div class="text_cell_render border-box-sizing rendered_html">
<h3 id="Question-7">Question 7<a class="anchor-link" href="#Question-7">&#182;</a></h3><p>The implicit library expects data as a item-user sparse matrix. Now we create two matricies, one for fitting the model (item-user) and one for recommendations (the transpose of item-user -- user-item).</p>

</div>
</div>
</div>
<div class="cell border-box-sizing code_cell rendered">
<div class="input">
<div class="prompt input_prompt">In&nbsp;[26]:</div>
<div class="inner_cell">
    <div class="input_area">
<div class=" highlight hl-ipython3"><pre><span></span><span class="kn">import</span> <span class="nn">scipy.sparse</span> <span class="k">as</span> <span class="nn">sparse</span>
<span class="kn">import</span> <span class="nn">implicit</span>

<span class="k">def</span> <span class="nf">to_sparse</span><span class="p">(</span><span class="n">userArtistDF</span><span class="p">):</span>
    <span class="n">playCount</span> <span class="o">=</span> <span class="n">userArtistDF</span><span class="p">[</span><span class="s1">&#39;playCount&#39;</span><span class="p">]</span><span class="o">.</span><span class="n">astype</span><span class="p">(</span><span class="nb">float</span><span class="p">)</span>
    <span class="n">artistID</span> <span class="o">=</span> <span class="n">userArtistDF</span><span class="p">[</span><span class="s1">&#39;incrementalArtistID&#39;</span><span class="p">]</span>
    <span class="n">userID</span> <span class="o">=</span> <span class="n">userArtistDF</span><span class="p">[</span><span class="s1">&#39;incrementalUserID&#39;</span><span class="p">]</span>
    <span class="n">sparse_item_user</span> <span class="o">=</span> <span class="n">sparse</span><span class="o">.</span><span class="n">csr_matrix</span><span class="p">((</span><span class="n">playCount</span><span class="p">,</span> <span class="p">(</span><span class="n">artistID</span><span class="p">,</span> <span class="n">userID</span><span class="p">)))</span>

    <span class="k">return</span> <span class="n">sparse_item_user</span>

<span class="n">sparse_item_user</span> <span class="o">=</span> <span class="n">to_sparse</span><span class="p">(</span><span class="n">rescaledUserArtistDF</span><span class="p">)</span>
<span class="n">sparse_user_item</span> <span class="o">=</span> <span class="n">sparse_item_user</span><span class="o">.</span><span class="n">T</span>
</pre></div>

</div>
</div>
</div>

</div>
<div class="cell border-box-sizing text_cell rendered"><div class="prompt input_prompt">
</div>
<div class="inner_cell">
<div class="text_cell_render border-box-sizing rendered_html">
<h4 id="Question-7.1">Question 7.1<a class="anchor-link" href="#Question-7.1">&#182;</a></h4><div class="alert alert-info">
Train a model trained by using `implicit.als.AlternatingLeastSquares()`.
</div><p>Read <strong>carefully</strong> the documentation of this class.</p>

</div>
</div>
</div>
<div class="cell border-box-sizing text_cell rendered"><div class="prompt input_prompt">
</div>
<div class="inner_cell">
<div class="text_cell_render border-box-sizing rendered_html">
<p>We can also use some additional parameters to adjust the quality of the model. For now, let's set</p>
<ul>
<li><code>factors = 10</code></li>
<li><code>iterations = 5</code></li>
<li><code>regularization = 0.01</code></li>
<li><code>alpha = 1.0</code></li>
</ul>
<p>to build the model.</p>

</div>
</div>
</div>
<div class="cell border-box-sizing text_cell rendered"><div class="prompt input_prompt">
</div>
<div class="inner_cell">
<div class="text_cell_render border-box-sizing rendered_html">
<div class="highlight"><pre><span></span><span class="c1">###################################################################</span>
<span class="c1">####                      TO COMPLETE                         #####</span>
<span class="c1">###################################################################</span>

<span class="n">factors</span> <span class="o">=</span> <span class="mi">10</span>
<span class="n">iterations</span> <span class="o">=</span> <span class="mi">5</span>
<span class="n">regularization</span> <span class="o">=</span> <span class="mf">0.01</span>
<span class="n">alpha</span> <span class="o">=</span> <span class="mf">1.0</span>

<span class="c1"># Calculate the confidence matrix by multiplying the item/user matrix by our alpha value.</span>
<span class="n">data_conf</span> <span class="o">=</span> <span class="p">(</span><span class="o">...</span> <span class="o">*</span> <span class="n">alpha</span><span class="p">)</span><span class="o">.</span><span class="n">astype</span><span class="p">(</span><span class="s1">&#39;double&#39;</span><span class="p">)</span>

<span class="c1"># Create the model</span>
<span class="n">model</span> <span class="o">=</span> <span class="n">implicit</span><span class="o">.</span><span class="n">als</span><span class="o">.</span><span class="n">AlternatingLeastSquares</span><span class="p">(</span><span class="o">...</span><span class="p">)</span>

<span class="c1">#Fit the model</span>
<span class="n">model</span><span class="o">.</span><span class="n">fit</span><span class="p">(</span><span class="n">data_conf</span><span class="p">)</span>
</pre></div>

</div>
</div>
</div>
<div class="cell border-box-sizing code_cell rendered">
<div class="input">
<div class="prompt input_prompt">In&nbsp;[27]:</div>
<div class="inner_cell">
    <div class="input_area">
<div class=" highlight hl-ipython3"><pre><span></span><span class="n">factors</span> <span class="o">=</span> <span class="mi">10</span>
<span class="n">iterations</span> <span class="o">=</span> <span class="mi">5</span>
<span class="n">regularization</span> <span class="o">=</span> <span class="mf">0.01</span>
<span class="n">alpha</span> <span class="o">=</span> <span class="mf">1.0</span>

<span class="c1"># Calculate the confidence matrix by multiplying the item/user matrix by our alpha value.</span>
<span class="n">data_conf</span> <span class="o">=</span> <span class="p">(</span><span class="n">sparse_item_user</span> <span class="o">*</span> <span class="n">alpha</span><span class="p">)</span><span class="o">.</span><span class="n">astype</span><span class="p">(</span><span class="s1">&#39;double&#39;</span><span class="p">)</span>

<span class="c1"># Create the model</span>
<span class="n">model</span> <span class="o">=</span> <span class="n">implicit</span><span class="o">.</span><span class="n">als</span><span class="o">.</span><span class="n">AlternatingLeastSquares</span><span class="p">(</span><span class="n">factors</span><span class="o">=</span><span class="n">factors</span><span class="p">,</span> <span class="n">regularization</span><span class="o">=</span><span class="n">regularization</span><span class="p">,</span> <span class="n">iterations</span><span class="o">=</span><span class="n">iterations</span><span class="p">)</span>

<span class="c1">#Fit the model</span>
<span class="n">model</span><span class="o">.</span><span class="n">fit</span><span class="p">(</span><span class="n">data_conf</span><span class="p">)</span>
</pre></div>

</div>
</div>
</div>

<div class="output_wrapper">
<div class="output">


<div class="output_area">

<div class="prompt"></div>


<div class="output_subarea output_stream output_stderr output_text">
<pre>100%|██████████| 5.0/5 [01:13&lt;00:00, 15.94s/it]
</pre>
</div>
</div>

</div>
</div>

</div>
<div class="cell border-box-sizing text_cell rendered"><div class="prompt input_prompt">
</div>
<div class="inner_cell">
<div class="text_cell_render border-box-sizing rendered_html">
<h4 id="Question-7.5">Question 7.5<a class="anchor-link" href="#Question-7.5">&#182;</a></h4><div class="alert alert-info">
Print the user features for the first user
</div>
</div>
</div>
</div>
<div class="cell border-box-sizing text_cell rendered"><div class="prompt input_prompt">
</div>
<div class="inner_cell">
<div class="text_cell_render border-box-sizing rendered_html">
<div class="highlight"><pre><span></span><span class="c1">###################################################################</span>
<span class="c1">####                      TO COMPLETE                         #####</span>
<span class="c1">###################################################################</span>

<span class="n">model</span><span class="o">.</span><span class="n">user_factors</span><span class="o">...</span>
</pre></div>

</div>
</div>
</div>
<div class="cell border-box-sizing code_cell rendered">
<div class="input">
<div class="prompt input_prompt">In&nbsp;[28]:</div>
<div class="inner_cell">
    <div class="input_area">
<div class=" highlight hl-ipython3"><pre><span></span><span class="n">model</span><span class="o">.</span><span class="n">user_factors</span><span class="p">[</span><span class="mi">0</span><span class="p">]</span>
</pre></div>

</div>
</div>
</div>

<div class="output_wrapper">
<div class="output">


<div class="output_area">

<div class="prompt output_prompt">Out[28]:</div>




<div class="output_text output_subarea output_execute_result">
<pre>array([-0.00161973,  0.5804341 , -0.23996842,  0.5379382 , -0.20479365,
       -0.01464313,  0.319996  ,  0.45983478, -0.6025156 , -0.3379234 ],
      dtype=float32)</pre>
</div>

</div>

</div>
</div>

</div>
<div class="cell border-box-sizing text_cell rendered"><div class="prompt input_prompt">
</div>
<div class="inner_cell">
<div class="text_cell_render border-box-sizing rendered_html">
<h3 id="Question-8">Question 8<a class="anchor-link" href="#Question-8">&#182;</a></h3><div class="alert alert-info">
Show the top-5 artist names recommendated for a given user, for example: `2093760` (please, try also with different users!).
</div><p><strong>HINT</strong>: The recommendations can be given by function <code>recommend()</code>. These recommendations are only artist ids. You have to map them to artist names by using data in <code>artist_data.txt</code>. Remember that we have transformed our IDs, so what you need to do is <code>userID -&gt; incrementalUserID -&gt; recommend() -&gt; incrementalArtistID -&gt; artistID -&gt; name</code></p>

</div>
</div>
</div>
<div class="cell border-box-sizing text_cell rendered"><div class="prompt input_prompt">
</div>
<div class="inner_cell">
<div class="text_cell_render border-box-sizing rendered_html">
<div class="highlight"><pre><span></span><span class="c1">###################################################################</span>
<span class="c1">####                      TO COMPLETE                         #####</span>
<span class="c1">###################################################################</span>

<span class="c1"># Retrieve the incrementalUserID from a userID</span>
<span class="k">def</span> <span class="nf">get_incrementalUserID</span><span class="p">(</span><span class="n">userID</span><span class="p">):</span>
    <span class="k">return</span> <span class="o">...</span>

<span class="c1"># Retrieve the original userID from an incrementalUserID</span>
<span class="k">def</span> <span class="nf">get_userID</span><span class="p">(</span><span class="n">incrementalUserID</span><span class="p">):</span>
    <span class="k">return</span> <span class="o">...</span>

<span class="c1"># Retrieve the incrementalArtistID from an artistID</span>
<span class="k">def</span> <span class="nf">get_incrementalArtistID</span><span class="p">(</span><span class="n">artisID</span><span class="p">):</span>
    <span class="k">return</span> <span class="o">...</span>

<span class="c1"># Retrieve the original artistID from an incrementalArtistID</span>
<span class="k">def</span> <span class="nf">get_artistID</span><span class="p">(</span><span class="n">incrementalArtistID</span><span class="p">):</span>
    <span class="k">return</span> <span class="o">...</span>

<span class="c1"># Retrive the artist name</span>
<span class="k">def</span> <span class="nf">get_artist_name</span><span class="p">(</span><span class="n">artistID</span><span class="p">):</span>
    <span class="k">return</span> <span class="o">...</span>


<span class="c1"># Retrive the recommendations</span>
<span class="n">recommendations</span> <span class="o">=</span> <span class="n">model</span><span class="o">.</span><span class="n">recommend</span><span class="p">(</span><span class="o">...</span><span class="p">)</span>

<span class="c1"># Print the recommended artists</span>
<span class="o">...</span>
</pre></div>

</div>
</div>
</div>
<div class="cell border-box-sizing code_cell rendered">
<div class="input">
<div class="prompt input_prompt">In&nbsp;[29]:</div>
<div class="inner_cell">
    <div class="input_area">
<div class=" highlight hl-ipython3"><pre><span></span><span class="c1"># Retrieve the incrementalUserID from a userID</span>
<span class="k">def</span> <span class="nf">get_incrementalUserID</span><span class="p">(</span><span class="n">userID</span><span class="p">):</span>
    <span class="k">return</span> <span class="n">userMappingDF</span><span class="p">[</span><span class="n">userMappingDF</span><span class="p">[</span><span class="s1">&#39;originalUserID&#39;</span><span class="p">]</span><span class="o">==</span><span class="n">userID</span><span class="p">][</span><span class="s1">&#39;incrementalUserID&#39;</span><span class="p">]</span><span class="o">.</span><span class="n">values</span><span class="p">[</span><span class="mi">0</span><span class="p">]</span>

<span class="c1"># Retrieve the original userID from an incrementalUserID</span>
<span class="k">def</span> <span class="nf">get_userID</span><span class="p">(</span><span class="n">incrementalUserID</span><span class="p">):</span>
    <span class="k">return</span>  <span class="n">userMappingDF</span><span class="p">[</span><span class="n">userMappingDF</span><span class="p">[</span><span class="s1">&#39;incrementalUserID&#39;</span><span class="p">]</span><span class="o">==</span><span class="n">incrementalUserID</span><span class="p">][</span><span class="s1">&#39;originalUserID&#39;</span><span class="p">]</span><span class="o">.</span><span class="n">values</span><span class="p">[</span><span class="mi">0</span><span class="p">]</span>

<span class="c1"># Retrieve the incrementalArtistID from an artistID</span>
<span class="k">def</span> <span class="nf">get_incrementalArtistID</span><span class="p">(</span><span class="n">artisID</span><span class="p">):</span>
    <span class="k">return</span> <span class="n">artistMappingDF</span><span class="p">[</span><span class="n">artistMappingDF</span><span class="p">[</span><span class="s1">&#39;originalArtistID&#39;</span><span class="p">]</span><span class="o">==</span><span class="n">artisID</span><span class="p">][</span><span class="s1">&#39;incrementalArtistID&#39;</span><span class="p">]</span><span class="o">.</span><span class="n">values</span><span class="p">[</span><span class="mi">0</span><span class="p">]</span>

<span class="c1"># Retrieve the original artistID from an incrementalArtistID</span>
<span class="k">def</span> <span class="nf">get_artistID</span><span class="p">(</span><span class="n">incrementalArtistID</span><span class="p">):</span>
    <span class="k">return</span> <span class="n">artistMappingDF</span><span class="p">[</span><span class="n">artistMappingDF</span><span class="p">[</span><span class="s1">&#39;incrementalArtistID&#39;</span><span class="p">]</span><span class="o">==</span><span class="n">incrementalArtistID</span><span class="p">][</span><span class="s1">&#39;originalArtistID&#39;</span><span class="p">]</span><span class="o">.</span><span class="n">values</span><span class="p">[</span><span class="mi">0</span><span class="p">]</span>


<span class="c1"># Retrive the artist name</span>
<span class="k">def</span> <span class="nf">get_artist_name</span><span class="p">(</span><span class="n">artistID</span><span class="p">):</span>
    <span class="k">return</span> <span class="n">artistDF</span><span class="p">[</span><span class="n">artistDF</span><span class="p">[</span><span class="s1">&#39;artistID&#39;</span><span class="p">]</span><span class="o">==</span><span class="n">artistID</span><span class="p">][</span><span class="s1">&#39;name&#39;</span><span class="p">]</span><span class="o">.</span><span class="n">values</span><span class="p">[</span><span class="mi">0</span><span class="p">]</span>


<span class="c1"># Retrive the recommendations</span>
<span class="c1">#we take an example of the userID equal to 90</span>
<span class="n">recommendations</span> <span class="o">=</span> <span class="n">model</span><span class="o">.</span><span class="n">recommend</span><span class="p">(</span><span class="mi">90</span><span class="p">,</span> <span class="n">sparse_user_item</span><span class="p">)</span>

<span class="c1"># Print the recommended artists</span>
<span class="nb">print</span><span class="p">(</span><span class="n">recommendations</span><span class="p">[:</span><span class="mi">5</span><span class="p">])</span>
</pre></div>

</div>
</div>
</div>

<div class="output_wrapper">
<div class="output">


<div class="output_area">

<div class="prompt"></div>


<div class="output_subarea output_stream output_stdout output_text">
<pre>[(165, 0.24208318), (1764, 0.23473038), (1230, 0.23470438), (4321, 0.23423949), (3338, 0.23230705)]
</pre>
</div>
</div>

</div>
</div>

</div>
<div class="cell border-box-sizing text_cell rendered"><div class="prompt input_prompt">
</div>
<div class="inner_cell">
<div class="text_cell_render border-box-sizing rendered_html">
<h2 id="3.5-Evaluating-Recommendation-Quality">3.5 Evaluating Recommendation Quality<a class="anchor-link" href="#3.5-Evaluating-Recommendation-Quality">&#182;</a></h2><p>In this section, we study how to evaluate the quality of our model. It's hard to say how good the recommendations are.
One of serveral methods approach to evaluate  a recommender based on its ability to rank good items (artists) high in a list of recommendations. The problem is how to define "good artists". Currently, by training all data, "good artists" is defined as "artists the user has listened to", and the recommender system has already received all of this information as input. It could trivially return the users previously-listened artists as top recommendations and score perfectly. Indeed, this is not useful, because the recommender's is used to recommend artists that the user has <strong>never</strong> listened to.</p>
<p>To overcome that problem, we can hide the some of the artist play data and only use the rest to train model. Then, this held-out data can be interpreted as a collection of "good" recommendations for each user. The recommender is asked to rank all items in the model, and the rank of the held-out artists are examined. Ideally the recommender places all of them at or near the top of the list.</p>
<p>The recommender's score can then be computed by comparing all held-out artists' ranks to the rest.  The fraction of pairs where the held-out artist is ranked higher is its score. 1.0 is perfect, 0.0 is the worst possible score, and 0.5 is the expected value achieved from randomly ranking artists.</p>
<p>AUC(Area Under the Curve) can be used as a metric to evaluate model. It is also viewed as the probability that a randomly-chosen "good" artist ranks above a randomly-chosen "bad" artist.</p>
<p>Next, we split the training data into 2 parts: <code>trainData</code> and <code>cvData</code> with ratio 0.9:0.1 respectively, where <code>trainData</code> is the dataset that will be used to train model. Then we write a function to calculate AUC to evaluate the quality of our model.</p>

</div>
</div>
</div>
<div class="cell border-box-sizing text_cell rendered"><div class="prompt input_prompt">
</div>
<div class="inner_cell">
<div class="text_cell_render border-box-sizing rendered_html">
<h3 id="Question-9">Question 9<a class="anchor-link" href="#Question-9">&#182;</a></h3><h4 id="Question-9.1">Question 9.1<a class="anchor-link" href="#Question-9.1">&#182;</a></h4><div class="alert alert-info">
Split the data into `trainData` and `cvData` with ratio 0.9:0.1 and use the first part to train a statistic model with:
<ul>
<li>`rank`=10</li>
<li>`iterations`=5</li>
<li>`lambda_`=0.01</li>
<li>`alpha`=1.0</li>
</ul>
</div><p><strong><em>Hint</em></strong>: have a look to <code>train_test_split()</code> in <code>sklearn.model_selection</code></p>

</div>
</div>
</div>
<div class="cell border-box-sizing text_cell rendered"><div class="prompt input_prompt">
</div>
<div class="inner_cell">
<div class="text_cell_render border-box-sizing rendered_html">
<div class="highlight"><pre><span></span><span class="c1">###################################################################</span>
<span class="c1">####                      TO COMPLETE                         #####</span>
<span class="c1">###################################################################</span>

<span class="kn">from</span> <span class="nn">sklearn.model_selection</span> <span class="kn">import</span> <span class="o">...</span>

<span class="c1"># Create train/test split</span>
<span class="n">trainUserArtistDF</span><span class="p">,</span> <span class="n">testUserArtistDF</span> <span class="o">=</span> <span class="o">...</span>

<span class="c1"># Transform to sparse matrix</span>
<span class="n">train_sparse_item_user</span> <span class="o">=</span> <span class="n">to_sparse</span><span class="p">(</span><span class="o">...</span><span class="p">)</span>
<span class="n">train_sparse_user_item</span> <span class="o">=</span> <span class="n">train_sparse_item_user</span><span class="o">.</span><span class="n">T</span>

<span class="c1"># Compute the confidence matrix</span>
<span class="n">data_conf</span> <span class="o">=</span> <span class="n">sparse_item_user</span> <span class="o">*</span> <span class="o">...</span>

<span class="c1"># Create the model</span>
<span class="n">model</span> <span class="o">=</span> <span class="n">implicit</span><span class="o">.</span><span class="n">als</span><span class="o">.</span><span class="n">AlternatingLeastSquares</span><span class="p">(</span><span class="o">...</span><span class="p">)</span>

<span class="c1"># Train</span>
<span class="n">model</span><span class="o">.</span><span class="n">fit</span><span class="p">(</span><span class="o">...</span><span class="p">)</span>
</pre></div>

</div>
</div>
</div>
<div class="cell border-box-sizing code_cell rendered">
<div class="input">
<div class="prompt input_prompt">In&nbsp;[30]:</div>
<div class="inner_cell">
    <div class="input_area">
<div class=" highlight hl-ipython3"><pre><span></span><span class="kn">from</span> <span class="nn">sklearn.model_selection</span> <span class="k">import</span> <span class="n">train_test_split</span>

<span class="c1"># Create train/test split</span>
<span class="n">trainUserArtistDF</span><span class="p">,</span> <span class="n">testUserArtistDF</span> <span class="o">=</span> <span class="n">train_test_split</span><span class="p">(</span><span class="n">rescaledUserArtistDF</span><span class="p">,</span><span class="n">test_size</span><span class="o">=</span><span class="mf">0.1</span><span class="p">)</span>

<span class="c1"># Transform to sparse matrix</span>
<span class="n">train_sparse_item_user</span> <span class="o">=</span> <span class="n">to_sparse</span><span class="p">(</span><span class="n">trainUserArtistDF</span><span class="p">)</span>
<span class="n">train_sparse_user_item</span> <span class="o">=</span> <span class="n">train_sparse_item_user</span><span class="o">.</span><span class="n">T</span>

<span class="c1"># Compute the confidence matrix</span>
<span class="n">data_conf</span> <span class="o">=</span> <span class="p">(</span><span class="n">sparse_item_user</span> <span class="o">*</span> <span class="n">alpha</span><span class="p">)</span><span class="o">.</span><span class="n">astype</span><span class="p">(</span><span class="s1">&#39;double&#39;</span><span class="p">)</span>

<span class="c1"># Create the model</span>
<span class="n">model</span> <span class="o">=</span> <span class="n">implicit</span><span class="o">.</span><span class="n">als</span><span class="o">.</span><span class="n">AlternatingLeastSquares</span><span class="p">(</span><span class="n">factors</span><span class="o">=</span><span class="n">factors</span><span class="p">,</span> <span class="n">regularization</span><span class="o">=</span><span class="n">regularization</span><span class="p">,</span> <span class="n">iterations</span><span class="o">=</span><span class="n">iterations</span><span class="p">)</span>

<span class="c1"># Train</span>
<span class="n">model</span><span class="o">.</span><span class="n">fit</span><span class="p">(</span><span class="n">data_conf</span><span class="p">)</span>
</pre></div>

</div>
</div>
</div>

<div class="output_wrapper">
<div class="output">


<div class="output_area">

<div class="prompt"></div>


<div class="output_subarea output_stream output_stderr output_text">
<pre>100%|██████████| 5.0/5 [01:18&lt;00:00, 18.09s/it]
</pre>
</div>
</div>

</div>
</div>

</div>
<div class="cell border-box-sizing text_cell rendered"><div class="prompt input_prompt">
</div>
<div class="inner_cell">
<div class="text_cell_render border-box-sizing rendered_html">
<h4 id="Area-under-the-ROC-curve:-a-function-to-compute-it">Area under the ROC curve: a function to compute it<a class="anchor-link" href="#Area-under-the-ROC-curve:-a-function-to-compute-it">&#182;</a></h4>
</div>
</div>
</div>
<div class="cell border-box-sizing code_cell rendered">
<div class="input">
<div class="prompt input_prompt">In&nbsp;[31]:</div>
<div class="inner_cell">
    <div class="input_area">
<div class=" highlight hl-ipython3"><pre><span></span><span class="kn">from</span> <span class="nn">multiprocessing</span> <span class="k">import</span> <span class="n">Pool</span>
<span class="kn">import</span> <span class="nn">warnings</span>
<span class="kn">from</span> <span class="nn">sklearn.metrics</span> <span class="k">import</span> <span class="n">roc_auc_score</span>
<span class="kn">import</span> <span class="nn">random</span>
<span class="kn">from</span> <span class="nn">tqdm</span> <span class="k">import</span> <span class="n">tqdm</span>


<span class="k">def</span> <span class="nf">findNumElementsSmallerThan</span><span class="p">(</span><span class="n">arr</span><span class="p">,</span> <span class="n">x</span><span class="p">,</span> <span class="n">start</span><span class="o">=</span><span class="mi">0</span><span class="p">):</span>
        <span class="n">left</span> <span class="o">=</span> <span class="n">start</span>
        <span class="n">right</span> <span class="o">=</span> <span class="nb">len</span><span class="p">(</span><span class="n">arr</span><span class="p">)</span> <span class="o">-</span><span class="mi">1</span>
        <span class="c1"># if x is bigger than the biggest element in arr</span>
        <span class="k">if</span> <span class="n">start</span> <span class="o">&gt;</span> <span class="n">right</span> <span class="ow">or</span> <span class="n">x</span> <span class="o">&gt;</span> <span class="n">arr</span><span class="p">[</span><span class="n">right</span><span class="p">]:</span>
            <span class="k">return</span> <span class="n">right</span> <span class="o">+</span> <span class="mi">1</span>
        <span class="n">mid</span> <span class="o">=</span> <span class="o">-</span><span class="mi">1</span>
        <span class="k">while</span> <span class="n">left</span> <span class="o">&lt;=</span> <span class="n">right</span><span class="p">:</span>
            <span class="n">mid</span> <span class="o">=</span> <span class="p">(</span><span class="n">left</span> <span class="o">+</span> <span class="n">right</span><span class="p">)</span> <span class="o">//</span> <span class="mi">2</span>
            <span class="k">if</span> <span class="n">arr</span><span class="p">[</span><span class="n">mid</span><span class="p">]</span> <span class="o">&lt;</span> <span class="n">x</span><span class="p">:</span>
                <span class="n">left</span> <span class="o">=</span> <span class="n">mid</span> <span class="o">+</span> <span class="mi">1</span>
            <span class="k">elif</span> <span class="n">arr</span><span class="p">[</span><span class="n">mid</span><span class="p">]</span> <span class="o">&gt;</span> <span class="n">x</span><span class="p">:</span>
                <span class="n">right</span> <span class="o">=</span> <span class="n">mid</span> <span class="o">-</span> <span class="mi">1</span>
            <span class="k">else</span><span class="p">:</span>
                <span class="k">while</span> <span class="n">mid</span><span class="o">-</span><span class="mi">1</span> <span class="o">&gt;=</span> <span class="n">start</span> <span class="ow">and</span> <span class="n">arr</span><span class="p">[</span><span class="n">mid</span><span class="o">-</span><span class="mi">1</span><span class="p">]</span> <span class="o">==</span> <span class="n">x</span><span class="p">:</span>
                    <span class="n">mid</span> <span class="o">-=</span> <span class="mi">1</span>
                <span class="k">return</span> <span class="n">mid</span>
        <span class="k">return</span> <span class="n">mid</span> <span class="k">if</span> <span class="n">arr</span><span class="p">[</span><span class="n">mid</span><span class="p">]</span> <span class="o">&gt;</span> <span class="n">x</span> <span class="k">else</span> <span class="n">mid</span> <span class="o">+</span> <span class="mi">1</span>

<span class="k">def</span> <span class="nf">_compute_auc</span><span class="p">(</span><span class="n">incremental_user_id</span><span class="p">):</span>
    <span class="n">positive_products</span> <span class="o">=</span> <span class="n">testUserArtistDF</span><span class="p">[</span><span class="n">testUserArtistDF</span><span class="p">[</span><span class="s1">&#39;incrementalUserID&#39;</span><span class="p">]</span> <span class="o">==</span> <span class="n">incremental_user_id</span><span class="p">][</span><span class="s1">&#39;incrementalArtistID&#39;</span><span class="p">]</span><span class="o">.</span><span class="n">values</span>
    <span class="n">positive_ranking</span> <span class="o">=</span> <span class="n">model</span><span class="o">.</span><span class="n">rank_items</span><span class="p">(</span><span class="n">incremental_user_id</span><span class="p">,</span> 
                                        <span class="n">train_sparse_user_item</span><span class="p">,</span> 
                                        <span class="n">positive_products</span><span class="p">)</span>
    <span class="n">positive_ranking</span> <span class="o">=</span> <span class="nb">list</span><span class="p">(</span><span class="nb">map</span><span class="p">(</span><span class="k">lambda</span> <span class="n">x</span><span class="p">:</span> <span class="n">x</span><span class="p">[</span><span class="mi">1</span><span class="p">],</span> <span class="n">positive_ranking</span><span class="p">))</span>
    <span class="k">if</span> <span class="nb">len</span><span class="p">(</span><span class="n">positive_products</span><span class="p">)</span> <span class="o">&lt;=</span> <span class="mi">1</span><span class="p">:</span> <span class="k">return</span> 
        
    <span class="n">train_data_user</span> <span class="o">=</span> <span class="n">trainUserArtistDF</span><span class="p">[</span><span class="n">trainUserArtistDF</span><span class="p">[</span><span class="s1">&#39;incrementalUserID&#39;</span><span class="p">]</span> <span class="o">==</span> <span class="n">incremental_user_id</span><span class="p">][</span><span class="s1">&#39;incrementalArtistID&#39;</span><span class="p">]</span><span class="o">.</span><span class="n">values</span>
    
    <span class="k">if</span> <span class="nb">len</span><span class="p">(</span><span class="n">train_data_user</span><span class="p">)</span> <span class="o">&lt;</span> <span class="mi">1</span><span class="p">:</span> <span class="k">return</span>
    <span class="n">negative_products</span> <span class="o">=</span> <span class="n">np</span><span class="o">.</span><span class="n">random</span><span class="o">.</span><span class="n">choice</span><span class="p">(</span><span class="n">train_data_user</span><span class="p">,</span> <span class="nb">len</span><span class="p">(</span><span class="n">positive_products</span><span class="p">))</span>  
    <span class="k">if</span> <span class="nb">len</span><span class="p">(</span><span class="n">negative_products</span><span class="p">)</span> <span class="o">&lt;=</span> <span class="mi">1</span><span class="p">:</span> <span class="k">return</span>
        
    <span class="k">if</span> <span class="nb">len</span><span class="p">(</span><span class="n">negative_products</span><span class="p">)</span> <span class="o">!=</span> <span class="nb">len</span><span class="p">(</span><span class="n">positive_products</span><span class="p">):</span> <span class="k">return</span> 
    
    <span class="n">negative_ranking</span> <span class="o">=</span> <span class="n">model</span><span class="o">.</span><span class="n">rank_items</span><span class="p">(</span><span class="n">incremental_user_id</span><span class="p">,</span> 
                                        <span class="n">train_sparse_user_item</span><span class="p">,</span> 
                                        <span class="n">negative_products</span><span class="p">)</span>
    
    <span class="n">negative_ranking</span> <span class="o">=</span> <span class="nb">list</span><span class="p">(</span><span class="nb">map</span><span class="p">(</span><span class="k">lambda</span> <span class="n">x</span><span class="p">:</span> <span class="n">x</span><span class="p">[</span><span class="mi">1</span><span class="p">],</span> <span class="n">negative_ranking</span><span class="p">))</span>
   
    <span class="n">correct</span> <span class="o">=</span> <span class="mi">0</span>
    <span class="n">total</span> <span class="o">=</span> <span class="nb">len</span><span class="p">(</span><span class="n">positive_ranking</span><span class="p">)</span><span class="o">*</span><span class="nb">len</span><span class="p">(</span><span class="n">negative_ranking</span><span class="p">)</span>

    <span class="k">for</span> <span class="n">positive</span> <span class="ow">in</span> <span class="n">positive_ranking</span><span class="p">:</span>
        <span class="n">correct</span> <span class="o">+=</span> <span class="n">findNumElementsSmallerThan</span><span class="p">(</span><span class="n">negative_ranking</span><span class="p">,</span> <span class="n">positive</span><span class="p">)</span>
    <span class="k">return</span> <span class="nb">float</span><span class="p">(</span><span class="n">correct</span><span class="p">)</span> <span class="o">/</span> <span class="n">total</span>

<span class="k">def</span> <span class="nf">compute_auc</span><span class="p">(</span><span class="n">test_users_ratio</span><span class="o">=</span><span class="mi">1</span><span class="p">,</span> <span class="n">parallelism</span><span class="o">=</span><span class="mi">4</span><span class="p">):</span>  
    <span class="sd">&quot;&quot;&quot;</span>
<span class="sd">        Computes the AUC of a train/test split</span>
<span class="sd">        Note:</span>
<span class="sd">            It assumes `trainUserArtistDF`, `testUserArtistDf` and `model` to be defined </span>
<span class="sd">            globally</span>
<span class="sd">        Arguments:</span>
<span class="sd">            test_users_ratio (float): Ratio of users to be tested (0, 1]</span>
<span class="sd">    &quot;&quot;&quot;</span>
    <span class="k">if</span> <span class="n">test_users_ratio</span> <span class="o">&lt;=</span><span class="mi">0</span> <span class="ow">or</span> <span class="n">test_users_ratio</span> <span class="o">&gt;</span> <span class="mi">1</span><span class="p">:</span>
        <span class="n">warnings</span><span class="o">.</span><span class="n">warn</span><span class="p">(</span><span class="s1">&#39;Parameter test_users_ratio has to be in (0, 1]. Setting test_users_ratio=1...&#39;</span><span class="p">)</span>
        <span class="n">test_users_ratio</span> <span class="o">=</span> <span class="mi">1</span>
    
    <span class="n">pool</span> <span class="o">=</span> <span class="n">Pool</span><span class="p">(</span><span class="n">parallelism</span><span class="p">)</span>
    <span class="n">roc_auc</span> <span class="o">=</span> <span class="p">[]</span>
    <span class="n">list_of_users</span> <span class="o">=</span> <span class="n">testUserArtistDF</span><span class="p">[</span><span class="s1">&#39;incrementalUserID&#39;</span><span class="p">]</span><span class="o">.</span><span class="n">unique</span><span class="p">()[::</span><span class="nb">int</span><span class="p">(</span><span class="mi">1</span><span class="o">/</span><span class="n">test_users_ratio</span><span class="p">)]</span>
    <span class="k">for</span> <span class="n">res</span> <span class="ow">in</span> <span class="n">tqdm</span><span class="p">(</span><span class="n">pool</span><span class="o">.</span><span class="n">imap_unordered</span><span class="p">(</span><span class="n">_compute_auc</span><span class="p">,</span> <span class="n">list_of_users</span><span class="p">,</span> <span class="mi">64</span><span class="p">),</span> <span class="n">total</span><span class="o">=</span><span class="nb">len</span><span class="p">(</span><span class="n">list_of_users</span><span class="p">)):</span>
        <span class="n">roc_auc</span><span class="o">.</span><span class="n">append</span><span class="p">(</span><span class="n">res</span><span class="p">)</span>
    
    <span class="n">pool</span><span class="o">.</span><span class="n">close</span><span class="p">()</span>
    <span class="n">pool</span><span class="o">.</span><span class="n">join</span><span class="p">()</span>

    <span class="k">return</span> <span class="n">np</span><span class="o">.</span><span class="n">array</span><span class="p">(</span><span class="nb">list</span><span class="p">(</span><span class="nb">filter</span><span class="p">(</span><span class="kc">None</span><span class="o">.</span><span class="fm">__ne__</span><span class="p">,</span> <span class="n">roc_auc</span><span class="p">)))</span>
</pre></div>

</div>
</div>
</div>

</div>
<div class="cell border-box-sizing text_cell rendered"><div class="prompt input_prompt">
</div>
<div class="inner_cell">
<div class="text_cell_render border-box-sizing rendered_html">
<h4 id="Question-9.2">Question 9.2<a class="anchor-link" href="#Question-9.2">&#182;</a></h4><div class="alert alert-info">
Using `compute_auc()`, compute the AUC of the trained model.
</div><p><strong><em>Note</em></strong>: <code>compute_auc()</code> is computational expensive. To test if everything works, try to first compute the AUC for a small subset of users (10%) and than move to the entire set.</p>

</div>
</div>
</div>
<div class="cell border-box-sizing text_cell rendered"><div class="prompt input_prompt">
</div>
<div class="inner_cell">
<div class="text_cell_render border-box-sizing rendered_html">
<div class="highlight"><pre><span></span><span class="c1">###################################################################</span>
<span class="c1">####                      TO COMPLETE                         #####</span>
<span class="c1">###################################################################</span>
<span class="n">roc_auc</span> <span class="o">=</span> <span class="o">...</span>
<span class="k">print</span><span class="p">(</span><span class="s1">&#39;Average AUC = </span><span class="si">%.4f</span><span class="s1">&#39;</span> <span class="o">%</span> <span class="n">roc_auc</span><span class="o">.</span><span class="n">mean</span><span class="p">())</span>
</pre></div>

</div>
</div>
</div>
<div class="cell border-box-sizing code_cell rendered">
<div class="input">
<div class="prompt input_prompt">In&nbsp;[32]:</div>
<div class="inner_cell">
    <div class="input_area">
<div class=" highlight hl-ipython3"><pre><span></span><span class="n">roc_auc</span> <span class="o">=</span> <span class="n">compute_auc</span><span class="p">(</span><span class="n">test_users_ratio</span><span class="o">=</span><span class="mf">0.1</span><span class="p">)</span>
<span class="nb">print</span><span class="p">(</span><span class="s1">&#39;Average AUC = </span><span class="si">%.4f</span><span class="s1">&#39;</span> <span class="o">%</span> <span class="n">roc_auc</span><span class="o">.</span><span class="n">mean</span><span class="p">())</span>
</pre></div>

</div>
</div>
</div>

<div class="output_wrapper">
<div class="output">


<div class="output_area">

<div class="prompt"></div>


<div class="output_subarea output_stream output_stderr output_text">
<pre>100%|██████████| 13462/13462 [02:15&lt;00:00, 99.44it/s] 
</pre>
</div>
</div>

<div class="output_area">

<div class="prompt"></div>


<div class="output_subarea output_stream output_stdout output_text">
<pre>Average AUC = 0.8905
</pre>
</div>
</div>

</div>
</div>

</div>
<div class="cell border-box-sizing text_cell rendered"><div class="prompt input_prompt">
</div>
<div class="inner_cell">
<div class="text_cell_render border-box-sizing rendered_html">
<h4 id="Question-9.3">Question 9.3<a class="anchor-link" href="#Question-9.3">&#182;</a></h4><p>The average AUC doesn't give the full picture here. Try to plot the distribution and the cumulative distribution of the AUC for all the users. Can you comment on these plots?</p>

</div>
</div>
</div>
<div class="cell border-box-sizing text_cell rendered"><div class="prompt input_prompt">
</div>
<div class="inner_cell">
<div class="text_cell_render border-box-sizing rendered_html">
<div class="highlight"><pre><span></span><span class="c1">###################################################################</span>
<span class="c1">####                      TO COMPLETE                         #####</span>
<span class="c1">###################################################################</span>
<span class="n">fig</span><span class="p">,</span> <span class="p">(</span><span class="n">ax0</span><span class="p">,</span> <span class="n">ax1</span><span class="p">)</span> <span class="o">=</span> <span class="n">plt</span><span class="o">.</span><span class="n">subplots</span><span class="p">(</span><span class="mi">2</span><span class="p">,</span><span class="mi">1</span><span class="p">)</span>

<span class="c1"># Plot distribution</span>
<span class="n">ax0</span><span class="o">.</span><span class="n">hist</span><span class="p">(</span><span class="o">...</span><span class="p">,</span> <span class="n">bins</span><span class="o">=</span><span class="s1">&#39;auto&#39;</span><span class="p">,</span> <span class="n">density</span><span class="o">=</span><span class="bp">True</span><span class="p">,</span> <span class="o">...</span><span class="p">)</span>

<span class="c1"># Plot cumulative distribution</span>
<span class="n">ax1</span><span class="o">.</span><span class="n">hist</span><span class="p">(</span><span class="o">...</span><span class="p">,</span> <span class="n">bins</span><span class="o">=</span><span class="s1">&#39;auto&#39;</span><span class="p">,</span> <span class="n">density</span><span class="o">=</span><span class="bp">True</span><span class="p">,</span> <span class="n">cumulative</span><span class="o">=</span><span class="bp">True</span><span class="p">,</span> <span class="o">...</span><span class="p">)</span>

<span class="c1"># Plot a vertical line on the average (distribution plot)</span>
<span class="n">ax0</span><span class="o">.</span><span class="n">axvline</span><span class="p">(</span><span class="o">...</span><span class="p">,</span> <span class="n">label</span><span class="o">=</span><span class="s1">&#39;Average AUC = </span><span class="si">%.3f</span><span class="s1">&#39;</span> <span class="o">%</span> <span class="o">...</span><span class="p">)</span>

<span class="c1"># Plot some percentile on the cumulative distribution</span>
<span class="k">for</span> <span class="n">i</span><span class="p">,</span> <span class="n">quantile</span> <span class="ow">in</span> <span class="nb">enumerate</span><span class="p">([</span><span class="o">.</span><span class="mo">05</span><span class="p">,</span> <span class="mf">0.25</span><span class="p">,</span> <span class="o">.</span><span class="mi">5</span><span class="p">,</span> <span class="o">.</span><span class="mi">75</span><span class="p">,</span> <span class="o">.</span><span class="mi">95</span><span class="p">]):</span>
    <span class="n">ax1</span><span class="o">.</span><span class="n">axvline</span><span class="p">(</span><span class="n">np</span><span class="o">.</span><span class="n">percentile</span><span class="p">(</span><span class="o">...</span><span class="p">),</span> <span class="n">label</span><span class="o">=</span><span class="s1">&#39;</span><span class="si">%.0f</span><span class="s1">th perc.&#39;</span> <span class="o">%</span> <span class="p">(</span><span class="n">quantile</span><span class="o">*</span><span class="mi">100</span><span class="p">))</span>


<span class="n">ax0</span><span class="o">.</span><span class="n">set_title</span><span class="p">(</span><span class="s1">&#39;Distribution of AUC for all the users&#39;</span><span class="p">)</span>
<span class="n">ax1</span><span class="o">.</span><span class="n">set_title</span><span class="p">(</span><span class="s1">&#39;Cumulative distribution of AUC for all the users&#39;</span><span class="p">)</span>

<span class="n">ax0</span><span class="o">.</span><span class="n">legend</span><span class="p">()</span>
<span class="n">ax1</span><span class="o">.</span><span class="n">legend</span><span class="p">()</span>
<span class="n">plt</span><span class="o">.</span><span class="n">show</span><span class="p">()</span>
</pre></div>

</div>
</div>
</div>
<div class="cell border-box-sizing code_cell rendered">
<div class="input">
<div class="prompt input_prompt">In&nbsp;[33]:</div>
<div class="inner_cell">
    <div class="input_area">
<div class=" highlight hl-ipython3"><pre><span></span><span class="n">fig</span><span class="p">,</span> <span class="p">(</span><span class="n">ax0</span><span class="p">,</span> <span class="n">ax1</span><span class="p">)</span> <span class="o">=</span> <span class="n">plt</span><span class="o">.</span><span class="n">subplots</span><span class="p">(</span><span class="mi">2</span><span class="p">,</span><span class="mi">1</span><span class="p">)</span>

<span class="c1"># Plot distribution</span>
<span class="n">ax0</span><span class="o">.</span><span class="n">hist</span><span class="p">(</span><span class="n">roc_auc</span><span class="p">,</span> <span class="n">bins</span><span class="o">=</span><span class="s1">&#39;auto&#39;</span><span class="p">,</span> <span class="n">density</span><span class="o">=</span><span class="kc">True</span><span class="p">)</span>

<span class="c1"># Plot cumulative distribution</span>
<span class="n">ax1</span><span class="o">.</span><span class="n">hist</span><span class="p">(</span><span class="n">roc_auc</span><span class="p">,</span> <span class="n">bins</span><span class="o">=</span><span class="s1">&#39;auto&#39;</span><span class="p">,</span> <span class="n">density</span><span class="o">=</span><span class="kc">True</span><span class="p">,</span> <span class="n">cumulative</span><span class="o">=</span><span class="kc">True</span><span class="p">)</span>

<span class="c1"># Plot a vertical line on the average (distribution plot)</span>
<span class="n">ax0</span><span class="o">.</span><span class="n">axvline</span><span class="p">(</span><span class="n">x</span><span class="o">=</span><span class="mf">0.5</span><span class="p">,</span> <span class="n">label</span><span class="o">=</span><span class="s1">&#39;Average AUC = </span><span class="si">%.3f</span><span class="s1">&#39;</span> <span class="o">%</span> <span class="n">np</span><span class="o">.</span><span class="n">mean</span><span class="p">(</span><span class="n">roc_auc</span><span class="p">))</span>

<span class="c1"># Plot some percentile on the cumulative distribution</span>
<span class="k">for</span> <span class="n">i</span><span class="p">,</span> <span class="n">quantile</span> <span class="ow">in</span> <span class="nb">enumerate</span><span class="p">([</span><span class="o">.</span><span class="mi">05</span><span class="p">,</span> <span class="mf">0.25</span><span class="p">,</span> <span class="o">.</span><span class="mi">5</span><span class="p">,</span> <span class="o">.</span><span class="mi">75</span><span class="p">,</span> <span class="o">.</span><span class="mi">95</span><span class="p">]):</span>
    <span class="n">ax1</span><span class="o">.</span><span class="n">axvline</span><span class="p">(</span><span class="n">np</span><span class="o">.</span><span class="n">percentile</span><span class="p">(</span><span class="n">a</span><span class="o">=</span><span class="n">roc_auc</span><span class="p">,</span><span class="n">q</span><span class="o">=</span><span class="n">i</span><span class="p">),</span> <span class="n">label</span><span class="o">=</span><span class="s1">&#39;</span><span class="si">%.0f</span><span class="s1">th perc.&#39;</span> <span class="o">%</span> <span class="p">(</span><span class="n">quantile</span><span class="o">*</span><span class="mi">100</span><span class="p">))</span>


<span class="n">ax0</span><span class="o">.</span><span class="n">set_title</span><span class="p">(</span><span class="s1">&#39;Distribution of AUC for all the users&#39;</span><span class="p">)</span>
<span class="n">ax1</span><span class="o">.</span><span class="n">set_title</span><span class="p">(</span><span class="s2">&quot;Cumulative distribution of AUC for all the users&quot;</span><span class="p">)</span>

<span class="n">ax0</span><span class="o">.</span><span class="n">legend</span><span class="p">()</span>
<span class="n">ax1</span><span class="o">.</span><span class="n">legend</span><span class="p">()</span>
<span class="n">plt</span><span class="o">.</span><span class="n">show</span><span class="p">()</span>
</pre></div>

</div>
</div>
</div>

<div class="output_wrapper">
<div class="output">


<div class="output_area">

<div class="prompt"></div>




<div class="output_png output_subarea ">
<img src="data:image/png;base64,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
"
>
</div>

</div>

</div>
</div>

</div>
<div class="cell border-box-sizing text_cell rendered"><div class="prompt input_prompt">
</div>
<div class="inner_cell">
<div class="text_cell_render border-box-sizing rendered_html">
<h2 id="3.6-Personalized-recommendations-with-ALS">3.6 Personalized recommendations with ALS<a class="anchor-link" href="#3.6-Personalized-recommendations-with-ALS">&#182;</a></h2><p>In the previous section, we build our models with some given paramters without any knowledge about them. Actually, choosing the best parameters' values is very important. It can significantly affect the quality of models. Especially, with the current implementation of ALS in MLLIB, these parameters are not learned by the algorithm, and must be chosen by the caller. The following parameters should get consideration before training models:</p>
<ul>
<li><p><code>rank = 10</code>: the number of latent factors in the model, or equivalently, the number of columns $k$ in the user-feature and product-feature matrices. In non-trivial cases, this is also their rank.</p>
</li>
<li><p><code>iterations = 5</code>: the number of iterations that the factorization runs. Instead of runing the algorithm until RMSE converged which actually takes very long time to finish with large datasets, we only let it run in a given number of iterations. More iterations take more time but may produce a better factorization.</p>
</li>
<li><p><code>lambda_ = 0.01</code>: a standard overfitting parameter. Higher values resist overfitting, but values that are too high hurt the factorization's accuracy.</p>
</li>
<li><p><code>alpha = 1.0</code>: controls the relative weight of observed versus unobserved userproduct interactions in the factorization.</p>
</li>
</ul>
<p>Although all of them have impact on the models' quality, <code>iterations</code> is more of a constraint on resources used in the factorization. So, <code>rank</code>, <code>lambda_</code> and <code>alpha</code> can be considered hyperparameters to the model. 
We will try to find "good" values for them. Indeed, the values of hyperparameter are not necessarily optimal. Choosing good hyperparameter values is a common problem in machine learning. The most basic way to choose values is to simply try combinations of values and evaluate a metric for each of them, and choose the combination that produces the best value of the metric.</p>

</div>
</div>
</div>
<div class="cell border-box-sizing text_cell rendered"><div class="prompt input_prompt">
</div>
<div class="inner_cell">
<div class="text_cell_render border-box-sizing rendered_html">
<h3 id="Question-10">Question 10<a class="anchor-link" href="#Question-10">&#182;</a></h3><h4 id="Question-10.1">Question 10.1<a class="anchor-link" href="#Question-10.1">&#182;</a></h4><div class="alert alert-info">
For simplicity, assume that we want to explore the following parameter space: $ rank \in \{10, 50\}$, $lambda\_ \in \{1.0, 0.0001\}$ and $alpha \in \{1.0, 40.0\}$.

Find the best combination of them in terms of the highest AUC value.
</div><p><strong><em>Hint</em></strong>: have a look to <code>ParameterGrid()</code> in <code>sklearn.model_selection</code></p>

</div>
</div>
</div>
<div class="cell border-box-sizing text_cell rendered"><div class="prompt input_prompt">
</div>
<div class="inner_cell">
<div class="text_cell_render border-box-sizing rendered_html">
<div class="highlight"><pre><span></span><span class="c1">###################################################################</span>
<span class="c1">####                      TO COMPLETE                         #####</span>
<span class="c1">###################################################################</span>
<span class="kn">from</span> <span class="nn">sklearn.model_selection</span> <span class="kn">import</span> <span class="o">...</span>

<span class="c1"># Define the hyperparameters</span>
<span class="n">hyperparameters</span> <span class="o">=</span> <span class="p">{</span>
    <span class="s1">&#39;factors&#39;</span><span class="p">:</span> <span class="p">[</span><span class="mi">10</span><span class="p">,</span> <span class="mi">25</span><span class="p">,</span> <span class="mi">50</span><span class="p">],</span> 
    <span class="s1">&#39;regularization&#39;</span> <span class="p">:</span> <span class="o">...</span><span class="p">,</span> 
    <span class="s1">&#39;alpha&#39;</span> <span class="p">:</span> <span class="o">...</span><span class="p">}</span>

<span class="c1"># Compute all combinations</span>
<span class="n">parameter_grid</span> <span class="o">=</span> <span class="nb">list</span><span class="p">(</span><span class="n">ParameterGrid</span><span class="p">(</span><span class="o">...</span><span class="p">))</span>

<span class="c1"># Just a table to save the results</span>
<span class="n">resultsDF</span> <span class="o">=</span> <span class="n">pd</span><span class="o">.</span><span class="n">DataFrame</span><span class="p">(</span><span class="n">columns</span><span class="o">=</span><span class="p">[</span><span class="s1">&#39;factors&#39;</span><span class="p">,</span> <span class="s1">&#39;regularization&#39;</span><span class="p">,</span> <span class="s1">&#39;alpha&#39;</span><span class="p">,</span> <span class="s1">&#39;auc&#39;</span><span class="p">])</span>

<span class="k">for</span> <span class="n">parameter_combination</span> <span class="ow">in</span> <span class="n">parameter_grid</span><span class="p">:</span>    
    <span class="n">model</span> <span class="o">=</span> <span class="n">implicit</span><span class="o">.</span><span class="n">als</span><span class="o">.</span><span class="n">AlternatingLeastSquares</span><span class="p">(</span><span class="o">...</span><span class="p">)</span>

    <span class="n">train_data_conf</span> <span class="o">=</span> <span class="o">....</span>

    <span class="n">model</span><span class="o">.</span><span class="n">fit</span><span class="p">(</span><span class="n">train_data_conf</span><span class="p">)</span>

    <span class="n">auc</span> <span class="o">=</span> <span class="n">compute_auc</span><span class="p">(</span><span class="o">...</span><span class="p">)</span>

    <span class="n">parameter_combination</span><span class="p">[</span><span class="s1">&#39;auc&#39;</span><span class="p">]</span> <span class="o">=</span> <span class="o">...</span>
    <span class="n">resultsDF</span> <span class="o">=</span> <span class="n">resultsDF</span><span class="o">.</span><span class="n">append</span><span class="p">(</span><span class="n">parameter_combination</span><span class="p">,</span> <span class="n">ignore_index</span><span class="o">=</span><span class="bp">True</span><span class="p">)</span>

<span class="n">resultsDF</span><span class="o">.</span><span class="n">sort_values</span><span class="p">(</span><span class="o">...</span><span class="p">)</span>
</pre></div>

</div>
</div>
</div>
<div class="cell border-box-sizing code_cell rendered">
<div class="input">
<div class="prompt input_prompt">In&nbsp;[34]:</div>
<div class="inner_cell">
    <div class="input_area">
<div class=" highlight hl-ipython3"><pre><span></span><span class="kn">from</span> <span class="nn">sklearn.model_selection</span> <span class="k">import</span> <span class="n">ParameterGrid</span>

<span class="c1"># Define the hyperparameters</span>
<span class="n">hyperparameters</span> <span class="o">=</span> <span class="p">{</span>
    <span class="s1">&#39;factors&#39;</span><span class="p">:</span> <span class="p">[</span><span class="mi">10</span><span class="p">,</span> <span class="mi">25</span><span class="p">,</span> <span class="mi">50</span><span class="p">],</span> 
    <span class="s1">&#39;regularization&#39;</span> <span class="p">:</span> <span class="p">[</span><span class="mf">1.0</span><span class="p">,</span><span class="mf">0.0001</span><span class="p">],</span> 
    <span class="s1">&#39;alpha&#39;</span> <span class="p">:</span> <span class="p">[</span><span class="mf">1.0</span><span class="p">,</span><span class="mf">40.0</span><span class="p">]}</span>

<span class="c1"># Compute all combinations</span>
<span class="n">parameter_grid</span> <span class="o">=</span> <span class="nb">list</span><span class="p">(</span><span class="n">ParameterGrid</span><span class="p">(</span><span class="n">hyperparameters</span><span class="p">))</span>
<span class="n">parameter_grid</span>
</pre></div>

</div>
</div>
</div>

<div class="output_wrapper">
<div class="output">


<div class="output_area">

<div class="prompt output_prompt">Out[34]:</div>




<div class="output_text output_subarea output_execute_result">
<pre>[{&#39;alpha&#39;: 1.0, &#39;factors&#39;: 10, &#39;regularization&#39;: 1.0},
 {&#39;alpha&#39;: 1.0, &#39;factors&#39;: 10, &#39;regularization&#39;: 0.0001},
 {&#39;alpha&#39;: 1.0, &#39;factors&#39;: 25, &#39;regularization&#39;: 1.0},
 {&#39;alpha&#39;: 1.0, &#39;factors&#39;: 25, &#39;regularization&#39;: 0.0001},
 {&#39;alpha&#39;: 1.0, &#39;factors&#39;: 50, &#39;regularization&#39;: 1.0},
 {&#39;alpha&#39;: 1.0, &#39;factors&#39;: 50, &#39;regularization&#39;: 0.0001},
 {&#39;alpha&#39;: 40.0, &#39;factors&#39;: 10, &#39;regularization&#39;: 1.0},
 {&#39;alpha&#39;: 40.0, &#39;factors&#39;: 10, &#39;regularization&#39;: 0.0001},
 {&#39;alpha&#39;: 40.0, &#39;factors&#39;: 25, &#39;regularization&#39;: 1.0},
 {&#39;alpha&#39;: 40.0, &#39;factors&#39;: 25, &#39;regularization&#39;: 0.0001},
 {&#39;alpha&#39;: 40.0, &#39;factors&#39;: 50, &#39;regularization&#39;: 1.0},
 {&#39;alpha&#39;: 40.0, &#39;factors&#39;: 50, &#39;regularization&#39;: 0.0001}]</pre>
</div>

</div>

</div>
</div>

</div>
<div class="cell border-box-sizing code_cell rendered">
<div class="input">
<div class="prompt input_prompt">In&nbsp;[35]:</div>
<div class="inner_cell">
    <div class="input_area">
<div class=" highlight hl-ipython3"><pre><span></span><span class="kn">from</span> <span class="nn">sklearn.model_selection</span> <span class="k">import</span> <span class="n">ParameterGrid</span>


<span class="c1"># Define the hyperparameters</span>
<span class="n">hyperparameters</span> <span class="o">=</span> <span class="p">{</span>
    <span class="s1">&#39;factors&#39;</span><span class="p">:</span> <span class="p">[</span><span class="mi">10</span><span class="p">,</span> <span class="mi">25</span><span class="p">,</span> <span class="mi">50</span><span class="p">],</span> 
    <span class="s1">&#39;regularization&#39;</span> <span class="p">:</span> <span class="p">[</span><span class="mf">1.0</span><span class="p">,</span><span class="mf">0.0001</span><span class="p">],</span> 
    <span class="s1">&#39;alpha&#39;</span> <span class="p">:</span> <span class="p">[</span><span class="mf">1.0</span><span class="p">,</span><span class="mf">40.0</span><span class="p">]}</span>

<span class="c1"># Compute all combinations</span>
<span class="n">parameter_grid</span> <span class="o">=</span> <span class="nb">list</span><span class="p">(</span><span class="n">ParameterGrid</span><span class="p">(</span><span class="n">hyperparameters</span><span class="p">))</span>

<span class="c1"># Just a table to save the results</span>
<span class="n">resultsDF</span> <span class="o">=</span> <span class="n">pd</span><span class="o">.</span><span class="n">DataFrame</span><span class="p">(</span><span class="n">columns</span><span class="o">=</span><span class="p">[</span><span class="s1">&#39;factors&#39;</span><span class="p">,</span> <span class="s1">&#39;regularization&#39;</span><span class="p">,</span> <span class="s1">&#39;alpha&#39;</span><span class="p">,</span> <span class="s1">&#39;auc&#39;</span><span class="p">])</span>

<span class="k">for</span> <span class="n">parameter_combination</span> <span class="ow">in</span> <span class="n">parameter_grid</span><span class="p">:</span>    
    <span class="n">model</span> <span class="o">=</span> <span class="n">implicit</span><span class="o">.</span><span class="n">als</span><span class="o">.</span><span class="n">AlternatingLeastSquares</span><span class="p">(</span><span class="n">factors</span><span class="o">=</span><span class="n">parameter_combination</span><span class="p">[</span><span class="s1">&#39;factors&#39;</span><span class="p">],</span><span class="n">regularization</span><span class="o">=</span><span class="n">parameter_combination</span><span class="p">[</span><span class="s1">&#39;regularization&#39;</span><span class="p">],</span><span class="n">iterations</span><span class="o">=</span><span class="n">iterations</span><span class="p">)</span>
    
    <span class="n">train_data_conf</span> <span class="o">=</span> <span class="p">(</span><span class="n">sparse_item_user</span> <span class="o">*</span> <span class="n">parameter_combination</span><span class="p">[</span><span class="s1">&#39;alpha&#39;</span><span class="p">])</span><span class="o">.</span><span class="n">astype</span><span class="p">(</span><span class="s1">&#39;double&#39;</span><span class="p">)</span>
    
    <span class="n">model</span><span class="o">.</span><span class="n">fit</span><span class="p">(</span><span class="n">train_data_conf</span><span class="p">)</span>

    <span class="n">auc</span> <span class="o">=</span> <span class="n">compute_auc</span><span class="p">(</span><span class="n">test_users_ratio</span><span class="o">=</span><span class="mf">0.1</span><span class="p">)</span>

    <span class="n">parameter_combination</span><span class="p">[</span><span class="s1">&#39;auc&#39;</span><span class="p">]</span> <span class="o">=</span> <span class="n">auc</span><span class="o">.</span><span class="n">mean</span><span class="p">()</span>
    <span class="n">resultsDF</span> <span class="o">=</span> <span class="n">resultsDF</span><span class="o">.</span><span class="n">append</span><span class="p">(</span><span class="n">parameter_combination</span><span class="p">,</span> <span class="n">ignore_index</span><span class="o">=</span><span class="kc">True</span><span class="p">)</span>

<span class="n">resultsDF</span><span class="o">.</span><span class="n">sort_values</span><span class="p">(</span><span class="n">by</span><span class="o">=</span><span class="s1">&#39;auc&#39;</span><span class="p">)</span>
</pre></div>

</div>
</div>
</div>

<div class="output_wrapper">
<div class="output">


<div class="output_area">

<div class="prompt"></div>


<div class="output_subarea output_stream output_stderr output_text">
<pre>100%|██████████| 5.0/5 [01:15&lt;00:00, 17.00s/it]
100%|██████████| 13462/13462 [02:12&lt;00:00, 101.23it/s]
100%|██████████| 5.0/5 [01:15&lt;00:00, 16.64s/it]
100%|██████████| 13462/13462 [02:15&lt;00:00, 99.54it/s] 
100%|██████████| 5.0/5 [02:30&lt;00:00, 33.41s/it]
100%|██████████| 13462/13462 [02:10&lt;00:00, 103.10it/s]
100%|██████████| 5.0/5 [02:32&lt;00:00, 33.23s/it]
100%|██████████| 13462/13462 [02:08&lt;00:00, 104.97it/s]
100%|██████████| 5.0/5 [03:34&lt;00:00, 47.54s/it]
100%|██████████| 13462/13462 [02:12&lt;00:00, 101.84it/s]
100%|██████████| 5.0/5 [03:31&lt;00:00, 46.17s/it]
100%|██████████| 13462/13462 [02:11&lt;00:00, 102.27it/s]
100%|██████████| 5.0/5 [01:13&lt;00:00, 15.92s/it]
100%|██████████| 13462/13462 [02:12&lt;00:00, 101.50it/s]
100%|██████████| 5.0/5 [01:13&lt;00:00, 16.52s/it]
100%|██████████| 13462/13462 [02:14&lt;00:00, 100.27it/s]
100%|██████████| 5.0/5 [02:32&lt;00:00, 33.82s/it]
100%|██████████| 13462/13462 [02:11&lt;00:00, 102.36it/s]
100%|██████████| 5.0/5 [02:31&lt;00:00, 32.92s/it]
100%|██████████| 13462/13462 [02:12&lt;00:00, 101.39it/s]
100%|██████████| 5.0/5 [03:53&lt;00:00, 53.64s/it]
100%|██████████| 13462/13462 [02:15&lt;00:00, 99.42it/s] 
100%|██████████| 5.0/5 [03:49&lt;00:00, 51.36s/it]
100%|██████████| 13462/13462 [02:17&lt;00:00, 98.05it/s] 
</pre>
</div>
</div>

<div class="output_area">

<div class="prompt output_prompt">Out[35]:</div>



<div class="output_html rendered_html output_subarea output_execute_result">
<div>
<style scoped>
    .dataframe tbody tr th:only-of-type {
        vertical-align: middle;
    }

    .dataframe tbody tr th {
        vertical-align: top;
    }

    .dataframe thead th {
        text-align: right;
    }
</style>
<table border="1" class="dataframe">
  <thead>
    <tr style="text-align: right;">
      <th></th>
      <th>factors</th>
      <th>regularization</th>
      <th>alpha</th>
      <th>auc</th>
    </tr>
  </thead>
  <tbody>
    <tr>
      <th>9</th>
      <td>25.0</td>
      <td>0.0001</td>
      <td>40.0</td>
      <td>0.888117</td>
    </tr>
    <tr>
      <th>1</th>
      <td>10.0</td>
      <td>0.0001</td>
      <td>1.0</td>
      <td>0.888354</td>
    </tr>
    <tr>
      <th>4</th>
      <td>50.0</td>
      <td>1.0000</td>
      <td>1.0</td>
      <td>0.888510</td>
    </tr>
    <tr>
      <th>8</th>
      <td>25.0</td>
      <td>1.0000</td>
      <td>40.0</td>
      <td>0.888593</td>
    </tr>
    <tr>
      <th>0</th>
      <td>10.0</td>
      <td>1.0000</td>
      <td>1.0</td>
      <td>0.888869</td>
    </tr>
    <tr>
      <th>2</th>
      <td>25.0</td>
      <td>1.0000</td>
      <td>1.0</td>
      <td>0.889072</td>
    </tr>
    <tr>
      <th>7</th>
      <td>10.0</td>
      <td>0.0001</td>
      <td>40.0</td>
      <td>0.889305</td>
    </tr>
    <tr>
      <th>3</th>
      <td>25.0</td>
      <td>0.0001</td>
      <td>1.0</td>
      <td>0.889392</td>
    </tr>
    <tr>
      <th>6</th>
      <td>10.0</td>
      <td>1.0000</td>
      <td>40.0</td>
      <td>0.889568</td>
    </tr>
    <tr>
      <th>5</th>
      <td>50.0</td>
      <td>0.0001</td>
      <td>1.0</td>
      <td>0.890074</td>
    </tr>
    <tr>
      <th>10</th>
      <td>50.0</td>
      <td>1.0000</td>
      <td>40.0</td>
      <td>0.890299</td>
    </tr>
    <tr>
      <th>11</th>
      <td>50.0</td>
      <td>0.0001</td>
      <td>40.0</td>
      <td>0.891581</td>
    </tr>
  </tbody>
</table>
</div>
</div>

</div>

</div>
</div>

</div>
<div class="cell border-box-sizing text_cell rendered"><div class="prompt input_prompt">
</div>
<div class="inner_cell">
<div class="text_cell_render border-box-sizing rendered_html">
<h3 id="Question-10.2">Question 10.2<a class="anchor-link" href="#Question-10.2">&#182;</a></h3><p>Sometimes an exhaustive search in the hyperparameter space is a waste of time and resources.
There are a lot of research questions open that deal with automating the end-to-end process of applying machine learning to real-world problems (e.g. <strong>AutoML</strong>).</p>
<p>Random sampling in the hyperparameter space is a possible -- very simple but yet quite powerfull -- technique.</p>
<p>Implement a simple parameter sampler and try a bunch of different configurations.</p>
<p><strong><em>Hint</em></strong>: have a look to <code>ParameterSampler()</code> in <code>sklearn.model_selection</code></p>

</div>
</div>
</div>
<div class="cell border-box-sizing text_cell rendered"><div class="prompt input_prompt">
</div>
<div class="inner_cell">
<div class="text_cell_render border-box-sizing rendered_html">
<div class="highlight"><pre><span></span><span class="c1">###################################################################</span>
<span class="c1">####                      TO COMPLETE                         #####</span>
<span class="c1">###################################################################</span>
<span class="kn">import</span> <span class="nn">scipy.stats</span> 
<span class="kn">from</span> <span class="nn">sklearn.model_selection</span> <span class="kn">import</span> <span class="o">...</span>

<span class="c1"># Hyperparameters are now definded by probability densities</span>
<span class="n">hyperparameters</span> <span class="o">=</span> <span class="p">{</span>
    <span class="s1">&#39;factors&#39;</span><span class="p">:</span> <span class="n">scipy</span><span class="o">.</span><span class="n">stats</span><span class="o">.</span><span class="n">randint</span><span class="p">(</span><span class="mi">10</span><span class="p">,</span> <span class="mi">50</span><span class="p">),</span> 
    <span class="s1">&#39;regularization&#39;</span> <span class="p">:</span> <span class="n">scipy</span><span class="o">.</span><span class="n">stats</span><span class="o">.</span><span class="n">uniform</span><span class="p">(</span><span class="mf">0.0001</span><span class="p">,</span> <span class="mf">1.</span><span class="p">),</span> 
    <span class="s1">&#39;alpha&#39;</span> <span class="p">:</span> <span class="n">scipy</span><span class="o">.</span><span class="n">stats</span><span class="o">.</span><span class="n">uniform</span><span class="p">(</span><span class="mf">1.</span><span class="p">,</span> <span class="mf">40.</span><span class="p">)}</span>

<span class="n">parameter_grid</span> <span class="o">=</span> <span class="nb">list</span><span class="p">(</span><span class="n">ParameterSampler</span><span class="p">(</span><span class="o">...</span><span class="p">))</span>

<span class="c1"># You can either append the results to the previous table or create a new one</span>
<span class="c1"># resultsDF = pd.DataFrame(columns=[&#39;factors&#39;, &#39;regularization&#39;, &#39;alpha&#39;, &#39;auc&#39;])</span>

<span class="k">for</span> <span class="n">parameter_combination</span> <span class="ow">in</span> <span class="n">parameter_grid</span><span class="p">:</span>    
    <span class="n">model</span> <span class="o">=</span> <span class="o">...</span>

    <span class="n">train_data_conf</span> <span class="o">=</span> <span class="o">...</span>

    <span class="n">model</span><span class="o">.</span><span class="n">fit</span><span class="p">(</span><span class="o">...</span><span class="p">)</span>

    <span class="n">auc</span> <span class="o">=</span> <span class="n">compute_auc</span><span class="p">(</span><span class="o">...</span><span class="p">)</span>

    <span class="n">parameter_combination</span><span class="p">[</span><span class="s1">&#39;auc&#39;</span><span class="p">]</span> <span class="o">=</span> <span class="n">auc</span><span class="o">.</span><span class="n">mean</span><span class="p">()</span>
    <span class="n">resultsDF</span> <span class="o">=</span> <span class="n">resultsDF</span><span class="o">.</span><span class="n">append</span><span class="p">(</span><span class="n">parameter_combination</span><span class="p">,</span> <span class="n">ignore_index</span><span class="o">=</span><span class="bp">True</span><span class="p">)</span>


<span class="n">resultsDF</span><span class="o">.</span><span class="n">sort_values</span><span class="p">(</span><span class="o">...</span><span class="p">)</span>
</pre></div>

</div>
</div>
</div>
<div class="cell border-box-sizing code_cell rendered">
<div class="input">
<div class="prompt input_prompt">In&nbsp;[36]:</div>
<div class="inner_cell">
    <div class="input_area">
<div class=" highlight hl-ipython3"><pre><span></span><span class="kn">import</span> <span class="nn">scipy.stats</span> 
<span class="kn">from</span> <span class="nn">sklearn.model_selection</span> <span class="k">import</span> <span class="n">ParameterSampler</span>

<span class="c1"># Hyperparameters are now definded by probability densities</span>
<span class="n">hyperparameters</span> <span class="o">=</span> <span class="p">{</span>
    <span class="s1">&#39;factors&#39;</span><span class="p">:</span> <span class="n">scipy</span><span class="o">.</span><span class="n">stats</span><span class="o">.</span><span class="n">randint</span><span class="p">(</span><span class="mi">10</span><span class="p">,</span> <span class="mi">50</span><span class="p">),</span> 
    <span class="s1">&#39;regularization&#39;</span> <span class="p">:</span> <span class="n">scipy</span><span class="o">.</span><span class="n">stats</span><span class="o">.</span><span class="n">uniform</span><span class="p">(</span><span class="mf">0.0001</span><span class="p">,</span> <span class="mf">1.</span><span class="p">),</span> 
    <span class="s1">&#39;alpha&#39;</span> <span class="p">:</span> <span class="n">scipy</span><span class="o">.</span><span class="n">stats</span><span class="o">.</span><span class="n">uniform</span><span class="p">(</span><span class="mf">1.</span><span class="p">,</span> <span class="mf">40.</span><span class="p">)}</span>

<span class="n">parameter_grid</span> <span class="o">=</span> <span class="nb">list</span><span class="p">(</span><span class="n">ParameterSampler</span><span class="p">(</span><span class="n">hyperparameters</span><span class="p">,</span><span class="mi">5</span><span class="p">))</span>

<span class="c1"># You can either append the results to the previous table or create a new one</span>
<span class="c1"># resultsDF = pd.DataFrame(columns=[&#39;factors&#39;, &#39;regularization&#39;, &#39;alpha&#39;, &#39;auc&#39;])</span>

<span class="k">for</span> <span class="n">parameter_combination</span> <span class="ow">in</span> <span class="n">parameter_grid</span><span class="p">:</span>    
    <span class="n">model</span> <span class="o">=</span> <span class="n">implicit</span><span class="o">.</span><span class="n">als</span><span class="o">.</span><span class="n">AlternatingLeastSquares</span><span class="p">(</span><span class="n">factors</span><span class="o">=</span><span class="n">parameter_combination</span><span class="p">[</span><span class="s1">&#39;factors&#39;</span><span class="p">],</span><span class="n">regularization</span><span class="o">=</span><span class="n">parameter_combination</span><span class="p">[</span><span class="s1">&#39;regularization&#39;</span><span class="p">],</span><span class="n">iterations</span><span class="o">=</span><span class="n">iterations</span><span class="p">)</span>
    
    <span class="n">train_data_conf</span> <span class="o">=</span> <span class="p">(</span><span class="n">sparse_item_user</span> <span class="o">*</span> <span class="n">parameter_combination</span><span class="p">[</span><span class="s1">&#39;alpha&#39;</span><span class="p">])</span><span class="o">.</span><span class="n">astype</span><span class="p">(</span><span class="s1">&#39;double&#39;</span><span class="p">)</span>

    <span class="n">model</span><span class="o">.</span><span class="n">fit</span><span class="p">(</span><span class="n">train_data_conf</span><span class="p">)</span>

    <span class="n">auc</span> <span class="o">=</span> <span class="n">compute_auc</span><span class="p">(</span><span class="n">test_users_ratio</span><span class="o">=</span><span class="mf">0.1</span><span class="p">)</span>

    <span class="n">parameter_combination</span><span class="p">[</span><span class="s1">&#39;auc&#39;</span><span class="p">]</span> <span class="o">=</span> <span class="n">auc</span><span class="o">.</span><span class="n">mean</span><span class="p">()</span>
    <span class="n">resultsDF</span> <span class="o">=</span> <span class="n">resultsDF</span><span class="o">.</span><span class="n">append</span><span class="p">(</span><span class="n">parameter_combination</span><span class="p">,</span> <span class="n">ignore_index</span><span class="o">=</span><span class="kc">True</span><span class="p">)</span>


<span class="n">resultsDF</span><span class="o">.</span><span class="n">sort_values</span><span class="p">(</span><span class="n">by</span><span class="o">=</span><span class="s1">&#39;auc&#39;</span><span class="p">)</span>
</pre></div>

</div>
</div>
</div>

<div class="output_wrapper">
<div class="output">


<div class="output_area">

<div class="prompt"></div>


<div class="output_subarea output_stream output_stderr output_text">
<pre>100%|██████████| 5.0/5 [02:26&lt;00:00, 32.31s/it]
100%|██████████| 13462/13462 [02:12&lt;00:00, 101.48it/s]
100%|██████████| 5.0/5 [01:57&lt;00:00, 25.87s/it]
100%|██████████| 13462/13462 [02:15&lt;00:00, 99.46it/s] 
100%|██████████| 5.0/5 [01:54&lt;00:00, 24.60s/it]
100%|██████████| 13462/13462 [02:14&lt;00:00, 100.28it/s]
100%|██████████| 5.0/5 [02:33&lt;00:00, 34.09s/it]
100%|██████████| 13462/13462 [02:12&lt;00:00, 101.26it/s]
100%|██████████| 5.0/5 [01:53&lt;00:00, 25.44s/it]
100%|██████████| 13462/13462 [02:12&lt;00:00, 101.86it/s]
</pre>
</div>
</div>

<div class="output_area">

<div class="prompt output_prompt">Out[36]:</div>



<div class="output_html rendered_html output_subarea output_execute_result">
<div>
<style scoped>
    .dataframe tbody tr th:only-of-type {
        vertical-align: middle;
    }

    .dataframe tbody tr th {
        vertical-align: top;
    }

    .dataframe thead th {
        text-align: right;
    }
</style>
<table border="1" class="dataframe">
  <thead>
    <tr style="text-align: right;">
      <th></th>
      <th>factors</th>
      <th>regularization</th>
      <th>alpha</th>
      <th>auc</th>
    </tr>
  </thead>
  <tbody>
    <tr>
      <th>13</th>
      <td>19.0</td>
      <td>0.910900</td>
      <td>35.372331</td>
      <td>0.887731</td>
    </tr>
    <tr>
      <th>9</th>
      <td>25.0</td>
      <td>0.000100</td>
      <td>40.000000</td>
      <td>0.888117</td>
    </tr>
    <tr>
      <th>14</th>
      <td>19.0</td>
      <td>0.915014</td>
      <td>11.620854</td>
      <td>0.888202</td>
    </tr>
    <tr>
      <th>1</th>
      <td>10.0</td>
      <td>0.000100</td>
      <td>1.000000</td>
      <td>0.888354</td>
    </tr>
    <tr>
      <th>4</th>
      <td>50.0</td>
      <td>1.000000</td>
      <td>1.000000</td>
      <td>0.888510</td>
    </tr>
    <tr>
      <th>16</th>
      <td>17.0</td>
      <td>0.616111</td>
      <td>36.437062</td>
      <td>0.888590</td>
    </tr>
    <tr>
      <th>8</th>
      <td>25.0</td>
      <td>1.000000</td>
      <td>40.000000</td>
      <td>0.888593</td>
    </tr>
    <tr>
      <th>0</th>
      <td>10.0</td>
      <td>1.000000</td>
      <td>1.000000</td>
      <td>0.888869</td>
    </tr>
    <tr>
      <th>2</th>
      <td>25.0</td>
      <td>1.000000</td>
      <td>1.000000</td>
      <td>0.889072</td>
    </tr>
    <tr>
      <th>12</th>
      <td>35.0</td>
      <td>0.312837</td>
      <td>24.598126</td>
      <td>0.889212</td>
    </tr>
    <tr>
      <th>15</th>
      <td>28.0</td>
      <td>0.038736</td>
      <td>40.854304</td>
      <td>0.889228</td>
    </tr>
    <tr>
      <th>7</th>
      <td>10.0</td>
      <td>0.000100</td>
      <td>40.000000</td>
      <td>0.889305</td>
    </tr>
    <tr>
      <th>3</th>
      <td>25.0</td>
      <td>0.000100</td>
      <td>1.000000</td>
      <td>0.889392</td>
    </tr>
    <tr>
      <th>6</th>
      <td>10.0</td>
      <td>1.000000</td>
      <td>40.000000</td>
      <td>0.889568</td>
    </tr>
    <tr>
      <th>5</th>
      <td>50.0</td>
      <td>0.000100</td>
      <td>1.000000</td>
      <td>0.890074</td>
    </tr>
    <tr>
      <th>10</th>
      <td>50.0</td>
      <td>1.000000</td>
      <td>40.000000</td>
      <td>0.890299</td>
    </tr>
    <tr>
      <th>11</th>
      <td>50.0</td>
      <td>0.000100</td>
      <td>40.000000</td>
      <td>0.891581</td>
    </tr>
  </tbody>
</table>
</div>
</div>

</div>

</div>
</div>

</div>
<div class="cell border-box-sizing text_cell rendered"><div class="prompt input_prompt">
</div>
<div class="inner_cell">
<div class="text_cell_render border-box-sizing rendered_html">
<h4 id="Question-10.2">Question 10.2<a class="anchor-link" href="#Question-10.2">&#182;</a></h4><div class="alert alert-info">
Using "optimal" hyper-parameters in question 10.1, re-train the model and show top-5 artist names recommendated for user `2093760`.
</div>
</div>
</div>
</div>
<div class="cell border-box-sizing text_cell rendered"><div class="prompt input_prompt">
</div>
<div class="inner_cell">
<div class="text_cell_render border-box-sizing rendered_html">
<div class="highlight"><pre><span></span><span class="c1">###################################################################</span>
<span class="c1">####                      TO COMPLETE                         #####</span>
<span class="c1">###################################################################</span>

<span class="n">model</span> <span class="o">=</span> <span class="o">...</span>

<span class="n">train_data_conf</span> <span class="o">=</span> <span class="o">...</span>
<span class="n">model</span><span class="o">.</span><span class="n">fit</span><span class="p">(</span><span class="o">...</span><span class="p">)</span>

<span class="n">user_id</span> <span class="o">=</span> <span class="mi">2093760</span>
<span class="k">for</span> <span class="n">incremental_artist_id</span><span class="p">,</span> <span class="n">score</span> <span class="ow">in</span> <span class="n">model</span><span class="o">.</span><span class="n">recommend</span><span class="p">(</span><span class="o">...</span><span class="p">):</span>
    <span class="k">print</span><span class="p">(</span><span class="o">...</span><span class="p">)</span>
</pre></div>

</div>
</div>
</div>
<div class="cell border-box-sizing code_cell rendered">
<div class="input">
<div class="prompt input_prompt">In&nbsp;[37]:</div>
<div class="inner_cell">
    <div class="input_area">
<div class=" highlight hl-ipython3"><pre><span></span><span class="n">model</span> <span class="o">=</span> <span class="n">implicit</span><span class="o">.</span><span class="n">als</span><span class="o">.</span><span class="n">AlternatingLeastSquares</span><span class="p">(</span><span class="n">factors</span><span class="o">=</span><span class="mi">25</span><span class="p">,</span><span class="n">regularization</span><span class="o">=</span><span class="mf">1.0</span><span class="p">,</span><span class="n">iterations</span><span class="o">=</span><span class="n">iterations</span><span class="p">)</span>
    

<span class="n">train_data_conf</span> <span class="o">=</span> <span class="p">(</span><span class="n">sparse_item_user</span><span class="o">*</span><span class="mf">1.0</span><span class="p">)</span><span class="o">.</span><span class="n">astype</span><span class="p">(</span><span class="s1">&#39;double&#39;</span><span class="p">)</span>

<span class="n">model</span><span class="o">.</span><span class="n">fit</span><span class="p">(</span><span class="n">train_data_conf</span><span class="p">)</span>

<span class="n">user_id</span> <span class="o">=</span> <span class="mi">2093760</span>
<span class="k">for</span> <span class="n">incremental_artist_id</span><span class="p">,</span> <span class="n">score</span> <span class="ow">in</span> <span class="n">model</span><span class="o">.</span><span class="n">recommend</span><span class="p">(</span><span class="n">get_incrementalUserID</span><span class="p">(</span><span class="n">user_id</span><span class="p">),</span><span class="n">sparse_user_item</span><span class="p">,</span><span class="n">N</span><span class="o">=</span><span class="mi">5</span><span class="p">):</span>
    <span class="nb">print</span><span class="p">(</span><span class="n">get_artist_name</span><span class="p">(</span><span class="n">get_artistID</span><span class="p">(</span><span class="n">incremental_artist_id</span><span class="p">)),</span><span class="n">score</span><span class="p">)</span>
</pre></div>

</div>
</div>
</div>

<div class="output_wrapper">
<div class="output">


<div class="output_area">

<div class="prompt"></div>


<div class="output_subarea output_stream output_stderr output_text">
<pre>100%|██████████| 5.0/5 [02:30&lt;00:00, 33.16s/it]
</pre>
</div>
</div>

<div class="output_area">

<div class="prompt"></div>


<div class="output_subarea output_stream output_stdout output_text">
<pre>2Pac 0.047158852
The Game 0.046969064
Snoop Dogg 0.04659248
50 Cent 0.045695316
Dr. Dre 0.04568636
</pre>
</div>
</div>

</div>
</div>

</div>
<div class="cell border-box-sizing text_cell rendered"><div class="prompt input_prompt">
</div>
<div class="inner_cell">
<div class="text_cell_render border-box-sizing rendered_html">
<h1 id="Summary">Summary<a class="anchor-link" href="#Summary">&#182;</a></h1><p>In this notebook, we introduce an algorithm to do matrix factorization and the way of using it to make recommendation. Further more, we studied how to build a large-scale recommender system using ALS algorithm and evaluate its quality. Finally, a simple approach to choose good parameters is mentioned.</p>

</div>
</div>
</div>
<div class="cell border-box-sizing text_cell rendered"><div class="prompt input_prompt">
</div>
<div class="inner_cell">
<div class="text_cell_render border-box-sizing rendered_html">
<h1 id="References">References<a class="anchor-link" href="#References">&#182;</a></h1><ul>
<li>The example in section 2 is taken from <a href="infolab.stanford.edu/~ullman/mmds/ch9.pdf">Recommender system</a></li>
</ul>

</div>
</div>
</div>
    </div>
  </div>
</body>

 


</html>
